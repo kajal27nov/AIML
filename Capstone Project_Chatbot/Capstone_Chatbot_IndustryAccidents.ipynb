{
 "cells": [
  {
   "cell_type": "markdown",
   "metadata": {
    "id": "65NxNshUiSb8"
   },
   "source": [
    "# Capstone 1 - NLP Chatbot - Industry Accidents Dataset\n",
    "\n",
    "\n",
    "## CONTEXT:\n",
    "\n",
    "The database comes from one of the biggest industry in Brazil and in the world. It is an urgent need for industries/companies around the globe to understand why employees still suffer some injuries/accidents in plants. Sometimes they also die in such environment.\n",
    "\n",
    "Great Learning\n",
    "\n"
   ]
  },
  {
   "cell_type": "markdown",
   "metadata": {
    "id": "6H1Z99T2jCUy"
   },
   "source": [
    "### DATA DESCRIPTION:\n",
    "This The database is basically records of accidents from 12 different plants in 03 different countries which every line in the data is an occurrence of an accident.\n",
    "#### Columns description:\n",
    "\n",
    "\n",
    "\n",
    "*   Data: timestamp or time/date information\n",
    "*   Countries: which country the accident occurred (anonymised)\n",
    "*   Local: the city where the manufacturing plant is located (anonymised)\n",
    "*   Industry sector: which sector the plant belongs to\n",
    "*   Accident level: from I to VI, it registers how severe was the accident (I means not severe but VI means very severe)\n",
    "*   Potential Accident Level: Depending on the Accident Level, the database also registers how severe the accident could have been (due to other factors involved in the accident)\n",
    "*   Genre: if the person is male of female\n",
    "*   Employee or Third Party: if the injured person is an employee or a third party\n",
    "*   Critical Risk: some description of the risk involved in the accident\n",
    "*   Description: Detailed description of how the accident happened.\n",
    "\n",
    "Link to download the dataset: https://www.kaggle.com/ihmstefanini/industrial-safety-and-health-analytics-database"
   ]
  },
  {
   "cell_type": "markdown",
   "metadata": {
    "id": "PKiiLUI0j85m"
   },
   "source": [
    "**Mounting Drive**\n"
   ]
  },
  {
   "cell_type": "code",
   "execution_count": null,
   "metadata": {
    "colab": {
     "base_uri": "https://localhost:8080/",
     "height": 35
    },
    "id": "Ey5SwmLZh4J2",
    "outputId": "7876a445-c27d-47de-b2b9-245223ab9070"
   },
   "outputs": [
    {
     "data": {
      "application/vnd.google.colaboratory.intrinsic+json": {
       "type": "string"
      },
      "text/plain": [
       "'2.4.1'"
      ]
     },
     "execution_count": 1,
     "metadata": {
      "tags": []
     },
     "output_type": "execute_result"
    }
   ],
   "source": [
    "import tensorflow\n",
    "tensorflow.__version__"
   ]
  },
  {
   "cell_type": "code",
   "execution_count": null,
   "metadata": {
    "colab": {
     "base_uri": "https://localhost:8080/"
    },
    "id": "rFKIRk5QkfyS",
    "outputId": "b5308769-7512-4123-8cf2-b8c1e88e1472"
   },
   "outputs": [
    {
     "name": "stdout",
     "output_type": "stream",
     "text": [
      "Mounted at /content/drive\n"
     ]
    }
   ],
   "source": [
    "from google.colab import drive\n",
    "drive.mount('/content/drive')"
   ]
  },
  {
   "cell_type": "code",
   "execution_count": null,
   "metadata": {
    "colab": {
     "base_uri": "https://localhost:8080/"
    },
    "id": "BPcZi--WCyGg",
    "outputId": "bf0e5bed-26f0-4734-9b16-d9dee423132a"
   },
   "outputs": [
    {
     "name": "stdout",
     "output_type": "stream",
     "text": [
      "Collecting pyspellchecker\n",
      "\u001b[?25l  Downloading https://files.pythonhosted.org/packages/0d/ff/ce7907f2be4d0660513451f56456721edb27e04fbb6a319a52efdd80a4d2/pyspellchecker-0.6.0-py3-none-any.whl (2.5MB)\n",
      "\u001b[K     |████████████████████████████████| 2.5MB 12.1MB/s \n",
      "\u001b[?25hInstalling collected packages: pyspellchecker\n",
      "Successfully installed pyspellchecker-0.6.0\n"
     ]
    }
   ],
   "source": [
    "!pip install pyspellchecker"
   ]
  },
  {
   "cell_type": "markdown",
   "metadata": {
    "id": "ANomsjA-wrwe"
   },
   "source": [
    "**Importing Libraries**"
   ]
  },
  {
   "cell_type": "code",
   "execution_count": null,
   "metadata": {
    "id": "JEQN8U4H_IAC"
   },
   "outputs": [],
   "source": [
    "#Importing standard Libraries\n",
    "import pandas as pd\n",
    "import matplotlib.pyplot as plt\n",
    "import seaborn as sns\n",
    "from os import path\n",
    "from PIL import Image\n",
    "import numpy as np\n",
    "from wordcloud import WordCloud, STOPWORDS\n",
    "import re\n",
    "import nltk\n",
    "import string\n",
    "from nltk.corpus import stopwords\n",
    "from spellchecker import SpellChecker \n",
    "from nltk.stem import WordNetLemmatizer \n",
    "from sklearn.preprocessing import LabelBinarizer\n",
    "from sklearn.model_selection import train_test_split\n",
    "import numpy as np\n",
    "from sklearn.ensemble import AdaBoostClassifier\n",
    "from tensorflow.keras.preprocessing.text import Tokenizer\n",
    "from tensorflow.keras.preprocessing.sequence import pad_sequences\n",
    "from sklearn.multiclass import OneVsRestClassifier\n",
    "from sklearn.linear_model import LogisticRegression\n",
    "from sklearn.metrics import accuracy_score\n",
    "from sklearn import svm\n",
    "from sklearn.multiclass import OneVsRestClassifier\n",
    "from sklearn.metrics import accuracy_score\n",
    "from sklearn.metrics import f1_score\n",
    "from sklearn.metrics import average_precision_score\n",
    "from sklearn.metrics import recall_score\n",
    "from sklearn.metrics import roc_auc_score\n",
    "from sklearn.metrics import precision_score\n",
    "from sklearn.model_selection import cross_val_score\n",
    "from tensorflow.keras.models import Sequential\n",
    "from tensorflow.keras.layers import LSTM,Dropout,Bidirectional,Dense,Flatten,Add,Embedding\n",
    "from tensorflow.keras.models import Sequential\n",
    "from tensorflow.keras.layers import Dense,Flatten,Dropout\n",
    "from tensorflow.keras import regularizers, optimizers\n",
    "from sklearn.ensemble import BaggingClassifier\n",
    "from sklearn.ensemble import RandomForestClassifier\n",
    "from sklearn import model_selection\n",
    "from sklearn.model_selection import train_test_split\n",
    "import random\n",
    "random.seed(0)\n",
    "\n",
    "import warnings\n",
    "warnings.filterwarnings(\"ignore\")"
   ]
  },
  {
   "cell_type": "markdown",
   "metadata": {
    "id": "xBdji2bCwLFN"
   },
   "source": [
    "**Extract the zip file**"
   ]
  },
  {
   "cell_type": "code",
   "execution_count": null,
   "metadata": {
    "id": "8GKT9K5t_wYG"
   },
   "outputs": [],
   "source": [
    "glove_file = '/content/drive/MyDrive/Copy of glove.6B.zip'\n",
    "\n",
    "from zipfile import ZipFile\n",
    "with ZipFile(glove_file) as z:\n",
    "  z.extractall()"
   ]
  },
  {
   "cell_type": "code",
   "execution_count": null,
   "metadata": {
    "id": "gthtYp6GAcOB"
   },
   "outputs": [],
   "source": [
    "EMBEDDING_FILE = './glove.6B.200d.txt'"
   ]
  },
  {
   "cell_type": "markdown",
   "metadata": {
    "id": "_dsHCphikqUP"
   },
   "source": [
    "### **Loading Dataset and EDA**"
   ]
  },
  {
   "cell_type": "code",
   "execution_count": null,
   "metadata": {
    "id": "wVk0iJdSkhQX"
   },
   "outputs": [],
   "source": [
    "dataset_path = '/content/drive/MyDrive/Colab Notebooks/Data/industrial_safety_and_health_database_with_accidents_description.csv'"
   ]
  },
  {
   "cell_type": "code",
   "execution_count": null,
   "metadata": {
    "colab": {
     "base_uri": "https://localhost:8080/",
     "height": 306
    },
    "id": "6nDWw1U-kmZQ",
    "outputId": "5200aa96-f491-4f34-e831-4c8b6d023d72"
   },
   "outputs": [
    {
     "data": {
      "text/html": [
       "<div>\n",
       "<style scoped>\n",
       "    .dataframe tbody tr th:only-of-type {\n",
       "        vertical-align: middle;\n",
       "    }\n",
       "\n",
       "    .dataframe tbody tr th {\n",
       "        vertical-align: top;\n",
       "    }\n",
       "\n",
       "    .dataframe thead th {\n",
       "        text-align: right;\n",
       "    }\n",
       "</style>\n",
       "<table border=\"1\" class=\"dataframe\">\n",
       "  <thead>\n",
       "    <tr style=\"text-align: right;\">\n",
       "      <th></th>\n",
       "      <th>Unnamed: 0</th>\n",
       "      <th>Data</th>\n",
       "      <th>Countries</th>\n",
       "      <th>Local</th>\n",
       "      <th>Industry Sector</th>\n",
       "      <th>Accident Level</th>\n",
       "      <th>Potential Accident Level</th>\n",
       "      <th>Genre</th>\n",
       "      <th>Employee or Third Party</th>\n",
       "      <th>Critical Risk</th>\n",
       "      <th>Description</th>\n",
       "    </tr>\n",
       "  </thead>\n",
       "  <tbody>\n",
       "    <tr>\n",
       "      <th>0</th>\n",
       "      <td>0</td>\n",
       "      <td>2016-01-01 00:00:00</td>\n",
       "      <td>Country_01</td>\n",
       "      <td>Local_01</td>\n",
       "      <td>Mining</td>\n",
       "      <td>I</td>\n",
       "      <td>IV</td>\n",
       "      <td>Male</td>\n",
       "      <td>Third Party</td>\n",
       "      <td>Pressed</td>\n",
       "      <td>While removing the drill rod of the Jumbo 08 f...</td>\n",
       "    </tr>\n",
       "    <tr>\n",
       "      <th>1</th>\n",
       "      <td>1</td>\n",
       "      <td>2016-01-02 00:00:00</td>\n",
       "      <td>Country_02</td>\n",
       "      <td>Local_02</td>\n",
       "      <td>Mining</td>\n",
       "      <td>I</td>\n",
       "      <td>IV</td>\n",
       "      <td>Male</td>\n",
       "      <td>Employee</td>\n",
       "      <td>Pressurized Systems</td>\n",
       "      <td>During the activation of a sodium sulphide pum...</td>\n",
       "    </tr>\n",
       "    <tr>\n",
       "      <th>2</th>\n",
       "      <td>2</td>\n",
       "      <td>2016-01-06 00:00:00</td>\n",
       "      <td>Country_01</td>\n",
       "      <td>Local_03</td>\n",
       "      <td>Mining</td>\n",
       "      <td>I</td>\n",
       "      <td>III</td>\n",
       "      <td>Male</td>\n",
       "      <td>Third Party (Remote)</td>\n",
       "      <td>Manual Tools</td>\n",
       "      <td>In the sub-station MILPO located at level +170...</td>\n",
       "    </tr>\n",
       "    <tr>\n",
       "      <th>3</th>\n",
       "      <td>3</td>\n",
       "      <td>2016-01-08 00:00:00</td>\n",
       "      <td>Country_01</td>\n",
       "      <td>Local_04</td>\n",
       "      <td>Mining</td>\n",
       "      <td>I</td>\n",
       "      <td>I</td>\n",
       "      <td>Male</td>\n",
       "      <td>Third Party</td>\n",
       "      <td>Others</td>\n",
       "      <td>Being 9:45 am. approximately in the Nv. 1880 C...</td>\n",
       "    </tr>\n",
       "    <tr>\n",
       "      <th>4</th>\n",
       "      <td>4</td>\n",
       "      <td>2016-01-10 00:00:00</td>\n",
       "      <td>Country_01</td>\n",
       "      <td>Local_04</td>\n",
       "      <td>Mining</td>\n",
       "      <td>IV</td>\n",
       "      <td>IV</td>\n",
       "      <td>Male</td>\n",
       "      <td>Third Party</td>\n",
       "      <td>Others</td>\n",
       "      <td>Approximately at 11:45 a.m. in circumstances t...</td>\n",
       "    </tr>\n",
       "  </tbody>\n",
       "</table>\n",
       "</div>"
      ],
      "text/plain": [
       "   Unnamed: 0  ...                                        Description\n",
       "0           0  ...  While removing the drill rod of the Jumbo 08 f...\n",
       "1           1  ...  During the activation of a sodium sulphide pum...\n",
       "2           2  ...  In the sub-station MILPO located at level +170...\n",
       "3           3  ...  Being 9:45 am. approximately in the Nv. 1880 C...\n",
       "4           4  ...  Approximately at 11:45 a.m. in circumstances t...\n",
       "\n",
       "[5 rows x 11 columns]"
      ]
     },
     "execution_count": 8,
     "metadata": {
      "tags": []
     },
     "output_type": "execute_result"
    }
   ],
   "source": [
    "data = pd.read_csv(dataset_path)\n",
    "data.head(5)"
   ]
  },
  {
   "cell_type": "code",
   "execution_count": null,
   "metadata": {
    "colab": {
     "base_uri": "https://localhost:8080/"
    },
    "id": "3liKBrOYkmWW",
    "outputId": "0d9ba056-2792-40bd-cee6-2345089b103f"
   },
   "outputs": [
    {
     "data": {
      "text/plain": [
       "(425, 11)"
      ]
     },
     "execution_count": 9,
     "metadata": {
      "tags": []
     },
     "output_type": "execute_result"
    }
   ],
   "source": [
    "data.shape"
   ]
  },
  {
   "cell_type": "markdown",
   "metadata": {
    "id": "CU609AFpk1Wk"
   },
   "source": [
    "There are 425 rows and 11 columns in the dataset"
   ]
  },
  {
   "cell_type": "code",
   "execution_count": null,
   "metadata": {
    "colab": {
     "base_uri": "https://localhost:8080/"
    },
    "id": "tb8EstxjkmOO",
    "outputId": "f6869ba9-a5b9-42eb-89ee-9bc75939b044"
   },
   "outputs": [
    {
     "data": {
      "text/plain": [
       "Unnamed: 0                  0\n",
       "Data                        0\n",
       "Countries                   0\n",
       "Local                       0\n",
       "Industry Sector             0\n",
       "Accident Level              0\n",
       "Potential Accident Level    0\n",
       "Genre                       0\n",
       "Employee or Third Party     0\n",
       "Critical Risk               0\n",
       "Description                 0\n",
       "dtype: int64"
      ]
     },
     "execution_count": 10,
     "metadata": {
      "tags": []
     },
     "output_type": "execute_result"
    }
   ],
   "source": [
    "data.isnull().sum()"
   ]
  },
  {
   "cell_type": "markdown",
   "metadata": {
    "id": "szcfmw5SlTlD"
   },
   "source": [
    "There are no null values in the dataset"
   ]
  },
  {
   "cell_type": "code",
   "execution_count": null,
   "metadata": {
    "colab": {
     "base_uri": "https://localhost:8080/",
     "height": 87
    },
    "id": "aFbxz97tkmJ3",
    "outputId": "524de4db-6887-4f62-f2fe-b7227c2ff671"
   },
   "outputs": [
    {
     "data": {
      "application/vnd.google.colaboratory.intrinsic+json": {
       "type": "string"
      },
      "text/plain": [
       "'Approximately at 11:45 a.m. in circumstances that the mechanics Anthony (group leader), Eduardo and Eric Fernández-injured-the three of the Company IMPROMEC, performed the removal of the pulley of the motor of the pump 3015 in the ZAF of Marcy. 27 cm / Length: 33 cm / Weight: 70 kg), as it was locked proceed to heating the pulley to loosen it, it comes out and falls from a distance of 1.06 meters high and hits the instep of the right foot of the worker, causing the injury described.'"
      ]
     },
     "execution_count": 11,
     "metadata": {
      "tags": []
     },
     "output_type": "execute_result"
    }
   ],
   "source": [
    "data.Description[4]"
   ]
  },
  {
   "cell_type": "code",
   "execution_count": null,
   "metadata": {
    "colab": {
     "base_uri": "https://localhost:8080/",
     "height": 53
    },
    "id": "iME0SLfxkmEk",
    "outputId": "60b36709-9b68-4657-d171-25597dda4f52"
   },
   "outputs": [
    {
     "data": {
      "application/vnd.google.colaboratory.intrinsic+json": {
       "type": "string"
      },
      "text/plain": [
       "'The collaborator reports that he was working in the Ustulación and realized that the cyclone duct was obstructed and opened the door to try to unclog the same and the material detached and projected towards the employee causing small burn in the right heel.'"
      ]
     },
     "execution_count": 12,
     "metadata": {
      "tags": []
     },
     "output_type": "execute_result"
    }
   ],
   "source": [
    "data.Description[12]"
   ]
  },
  {
   "cell_type": "code",
   "execution_count": null,
   "metadata": {
    "colab": {
     "base_uri": "https://localhost:8080/"
    },
    "id": "Pav8HLskkl-j",
    "outputId": "18c779dc-36d8-48f4-a236-c1079b2246dd"
   },
   "outputs": [
    {
     "data": {
      "text/plain": [
       "array(['Mining', 'Metals', 'Others'], dtype=object)"
      ]
     },
     "execution_count": 13,
     "metadata": {
      "tags": []
     },
     "output_type": "execute_result"
    }
   ],
   "source": [
    "data[\"Industry Sector\"].unique()"
   ]
  },
  {
   "cell_type": "code",
   "execution_count": null,
   "metadata": {
    "colab": {
     "base_uri": "https://localhost:8080/"
    },
    "id": "NvEPfGUAkl2R",
    "outputId": "69ea5041-8b6e-4b4a-97ea-a5a7a5535ab2"
   },
   "outputs": [
    {
     "data": {
      "text/plain": [
       "array(['I', 'IV', 'III', 'II', 'V'], dtype=object)"
      ]
     },
     "execution_count": 14,
     "metadata": {
      "tags": []
     },
     "output_type": "execute_result"
    }
   ],
   "source": [
    "data[\"Accident Level\"].unique()"
   ]
  },
  {
   "cell_type": "code",
   "execution_count": null,
   "metadata": {
    "colab": {
     "base_uri": "https://localhost:8080/"
    },
    "id": "-lnn1vLwuVGc",
    "outputId": "2984c7c5-ac96-42ff-d5c4-384a8e136930"
   },
   "outputs": [
    {
     "data": {
      "text/plain": [
       "array(['IV', 'III', 'I', 'II', 'V', 'VI'], dtype=object)"
      ]
     },
     "execution_count": 15,
     "metadata": {
      "tags": []
     },
     "output_type": "execute_result"
    }
   ],
   "source": [
    "data[\"Potential Accident Level\"].unique()"
   ]
  },
  {
   "cell_type": "code",
   "execution_count": null,
   "metadata": {
    "colab": {
     "base_uri": "https://localhost:8080/"
    },
    "id": "RaEYwcouuVf9",
    "outputId": "6dffe8e0-8747-4040-aa9e-bc6dd5a6eb2e"
   },
   "outputs": [
    {
     "data": {
      "text/plain": [
       "array(['Third Party', 'Employee', 'Third Party (Remote)'], dtype=object)"
      ]
     },
     "execution_count": 16,
     "metadata": {
      "tags": []
     },
     "output_type": "execute_result"
    }
   ],
   "source": [
    "data[\"Employee or Third Party\"].unique()"
   ]
  },
  {
   "cell_type": "markdown",
   "metadata": {
    "id": "FE4FqfwuuqgS"
   },
   "source": [
    "#### **Graphical Representation**"
   ]
  },
  {
   "cell_type": "code",
   "execution_count": null,
   "metadata": {
    "colab": {
     "base_uri": "https://localhost:8080/",
     "height": 333
    },
    "id": "SdyGq-jJuVWF",
    "outputId": "a884c524-c3d1-419e-f1a0-6e54096cd6b8"
   },
   "outputs": [
    {
     "data": {
      "image/png": "[encoded data removed]",
      "text/plain": [
       "<Figure size 1080x360 with 1 Axes>"
      ]
     },
     "metadata": {
      "needs_background": "light",
      "tags": []
     },
     "output_type": "display_data"
    }
   ],
   "source": [
    "\n",
    "pd.crosstab(data['Accident Level'],data['Industry Sector']).plot(kind='bar',figsize=(15,5))\n",
    "plt.xlabel('Accident Level By Industry Count')\n",
    "plt.ylabel('No. of Accidents')\n",
    "plt.show()"
   ]
  },
  {
   "cell_type": "markdown",
   "metadata": {
    "id": "kwtOdBQKuunE"
   },
   "source": [
    "Insights:\n",
    "\n",
    "1. We have more number of accidents in the mining sector followed by metal industry.\n",
    "2. More number of accidents belongs to accident level 1 while level 5 has the least number of accidents."
   ]
  },
  {
   "cell_type": "code",
   "execution_count": null,
   "metadata": {
    "colab": {
     "base_uri": "https://localhost:8080/",
     "height": 333
    },
    "id": "GhU4Cj2KuVUC",
    "outputId": "e980f15b-a367-477a-fd07-d1800f5b038d"
   },
   "outputs": [
    {
     "data": {
      "image/png": "[encoded data removed]",
      "text/plain": [
       "<Figure size 1080x360 with 1 Axes>"
      ]
     },
     "metadata": {
      "needs_background": "light",
      "tags": []
     },
     "output_type": "display_data"
    }
   ],
   "source": [
    "pd.crosstab(data['Potential Accident Level'],data['Industry Sector']).plot(kind='bar',figsize=(15,5))\n",
    "plt.xlabel('Potential Accident Level By Industry Count')\n",
    "plt.ylabel('Potential Accidents')\n",
    "plt.show()"
   ]
  },
  {
   "cell_type": "markdown",
   "metadata": {
    "id": "Kk3I2Ss5u41S"
   },
   "source": [
    "Insights:\n",
    "\n",
    "1. Mining is maximum prone to accidents, followed by Metals.\n",
    "2. Potential Accident level IV has maximum probability to occur."
   ]
  },
  {
   "cell_type": "code",
   "execution_count": null,
   "metadata": {
    "colab": {
     "base_uri": "https://localhost:8080/",
     "height": 297
    },
    "id": "TVUj9b6KuVQW",
    "outputId": "fe2c1c8e-18ba-47ba-a256-0b5974ea93cb"
   },
   "outputs": [
    {
     "data": {
      "text/plain": [
       "<matplotlib.axes._subplots.AxesSubplot at 0x7faf6e4e4950>"
      ]
     },
     "execution_count": 19,
     "metadata": {
      "tags": []
     },
     "output_type": "execute_result"
    },
    {
     "data": {
      "image/png": "[encoded data removed]",
      "text/plain": [
       "<Figure size 432x288 with 1 Axes>"
      ]
     },
     "metadata": {
      "needs_background": "light",
      "tags": []
     },
     "output_type": "display_data"
    }
   ],
   "source": [
    "sns.countplot(data['Accident Level'])"
   ]
  },
  {
   "cell_type": "markdown",
   "metadata": {
    "id": "M3FAqXZWu9dF"
   },
   "source": [
    "There are almost 300 accidents cases that belongs to accident level 1 while level 5 has the least number of accidents cases"
   ]
  },
  {
   "cell_type": "code",
   "execution_count": null,
   "metadata": {
    "colab": {
     "base_uri": "https://localhost:8080/",
     "height": 297
    },
    "id": "05SMxeQtuVMn",
    "outputId": "d7c78ba7-97a6-4df6-a04b-7978877aa182"
   },
   "outputs": [
    {
     "data": {
      "text/plain": [
       "<matplotlib.axes._subplots.AxesSubplot at 0x7faf6e4cd610>"
      ]
     },
     "execution_count": 20,
     "metadata": {
      "tags": []
     },
     "output_type": "execute_result"
    },
    {
     "data": {
      "image/png": "[encoded data removed]",
      "text/plain": [
       "<Figure size 432x288 with 1 Axes>"
      ]
     },
     "metadata": {
      "needs_background": "light",
      "tags": []
     },
     "output_type": "display_data"
    }
   ],
   "source": [
    "sns.countplot(data['Potential Accident Level'])"
   ]
  },
  {
   "cell_type": "markdown",
   "metadata": {
    "id": "vSYLExilu-VS"
   },
   "source": [
    "There are around 140 accidents cases that belongs to Potential accident level 1 while Potential level 5 has the least number of accidents cases"
   ]
  },
  {
   "cell_type": "code",
   "execution_count": null,
   "metadata": {
    "colab": {
     "base_uri": "https://localhost:8080/",
     "height": 333
    },
    "id": "HYp-K97Luhyj",
    "outputId": "3e1af065-a31e-4162-db8c-d061efa82aae"
   },
   "outputs": [
    {
     "data": {
      "image/png": "[encoded data removed]",
      "text/plain": [
       "<Figure size 1080x360 with 1 Axes>"
      ]
     },
     "metadata": {
      "needs_background": "light",
      "tags": []
     },
     "output_type": "display_data"
    }
   ],
   "source": [
    "pd.crosstab(data['Accident Level'],data['Genre']).plot(kind='bar',figsize=(15,5))\n",
    "plt.xlabel('Accident Level by Gender Count')\n",
    "plt.ylabel('No. of Accidents')\n",
    "plt.show()"
   ]
  },
  {
   "cell_type": "code",
   "execution_count": null,
   "metadata": {
    "colab": {
     "base_uri": "https://localhost:8080/",
     "height": 333
    },
    "id": "VhISNBtAuhth",
    "outputId": "b9c64810-1ac2-4fa4-88a4-6dd0262053a6"
   },
   "outputs": [
    {
     "data": {
      "image/png": "[encoded data removed]",
      "text/plain": [
       "<Figure size 1080x360 with 1 Axes>"
      ]
     },
     "metadata": {
      "needs_background": "light",
      "tags": []
     },
     "output_type": "display_data"
    }
   ],
   "source": [
    "pd.crosstab(data['Accident Level'],data['Genre']).plot(kind='bar',figsize=(15,5))\n",
    "plt.xlabel('Potential Accident Level by Gender Count')\n",
    "plt.ylabel('Potential Accidents')\n",
    "plt.show()"
   ]
  },
  {
   "cell_type": "code",
   "execution_count": null,
   "metadata": {
    "colab": {
     "base_uri": "https://localhost:8080/",
     "height": 617
    },
    "id": "5iE0Gs5tuhqm",
    "outputId": "0614e2d0-2dd1-45d1-ad50-4fc0faac576f"
   },
   "outputs": [
    {
     "data": {
      "text/plain": [
       "<seaborn.axisgrid.FacetGrid at 0x7faf701217d0>"
      ]
     },
     "execution_count": 23,
     "metadata": {
      "tags": []
     },
     "output_type": "execute_result"
    },
    {
     "data": {
      "image/png": "[encoded data removed]",
      "text/plain": [
       "<Figure size 655.625x576 with 1 Axes>"
      ]
     },
     "metadata": {
      "needs_background": "light",
      "tags": []
     },
     "output_type": "display_data"
    }
   ],
   "source": [
    "sns.catplot(data=data, kind=\"count\", x=\"Countries\", hue = \"Local\", height=8, aspect=1)"
   ]
  },
  {
   "cell_type": "code",
   "execution_count": null,
   "metadata": {
    "colab": {
     "base_uri": "https://localhost:8080/",
     "height": 607
    },
    "id": "zDXeocDavlAJ",
    "outputId": "0885bf48-fa2f-411d-d6a5-10f765804211"
   },
   "outputs": [
    {
     "data": {
      "image/png": "[encoded data removed]",
      "text/plain": [
       "<Figure size 576x576 with 1 Axes>"
      ]
     },
     "metadata": {
      "needs_background": "light",
      "tags": []
     },
     "output_type": "display_data"
    }
   ],
   "source": [
    "comment_words = '' \n",
    "stopwords = set(STOPWORDS) \n",
    "  \n",
    "# iterate through the csv file \n",
    "for val in data.Description: \n",
    "      \n",
    "    # typecaste each val to string \n",
    "    val = str(val) \n",
    "  \n",
    "    # split the value \n",
    "    tokens = val.split() \n",
    "          \n",
    "    # Converts each token into lowercase \n",
    "    for i in range(len(tokens)): \n",
    "        tokens[i] = tokens[i].lower() \n",
    "      \n",
    "    comment_words += \" \".join(tokens)+\" \"\n",
    "  \n",
    "wordcloud = WordCloud(width = 800, height = 800, \n",
    "                background_color ='white', \n",
    "                stopwords = stopwords, \n",
    "                min_font_size = 10).generate(comment_words) \n",
    "  \n",
    "# plot the WordCloud image                        \n",
    "plt.figure(figsize = (8, 8), facecolor = None) \n",
    "plt.imshow(wordcloud) \n",
    "plt.axis(\"off\") \n",
    "plt.tight_layout(pad = 0) \n",
    "  \n",
    "plt.show() "
   ]
  },
  {
   "cell_type": "markdown",
   "metadata": {
    "id": "UGXo9a5Nz1pF"
   },
   "source": [
    "## **Pre- processing**"
   ]
  },
  {
   "cell_type": "code",
   "execution_count": null,
   "metadata": {
    "colab": {
     "base_uri": "https://localhost:8080/"
    },
    "id": "ZQoAGENJuhmq",
    "outputId": "c110d907-d3c6-40d1-9b92-c5858e609987"
   },
   "outputs": [
    {
     "name": "stdout",
     "output_type": "stream",
     "text": [
      "[nltk_data] Downloading package stopwords to /root/nltk_data...\n",
      "[nltk_data]   Unzipping corpora/stopwords.zip.\n",
      "[nltk_data] Downloading package wordnet to /root/nltk_data...\n",
      "[nltk_data]   Unzipping corpora/wordnet.zip.\n"
     ]
    }
   ],
   "source": [
    "import re\n",
    "\n",
    "# will take only alphabets + will remove any unwanted special characters\n",
    "data.Description = data.Description.apply(lambda x: re.sub('[^A-Za-z]+',' ',x)) \n",
    "\n",
    "data.Description = data.Description.apply(lambda x: x.lower())\n",
    "\n",
    "data.Description = data.Description.apply(lambda x : x.strip())\n",
    "\n",
    "#Removing StopWords\n",
    "import nltk\n",
    "import string\n",
    "nltk.download('stopwords')\n",
    "from nltk.corpus import stopwords\n",
    "\n",
    "stop_words = stopwords.words('english') + list(string.punctuation)\n",
    "\n",
    "data.Description = data.Description.apply(lambda x: ' '.join([word for word in x.split() if word not in stop_words]))\n",
    "\n",
    "#lemmatization\n",
    "nltk.download('wordnet')\n",
    "from nltk.stem import WordNetLemmatizer \n",
    "lemmatizer = WordNetLemmatizer()\n",
    "data.Description = data.Description.apply(lambda x: ' '.join([lemmatizer.lemmatize(w) for w in x.split()]))"
   ]
  },
  {
   "cell_type": "code",
   "execution_count": null,
   "metadata": {
    "id": "Rik5qW2Huhbx"
   },
   "outputs": [],
   "source": [
    "# Spell Check Function\n",
    "spell = SpellChecker() \n",
    "def spell_check(x):\n",
    "    correct_word = []\n",
    "    mispelled_word = x.split()\n",
    "    for word in mispelled_word:\n",
    "        correct_word.append(spell.correction(word))\n",
    "    return ' '.join(correct_word)"
   ]
  },
  {
   "cell_type": "code",
   "execution_count": null,
   "metadata": {
    "id": "3Dvi2xifuhY7"
   },
   "outputs": [],
   "source": [
    "data.Description = data.Description.apply(lambda x: spell_check(x))"
   ]
  },
  {
   "cell_type": "markdown",
   "metadata": {
    "id": "8FIA7rSPxLlL"
   },
   "source": [
    "\n",
    "Removing 20 rare words"
   ]
  },
  {
   "cell_type": "code",
   "execution_count": null,
   "metadata": {
    "colab": {
     "base_uri": "https://localhost:8080/"
    },
    "id": "H95vT-UjxMj_",
    "outputId": "1c94f440-7eb5-4879-880b-a22b6ebd3752"
   },
   "outputs": [
    {
     "data": {
      "text/plain": [
       "gaze              1\n",
       "restart           1\n",
       "earthenware       1\n",
       "disengaged        1\n",
       "ae                1\n",
       "lumbar            1\n",
       "solubilization    1\n",
       "touched           1\n",
       "preventive        1\n",
       "told              1\n",
       "unevenness        1\n",
       "dune              1\n",
       "bladder           1\n",
       "pyrotechnic       1\n",
       "energize          1\n",
       "absorbing         1\n",
       "actuating         1\n",
       "switched          1\n",
       "submerged         1\n",
       "overcoming        1\n",
       "dtype: int64"
      ]
     },
     "execution_count": 28,
     "metadata": {
      "tags": []
     },
     "output_type": "execute_result"
    }
   ],
   "source": [
    "freq = pd.Series(' '.join(data['Description']).split()).value_counts()[-20:] # 20 rare words\n",
    "freq"
   ]
  },
  {
   "cell_type": "code",
   "execution_count": null,
   "metadata": {
    "colab": {
     "base_uri": "https://localhost:8080/"
    },
    "id": "X9YT2_qsxM8X",
    "outputId": "a0b78544-fa90-45d6-e325-4ce38515801f"
   },
   "outputs": [
    {
     "data": {
      "text/plain": [
       "0    removing drill rod jumbo maintenance superviso...\n",
       "1    activation sodium sulphide pump piping uncoupl...\n",
       "2    sub station milo located level collaborator ex...\n",
       "3    approximately no ex ob personnel begin task un...\n",
       "4    approximately circumstance mechanic anthony gr...\n",
       "Name: Description, dtype: object"
      ]
     },
     "execution_count": 29,
     "metadata": {
      "tags": []
     },
     "output_type": "execute_result"
    }
   ],
   "source": [
    "freq = list(freq.index)\n",
    "data['Description'] = data['Description'].apply(lambda x: \" \".join(x for x in x.split() if x not in freq))\n",
    "data['Description'].head()"
   ]
  },
  {
   "cell_type": "code",
   "execution_count": null,
   "metadata": {
    "colab": {
     "base_uri": "https://localhost:8080/",
     "height": 70
    },
    "id": "38h_7IsDxM5F",
    "outputId": "900d7aa7-3670-4c0d-c06b-de4c20ee6686"
   },
   "outputs": [
    {
     "data": {
      "application/vnd.google.colaboratory.intrinsic+json": {
       "type": "string"
      },
      "text/plain": [
       "'approximately circumstance mechanic anthony group leader eduardo eric fern nder injured three company improve performed removal pulley motor pump zap marcy am length am weight keg locked proceed heating pulley loosen come fall distance meter high hit instep right foot worker causing injury described'"
      ]
     },
     "execution_count": 30,
     "metadata": {
      "tags": []
     },
     "output_type": "execute_result"
    }
   ],
   "source": [
    "data.Description[4]"
   ]
  },
  {
   "cell_type": "code",
   "execution_count": null,
   "metadata": {
    "colab": {
     "base_uri": "https://localhost:8080/",
     "height": 53
    },
    "id": "VPc1c_6QxM17",
    "outputId": "2b068d31-1081-492d-d851-fda88d67b5a1"
   },
   "outputs": [
    {
     "data": {
      "application/vnd.google.colaboratory.intrinsic+json": {
       "type": "string"
      },
      "text/plain": [
       "'collaborator report working ustulaci i realized cyclone duct obstructed opened door try unclog material detached projected towards employee causing small burn right heel'"
      ]
     },
     "execution_count": 31,
     "metadata": {
      "tags": []
     },
     "output_type": "execute_result"
    }
   ],
   "source": [
    "data.Description[12]"
   ]
  },
  {
   "cell_type": "code",
   "execution_count": null,
   "metadata": {
    "colab": {
     "base_uri": "https://localhost:8080/"
    },
    "id": "w4X7kDW3xMvj",
    "outputId": "93db2492-26e5-43e2-8be5-6e9a99ffefe8"
   },
   "outputs": [
    {
     "data": {
      "text/plain": [
       "5"
      ]
     },
     "execution_count": 32,
     "metadata": {
      "tags": []
     },
     "output_type": "execute_result"
    }
   ],
   "source": [
    "labels_al = data['Accident Level'].nunique() #target variable total count(/class)\n",
    "labels_al"
   ]
  },
  {
   "cell_type": "code",
   "execution_count": null,
   "metadata": {
    "colab": {
     "base_uri": "https://localhost:8080/"
    },
    "id": "GmT59sp8x03Z",
    "outputId": "4d7ff0a7-5b45-40cc-a568-f83aac75a8e1"
   },
   "outputs": [
    {
     "data": {
      "text/plain": [
       "6"
      ]
     },
     "execution_count": 33,
     "metadata": {
      "tags": []
     },
     "output_type": "execute_result"
    }
   ],
   "source": [
    "labels_pal = data['Potential Accident Level'].nunique() #target variable total count(/class)\n",
    "labels_pal"
   ]
  },
  {
   "cell_type": "code",
   "execution_count": null,
   "metadata": {
    "colab": {
     "base_uri": "https://localhost:8080/"
    },
    "id": "kY8ZxfL6xMqs",
    "outputId": "659f6b36-8270-48f1-f625-45a5eb9ac72c"
   },
   "outputs": [
    {
     "name": "stdout",
     "output_type": "stream",
     "text": [
      "95\n",
      "[37, 27, 29, 51, 44, 26, 21, 32, 14, 34, 31, 41, 23, 34, 27, 23, 61, 18, 30, 33, 32, 38, 29, 23, 40, 36, 32, 39, 18, 13, 30, 43, 30, 51, 10, 23, 50, 28, 28, 49, 20, 30, 32, 26, 23, 21, 23, 49, 38, 56, 28, 72, 72, 32, 15, 23, 31, 20, 15, 56, 20, 44, 31, 11, 13, 18, 31, 27, 48, 60, 31, 15, 13, 45, 58, 41, 78, 78, 42, 95, 36, 35, 22, 34, 11, 32, 29, 53, 63, 19, 39, 29, 30, 44, 20, 38, 19, 44, 38, 19, 12, 20, 44, 13, 60, 49, 43, 12, 21, 29, 33, 21, 21, 13, 20, 38, 39, 59, 25, 43, 47, 17, 12, 20, 37, 36, 34, 20, 25, 59, 63, 63, 17, 13, 37, 31, 42, 45, 26, 29, 23, 42, 35, 64, 64, 18, 60, 58, 58, 58, 40, 58, 29, 27, 43, 68, 77, 51, 11, 42, 30, 37, 36, 25, 35, 25, 58, 58, 19, 67, 47, 48, 53, 19, 93, 22, 13, 20, 14, 45, 62, 21, 15, 13, 40, 31, 18, 19, 15, 55, 48, 14, 47, 31, 48, 23, 19, 49, 57, 18, 18, 16, 34, 16, 40, 32, 44, 32, 9, 12, 22, 28, 36, 20, 21, 47, 21, 31, 21, 33, 33, 19, 24, 30, 26, 22, 32, 33, 24, 26, 10, 43, 55, 61, 58, 47, 12, 25, 36, 40, 37, 22, 16, 45, 54, 25, 45, 23, 38, 42, 9, 22, 38, 64, 60, 32, 35, 20, 31, 25, 29, 29, 29, 29, 46, 33, 28, 35, 17, 18, 32, 16, 32, 16, 30, 10, 25, 21, 14, 41, 48, 26, 25, 16, 26, 25, 32, 18, 13, 24, 32, 28, 31, 29, 50, 14, 26, 33, 11, 17, 24, 20, 24, 24, 26, 10, 18, 34, 35, 35, 49, 12, 28, 31, 22, 68, 19, 37, 35, 15, 15, 26, 27, 34, 26, 15, 26, 25, 22, 25, 32, 25, 34, 41, 50, 20, 27, 20, 89, 29, 29, 29, 31, 31, 59, 59, 59, 32, 23, 55, 36, 63, 27, 35, 63, 63, 17, 33, 36, 46, 13, 41, 21, 24, 12, 30, 27, 55, 26, 38, 77, 79, 19, 45, 60, 47, 63, 20, 38, 38, 75, 39, 31, 27, 20, 25, 51, 18, 18, 73, 20, 64, 15, 28, 25, 27, 33, 33, 40, 15, 14, 29, 35, 13, 17, 29, 64, 21, 44, 44, 40, 42, 38, 38, 22, 14, 41, 16, 35, 23, 18, 21, 21, 20, 19]\n"
     ]
    }
   ],
   "source": [
    "all_len = []\n",
    "for s in data.Description.values:\n",
    "  all_len.append(len(s.split()))\n",
    "print(max(all_len)) # maximum number of words in a sentence\n",
    "print(all_len) # number of words in each sentence"
   ]
  },
  {
   "cell_type": "code",
   "execution_count": null,
   "metadata": {
    "colab": {
     "base_uri": "https://localhost:8080/"
    },
    "id": "Mw_57pxbxMn7",
    "outputId": "687a4ed9-5258-479d-877b-96801ce00641"
   },
   "outputs": [
    {
     "name": "stdout",
     "output_type": "stream",
     "text": [
      "62\n"
     ]
    }
   ],
   "source": [
    "# a check to see how many sentence are having words greater than 50\n",
    "count = len([i for i in all_len if i > 50])\n",
    "print(count) "
   ]
  },
  {
   "cell_type": "code",
   "execution_count": null,
   "metadata": {
    "id": "qompba0J3GFy"
   },
   "outputs": [],
   "source": [
    "max_features = 20000\n",
    "maxlen = 50\n",
    "embedding_size = 200"
   ]
  },
  {
   "cell_type": "code",
   "execution_count": null,
   "metadata": {
    "id": "d585keyyyPdq"
   },
   "outputs": [],
   "source": [
    "#will only take most frequent words\n",
    "\n",
    "tokenizer = Tokenizer(num_words=max_features)\n",
    "tokenizer.fit_on_texts(data.Description.values)\n",
    "X = tokenizer.texts_to_sequences(data.Description.values)"
   ]
  },
  {
   "cell_type": "code",
   "execution_count": null,
   "metadata": {
    "colab": {
     "base_uri": "https://localhost:8080/"
    },
    "id": "1Tqbzv_UyPat",
    "outputId": "98bc2981-43e3-4a7a-ed9b-a5cca0cdd3d4"
   },
   "outputs": [
    {
     "name": "stdout",
     "output_type": "stream",
     "text": [
      "[[171, 69, 110, 324, 65, 297, 237, 571, 27, 807, 1519, 1520, 186, 1053, 52, 27, 16, 61, 69, 18, 325, 2, 94, 1521, 186, 11, 94, 103, 57, 27, 1522, 19, 52, 88, 94, 326, 324], [1523, 1054, 1055, 42, 1524, 1525, 1526, 238, 1527, 15, 364, 572, 104, 59, 89, 475, 1056, 672, 1528, 573, 413, 298, 673, 1055, 238, 1529, 1530], [808, 574, 1057, 187, 24, 13, 809, 17, 575, 2, 239, 79, 29, 1531, 37, 1532, 810, 79, 188, 327, 31, 811, 812, 15, 4, 54, 13, 3, 10], [34, 72, 240, 365, 172, 576, 366, 577, 1533, 76, 1058, 189, 1059, 76, 674, 1534, 105, 1060, 675, 25, 476, 1535, 241, 20, 414, 58, 1536, 146, 2, 1537, 95, 813, 328, 76, 11, 55, 13, 1538, 329, 1539, 1540, 190, 270, 95, 76, 79, 477, 4, 2, 3, 10], [34, 40, 52, 1541, 1542, 1543, 1544, 1545, 1546, 1547, 45, 415, 77, 478, 62, 186, 173, 676, 42, 1548, 1549, 14, 367, 14, 84, 43, 814, 479, 1550, 173, 571, 215, 30, 578, 33, 368, 21, 815, 5, 54, 12, 3, 10, 39], [480, 330, 816, 216, 817, 818, 416, 481, 1061, 44, 53, 819, 217, 1551, 90, 174, 1552, 1553, 481, 417, 816, 1062, 13, 111, 418, 123], [13, 80, 1063, 242, 4, 2, 1064, 1065, 158, 419, 2, 106, 1064, 1065, 1554, 1066, 111, 112, 159, 4, 2], [34, 7, 52, 113, 1067, 1068, 369, 579, 96, 299, 42, 160, 243, 420, 218, 173, 421, 820, 244, 422, 297, 1555, 1069, 219, 821, 579, 96, 220, 580, 57, 19, 1070], [1, 1071, 581, 15, 24, 677, 1072, 271, 1073, 1556, 132, 370, 822, 46], [11, 678, 6, 272, 1557, 679, 216, 1074, 273, 73, 124, 1558, 15, 423, 482, 1559, 1075, 36, 424, 1560, 23, 7, 1561, 1076, 4, 123, 13, 272, 1077, 1078, 70, 104, 51, 97], [680, 1562, 1563, 173, 582, 1079, 7, 7, 14, 823, 43, 105, 173, 191, 483, 173, 1564, 1565, 1079, 67, 681, 30, 682, 1080, 5, 38, 12, 1566, 63, 10, 39], [274, 824, 583, 371, 85, 683, 43, 84, 825, 1081, 1567, 826, 81, 1568, 824, 331, 683, 1569, 1570, 684, 1076, 25, 372, 81, 1082, 82, 1082, 104, 114, 1571, 107, 484, 1083, 1572, 81, 15, 10, 115, 51, 373, 374], [13, 80, 584, 1084, 7, 485, 1085, 1573, 1086, 486, 245, 487, 818, 86, 300, 133, 50, 1, 3, 112, 175, 5, 1087], [11, 6, 324, 827, 18, 479, 425, 301, 275, 585, 72, 60, 488, 176, 375, 332, 7, 221, 1574, 95, 125, 586, 106, 586, 126, 828, 1088, 161, 829, 364, 6, 3, 10, 39], [91, 685, 333, 426, 1575, 489, 1576, 1, 62, 70, 1577, 56, 162, 1089, 334, 30, 376, 245, 490, 142, 1090, 1578, 830, 3, 175, 142, 302], [1, 584, 491, 492, 111, 493, 246, 190, 1, 1579, 56, 686, 427, 21, 112, 1580, 428, 1091, 1581, 112, 175, 46, 163], [1582, 24, 40, 12, 77, 53, 366, 1092, 88, 20, 687, 45, 494, 274, 831, 299, 587, 23, 187, 429, 25, 687, 276, 16, 61, 116, 27, 173, 18, 192, 61, 584, 429, 11, 25, 494, 276, 61, 299, 23, 429, 78, 192, 117, 37, 23, 215, 173, 132, 430, 5, 2, 12, 687, 76, 1093, 37, 192, 3, 10, 39], [91, 1583, 94, 832, 495, 1094, 1095, 133, 1584, 364, 1585, 193, 1096, 161, 107, 496, 175, 142], [241, 588, 194, 497, 7, 1586, 15, 377, 589, 21, 164, 590, 16, 61, 377, 591, 1097, 377, 98, 498, 99, 833, 5, 82, 161, 41, 1587, 834, 303, 592], [12, 1588, 222, 1589, 593, 177, 223, 585, 1590, 1063, 1591, 247, 60, 40, 25, 1067, 12, 77, 171, 335, 1098, 336, 223, 1099, 30, 304, 835, 373, 21, 127, 25, 688, 38], [6, 1100, 195, 277, 1592, 134, 1593, 836, 486, 107, 223, 1594, 487, 195, 147, 245, 376, 176, 1595, 107, 16, 195, 128, 431, 31, 278, 337, 10, 4, 594, 46, 6], [677, 432, 6, 20, 279, 88, 94, 7, 88, 189, 84, 135, 43, 242, 165, 338, 1596, 837, 1101, 136, 838, 6, 1101, 689, 103, 85, 165, 69, 94, 3, 20, 94, 1597, 20, 2, 94, 1102, 18], [1598, 5, 1103, 224, 7, 839, 580, 1599, 1600, 338, 595, 329, 50, 580, 196, 57, 166, 378, 840, 1601, 1602, 6, 1603, 2, 20, 1604, 20, 1104, 163], [1105, 44, 1106, 280, 76, 56, 593, 177, 1107, 339, 841, 1605, 18, 76, 225, 1108, 1, 21, 2, 74, 18, 3, 10], [6, 7, 1606, 273, 577, 167, 246, 499, 340, 103, 1607, 433, 1608, 27, 25, 1109, 226, 500, 167, 49, 842, 227, 103, 11, 839, 281, 843, 1609, 25, 1109, 4, 82, 13, 272, 1077, 1078, 70, 104, 51, 97], [6, 1610, 421, 1611, 246, 167, 1612, 844, 194, 11, 281, 300, 281, 100, 194, 1110, 1613, 13, 5, 2, 161, 112, 41, 1614, 19, 12, 59, 89, 32, 341, 12, 303, 51, 228, 107, 484], [61, 583, 1615, 49, 38, 483, 197, 248, 342, 845, 846, 148, 1111, 26, 222, 126, 4, 229, 1616, 1617, 690, 193, 193, 691, 115, 31, 501, 847, 1112, 1618, 848, 434], [61, 29, 305, 585, 249, 176, 64, 379, 380, 250, 149, 1113, 29, 28, 675, 1114, 61, 435, 220, 596, 1619, 331, 129, 597, 9, 66, 29, 30, 7, 7, 14, 115, 692, 28, 99, 278, 127, 3, 10], [12, 92, 17, 24, 178, 198, 47, 28, 230, 231, 1620, 199, 28, 30, 21, 71, 5, 2], [56, 1621, 598, 1622, 110, 381, 95, 108, 136, 200, 1, 19, 381], [243, 6, 1623, 1115, 221, 436, 223, 43, 1116, 201, 849, 502, 5, 229, 148, 91, 306, 1624, 1117, 58, 26, 150, 1118, 1625, 850, 4, 82, 63, 1626, 1119], [24, 64, 9, 851, 1627, 1628, 503, 220, 852, 301, 275, 198, 199, 27, 242, 1629, 1120, 4, 2, 1630, 251, 17, 1121, 282, 1631, 29, 242, 5, 2, 29, 26, 3, 10, 12, 9, 22, 853, 32, 89, 59, 1632, 307, 673], [12, 1633, 584, 1122, 178, 24, 480, 47, 28, 230, 504, 6, 1634, 1122, 854, 31, 151, 1635, 104, 12, 171, 693, 339, 1636, 196, 54, 161, 159, 5, 54], [34, 7, 40, 308, 1637, 72, 343, 365, 7, 1638, 1123, 107, 382, 20, 855, 25, 1639, 694, 6, 382, 25, 1640, 136, 382, 64, 856, 1641, 382, 6, 1642, 35, 25, 1124, 694, 215, 35, 695, 857, 25, 1124, 45, 437, 35, 36, 4, 505, 383, 1643, 309, 506, 1644], [1, 696, 23, 1645, 5, 310, 283, 3, 344, 1125], [1646, 858, 1647, 1126, 599, 23, 859, 252, 860, 311, 80, 98, 1127, 118, 253, 507, 200, 19, 507, 3, 159, 5, 1648], [508, 1128, 94, 1649, 94, 43, 367, 14, 143, 18, 587, 37, 55, 12, 16, 253, 861, 37, 697, 94, 45, 16, 78, 117, 37, 500, 94, 331, 94, 58, 862, 197, 94, 85, 14, 509, 19, 5, 2, 173, 192, 9, 22, 12, 109, 31, 32, 69, 1650, 600], [863, 8, 171, 698, 375, 177, 699, 226, 678, 44, 6, 345, 1129, 91, 137, 698, 144, 1130, 864, 847, 6, 510, 18, 4, 15, 601, 490, 865], [863, 8, 171, 698, 375, 177, 699, 226, 678, 44, 6, 345, 1129, 91, 137, 698, 144, 1130, 864, 847, 6, 510, 18, 4, 15, 601, 490, 865], [1131, 89, 202, 324, 438, 1132, 18, 6, 18, 511, 232, 700, 1133, 1134, 1135, 312, 701, 512, 81, 174, 1651, 1652, 307, 1134, 307, 112, 1653, 312, 1136, 104, 513, 81, 104, 237, 1137, 1654, 81, 303, 51, 97, 434, 312, 126, 1655, 376, 18, 1656, 861, 1657], [65, 1658, 42, 1138, 514, 146, 1659, 432, 111, 432, 515, 133, 50, 1, 46, 430, 1139, 424, 3, 10], [135, 866, 1660, 1074, 273, 91, 81, 1661, 702, 91, 1662, 160, 243, 11, 13, 215, 77, 1140, 1663, 17, 138, 602, 15, 346, 51, 97, 439, 203, 1141, 17], [53, 145, 28, 603, 119, 17, 20, 149, 253, 152, 26, 56, 1664, 124, 254, 139, 250, 149, 9, 149, 20, 516, 282, 132, 254, 28, 2, 1665, 152, 26, 3, 10], [6, 97, 1666, 1667, 53, 65, 867, 204, 280, 226, 130, 6, 703, 868, 328, 280, 92, 440, 19, 4, 310, 1668, 27, 604, 1669, 1670], [347, 1671, 869, 441, 1, 687, 237, 195, 162, 313, 205, 1672, 40, 441, 238, 166, 380, 238, 328, 126, 75, 5, 54], [9, 55, 20, 233, 216, 870, 823, 43, 605, 149, 517, 14, 26, 4, 54, 16, 20, 871, 21, 120, 1673], [6, 606, 1674, 1142, 16, 607, 518, 9, 339, 872, 21, 607, 192, 3, 10, 344, 19, 4, 2, 6, 608, 518, 70], [179, 1143, 873, 172, 672, 874, 1144, 191, 255, 519, 1145, 442, 519, 1145, 704, 87, 115, 71, 874, 11, 428, 256, 591, 4, 505, 588, 704, 87, 520, 521, 1146, 179, 270, 704, 87, 843, 522, 20, 1147, 523, 609, 704, 87, 705, 67, 74, 271, 348, 524], [384, 24, 875, 88, 62, 876, 206, 1148, 7, 1675, 18, 20, 18, 6, 59, 256, 69, 877, 47, 94, 164, 100, 878, 443, 228, 879, 1676, 2, 21, 71, 5, 2, 35, 74, 9, 22, 35, 1677], [9, 12, 130, 207, 274, 136, 514, 280, 1678, 880, 58, 1149, 521, 58, 823, 34, 43, 1679, 520, 521, 247, 49, 58, 521, 12, 276, 58, 244, 5, 2, 16, 1680, 521, 58, 74, 254, 525, 116, 603, 58, 22, 111, 1681, 159, 444, 19, 5, 2, 526, 9, 22, 853, 341, 168, 31, 32], [6, 1150, 216, 679, 216, 1151, 1682, 1152, 167, 221, 1144, 216, 100, 881, 882, 222, 1153, 126, 312, 246, 706, 63, 1683, 3, 6, 21, 312, 246], [40, 55, 12, 77, 707, 59, 134, 708, 56, 18, 709, 73, 17, 610, 1154, 5, 1155, 37, 284, 98, 29, 135, 43, 25, 25, 99, 230, 71, 611, 230, 517, 36, 11, 413, 101, 29, 300, 234, 119, 135, 43, 25, 25, 128, 504, 35, 37, 101, 1156, 6, 504, 35, 688, 106, 18, 709, 314, 445, 1157, 1158, 9, 22, 12, 48, 127, 31, 151, 271, 1159, 348, 1160, 10], [40, 55, 12, 77, 707, 1684, 134, 708, 56, 18, 709, 73, 17, 610, 1154, 5, 1155, 37, 284, 98, 29, 135, 43, 25, 25, 99, 230, 71, 611, 230, 517, 36, 11, 413, 101, 29, 300, 234, 119, 135, 43, 25, 25, 128, 504, 35, 37, 101, 1156, 6, 504, 35, 688, 106, 18, 709, 314, 445, 1157, 1158, 9, 22, 12, 48, 127, 31, 151, 271, 1159, 348, 1160, 10], [52, 20, 710, 285, 101, 27, 1685, 1686, 497, 44, 106, 612, 44, 64, 124, 1161, 208, 153, 711, 50, 106, 36, 14, 1687, 120, 16, 285, 101, 712, 10, 4, 446], [421, 85, 188, 713, 1688, 226, 130, 1, 6, 19, 180, 234, 713, 3, 10], [416, 519, 6, 237, 60, 216, 90, 1689, 40, 16, 61, 90, 136, 190, 46, 181, 417, 312, 1690, 99, 385, 37, 46], [40, 6, 883, 24, 24, 857, 204, 42, 202, 515, 7, 7, 43, 135, 30, 257, 18, 714, 447, 414, 117, 37, 18, 11, 1691, 515, 103, 349, 19, 3, 10], [680, 884, 527, 1692, 7, 884, 27, 75, 103, 200, 147, 315, 19, 5, 2, 139, 884, 3, 10, 39], [1, 80, 1162, 448, 1693, 715, 716, 386, 821, 23, 200, 4, 2, 448, 716], [61, 134, 708, 17, 73, 250, 149, 528, 220, 885, 886, 717, 1163, 165, 1164, 529, 66, 29, 1165, 27, 28, 1694, 50, 284, 718, 719, 57, 112, 66, 29, 7, 7, 14, 115, 449, 176, 28, 1166, 128, 424, 9, 114, 13, 48, 127, 31, 278, 73, 27, 165, 1695, 28, 176, 27, 28, 7], [1, 53, 720, 1696, 330, 887, 281, 888, 1697, 95, 148, 3, 281, 18, 21, 3, 613, 41, 5, 258], [34, 40, 1167, 44, 497, 721, 309, 506, 1698, 1168, 1699, 101, 47, 68, 530, 84, 43, 25, 721, 309, 889, 1700, 414, 387, 44, 60, 890, 49, 54, 1169, 722, 47, 68, 11, 388, 37, 1169, 389, 1170, 55, 54, 437, 161, 10], [1171, 208, 27, 28, 448, 17, 11, 106, 45, 13, 891, 892, 28, 6, 199, 350, 253, 230, 200, 28, 16, 603, 61, 28, 889, 341, 32, 3, 10, 5, 2], [1, 1172, 160, 866, 1701, 15, 21, 493, 238, 5, 1702], [1, 696, 312, 246, 42, 604, 316, 58, 1703, 868, 723, 4, 54], [1, 1173, 390, 1704, 1705, 138, 205, 1174, 1706, 160, 238, 1117, 190, 131, 82, 3, 348, 175], [233, 8, 145, 892, 28, 17, 73, 20, 78, 54, 16, 61, 28, 270, 61, 724, 11, 20, 725, 125, 41, 893, 61, 724, 28, 166, 1175, 79, 207, 31, 278], [1707, 17, 599, 23, 143, 55, 12, 12, 894, 23, 182, 688, 230, 504, 895, 36, 106, 23, 158, 602, 75, 5, 3, 10, 726, 5, 75], [40, 1176, 44, 1708, 191, 503, 1114, 684, 1709, 117, 37, 1177, 506, 312, 6, 345, 286, 34, 16, 33, 727, 120, 1710, 44, 5, 38, 6, 523, 609, 44, 59, 89, 31, 96, 127, 154, 9, 22, 480, 441, 55, 896, 22, 259, 260, 1711, 6, 876], [34, 14, 24, 240, 343, 40, 12, 77, 29, 62, 1712, 388, 527, 1713, 88, 189, 1714, 1715, 1058, 447, 20, 1178, 45, 59, 720, 614, 388, 76, 531, 95, 1716, 1179, 197, 828, 59, 137, 443, 228, 331, 615, 527, 11, 192, 871, 200, 310, 20, 4, 2, 531, 95, 3, 39, 10, 91, 1717, 1718, 192, 897, 76], [92, 1180, 27, 199, 898, 18, 6, 575, 81, 899, 90, 50, 1719, 18, 532, 50, 314, 199, 533, 98, 29, 14, 368, 135, 1720, 900, 5, 54, 3, 10, 39], [34, 7, 728, 129, 1181, 1182, 1721, 1722, 450, 901, 21, 616, 47, 227, 330], [1, 53, 44, 480, 330, 317, 1723, 180, 5, 19, 45, 4, 75], [134, 55, 1724, 206, 729, 886, 89, 858, 124, 250, 149, 325, 124, 1725, 117, 27, 57, 152, 36, 66, 29, 14, 7, 14, 7, 14, 115, 133, 5, 61, 124, 79, 250, 149, 594, 117, 235, 161, 287, 39, 250, 1726, 48, 31, 154], [243, 178, 1727, 65, 1728, 61, 256, 1183, 730, 23, 143, 1184, 528, 17, 534, 689, 1729, 17, 11, 731, 12, 1185, 1730, 117, 37, 902, 717, 697, 283, 730, 23, 617, 143, 225, 617, 23, 215, 27, 23, 732, 86, 1731, 84, 43, 30, 36, 33, 26, 810, 618, 1184, 851, 45, 12, 155, 37, 129, 597], [903, 18, 1186, 65, 183, 52, 694, 6, 71, 18, 451, 6, 347, 1187, 1188, 1189, 245, 1732, 195, 391, 131, 451, 15, 33, 232, 904, 314, 245, 351, 352, 21, 46, 3, 348, 10, 15, 52, 26, 24, 905, 49], [40, 55, 12, 1190, 77, 1191, 17, 67, 906, 205, 33, 535, 392, 58, 47, 150, 150, 117, 37, 55, 1, 21, 77, 92, 217, 619, 42, 226, 423, 1192, 888, 353, 326, 7, 1193, 42, 47, 150, 150, 225, 42, 353, 47, 1194, 150, 121, 196, 47, 733, 150, 43, 14, 7, 14, 30, 67, 205, 21, 1195, 681, 67, 205, 128, 5, 75, 16, 12, 536, 127, 147, 12, 1196, 15, 734, 118, 1197, 1198, 1199], [40, 55, 12, 1190, 77, 1191, 17, 67, 906, 205, 33, 535, 392, 58, 47, 150, 150, 117, 37, 55, 1, 21, 77, 92, 217, 619, 42, 226, 423, 1192, 888, 353, 326, 7, 1193, 42, 47, 150, 150, 225, 42, 353, 47, 1194, 150, 121, 196, 47, 733, 150, 43, 14, 7, 14, 30, 67, 205, 21, 1195, 681, 67, 205, 128, 5, 75, 16, 12, 536, 127, 147, 12, 1196, 15, 734, 118, 1197, 1198, 1199], [1733, 1200, 1734, 15, 247, 195, 1735, 620, 85, 522, 35, 247, 195, 64, 1201, 108, 735, 15, 1736, 621, 1737, 306, 1738, 49, 64, 1, 158, 328, 1739, 868, 11, 736, 4, 2, 108, 148, 5, 82, 229, 3, 41, 14], [53, 318, 186, 217, 206, 33, 535, 620, 140, 141, 180, 16, 38, 737, 614, 110, 537, 1740, 500, 1741, 84, 110, 217, 737, 819, 1742, 84, 110, 894, 188, 354, 335, 381, 483, 11, 538, 1202, 100, 904, 483, 1743, 737, 1744, 16, 38, 1745, 174, 484, 1746, 111, 900, 110, 241, 1203, 423, 577, 110, 242, 1747, 95, 1748, 381, 224, 1749, 907, 1204, 871, 2, 907, 1205, 3, 4, 2, 738, 139, 381, 224, 74, 3, 41, 288, 288, 908, 1, 393, 298, 272, 51, 439, 159, 1750, 1751, 279, 371, 8], [739, 83, 61, 17, 13, 1752, 316, 1753, 539, 909, 1754, 328, 1755, 622, 151, 3, 112, 206, 622, 4, 54, 13, 587, 1206, 91, 540, 541, 910, 15, 392, 13, 1756, 1207, 1757, 138, 1758], [183, 24, 201, 55, 52, 1208, 188, 68, 14, 7, 14, 7, 14, 43, 49, 452, 183, 911, 60, 1759, 68, 103, 1760, 5, 261, 19, 119, 68, 3, 10, 13, 48, 32, 9, 22], [195, 394, 313, 1761, 160, 42, 177, 42, 215, 542, 200, 288, 19, 1, 4, 2, 543, 3, 526, 623, 912, 1762], [12, 92, 1763, 429, 336, 1764, 901, 1209, 139, 913, 187, 34, 16, 33, 368, 26, 1765, 1766, 740, 27, 58, 389, 3, 30, 12, 99, 5, 229, 27, 1185, 16, 1767, 429, 74], [1, 80, 624, 162, 906, 180, 509, 5, 1210, 3, 544], [903, 914, 442, 1768, 285, 1769, 332, 181, 612, 316, 332, 317, 915, 1770, 625, 909, 332, 1211, 81, 22, 111, 348, 159, 622, 4, 54, 9, 22, 12, 109, 31, 151], [65, 179, 7, 183, 24, 20, 304, 179, 1771, 684, 916, 379, 1772, 132, 58, 179, 26, 183, 36, 63, 10, 9, 22, 20, 48, 31, 127, 395, 545], [917, 189, 741, 84, 338, 14, 26, 24, 1773, 237, 325, 917, 189, 95, 918, 1774, 742, 1775, 26, 1146, 14, 838, 740, 76, 1776, 626, 168, 143, 95, 353, 305, 1212, 304, 339, 95, 133, 387, 45, 156, 4, 302, 3, 10, 45, 33, 95, 9, 453, 20, 33, 209, 247, 70], [331, 199, 350, 7, 1213, 1777, 33, 165, 6, 20, 220, 379, 318, 1778, 27, 4, 119, 454, 273, 318, 1779, 50, 627, 1096, 45, 156, 435, 414, 251, 18, 314, 289, 896, 33, 628, 425, 1780, 318, 174, 513, 153, 743, 30, 18, 36, 33, 9, 22, 6, 199, 350, 58, 18, 253, 600, 629, 65, 20, 109, 31, 127, 395, 545], [70, 718, 23, 56, 1781, 18, 368, 146, 90, 90, 203, 91, 1782, 23, 919, 131, 6, 18, 1783], [1784, 24, 12, 77, 453, 1785, 6, 350, 1786, 35, 1787, 20, 1108, 680, 27, 920, 76, 1788, 35, 28, 1789, 119, 1214, 630, 20, 41, 28, 244, 20, 691, 145, 28, 225, 1215, 79, 46, 3, 10, 39], [34, 1790, 250, 149, 77, 453, 233, 134, 8, 73, 1791, 24, 11, 1216, 1792, 284, 121, 364, 828, 4, 38, 516, 282, 137, 124, 30, 26, 921, 22], [11, 12, 52, 183, 65, 354, 219, 605, 353, 69, 206, 43, 17, 433, 183, 210, 602, 4, 54, 3, 348, 524, 9, 22, 13, 48, 31, 151, 188, 1793], [620, 744, 55, 744, 1794, 279, 1795, 396, 28, 86, 1796, 7, 7, 43, 84, 741, 135, 14, 78, 120, 130, 28, 198, 26, 1797, 922, 618, 444, 19, 5, 2, 16, 20, 3, 348, 145, 159, 9, 22, 45, 12, 48, 341, 32], [1, 80, 1217, 421, 455, 246, 1798, 433, 7, 455, 21, 4, 2, 923, 74, 455, 200, 19, 455, 923], [85, 631, 1218, 1219, 28, 43, 84, 49, 93, 44, 55, 6, 325, 631, 28, 1220, 93, 44, 9, 1221, 4, 2, 16, 6, 28, 336, 93, 63, 39, 10, 9, 22, 6, 109, 617, 168, 31, 32], [53, 70, 924, 101, 7, 24, 6, 334, 29, 101, 482, 38, 745, 131, 5, 82, 3, 319, 10], [183, 61, 632, 17, 112, 350, 18, 262, 237, 456, 67, 47, 925, 1222, 1223, 1799, 312, 226, 164, 1224, 237, 60, 1225, 79, 1224, 164, 1226, 829, 546, 139, 925, 1226, 211, 175, 5, 2, 262, 9, 22, 262, 746, 32, 4, 2], [14, 34, 72, 365, 240, 25, 1227, 6, 263, 320, 244, 1228, 447, 78, 16, 44, 497, 68, 1800, 1801, 5, 2, 155, 37, 447, 1802, 444, 19, 4, 2, 336, 280, 313, 447, 313, 1803, 117, 37], [1, 80, 198, 162, 1089, 205, 486, 423, 162, 313, 236, 160, 238, 589, 390, 131, 73, 4, 833], [45, 1804, 62, 70, 70, 926, 184, 248, 927, 19, 66, 154], [1805, 1054, 1806, 1807, 90, 1, 198, 442, 1808, 394, 42, 510, 928, 236, 42, 1809, 3, 152, 496, 175], [25, 1810, 6, 264, 710, 35, 855, 7, 1811, 308, 240, 17, 72, 365, 1812, 1813, 929, 215, 1229, 1814, 276, 515, 1815, 313, 14, 7, 14, 397, 930, 34, 43, 747, 313, 195, 196, 436, 21, 315, 19, 4, 2, 139, 3, 10], [1, 62, 166, 265, 457, 1230, 189, 121, 931, 194, 180, 5, 2], [45, 12, 576, 17, 1816, 27, 28, 448, 26, 222, 633, 41, 28, 273, 7, 1817, 932, 748, 28, 749, 327, 1231, 603, 121, 125, 147, 28, 41, 253, 120, 748, 28, 749, 813, 1818, 57, 487, 307, 893, 60, 5, 54, 28, 3, 28, 631, 1819, 749, 327, 750, 4, 151, 3, 10, 9, 22, 12, 109, 31, 151], [1820, 432, 77, 1821, 187, 24, 1822, 249, 12, 20, 538, 1209, 398, 69, 110, 72, 33, 188, 84, 43, 56, 531, 95, 11, 6, 933, 443, 228, 69, 110, 1823, 200, 4, 2, 12, 139, 110, 507, 3, 10, 4, 2, 9, 22, 88, 20, 48, 396, 32], [233, 217, 831, 299, 23, 129, 538, 1232, 1233, 20, 494, 1824, 458, 23, 69, 20, 1825, 458, 23, 49, 2, 201, 23, 538, 174, 513, 136, 23, 20, 2, 195, 751, 443, 228, 1234, 23, 1235, 45, 156, 5, 2, 3, 10], [1, 80, 752, 64, 124, 1236, 248, 634, 334, 236, 753, 160], [53, 355, 635, 8, 636, 164, 29, 1237, 11, 459, 254, 1826, 66, 158, 315, 908, 5, 2, 3, 319, 41], [7, 34, 72, 240, 25, 1827, 611, 324, 279, 69, 110, 88, 206, 244, 305, 182, 1828, 433, 88, 189, 900, 1829, 1080, 444, 19, 4, 2, 3, 10], [34, 72, 240, 25, 1830, 6, 266, 754, 934, 23, 1238, 286, 675, 155, 18, 356, 221, 23, 881, 5, 119, 98, 29, 517, 1218, 1219, 28, 99, 6, 5, 1831, 3, 10], [1239, 202, 399, 8, 92, 42, 637, 634, 935, 574, 21, 753, 160, 1240, 129, 187, 42, 637, 491, 755, 518], [1239, 202, 399, 8, 92, 42, 637, 634, 935, 574, 290, 753, 160, 1240, 129, 187, 637, 491, 755, 518, 42], [1, 1241, 98, 756, 61, 330, 582, 742, 936, 1832, 71, 4, 2], [1833, 145, 757, 105, 1834, 1242, 1243, 1835, 744, 1836, 1837, 281, 108, 190, 4, 258, 921, 613, 845, 10], [632, 183, 24, 240, 937, 1838, 11, 20, 895, 285, 938, 625, 7, 143, 43, 84, 49, 17, 433, 36, 1839, 130, 285, 938, 198, 26, 1244, 282, 132, 24, 1245, 1840, 264, 234, 3, 524, 4, 302], [1841, 13, 115, 51, 97, 1842, 22, 371, 1246, 62, 546, 65, 17, 1843, 1844, 1845, 1247, 638, 1846, 939, 160, 270, 1247, 638, 1, 60, 582, 32, 174, 428, 475, 1056, 11, 1248, 126, 758, 1847, 63, 287], [11, 44, 940, 172, 77, 1249, 68, 1848, 118, 72, 289, 1849, 364, 481, 72, 1850, 1250, 181, 178, 44, 941, 942, 65, 172, 9, 547, 44, 677, 314, 421, 639, 256, 107, 400, 739, 1168, 366, 181, 27, 65, 172, 155, 314, 91, 84, 30, 79, 181, 314, 93, 44, 9, 22, 1, 109, 31, 127, 395, 545], [1251, 632, 17, 1851, 460, 59, 212, 48, 154, 1852, 262, 213, 211, 401, 123, 303, 51, 320, 374, 22, 262, 48, 1091, 943, 632], [1, 1057, 1252, 1853, 1854, 24, 1855, 172, 1253, 115, 24, 640, 81, 30, 1254, 36, 33, 34, 376, 211, 1255, 284, 610, 308, 640, 528, 5, 123, 3, 401, 5, 123, 944, 1, 9, 22, 278, 279, 456, 641, 1256, 945, 263], [1856, 1857, 808, 574, 24, 946, 47, 74, 34, 43, 27, 221, 311, 415, 6, 487, 947, 74, 740, 139, 11, 525, 74, 103, 190, 45, 12, 5, 2, 161, 211, 5, 2, 1858, 105, 76, 139, 74, 3, 10, 9, 22, 6, 59, 89, 31, 32], [1, 53, 1257, 188, 23, 1258, 8, 127, 290, 116, 3, 1859, 159, 91, 128, 127, 1860], [65, 506, 7, 7, 42, 236, 1861, 402, 131, 5, 82, 1], [40, 13, 1862, 62, 451, 1259, 683, 451, 15, 461, 1260, 1863, 1864, 3, 30, 24, 161, 211, 1865, 105], [1866, 948, 1867, 24, 24, 1868, 249, 490, 24, 6, 213, 5, 505, 357, 1869, 6, 462, 1870, 217, 44, 21, 4, 119, 3, 10, 39, 9, 22, 759, 760, 759, 109, 31, 96, 31, 154, 127], [169, 739, 166, 17, 583, 1, 1871, 77, 158, 542, 949, 49, 11, 1261, 1872, 827, 500, 387, 1873, 132, 5, 75, 3, 526, 623, 61, 726, 8, 548, 1, 267, 298, 950, 1874, 51, 439], [34, 183, 378, 65, 289, 25, 951, 952, 20, 25, 1875, 59, 41, 1262, 1876, 578, 182, 500, 1877, 90, 1878, 244, 642, 281, 520, 145, 78, 1879, 147, 19, 4, 2, 3, 10], [260, 1880, 1263, 549, 96, 13, 1881, 136, 291, 259, 34, 14, 30, 1264, 375, 177, 535, 356, 1265, 1882], [1883, 1266, 593, 1884, 953, 1107, 125, 1267, 761, 954, 112, 550, 955, 593, 956, 3, 211, 175, 5, 2, 476, 445, 311, 1885, 104], [106, 35, 957, 958, 20, 140, 141, 1886, 7, 1231, 176, 64, 1268, 231, 403, 241, 108, 735, 827, 1887, 33, 5, 49, 11, 1888, 108, 735, 1889, 637, 73, 1890, 9, 872, 910, 1891, 959, 1892, 140, 141, 9, 122, 105, 130, 232, 142, 122, 46, 910, 643, 260, 369, 170, 157, 1269, 551, 37, 203, 404, 8], [355, 960, 8, 1270, 25, 7, 961, 35, 762, 962, 552, 309, 1271, 404, 8, 963, 1272, 358, 644, 340, 358, 220, 29, 1273, 73, 552, 485, 176, 64, 736, 11, 185, 102, 142, 645, 170, 157, 359, 17, 405, 17, 406, 270, 358, 64, 552, 20, 268, 1274, 271, 122, 424, 11, 118, 209, 15, 369, 168, 170, 157, 203, 404, 8], [355, 960, 8, 1270, 25, 7, 961, 35, 762, 962, 552, 309, 1271, 404, 8, 963, 1272, 358, 644, 340, 358, 220, 29, 1273, 73, 552, 485, 176, 64, 736, 11, 185, 102, 142, 645, 170, 157, 359, 17, 405, 17, 406, 270, 358, 64, 552, 20, 268, 1274, 271, 122, 424, 11, 118, 209, 15, 369, 168, 170, 157, 203, 404, 8], [459, 1893, 304, 167, 108, 130, 16, 290, 288, 1894, 4, 2, 1275, 617, 318, 111, 41], [441, 451, 86, 1895, 327, 86, 389, 111, 41, 288, 19, 5, 2], [40, 13, 62, 70, 1896, 14, 535, 171, 23, 599, 86, 1897, 84, 43, 537, 55, 13, 595, 116, 1898, 13, 21, 155, 5, 38, 235, 161, 211, 292, 235, 9, 114, 13, 31, 127, 154, 32], [7, 34, 72, 1068, 1899, 25, 1900, 1276, 609, 145, 354, 1901, 646, 279, 445, 193, 936, 397, 143, 1902, 936, 1903, 34, 397, 932, 1904, 1905, 55, 19, 4, 2], [169, 739, 152, 1906, 463, 1907, 140, 1908, 703, 316, 285, 540, 106, 34, 14, 927, 151, 1909, 622, 5, 54, 9, 22, 1, 56, 427, 1277, 8, 2, 724, 1, 393, 298, 272, 51, 439, 100, 166, 8, 442, 371, 17], [24, 191, 1910, 8, 179, 255, 1278, 9, 647, 547, 93, 255, 20, 1147, 1911, 1912, 242, 750, 290, 1913, 301, 275, 517, 730, 1914, 119, 17, 33, 26, 9, 22, 20, 109, 31, 18, 109, 1915, 9, 22, 301, 275, 464, 137, 1279, 647], [1, 17, 422, 1280, 1916, 461, 544, 5, 82, 370, 148, 36, 153, 763, 1917, 1918, 1919, 706, 447, 124, 104, 267, 13, 51, 320, 648], [9, 12, 113, 25, 951, 952, 1920, 1281, 1282, 2, 1921, 1283, 113, 1284, 204, 75, 25, 595, 915, 18, 131, 1264, 383, 1098, 35, 218, 764, 132, 113], [40, 1, 59, 761, 375, 177, 324, 6, 213, 401, 46, 70, 2, 56, 396, 32, 63, 319, 1922, 112, 159, 4, 594], [586, 1285, 1923, 243, 65, 172, 92, 186, 579, 96, 1924, 495, 1925, 70, 11, 52, 279, 96, 1926, 4, 82, 103, 50, 150, 26, 270, 54, 55, 23, 63, 287, 39, 17, 92, 26, 24, 9, 22, 293, 639, 31, 18], [34, 7, 6, 1927, 30, 47, 58, 407, 64, 205, 1286, 160, 869, 649, 461, 1928, 526, 476, 4, 964, 26, 2, 6, 672, 107, 205, 1286, 160, 869, 649, 338, 220, 842, 1075, 1929], [360, 1287, 92, 965, 184, 966, 465, 1288, 463, 252, 1289, 1290, 35, 762, 765, 967, 77, 7, 1291, 766, 72, 85, 16, 184, 57, 130, 67, 1292, 252, 642, 144, 1293, 157, 136, 209, 201, 408, 1294, 466, 122, 968, 33, 1295, 905, 15, 767, 726, 645, 144, 1296, 268, 1297, 271, 122, 1298, 766, 2, 369, 168, 170, 157, 203, 404, 8], [360, 1287, 92, 965, 184, 966, 465, 1288, 463, 252, 1289, 1290, 35, 762, 765, 967, 77, 7, 1291, 766, 72, 85, 16, 184, 57, 130, 67, 1292, 252, 642, 144, 1293, 157, 136, 209, 201, 408, 1294, 466, 122, 968, 33, 1295, 905, 15, 767, 726, 645, 144, 1296, 268, 1297, 271, 122, 1298, 766, 2, 369, 168, 170, 157, 203, 404, 8], [1, 80, 584, 1930, 138, 949, 281, 18, 1299, 98, 47, 133, 390, 82, 3, 10, 4, 82], [885, 1931, 1300, 956, 406, 45, 156, 237, 697, 1300, 956, 31, 969, 1932, 749, 578, 33, 165, 17, 11, 1933, 885, 29, 553, 14, 7, 14, 7, 14, 43, 73, 36, 33, 30, 26, 351, 45, 1934, 650, 66, 16, 294, 294, 14, 43, 103, 66, 29, 128, 4, 82, 295, 9, 22, 6, 48, 31, 151, 464, 297], [8, 1301, 234, 1935, 1936, 101, 478, 379, 807, 534, 11, 1937, 20, 274, 554, 1301, 368, 234, 37, 234, 101, 43, 1938, 101, 30, 50, 913, 1302, 20, 711, 50, 685, 1939, 187, 16, 38, 466, 21, 101, 30, 10, 39, 758, 9, 22, 1302, 20, 711, 36, 26, 17, 48, 1940, 31, 18, 768, 128, 30], [1303, 241, 1941, 523, 399, 355, 57, 409, 269, 138, 252, 409, 970, 971, 407, 64, 972, 15, 257, 769, 83, 651, 57, 674, 269, 1304, 973, 1942, 33, 83, 409, 286, 334, 731, 102, 652, 46, 142, 408, 974, 71, 83, 85, 209, 49, 459, 109, 975, 976, 596, 109, 32, 386, 340, 358, 15, 170, 157], [467, 241, 1305, 523, 169, 399, 355, 57, 409, 269, 138, 252, 409, 970, 971, 407, 64, 972, 15, 257, 769, 83, 651, 57, 674, 269, 653, 973, 1306, 33, 83, 409, 286, 334, 55, 102, 652, 46, 408, 974, 71, 83, 85, 209, 49, 459, 109, 975, 976, 596, 109, 32, 386, 340, 358, 15, 170, 157], [31, 1943, 118, 169, 202, 8, 533, 169, 1944, 537, 55, 35, 247, 1945, 252, 57, 1172, 31, 770, 83, 290, 122, 1946, 142, 408, 203, 83, 59, 771, 1947, 55, 35, 1948, 49, 459, 109, 1307, 154, 170, 157], [241, 467, 523, 169, 399, 355, 57, 409, 269, 138, 252, 409, 970, 971, 407, 64, 972, 15, 257, 769, 83, 651, 57, 674, 269, 1305, 973, 1306, 33, 83, 464, 467, 1308, 334, 55, 102, 292, 142, 408, 974, 71, 83, 85, 209, 49, 459, 109, 975, 976, 596, 109, 32, 386, 340, 358, 15, 170, 157], [547, 169, 247, 125, 355, 635, 467, 321, 464, 958, 1309, 1310, 1311, 468, 9, 555, 415, 1312, 122, 55, 46, 16, 142, 170, 157, 8, 772, 405, 114], [85, 169, 125, 355, 635, 958, 1309, 464, 467, 321, 1310, 1311, 468, 11, 555, 1312, 122, 261, 19, 5, 2, 170, 157, 8, 772, 405, 114], [34, 14, 6, 977, 6, 489, 1949, 978, 6, 1177, 771, 773, 38, 1950, 978, 1285, 1951, 257, 197, 703, 1952, 1304, 1953, 819, 774, 978, 619, 313, 829, 1954, 775, 305, 1313, 417, 402, 372, 131, 415, 1, 67, 248, 138, 18], [6, 199, 520, 18, 556, 24, 1955, 91, 550, 979, 65, 172, 1956, 422, 414, 197, 58, 18, 462, 1957, 204, 311, 1958, 979, 1314, 52, 454, 629, 260, 1315, 311, 11, 1316, 714, 336, 75, 137, 329, 3, 69, 75, 136, 1959, 63, 4, 2, 1960, 27, 1961, 116, 63, 287, 39, 9, 22, 422, 609, 197, 58, 52, 106, 24, 1317, 146, 1315, 311, 146, 1962], [378, 113, 420, 629, 65, 676, 27, 557, 654, 1220, 285, 101, 118, 1963, 1318, 86, 187, 557, 40, 1319, 1964, 980, 357, 1965, 225, 5, 776, 1966, 529, 551, 5, 385, 12, 357, 1320, 1967, 146, 34, 9, 114, 1968, 1321, 147, 16, 1320, 1322, 41, 49, 1323, 100, 357, 117, 37, 133, 357, 4, 729, 193, 1969, 1324, 1318, 15, 251, 49, 114, 551, 52, 187, 578, 12, 15, 44, 556, 1970, 271, 1971, 154], [24, 64, 1972, 980, 251, 9, 1973, 1974, 6, 1975, 531, 95, 67, 47, 239, 201, 195, 47, 436, 7, 7, 43, 84, 2, 469, 436, 684, 331, 5, 2, 138, 139, 436, 3, 1976, 398, 19, 436, 74, 201, 36, 1325, 9, 22, 1, 853, 777, 32, 768, 1977, 10], [624, 329, 136, 1326, 1, 118, 222, 1978, 137, 430, 395], [256, 383, 78, 324, 11, 378, 113, 27, 422, 76, 1105, 558, 614, 226, 329, 47, 116, 143, 367, 84, 43, 1979, 840, 450, 633, 78, 79, 477, 4, 2, 422, 113, 3, 10, 1, 9, 22, 48, 427, 825, 341, 32], [40, 6, 778, 420, 1980, 18, 774, 245, 307, 5, 2, 1327, 49, 351, 245, 1325, 774, 1070, 37, 12, 349, 19, 12, 9, 22, 59, 89, 341, 31, 32], [243, 17, 1328, 42, 779, 7, 1981, 443, 1329, 779, 1982, 95, 598, 284, 21, 682, 1328, 42, 1983, 655, 15, 398, 558, 19, 262, 5, 2, 3, 10, 9, 22, 18, 600, 1, 48, 341, 32], [64, 24, 425, 8, 204, 470, 23, 143, 680, 273, 36, 1984, 26, 250, 204, 470, 22, 207, 461, 1985, 5, 2, 117, 120, 266, 605, 251, 17, 63, 10, 9, 22, 1, 48, 396, 32], [25, 1986, 27, 130, 52, 274, 49, 26, 47, 37, 834, 505, 1330, 678, 11, 37, 85, 37, 136, 63, 292, 349, 19, 4, 2], [24, 745, 53, 423, 577, 265, 12, 1331, 41, 1987, 28, 1332, 729, 218, 1333, 419, 397, 893, 145, 398, 225, 1988, 354, 28, 166, 46, 1989, 1990, 10, 39, 8, 12, 48, 31, 154], [40, 1991, 199, 350, 108, 35, 124, 208, 153, 103, 530, 36, 30, 1071, 26, 9, 22, 156, 776, 89, 127, 29, 86, 1334, 259], [11, 873, 44, 68, 7, 203, 410, 780, 228, 867, 1335, 33, 627, 223, 781, 1336, 1337, 83, 222, 181, 218, 1338, 38, 5, 293, 77, 478, 372, 1339, 17, 23, 99, 55, 13, 3, 10, 39, 9, 22, 44, 547, 14, 7, 944, 1340, 1341, 286, 33, 8, 31, 782, 835, 38, 286, 1, 48, 981, 608], [11, 873, 44, 68, 7, 203, 410, 780, 228, 867, 1335, 33, 627, 223, 781, 1336, 1337, 83, 222, 181, 218, 1338, 38, 5, 293, 77, 478, 372, 1339, 17, 23, 99, 55, 13, 3, 10, 39, 9, 22, 44, 547, 14, 7, 944, 1340, 1341, 286, 33, 8, 31, 782, 835, 38, 286, 1, 48, 981, 608], [7, 135, 212, 6, 1992, 176, 874, 511, 1993, 1994, 746, 94, 135, 60, 11, 440, 94, 21, 2], [559, 88, 463, 76, 1995, 59, 77, 1996, 381, 1997, 703, 1998, 140, 141, 11, 217, 1999, 86, 171, 757, 81, 137, 483, 485, 31, 182, 542, 539, 2000, 110, 53, 182, 186, 137, 198, 4, 2, 90, 742, 204, 68, 577, 458, 116, 1153, 137, 182, 595, 2, 50, 204, 68, 3, 10, 261, 19, 2, 287, 111, 41, 288, 908, 817, 2001, 57, 351, 41], [6, 2002, 470, 243, 60, 26, 150, 7, 14, 456, 155, 26, 279, 351, 81, 313, 101, 2003, 55, 113, 471, 489, 96, 345, 656, 783, 6, 2004, 265, 52, 2005, 657, 174, 513, 26, 16, 30, 2006, 99, 54, 4, 923, 14, 26, 150, 161, 10], [22, 498, 9, 1, 207, 77, 2007, 92, 480, 330, 216, 145, 216, 2008, 1342, 1061, 44, 2009, 481, 458, 1133, 216, 2010, 1081, 879, 982, 1343, 852, 86, 210, 387, 782, 2011, 782, 210, 45, 2012, 2013, 82, 180, 336, 193, 913, 983, 51, 434, 369, 526], [24, 457, 179, 183, 262, 237, 941, 219, 87, 1113, 87, 377, 979, 1344, 207, 856, 435, 340, 87, 183, 933, 1345, 75, 168, 2014, 43, 84, 136, 190, 1346, 50, 388, 255, 11, 469, 2015, 84, 336, 5, 2, 215, 126, 29, 161, 10, 39, 9, 22, 12, 109, 31, 32, 777], [624, 403, 2016, 318, 1, 2017, 126, 1347, 160, 112, 852, 108, 364, 4, 258, 3, 152, 496, 175], [24, 745, 242, 8, 350, 18, 6, 462, 88, 107, 206, 27, 5, 119, 54, 535, 69, 61, 69, 110, 305, 270, 1348, 67, 88, 189, 784, 6, 20, 454, 125, 55, 743, 1349, 658, 724, 1348, 784, 174, 2018, 315, 658, 20, 528, 785, 317, 388, 206, 690, 94, 854, 784, 1350, 146, 11, 6, 714, 1349, 337, 137, 784, 21, 477, 295, 4, 2, 63, 39, 10, 12, 109, 31, 32, 9, 22, 61, 785, 317, 126, 4, 2, 1351, 2019, 2020, 12, 9, 22, 253, 251, 722, 28, 301, 275], [212, 13, 2021, 262, 121, 941, 2022, 57, 2023, 7, 2024, 148, 30, 24, 79, 46, 2, 104, 303, 51, 320, 374], [1, 80, 2025, 2026, 48, 2027, 277, 81, 493, 238, 2028, 387, 46], [2029, 1352, 1330, 1073, 2030, 650, 87, 904, 408, 13, 87, 2031, 178, 9, 1299, 505, 87, 522, 14, 212], [1353, 145, 8, 2032, 2033, 984, 897, 985, 90, 138, 1353, 1120, 3, 10], [9, 502, 6, 420, 60, 1354, 283, 2034, 394, 23, 42, 682, 7, 1261, 309, 1241, 311, 171, 283, 512, 402, 215, 146, 128, 46, 476, 4, 2, 63, 287, 39, 9, 22, 849, 502, 42, 7, 600, 65, 17, 502, 6, 48, 31, 154], [24, 64, 15, 6, 199, 35, 274, 1355, 147, 28, 400, 27, 17, 6, 325, 27, 28, 2035, 367, 2036, 38, 18, 11, 251, 17, 29, 2037, 34, 43, 30, 27, 28, 103, 50, 5, 38, 2038, 1170, 28, 469, 6, 1115, 26, 58, 337, 287, 39, 29, 132, 1356, 128, 6, 2039, 78, 6, 136, 209, 15, 657, 986, 722, 20], [1, 80, 391, 1357, 1358, 73, 134, 8, 2040, 2041, 17, 58, 29, 66, 251, 745, 982, 131, 46, 3, 287], [486, 64, 124, 601, 233, 44, 1, 5, 2, 180, 27, 1103, 370, 319, 10], [1, 207, 77, 115, 80, 145, 2042, 45, 509, 1210, 4, 2, 987], [2043, 35, 233, 8, 410, 2044, 2045, 957, 219, 113, 962, 9, 219, 113, 208, 129, 209, 35, 560, 2046, 4, 38, 46, 170, 2047, 35, 359, 17, 2048, 583, 1, 1319, 51, 439, 1359, 100, 400, 8, 442, 371], [9, 12, 70, 625, 206, 1360, 28, 876, 171, 934, 23, 461, 2049, 67, 69, 376, 988, 162, 146, 100, 2050, 2051, 66, 29, 67, 206, 99, 12, 424, 3, 41], [171, 742, 2052, 68, 2053, 506, 343, 42, 4, 2, 1, 32, 158, 108, 126, 145, 37, 332], [508, 989, 2054, 1361, 2055, 343, 990, 2056, 881, 389, 3, 188, 177, 2057, 497, 738, 4, 2, 1], [270, 77, 1, 1362, 387, 767, 124, 1363, 210, 153, 3, 786, 446, 150, 2058], [191, 940, 17, 255, 1278, 1135, 2059, 219, 87, 191, 20, 253, 58, 93, 255, 49, 285, 332, 1102, 182, 466, 30, 732, 591, 9, 66, 29, 294, 14, 7, 14, 43, 631, 265, 21, 623, 912, 558, 19, 4, 2, 20, 9, 22, 109, 31, 32, 777, 168, 93, 255, 9, 22, 961, 1323], [40, 88, 20, 420, 2060, 458, 116, 1364, 45, 156, 2061, 458, 116, 105, 991, 421, 50, 165, 2062, 2063, 400, 587, 11, 32, 4, 2, 353, 1142, 57, 595, 4, 2, 120, 201, 1364, 932, 10, 9, 22, 45, 1, 48, 396, 32, 17, 15, 333, 2064], [1, 25, 494, 59, 176, 1256, 818, 11, 498, 236, 372, 86, 1365, 22], [2065, 249, 419, 107, 448, 2066, 729, 28, 6, 438, 17, 73, 166, 71, 35, 1366, 20, 9, 66, 29, 84, 43, 2067, 610, 15, 300, 128, 75, 35, 131, 810, 13, 3, 10, 16, 776, 59, 89, 411, 9, 453, 20, 71, 35, 274, 27, 28], [24, 64, 6, 199, 62, 27, 284, 9, 98, 29, 294, 294, 14, 7, 449, 692, 27, 28, 36, 33, 50, 58, 35, 1066, 561, 16, 364, 5, 123, 3, 10], [24, 64, 6, 199, 92, 27, 5, 119, 58, 715, 49, 301, 275, 69, 992, 78, 2068, 76, 11, 692, 27, 28, 30, 284, 98, 29, 294, 294, 14, 115, 530, 36, 99, 993, 163, 13, 3, 287, 39, 9, 22, 284, 254, 13, 48, 31, 154, 32], [1, 53, 145, 8, 1257, 188, 23, 994, 2069, 642, 189, 91, 2070, 84, 2071, 116, 118, 1205, 61, 133, 1367, 200, 310], [2072, 386, 60, 2073, 2074, 926, 1228, 275, 68, 16, 389, 389, 120, 3, 10, 995, 2075, 5, 2], [9, 13, 53, 472, 2076, 263, 1355, 322, 586, 345, 98, 27, 28, 253, 192, 166, 96, 650, 658, 60, 28, 96, 137, 56, 47, 2077, 27, 28, 1099, 85, 190, 443, 166, 96, 79, 13, 2, 47, 74, 3, 544, 4, 2, 9, 22, 1, 48, 341, 32], [2078, 787, 178, 1213, 534, 295, 760, 12, 454, 400, 17, 178, 2079, 45, 156, 846, 232, 760, 12, 33, 1161, 134, 534, 585, 1368, 152, 45, 156, 694, 266, 6, 178, 1282, 18, 257, 295, 449, 232, 207, 499, 119, 121, 466, 685, 81, 307, 315, 153, 1211, 45, 156, 153, 996, 30, 26, 3, 10], [1, 80, 233, 8, 15, 2080, 60, 2081, 126, 86, 997, 318, 111, 152, 496, 175, 5, 258], [212, 832, 495, 394, 207, 60, 394, 90, 352, 493, 2082, 238, 4, 123, 104, 267, 51, 320], [559, 15, 70, 8, 56, 2083, 1, 21, 989, 47, 74, 15, 328, 364, 2084, 4], [13, 70, 926, 1174, 2085, 15, 11, 470, 44, 998, 360, 1326, 50, 278, 2086, 2087, 2088, 12, 1233, 171, 278, 456, 323, 561, 340, 4, 123, 3, 401, 267, 51, 97, 999, 434], [459, 145, 1369, 2089, 490, 201, 126, 281, 2090, 642, 41, 32, 111, 159, 5, 2], [24, 655, 243, 13, 2091, 17, 264, 81, 2092, 1370, 11, 2093, 541, 899, 130, 7, 397, 322, 213, 525, 164, 571, 285, 431, 2094, 821, 164, 105, 21, 431, 2095, 541, 63, 10, 9, 22, 1, 89, 31, 32], [289, 788, 248, 1, 228, 13, 62, 1313, 2096, 583, 56, 2097, 987, 215, 126, 623, 37, 147, 19, 4, 2, 3, 10, 39, 22, 1, 89, 2098, 36, 32, 168, 17], [65, 17, 718, 42, 246, 836, 415, 52, 53, 221, 217, 911, 78, 42, 659, 244, 42, 2099, 2100, 768, 638, 17, 15, 247, 196, 42, 49, 2101, 2102, 155, 37, 9, 100, 218, 352, 79, 349, 19, 45, 156, 5, 2, 2103, 90], [273, 832, 495, 12, 462, 789, 221, 954, 845, 2104, 56, 241, 882, 1371, 890, 9, 890, 100, 789, 21, 71, 5, 2, 3, 10, 12, 1372, 51, 303, 592, 983, 374], [438, 1132, 15, 787, 6, 158, 2105, 2106, 210], [1373, 620, 1374, 254, 1000, 15, 388, 2107, 248, 1, 560, 144], [1, 80, 53, 65, 8, 42, 937, 338, 304, 1138, 290, 98, 2108, 158, 2, 131, 155, 37, 4, 82, 3, 10], [121, 196, 23, 730, 23, 625, 143, 499, 27, 28, 250, 149, 20, 325, 23, 196, 23, 100, 21, 1093, 37, 594, 1375, 12, 5, 63, 39, 10], [410, 2109, 2110, 1373, 2111, 2112, 2113, 77, 1149, 1001, 37, 2114, 710, 2115, 2116, 601, 2117, 2118, 114, 361, 86, 601, 121, 1268, 2119, 111, 1001, 73, 351, 1001, 2120, 2121, 71, 79, 155, 693], [1, 171, 545, 1376, 277, 133, 390, 131, 155, 235, 1377, 660, 545, 997, 1378, 1379, 111, 152, 496, 175], [145, 468, 195, 102, 56, 2122, 20, 290, 2123, 1380, 2124, 1381, 165, 562, 133, 46, 241, 3, 41, 117, 235], [1382, 34, 14, 65, 7, 1230, 189, 377, 661, 59, 789, 70, 2125, 1183, 377, 1383, 78, 293, 48, 590, 1002, 335, 78, 377, 12, 49, 4, 2, 138, 105, 590, 2126, 40, 1384, 854, 2127, 37, 310, 4, 2, 104, 13, 501, 297, 346, 51, 2128], [1, 80, 1385, 2129, 1386, 543, 491, 755, 518, 634, 15, 38, 607, 290, 236, 589, 162, 891, 46, 5, 258], [13, 291, 70, 520, 166, 333, 1386, 2130, 158, 1003, 120, 333, 79, 5, 38, 71, 47, 74, 323, 2131, 201, 3, 211, 822, 1, 267, 473, 298, 1359, 100, 8], [1, 53, 65, 2132, 826, 81, 236, 498, 46, 658, 60, 427, 45, 156, 126, 997, 32, 5, 123, 3, 418], [2133, 113, 2134, 59, 514, 470, 779, 345, 514, 773, 1275, 761, 90, 779, 2135, 773, 17, 691, 115, 1387, 183, 60, 32, 754, 2, 551, 126, 372, 289, 115, 51, 97, 648], [65, 64, 11, 20, 49, 2136, 301, 275, 2137, 615, 814, 166, 633, 78, 79, 13, 2, 3, 39, 10, 9, 22, 35, 610, 15, 75, 324, 36, 26, 1, 109, 396, 32], [1, 274, 824, 56, 2138, 168, 1388, 2139, 67, 146, 2140, 37, 177, 1389, 131, 2, 3, 613, 41], [40, 6, 350, 7, 272, 124, 36, 581, 58, 26, 24, 148, 282, 79, 71, 1327, 6, 245, 9, 114, 45, 156, 48, 608], [113, 6, 532, 50, 534, 221, 277, 662, 246, 273, 746, 638, 139, 2141, 1283, 2142, 120, 2143, 616, 4, 38, 2144, 648, 51, 97, 473, 984, 450, 17, 15], [7, 1382, 12, 2145, 92, 1004, 70, 1000, 160, 1390, 205, 438, 2146, 127, 943, 11, 90, 23, 100, 894, 146, 615, 81, 162, 99, 235], [34, 1005, 2147, 2148, 53, 23, 2149, 240, 240, 72, 11, 1005, 276, 162, 23, 1391, 700, 23, 128, 12, 31, 193], [34, 52, 171, 208, 76, 2150, 42, 2151, 757, 2152, 15, 52, 253, 922, 2153, 82, 462, 2154, 339, 2, 11, 213, 214, 2155, 5, 833, 52, 346, 226, 1006, 51, 373], [34, 65, 183, 412, 412, 655, 40, 55, 378, 113, 198, 582, 68, 43, 382, 948, 205, 11, 1217, 76, 582, 68, 148, 2, 16, 132, 1356, 815, 4, 54, 3, 10, 39], [7, 72, 240, 382, 6, 451, 382, 90, 81, 146, 636, 256, 2156, 5, 38, 4, 237, 325, 90, 148, 213, 4, 54, 725], [233, 899, 330, 246, 1062, 277, 56, 497, 136, 1, 790, 155, 488, 277, 222, 137, 469, 488, 59, 2157, 850, 310, 5, 2, 3, 2158], [508, 194, 403, 1, 108, 440, 19, 239, 41, 403], [585, 24, 627, 286, 64, 465, 249, 13, 2159, 116, 397, 143, 119, 2160, 242, 23, 558, 153, 858, 844, 124, 34, 33, 26, 57, 130, 1181, 57, 119, 741, 221, 116, 325, 12, 3, 862, 282, 30, 36, 33, 39, 10, 1365], [381, 1072, 2161, 291, 212, 2162, 20, 1392, 140, 141, 53, 217, 612, 110, 924, 110, 452, 964, 2163, 108, 1007, 452, 450, 390, 362, 2, 158, 344, 19, 110, 362, 864, 1329, 203, 100, 104, 344, 19, 1265, 21, 383, 110, 362, 921, 41, 241, 393, 298, 1008, 159, 2164, 57, 100, 1393, 8], [791, 707, 40, 2165, 275, 49, 70, 86, 285, 322, 198, 763, 74, 277, 322, 41, 1394, 22, 295, 957, 207, 639, 146, 56, 164, 242, 5, 2, 192, 146, 198, 322, 1395, 38, 277, 2166, 176, 785, 317, 234, 9, 2167, 21, 2168, 30, 3, 234, 277, 166, 633, 78, 200, 327, 344, 19, 5, 2, 785, 317, 3, 22], [15, 18, 202, 293, 2169, 1396, 121, 60, 204, 164, 31, 488, 2170, 378, 1397, 500, 5, 2, 663, 168, 590, 18, 52, 21, 590, 1002, 396, 2171, 60, 31, 57, 16, 292, 30, 120, 663, 168, 664, 3, 148, 738, 558, 19, 1387, 52, 5, 2, 63, 39, 10, 9, 22, 1397, 52, 639, 32, 168, 777], [135, 299, 25, 1398, 849, 1399, 6, 1163, 2172, 511, 223, 227, 322, 195, 727, 351, 223, 11, 6, 25, 1100, 117, 58, 1366, 6, 197, 248, 347, 322, 11, 347, 376, 360, 561, 7, 7, 14, 99, 283, 223, 417, 50, 36, 278, 1400, 25, 1398], [1, 70, 138, 15, 1321, 426, 21, 640, 753, 160, 117, 235], [1, 837, 27, 223, 1216, 1003, 192, 200, 335, 1003, 2173, 47, 74, 118, 328, 285, 27, 132, 430, 1, 46, 3, 41, 5, 2174], [586, 6, 92, 186, 2175, 2176, 757, 171, 301, 275, 27, 335, 293, 27, 4, 2, 74, 445, 132, 11, 130, 301, 275, 215, 537, 265, 21, 623, 912, 398, 19, 4, 2, 63, 39, 10], [40, 20, 263, 2177, 792, 90, 2178, 1371, 143, 479, 2179, 1333, 2180, 331, 534, 27, 2181, 208, 886, 11, 407, 101, 29, 294, 294, 14, 43, 251, 17, 36, 33, 132, 21, 793, 4, 82, 13, 3, 39, 10], [67, 263, 1092, 88, 563, 69, 11, 197, 116, 1401, 2182, 483, 177, 305, 352, 2183, 2184, 840, 99, 4, 2, 88, 20, 3, 39, 10, 9, 22, 88, 20, 58, 192, 56, 2185, 168, 31, 32], [1, 606, 491, 755, 518, 56, 162, 1342, 90, 1402, 23, 761, 2186, 2187, 988, 162, 390, 5, 385, 3, 128, 361], [8, 134, 708, 73, 24, 1403, 30, 29, 66, 131, 5, 75, 2188, 3, 41, 613], [40, 378, 113, 17, 1006, 715, 947, 2189, 1404, 112, 58, 716, 26, 55, 992, 13, 454, 469, 16, 38, 9, 16, 120, 1404, 618, 315, 19, 4, 2, 431, 716, 5, 38, 3, 159, 315, 19, 4, 2, 9, 22, 1, 48, 981, 32], [191, 134, 152, 179, 406, 1059, 87, 1405, 288, 87, 306, 66, 29, 1346, 129, 84, 87, 512, 918, 342, 71, 591, 219, 87, 295, 125, 89, 47, 116, 367, 33, 143, 217, 2190, 219, 87, 11, 525, 116, 516, 2191, 618, 295, 2, 938, 219, 87, 13, 9, 114, 50, 89, 341, 32], [9, 898, 18, 6, 769, 18, 438, 5, 73, 2192, 2193, 778, 78, 383, 78, 4, 82, 103, 3, 898, 18, 6, 30, 36, 14], [1406, 380, 24, 2194, 538, 20, 253, 627, 1253, 193, 105, 479, 629, 29, 2195, 165, 380, 9, 1214, 1407, 1094, 29, 165, 501, 20, 1009, 132, 29, 7, 7, 193, 105, 2196, 16, 66, 30, 182, 793, 536, 6, 5, 2, 63, 39, 10], [8, 419, 332, 2197, 1010, 2198, 489, 16, 68, 1408, 121, 639, 68, 954, 78, 68, 75, 180, 71, 5, 2, 74, 362], [1317, 402, 656, 656, 2199, 659, 901, 489, 6, 1011, 220, 330, 7, 42, 222, 1267, 257, 440, 2200, 347, 42, 770, 347, 237, 60, 193, 2201, 676, 42, 579, 322, 4, 2, 437, 173, 676, 579, 96], [25, 2202, 406, 256, 969, 750, 426, 96, 13, 118, 38, 96, 60, 630, 449, 1409, 174, 770, 1410, 11, 13, 2203, 982, 2204, 84, 135, 43, 457, 58, 227, 416, 36, 33, 317, 1207, 258, 1411, 79, 4, 54, 36, 815], [2205, 706, 1412, 2206, 372, 269, 131, 46, 1], [34, 25, 2207, 1011, 7, 2208, 224, 1171, 1242, 515, 457, 1413, 224, 11, 1413, 515, 581, 794, 103, 99, 5, 82], [299, 194, 115, 1131, 2209, 167, 300, 725, 194, 78, 6, 20, 276, 194, 105, 78, 2210, 11, 300, 167, 2211, 146, 194, 79, 477, 4, 2, 6, 105, 619, 8, 548, 13, 267, 51, 373, 105, 193], [12, 7, 2212, 45, 494, 2213, 247, 1414, 297, 2214, 7, 628, 661, 8, 1012, 367, 530, 84, 43, 74, 72, 96, 1013, 13, 276, 1012, 1011, 425, 57, 270, 16, 61, 106, 581, 1014, 2215, 530, 36, 14, 233, 2216, 17, 45, 156, 276, 61, 37, 26, 218, 78, 661, 11, 61, 30, 63, 1221, 19, 4, 2, 293, 393, 51, 97, 297], [163, 2217, 1415, 2218, 750, 2219, 1, 7, 1352, 309, 2220, 62, 231, 184, 8, 169, 537, 241, 321, 140, 141, 2221, 2222, 291, 1416, 665, 32, 994, 354, 336, 133, 764, 3, 211, 723, 4, 476, 35, 523, 410, 2223, 1, 267, 298, 2224, 573, 2225, 526, 2226, 2227, 473, 214, 2228, 2229, 51, 374, 1, 628, 8, 405], [6, 612, 124, 2230, 153, 30, 26, 883, 2231, 153, 132, 71, 79, 105, 12, 48, 395, 545, 127, 31, 2232, 768, 10, 292, 648, 51, 97, 473, 984, 267, 592, 374], [135, 25, 2233, 59, 28, 198, 379, 953, 124, 121, 354, 697, 225, 2234, 91, 2235, 239, 132, 315, 153, 2236, 616, 292, 5, 229, 159, 476, 5, 2, 413, 346, 373, 555, 107, 484], [1, 80, 391, 1357, 1358, 73, 134, 8, 53, 2237, 564, 89, 482, 112, 29, 66, 1254, 131, 4, 258], [24, 788, 248, 13, 691, 451, 1259, 1417, 277, 2238, 14, 7, 14, 7, 14, 479, 247, 2239, 310, 5, 2, 1014, 844, 2240, 63, 287, 1, 9, 22, 31, 32], [1010, 492, 377, 682, 1, 48, 1418, 21, 23, 649, 8, 164, 21, 2241, 351, 328, 2, 239, 133, 387, 4, 2, 310, 242, 98], [262, 406, 632, 17, 2242, 719, 2243, 2244, 50, 2245, 44, 152, 57, 262, 316, 66, 29, 14, 7, 14, 7, 14, 135, 337, 54, 2246, 337, 10, 12], [8, 227, 191, 93, 255, 6, 179, 1015, 18, 93, 1016, 107, 87, 11, 702, 196, 265, 323, 363, 225, 1017, 306, 29, 66, 172, 190, 363, 392, 323], [8, 227, 191, 93, 255, 6, 179, 1015, 18, 93, 1016, 107, 87, 11, 702, 196, 265, 323, 363, 225, 1017, 306, 29, 66, 172, 190, 363, 392, 323], [8, 227, 191, 93, 255, 6, 179, 1015, 18, 93, 1016, 107, 87, 11, 702, 196, 265, 323, 363, 225, 1017, 306, 29, 66, 172, 190, 363, 392, 323], [9, 731, 52, 62, 186, 338, 549, 563, 621, 56, 95, 2247, 9, 152, 262, 2248, 95, 43, 84, 304, 182, 2249, 254, 2250, 251, 17, 389, 1212, 3, 30, 95, 79, 127, 262, 52, 3, 993, 1119, 2251, 48, 8, 147, 445, 813, 549, 132], [9, 731, 1, 1162, 47, 167, 25, 43, 50, 26, 36, 14, 661, 20, 2252, 60, 2, 1018, 261, 19, 317, 542, 2253, 3, 544, 261, 19, 13, 9, 114, 89, 217, 32], [508, 47, 719, 27, 1419, 67, 333, 76, 182, 507, 1402, 1, 611, 841, 339, 2254, 598, 76, 108, 571, 104, 200, 261, 19, 1, 5, 2, 27], [212, 11, 25, 2255, 557, 6, 2256, 614, 505, 357, 5, 38, 83, 56, 588, 598, 116, 666, 1350, 2257, 339, 2258, 25, 1232, 254, 71, 461, 544, 477, 5, 2, 666, 207, 148, 2], [471, 1378, 1379, 2259, 1370, 49, 90, 125, 394, 649, 935, 2260, 430, 1, 5, 4, 1019], [8, 468, 621, 384, 384, 2261, 1, 79, 1418, 110, 425, 1420, 21, 5, 82, 3, 211, 822], [53, 571, 917, 18, 164, 1421, 1, 487, 60, 2262, 27, 1002, 335, 11, 928, 292, 1012, 76, 712, 1384, 100, 1136, 99, 155, 4, 693, 3, 47, 2263, 13, 345, 104], [1, 80, 62, 8, 15, 1084, 7, 1314, 65, 21, 662, 816, 3, 418, 123, 163], [2264, 717, 878, 795, 90, 368, 146, 42, 1422, 59, 456, 2265, 2266, 224, 7, 233, 554, 878, 218, 1422, 347, 347, 260, 11, 90, 215, 795, 21, 25, 1423, 242, 795], [1, 80, 450, 789, 362, 1424, 667, 38, 362, 328, 1345, 21, 5, 302, 3, 524], [641, 65, 350, 18, 13, 746, 2267, 164, 911, 60, 1262, 182, 792, 88, 189, 11, 21, 38, 182, 207, 21, 74, 326, 2268, 1279, 164, 3, 738, 4, 2], [572, 657, 756, 15, 1362, 210, 442, 2269, 248, 7], [40, 6, 62, 221, 397, 1354, 23, 437, 74, 794, 44, 244, 469, 23, 5, 2, 166, 633, 78, 79, 349, 19, 1, 3, 524], [53, 137, 94, 125, 248, 49, 2270, 25, 2271, 469, 94, 2, 796, 11, 437, 349, 19, 4, 2, 94, 522], [1, 80, 62, 1425, 8, 21, 123, 163, 662, 356, 491, 2272, 3, 418], [61, 2273, 2274, 86, 2275, 2276, 553, 2277, 2278, 335, 474, 17, 15, 580, 11, 542, 86, 165, 621, 2279, 36, 925, 417, 66, 294, 294, 14, 115, 536, 5, 2280, 3, 10, 9, 114, 15, 2281, 13, 411, 999, 8], [24, 1303, 289, 250, 263, 2282, 1421, 81, 866, 397, 143, 47, 1116, 125, 41, 383, 432, 322, 14, 1426, 7, 14, 625, 222, 56, 887, 207, 1427, 980, 145, 339, 120, 887, 125, 126, 444, 19, 4, 2, 3, 319, 41, 9, 114, 12, 109, 2283, 32], [25, 1428, 2284, 1429, 2285, 604, 56, 47, 2286, 743, 1429, 519, 277, 11, 493, 2287, 919, 99, 46, 63, 289, 175, 12, 109, 46, 943], [1, 80, 121, 60, 16, 68, 656, 311, 1430, 604, 288, 19, 5, 2, 180, 239, 598, 666, 656, 283, 1430, 604, 187, 232, 2288], [212, 25, 2289, 2290, 414, 1263, 332, 60, 797, 2291, 2292, 2293, 2294, 210, 2295, 36], [34, 7, 855, 6, 25, 2296, 532, 263, 435, 178, 18, 947, 565, 4, 38, 902, 27, 2297, 2298, 398, 19, 5, 2, 445, 733, 27], [212, 25, 1179, 62, 2299, 273, 796, 189, 2300, 2301, 264, 2302, 879, 1235, 4, 2, 2303, 18, 47, 74, 3, 2304, 71, 4, 2], [2305, 183, 9, 145, 188, 68, 930, 425, 152, 266, 235, 2306, 18, 45, 213, 401, 123, 9, 22, 13, 59, 89, 668, 608, 1425, 317, 278, 125, 668, 720, 306, 1400], [1180, 27, 8, 24, 1431, 221, 27, 28, 58, 199, 18, 1, 916, 213, 214, 1087, 4, 54], [564, 429, 8, 1, 134, 98, 1432, 49, 19, 180, 47, 98, 118], [222, 256, 27, 718, 42, 246, 55, 52, 895, 326, 7, 7, 43, 16, 61, 36, 45, 156, 229, 148, 2, 3, 10, 39], [2307, 178, 352, 6, 155, 488, 189, 220, 1433, 2308, 737, 167, 230, 2309, 6, 487, 2310, 167, 421, 304, 167, 16, 41, 477, 5, 2, 120, 167, 267, 51, 97, 434], [1, 62, 508, 550, 1433, 549, 197, 659, 338, 438, 1010, 2311, 790, 245, 659, 1020, 659, 11, 955, 486, 131, 46, 37, 1, 258, 3, 348, 175], [40, 12, 21, 27, 69, 326, 792, 280, 931, 139, 326, 206, 326, 49, 76, 378, 164, 148, 1175, 52, 2, 21, 120, 326, 3, 10, 9, 22, 1, 427, 8], [24, 64, 199, 62, 1166, 8, 88, 69, 1434, 301, 221, 892, 28, 896, 33, 7, 84, 43, 34, 35, 58, 20, 148, 213, 214, 458, 120, 5, 229], [241, 620, 320, 977, 412, 141, 2312, 371, 17, 53, 8, 231, 184, 137, 18, 442, 57, 242, 329, 963, 98, 1435, 106, 1436, 468, 111, 30, 4, 38, 239, 254, 2313, 30, 1009, 1, 964, 3, 492, 1437, 106, 1, 359, 8, 130, 57, 403, 184, 566, 75, 2314], [1390, 8, 116, 1, 994, 116, 1438, 21, 116, 164, 2315, 1438, 131, 19], [8, 2316, 264, 101, 379, 953, 234, 240, 24, 40, 12, 59, 1439, 655, 264, 101, 934, 23, 143, 575, 1391, 21, 21, 165, 12, 664], [24, 1431, 15, 1251, 88, 69, 134, 6, 60, 877, 324, 75, 846, 50, 2317, 314, 284, 17, 66, 29, 449, 692, 28, 128, 127, 793, 21, 5, 302, 6, 63, 39, 10], [391, 727, 706, 441, 2318, 1152, 455, 290, 312, 47, 236], [798, 2319, 8, 2320, 1412, 1, 2321, 60, 519, 67, 2322, 484, 1388, 566, 214, 4, 302], [212, 25, 1227, 630, 2323, 233, 17, 946, 81, 129, 414, 447, 124, 530, 36, 33, 2324, 30, 79, 533, 303, 51, 97, 434], [902, 86, 250, 69, 44, 6, 454, 125, 638, 85, 2325, 11, 181, 44, 437, 344, 19, 4, 2, 94], [1, 1021, 186, 86, 809, 333, 24, 56, 998, 419, 460, 371, 86, 210, 23, 1, 151, 1022, 151, 1019, 111, 319, 10, 82], [1, 1021, 186, 86, 809, 333, 24, 56, 998, 419, 460, 371, 86, 210, 23, 1, 151, 1022, 151, 1019, 111, 319, 10, 82], [288, 101, 72, 365, 11, 1167, 2326, 45, 606, 288, 69, 875, 28, 1408, 799, 5, 119, 11, 2327, 66, 29, 7, 7, 14, 99, 302], [1, 1173, 269, 15, 108, 148, 370, 723, 4, 229], [8, 2328, 231, 13, 494, 968, 562, 268, 1023, 560, 1380, 105, 214, 296, 170, 2329, 359, 8], [441, 134, 69, 2330, 384, 24, 6, 78, 230, 1440, 149, 18, 36, 26, 628, 134, 1360, 69, 11, 949, 2331, 7, 7, 300, 73, 384, 843, 2332, 67, 230, 1018, 5, 82, 13], [9, 13, 490, 116, 617, 23, 149, 2333, 398, 206, 1086, 98, 29, 6, 2334, 1316, 714, 162, 313, 3, 134, 23, 26, 1215, 225, 710, 2335, 1440, 1369, 23, 594, 1375, 5, 123, 295], [40, 557, 25, 1396, 1249, 118, 72, 72, 6, 651, 2336, 18, 73, 228, 249, 578, 33, 64, 72, 435, 342, 1189, 796, 83, 225, 103, 147, 1024, 106, 79, 5, 258, 163, 2337, 1024], [11, 471, 481, 937, 1, 136, 4, 38, 179, 152, 179, 172, 619, 2338, 457, 481, 174, 513, 603, 2339, 1013, 179, 689, 79, 5, 229, 47, 2340, 2341, 6, 359, 1025, 2342, 174, 1441, 641, 2343, 297, 391, 513, 401, 207, 229, 104, 346, 848, 1441, 197, 97], [661, 8, 1442, 23, 143, 1, 316, 23, 283, 2344, 5, 54], [391, 471, 263, 945, 1276, 187, 1026, 7, 208, 647, 482, 1026, 1405, 792, 34, 33, 6, 754, 114, 471, 457, 223, 2345, 482, 647, 2346, 668, 411], [53, 231, 8, 13, 2347, 48, 2348, 2349, 176, 184, 206, 290, 2350, 106, 66, 29, 133, 424, 3, 112, 41, 8, 548, 11, 636, 115, 573, 1, 359, 8, 405], [1, 53, 88, 8, 14, 381, 24, 269, 331, 2351, 1204, 108, 21, 4, 2, 261, 19, 2352, 201, 3, 319, 10], [7, 53, 355, 635, 8, 467, 321, 140, 141, 464, 467, 1392, 1374, 2353, 2354, 125, 1416, 38, 665, 1027, 354, 2355, 163, 2356, 665, 139, 14, 36, 59, 110, 1436, 838, 1367, 59, 344, 1027, 354, 1027, 291, 14, 2357, 665, 596, 665, 2358, 2359, 468, 4, 54, 1424, 800, 54, 106, 540, 34, 14, 7, 14, 108, 305, 622, 151, 712, 587, 4, 54, 36, 19], [13, 406, 2360, 614, 4, 38, 227, 2361, 322, 342, 218, 21, 105, 193, 794, 79, 278, 63, 10], [24, 255, 12, 62, 227, 191, 93, 147, 87, 2362, 148, 81, 323, 93, 654, 474, 58, 959, 147, 1024, 124, 64, 81, 831, 66, 29, 103, 21, 71, 12, 3, 30, 21, 5, 258, 4, 229], [212, 34, 40, 1393, 2363, 715, 136, 1028, 5, 38, 50, 97, 433, 125, 41, 2364, 2365, 121, 677, 1028, 349, 19, 5, 2, 536, 120, 1028, 281, 3, 41, 2366, 315, 19, 5, 2], [564, 791, 70, 8, 1, 59, 89, 1409, 794, 126, 615, 48, 488, 2367, 332], [8, 2368, 2369, 98, 362, 1, 92, 98, 1432, 49, 19, 180, 47, 98, 118], [45, 13, 16, 1006, 1281, 136, 383, 266, 357, 56, 2370, 2371, 383, 26, 125, 631, 244, 2372, 21, 398, 19, 5, 2, 261, 161, 10], [1443, 6, 2373, 279, 70, 717, 880, 681, 129, 722, 4, 2, 521, 1444, 11, 1399, 509, 19, 4, 2, 758, 10, 758, 13, 267, 51, 439], [2374, 40, 12, 70, 89, 2375, 448, 514, 919, 5, 120, 1029, 2376, 1445, 2377, 195, 2378, 2379, 30, 67, 1445, 658, 60, 353, 797, 1446, 304, 12, 4, 2, 390, 1446, 3, 10], [53, 2380, 17, 13, 21, 147, 19, 4, 2, 164, 254, 5, 2, 3, 524, 36, 915, 374, 92, 51, 97, 228, 1383, 2381, 544, 19], [274, 2382, 1442, 543, 1, 1284, 2383, 44, 253, 49, 200, 19, 116, 264, 234], [65, 1447, 42, 343, 256, 546, 90, 985, 543, 1448, 42, 343, 1381, 695, 1449, 1450, 238, 589, 50, 1, 131, 4, 258, 3, 418, 1248], [65, 1447, 42, 343, 256, 546, 90, 985, 543, 1448, 42, 343, 2384, 695, 1449, 1450, 238, 589, 50, 1, 131, 4, 258, 3, 175], [72, 240, 465, 52, 2385, 76, 807, 2386, 664, 1186, 664, 100, 618, 107, 19, 4, 2, 2387, 204, 1106, 280, 78], [14, 53, 1030, 56, 269, 13, 2388, 72, 667, 165, 169, 663, 562, 268, 1023, 560, 232, 385, 130, 302, 359, 8, 566, 214, 296], [1443, 791, 2389, 2390, 1331, 744, 2391, 699, 115, 49, 215, 2392, 883, 55, 153, 2393, 1111, 4, 54, 120, 147, 153, 3, 54, 725, 4, 2394, 2395, 408, 2396, 132, 106], [11, 2397, 76, 751, 443, 228, 2398, 244, 59, 21, 335, 506, 139, 27, 76, 66, 47, 74, 133, 99, 46, 52, 2399, 39, 10], [1451, 860, 23, 406, 156, 776, 1127, 2400, 46, 2, 32, 668, 1452, 456, 125, 89, 1031, 1004, 448, 576, 536, 46, 2401, 9, 147, 2402, 1411, 1452, 46, 606, 1022, 337, 39, 10], [2403, 480, 191, 2404, 68, 557, 384, 181, 345, 1427, 27, 28, 499, 93, 2405, 181, 342, 18, 93, 741, 60, 2, 28, 63, 339, 732, 561, 29, 30, 16, 1222, 123, 45, 9, 453, 45, 156, 48, 1453, 154, 2406], [25, 2407, 1454, 239, 93, 1029, 44, 556, 1455, 24, 365, 7, 219, 330, 914, 2408, 2409, 851, 556, 232, 44, 1029, 34, 33, 174, 198, 31, 101, 272, 2410, 2411, 88, 413, 20, 1148, 486, 223, 1234, 877, 93, 263, 44, 352, 83, 118, 764, 2412, 52, 5, 82], [940, 98, 541, 484, 2413, 1, 566, 1032, 5, 82, 11, 257, 8, 279, 1307, 2414, 2415, 857, 112, 2416], [219, 2417, 380, 863, 88, 17, 740, 781, 1406, 311, 13, 992, 575, 423, 239, 58, 11, 2418, 35, 516, 78, 360, 50, 71, 13, 63, 10], [27, 441, 40, 20, 462, 208, 41, 2419, 367, 28, 28, 337, 137, 50, 6, 21, 46, 3, 39, 10], [7, 2420, 269, 1030, 13, 1456, 72, 667, 165, 169, 663, 562, 268, 1023, 2421, 272, 50, 123, 91, 89, 2422, 645, 163, 1009, 1457, 118, 38, 46, 770, 1033, 385, 71, 169, 663, 222, 611, 342, 55, 102, 232, 385, 1456, 72, 170, 2423, 102, 775, 8, 104, 548, 2424, 87, 22, 185, 2425, 1458, 959, 48, 2426, 17, 686, 130, 573, 466, 296, 1428, 1459, 360, 2427, 169, 635, 8, 834, 771, 104, 20, 566, 2428, 393, 475, 298, 2429, 2430, 2431, 573, 185, 1458, 100, 291], [11, 293, 478, 77, 532, 50, 2432, 27, 308, 1460, 1461, 16, 422, 909, 781, 81, 286, 5, 82, 528, 452, 1462, 3, 10, 320, 1026, 548, 457, 172], [1, 612, 124, 202, 2433, 1085, 407, 64, 26, 232, 502, 58, 2434, 25, 26, 1118, 533, 210, 36, 34, 33, 33, 86, 191, 58, 2435, 36, 30, 128], [15, 2436, 33, 808, 574, 72, 40, 12, 274, 575, 335, 26, 650, 66, 29, 103, 621, 2437, 16, 14, 66, 143, 34, 128, 46, 12, 161, 2438, 10], [53, 70, 8, 15, 138, 338, 2439, 1, 624, 101, 2440, 1351, 29, 1453, 7, 14, 7, 7, 14, 7, 412, 14, 137, 1121, 282, 132, 29, 310, 4, 2, 2441], [233, 2442, 2443, 2444, 8, 247, 49, 27, 2445, 94, 273, 561, 300, 79, 20, 5, 75, 16, 33, 209, 17, 15, 1034, 159, 75, 648, 51, 97, 203, 1141, 1025], [231, 669, 163, 1035, 1, 567, 568, 140, 141, 268, 144, 260, 1036, 209, 49, 1, 567, 185, 102, 16, 395, 16, 660, 16, 142, 16, 2, 32, 1, 185, 102, 16, 2, 32, 105, 1, 568, 185, 102, 4, 75, 569, 107, 16, 1037, 643, 296, 122, 259, 8, 257, 399, 259, 747, 260, 705, 129, 4, 259], [231, 669, 163, 1035, 1, 567, 568, 140, 141, 268, 144, 260, 1036, 209, 49, 1, 567, 185, 102, 16, 395, 16, 660, 16, 142, 16, 2, 32, 1, 185, 102, 16, 2, 32, 105, 1, 568, 185, 102, 4, 75, 569, 107, 16, 1037, 643, 296, 122, 259, 8, 257, 399, 259, 747, 260, 705, 129, 4, 259], [231, 669, 163, 1035, 1, 567, 568, 140, 141, 268, 144, 260, 1036, 209, 49, 1, 567, 185, 102, 16, 395, 16, 660, 16, 142, 16, 2, 32, 1, 185, 102, 16, 2, 32, 105, 1, 568, 185, 102, 4, 75, 569, 107, 16, 1037, 643, 296, 122, 259, 8, 257, 399, 259, 747, 260, 705, 129, 4, 259], [1, 2446, 1463, 44, 18, 2447, 388, 1377, 591, 2448, 95, 588, 149, 130, 6, 257, 2449, 190, 391, 450, 44, 21, 75, 4, 149, 357, 547, 942, 286, 428, 1463, 5], [14, 135, 13, 25, 2450, 1464, 274, 256, 60, 460, 402, 403, 243, 2451, 158, 210, 106, 800, 5, 2, 63, 287, 39], [14, 53, 2452, 8, 1, 1308, 140, 141, 85, 2453, 129, 108, 735, 112, 252, 34, 14, 1426, 112, 2454, 2455, 252, 1, 2456, 5, 54, 2457, 108, 690, 3, 5, 446, 723, 775, 786, 8, 548, 1, 393, 473, 298, 7, 2458, 393, 2459, 59, 2460, 2461, 10, 356, 112, 296, 100, 404, 8], [24, 7, 801, 68, 272, 24, 289, 759, 121, 2462, 771, 2463, 2464, 264, 243, 2465, 1334, 83, 4, 119, 83, 218, 5, 38, 2466, 2467, 21, 5, 2, 66, 389, 154, 607, 5, 38, 83], [266, 532, 1368, 41, 57, 1465, 465, 2468, 1466, 44, 556, 565, 549, 2469, 67, 2470, 266, 356, 2471, 2472, 6, 178, 266, 342, 630, 181, 44, 474, 511, 16, 435, 115, 2473, 181, 165, 1465, 465, 511, 166, 266, 33, 1466, 565, 605, 2474, 190, 119, 727, 511, 2475, 1245, 38, 266, 237, 407, 1414, 345, 2476, 1324, 197, 97, 475, 97], [1, 53, 65, 489, 440, 1255, 15, 269, 1467, 90, 615, 796, 1444, 126, 2477, 327, 16, 1419, 1332, 3, 41, 32, 159, 995, 2478, 4, 2], [72, 432, 685, 1468, 12, 59, 2479, 308, 50, 284, 17, 7, 1407, 401, 2480, 668, 46, 435, 307, 2481, 89, 31, 154, 2482, 400, 1238, 308, 7, 461, 236, 308, 793, 561, 4, 123], [35, 1469, 360, 62, 231, 184, 1038, 463, 765, 35, 85, 16, 184, 57, 130, 25, 802, 522, 35, 1470, 232, 570, 321, 140, 141, 138, 184, 57, 334, 1039, 144, 67, 1471, 138, 106, 1472, 541, 1473, 361, 802, 428, 540, 570, 321, 140, 141, 268, 144, 570, 122, 4, 75, 569, 321, 140, 141, 1032, 235, 803, 1474, 1475, 562, 1007], [35, 1469, 360, 62, 231, 184, 1038, 463, 765, 35, 85, 16, 184, 57, 130, 25, 802, 522, 35, 1470, 232, 570, 321, 140, 141, 138, 184, 57, 334, 1039, 144, 67, 1471, 138, 106, 1472, 541, 1473, 361, 802, 428, 540, 570, 321, 140, 141, 268, 144, 570, 122, 4, 75, 569, 321, 140, 141, 1032, 235, 803, 1474, 1475, 562, 1007], [564, 8, 403, 2483, 572, 85, 2484, 1347, 160, 300, 2485, 3, 236, 163, 46, 117, 693], [8, 2486, 426, 96, 7, 1150, 2487, 502, 52, 503, 416, 227, 7, 7, 456, 86, 9, 1476, 1464, 7, 67, 227, 1040, 1018, 52, 36, 660, 9, 22, 52, 609, 17, 15], [34, 212, 256, 177, 7, 593, 495, 814, 713, 7, 2488, 670, 361, 772, 2489, 550, 311, 11, 13, 2490, 77, 1140, 356, 26, 105, 67, 2491, 495, 7, 713, 600, 2492, 17, 555, 375, 492], [2493, 412, 7, 707, 118, 563, 465, 249, 190, 289, 655, 264, 243, 36, 6, 754, 352, 565, 549, 115, 197, 197, 1250, 18, 347, 1187, 33, 6, 711, 314, 33, 35, 21, 5, 119, 218, 38, 4, 15, 40, 114, 306, 172, 18, 539, 551], [113, 1030, 787, 316, 652, 157, 104, 2494, 1244, 282, 1201, 2495, 1389], [1, 80, 837, 65, 8, 224, 756, 316, 1041, 733, 1042, 154, 26, 85, 3, 30, 114, 185, 49, 649, 482, 30, 26, 2496, 928, 850, 1, 30, 1041, 26, 38, 452, 26, 800, 74, 1, 30, 155, 24, 1041, 26], [1, 80, 728, 8, 634, 138, 2497, 236, 372, 2498, 662, 117, 26, 891, 993, 142, 163, 3, 107, 496, 175], [1, 62, 366, 990, 679, 216, 1151, 333, 1225, 53, 650, 990, 1, 271, 861, 1266, 375, 492, 2499, 882, 2500, 431, 679, 216], [1, 118, 390, 74, 373, 108, 153, 996, 370, 786, 4, 446], [291, 7, 966, 965, 8, 13, 2501, 185, 144, 122, 142, 56, 803, 144, 503, 689, 803, 122, 35, 654, 474, 2502, 91, 306, 144, 13, 157, 359, 17, 405], [1004, 70, 12, 1178, 53, 70, 8, 452, 430, 234, 60, 1477, 238, 2503, 11, 6, 2, 103, 128, 120, 452, 3, 292, 344, 19, 4, 2], [24, 2504, 24, 204, 470, 172, 62, 425, 143, 599, 23, 379, 380, 226, 2505, 778, 254, 1395, 61, 23, 23, 33, 367, 11, 23, 342, 499, 120, 380, 3, 23, 719, 955, 36, 45, 12, 2506, 565, 605, 6, 778, 178, 121, 2507, 129, 597, 12, 516, 282, 565, 126, 23, 3, 30, 24], [1, 629, 1451, 26, 948, 205, 15, 644, 70, 1083, 81, 1223, 26, 460, 158, 2, 2508, 133, 387, 4, 302, 155, 235, 3, 2509, 939], [559, 231, 669, 366, 1478, 15, 291, 14, 1043, 967, 176, 736, 560, 804, 71, 5, 2, 56, 9, 453, 2510, 644, 8, 1, 1044, 113, 356, 1045, 1046, 296, 159, 1, 1047, 213, 214, 539, 400, 8], [224, 7, 671, 1479, 152, 1480, 309, 1020, 1467, 187, 410, 780, 208, 1481, 139, 224, 646, 1048, 41, 56, 1482, 18, 1483, 2511, 297, 1484, 1000, 805, 15, 728, 8, 1485, 2512, 8, 472, 1486, 91, 1487, 1488, 686, 1489, 859, 472, 208, 1, 67, 805, 15, 670, 529, 806, 1034, 2513, 111, 293, 991, 26, 67, 15, 420, 474, 17, 15, 986, 124, 701, 670, 529, 386, 1490, 550, 416, 177, 193, 449, 671, 224], [224, 7, 671, 1479, 152, 1480, 309, 1020, 1048, 187, 410, 780, 145, 208, 1481, 139, 224, 646, 1048, 92, 56, 1482, 18, 31, 297, 1483, 1484, 983, 37, 805, 15, 728, 8, 1485, 2514, 8, 472, 1486, 91, 1487, 1488, 686, 1489, 859, 472, 208, 1, 67, 805, 15, 670, 529, 806, 1034, 2515, 111, 293, 991, 26, 2516, 15, 420, 474, 17, 15, 986, 763, 701, 670, 529, 386, 1490, 550, 416, 177, 193, 449, 671, 224], [61, 2517, 8, 1, 510, 264, 1165, 431, 125, 166, 18, 699, 667, 327, 2518, 2519, 235, 3, 1491], [1258, 1280, 57, 1049, 2520, 340, 17, 628, 379, 202, 2521, 17, 178, 218, 797, 479, 162, 363, 2522, 797, 510, 91, 146, 305, 1492, 57, 1493, 318, 30, 26, 63, 1494, 119, 119, 376, 1494, 66, 1468, 1495, 133, 46, 45, 156, 161, 10], [559, 320, 176, 2523, 2524, 17, 1496, 291, 1, 1202, 147, 129, 18, 865, 804, 5, 2525, 142, 2526, 112, 1394, 1372, 1, 102, 3, 1, 492, 1457, 2527, 1, 48, 427, 1277, 8, 2528, 102, 498, 1090, 2529, 46, 2530, 113, 1459, 53, 17, 1044, 122, 537, 45, 1, 356, 1046, 296, 643, 386, 817, 1497, 8, 772, 405], [11, 25, 721, 92, 202, 41, 101, 24, 365, 134, 58, 539, 485, 244, 1498, 69, 563, 875, 16, 392, 2531, 1164, 361, 117, 37, 384, 1097, 553, 97, 384, 25, 721, 115, 71, 474, 17, 812, 151, 125, 126, 29, 26, 712, 862, 282, 916, 119], [1, 309, 1252, 140, 141, 2532, 35, 176, 102, 787, 1496, 35, 2533, 16, 219, 113, 415, 20, 85, 102, 4, 54, 540, 2534, 106, 392, 1031, 520, 468, 138, 252, 566, 652, 2535, 54, 219, 113, 641, 2536, 279, 652, 927, 165, 151, 186, 2537, 54, 1269, 369, 10, 114, 113, 2538, 8, 203, 410, 2539, 115, 636, 307, 1, 2540, 228], [135, 14, 25, 2541, 9, 59, 2542, 202, 429, 271, 211, 292, 24, 5, 385, 525, 666, 227, 426, 182], [559, 231, 669, 366, 1478, 15, 291, 14, 2543, 85, 102, 560, 5, 1437, 804, 318, 569, 56, 9, 453, 427, 644, 8, 1, 1044, 35, 356, 1045, 10, 1046, 296, 1, 1047, 213, 214, 539, 400, 8], [8, 73, 1499, 2544, 2545, 1050, 473, 1500, 263, 24, 73, 117, 2546, 6, 62, 73, 1499, 29, 101, 251, 21, 18, 22, 295, 2547, 1401, 228, 475, 1501, 2548, 2549, 592, 555, 107, 439, 303, 2550, 950], [53, 70, 86, 512, 2551, 188, 68, 264, 139, 690, 2552, 2553, 188, 68, 930, 247, 554, 70, 12, 454, 1243, 188, 68, 27, 2554, 168, 61, 989, 57, 1492, 527, 920, 27, 533, 276, 68, 226, 95, 60, 2555, 86, 244, 304, 182, 2556, 45, 16, 4, 2, 581, 264, 234, 129, 597, 376, 580, 841, 2557, 920, 76, 305, 182, 2558, 444, 19, 63, 10, 9, 22, 22, 295, 48, 411, 825, 32], [40, 25, 1069, 7, 2559, 2560, 2561, 509, 503, 945, 1502, 24, 1040, 988, 162, 795, 2562, 155, 37, 74, 2563, 501, 162, 2564, 546, 37, 1502, 417, 2565, 363, 162, 292, 4, 82, 12, 337, 2566, 361, 1095], [1, 80, 62, 798, 8, 2567, 15, 636, 1051, 208, 2568, 455, 16, 2569, 57, 455, 158, 21, 71, 5, 54, 3, 214, 31, 2570, 1060, 1, 188, 1493, 812, 664], [1, 48, 329, 60, 2571, 261, 73, 357, 588, 149, 924, 329, 108, 196, 2572, 261, 440, 4, 261, 19, 149, 1088, 3, 2573, 327, 1013, 19], [1, 80, 62, 798, 8, 15, 756, 121, 78, 16, 194, 167, 362, 21, 318, 111, 41, 1139, 4, 2], [1, 1021, 2574, 525, 799, 56, 1503, 430, 799, 1503, 177, 21, 1420, 417, 2, 47, 74, 799, 3, 319, 10, 261, 19, 5, 2], [40, 293, 53, 2575, 2576, 299, 299, 23, 517, 34, 14, 26, 20, 198, 531, 95, 299, 23, 1051, 23, 36, 14, 139, 110, 507, 6, 933, 751, 103, 71, 3, 23, 103, 3, 327, 558, 19, 20, 5, 2, 1033, 531, 95, 139, 110, 507, 9, 114, 13, 48, 411], [1, 653, 653, 62, 42, 23, 696, 8, 1504, 186, 394, 1505, 283, 76, 236, 402, 3, 10], [1, 653, 653, 62, 42, 23, 696, 8, 1504, 186, 394, 1505, 283, 76, 236, 402, 3, 10], [53, 308, 1460, 2577, 1455, 72, 7, 34, 6, 198, 4, 38, 18, 695, 196, 2578, 33, 9, 654, 1497, 366, 2579, 91, 773, 81, 251, 201, 2580, 2581, 308, 29, 1439, 2582, 308, 1123, 6, 4, 38, 118, 5, 38, 18, 20, 6, 382, 651, 860, 272, 220, 641, 203, 485, 6, 2583, 2584, 380, 4, 1461, 783, 226, 104, 475, 2585, 1501, 51, 320, 1040, 220, 2586, 13, 22, 2587, 576], [572, 624, 1506, 403, 564, 1376, 1237, 121, 49, 415, 533, 2588, 1506, 108, 305, 3, 319, 41, 5, 2], [15, 189, 239, 2589, 52, 45, 1236, 2590, 69, 88, 47, 830, 7, 7, 2591, 1434, 2592, 11, 464, 52, 1052, 1208, 830, 672, 217, 5, 38, 69, 25, 1052, 630, 178, 69, 220, 1462, 69, 1043, 276, 751, 1052, 325, 317, 2593, 2594, 732, 501, 88, 206, 11, 295, 174, 2595, 1112, 889, 4, 75, 69, 1033, 69, 17, 1507, 3, 10, 39], [1, 428, 1014, 73, 245, 1053, 2596, 211, 296, 1104, 163, 91, 774, 154, 245], [8, 65, 1050, 2597, 75, 666, 280, 473, 1500, 263, 24, 186, 280, 1050, 75, 839, 897, 527, 280, 108, 667, 239, 48, 440, 2, 239, 74, 18], [212, 61, 836, 44, 70, 181, 2598, 351, 223, 11, 25, 2599, 71, 83, 1047, 10, 4, 2, 303, 51, 97, 434, 413, 472, 592], [7, 52, 1025, 273, 2600, 1498, 8, 508, 438, 1182, 11, 602, 402, 129, 416, 499, 3, 418, 5, 37, 142, 385, 52, 267, 51, 97, 374], [11, 13, 92, 202, 426, 96, 626, 173, 36, 265, 1042, 1508, 13, 806, 361, 673, 96, 85, 50, 626, 173, 1509, 512, 66, 133, 50, 64, 249, 99, 13, 346, 51, 373], [11, 13, 92, 202, 426, 96, 626, 173, 36, 265, 1042, 1508, 13, 806, 361, 673, 96, 85, 50, 626, 173, 1509, 512, 66, 133, 50, 64, 249, 99, 13, 346, 51, 373], [40, 12, 657, 942, 2601, 129, 24, 153, 29, 34, 14, 7, 14, 1110, 5, 446, 111, 10, 39, 114, 498, 12, 654, 80, 22, 213, 214, 7, 34, 576, 213, 401, 657, 2602, 1045, 214, 446, 11, 501, 114], [391, 471, 1363, 572, 158, 210, 232, 1476, 245, 73, 842, 2603, 26, 2604, 2605], [1, 80, 121, 2606, 2607, 167, 2608, 2609, 281, 180, 177, 133, 21, 46], [24, 969, 354, 432, 564, 8, 1229, 1495, 12, 462, 2610, 216, 870, 50, 460, 554, 2611, 11, 662, 2612, 870, 528, 155, 37, 278, 4, 123, 3, 418], [25, 1423, 85, 1510, 752, 763, 407, 64, 2613, 788, 248, 856, 208, 153, 148, 30, 26, 800, 336, 764, 370, 292, 5, 229, 26, 333, 616, 47, 1510, 233, 3, 41, 616, 1491, 229], [40, 12, 1203, 1417, 375, 683, 2614, 436, 30, 105, 3, 10, 39], [40, 12, 55, 207, 419, 2615, 734, 230, 2616, 35, 734, 21, 444, 19, 5, 2, 230], [135, 212, 25, 1043, 65, 35, 880, 18, 2617, 76, 73, 149, 7, 9, 46, 602, 95, 48, 8, 161, 211, 41, 289, 46, 303, 51, 320, 1008, 2618], [40, 181, 68, 44, 7, 7, 412, 412, 478, 272, 2619, 243, 2620, 72, 471, 546, 263, 15, 1200, 135, 671, 788, 248, 178, 83, 1344, 760, 759, 2621, 2622, 218, 83, 121, 342, 914, 516, 282, 30, 700, 2623, 2624, 214, 15, 2625, 214, 91, 2626, 91, 798, 8, 472, 826, 514, 1477, 519, 280, 646, 62, 13, 9, 114, 48, 999, 411], [1, 62, 2627, 720, 1126, 2628, 283, 543, 16, 1361, 907, 3, 137, 283, 3, 995, 288, 19, 4, 2, 180], [647, 179, 1143, 25, 2629, 187, 93, 255, 331, 152, 87, 93, 20, 1410, 2630, 2631, 1031, 265, 306, 81, 2632, 227, 204, 1511, 93, 197, 922, 136, 93, 431, 352, 363, 81, 323, 493, 6, 63, 39, 10, 2633, 13, 33, 129, 597], [250, 929, 393, 1246, 801, 68, 50, 2634, 35, 13, 2635, 2636, 20, 11, 555, 460, 2637, 6, 2638, 213, 640, 640, 929, 5, 123, 1260, 939, 2639, 104, 115, 1137, 551, 123, 35, 123, 13, 346, 848, 9, 22, 1, 154, 56, 2640], [181, 68, 1176, 44, 918, 532, 134, 15, 72, 365, 338, 343, 903, 675, 191, 134, 266, 2641, 11, 276, 107, 266, 50, 93, 1343, 553, 30, 3, 557, 2642, 2643, 6, 21, 1188, 329, 2644, 297, 346, 51, 97], [45, 13, 9, 222, 599, 23, 48, 204, 470, 100, 3, 16, 61, 23, 128, 235, 3, 10, 701, 27, 2645, 196, 344, 23, 872, 337, 23, 1322, 396, 1415, 2646, 2647, 100, 63, 128, 646, 39, 23, 743, 174, 204, 265], [40, 783, 801, 68, 1512, 1513, 1049, 1514, 92, 169, 202, 117, 553, 820, 752, 1515, 64, 563, 249, 103, 1516, 15, 34, 33, 368, 748, 78, 73, 37, 26, 1517, 83, 59, 89, 31, 96, 554, 411], [40, 783, 801, 68, 1512, 1513, 1049, 1514, 92, 169, 202, 117, 553, 820, 752, 1515, 64, 563, 249, 103, 1516, 15, 34, 33, 368, 748, 78, 73, 37, 26, 1517, 83, 59, 89, 31, 96, 554, 411], [289, 2648, 12, 77, 7, 7, 59, 41, 2649, 9, 437, 987, 63, 137, 99, 107, 19, 4, 2, 3, 211, 41], [1, 80, 171, 246, 167, 194, 307, 362, 158, 2, 210, 21, 4, 54], [559, 366, 946, 201, 2650, 201, 15, 2651, 291, 951, 2652, 538, 2653, 121, 1051, 55, 37, 2654, 315, 98, 210, 2, 98, 254, 3, 112, 1125, 4, 310, 1, 267, 2655, 298, 950, 2656, 1008, 100, 174, 270, 17, 775], [113, 450, 8, 102, 316, 542, 29, 1435, 163, 100, 2657, 1, 316, 996, 786, 446], [169, 8, 14, 360, 463, 2658, 960, 35, 2659, 87, 556, 607, 790, 503, 25, 977, 1454, 700, 96, 67, 83, 180, 804, 302, 142, 3, 122, 2660, 1206, 144, 2661, 1507, 87, 2662, 790], [65, 952, 24, 1403, 249, 1038, 52, 6, 18, 62, 260, 18, 1518, 1518, 2663, 510, 6, 4, 349, 19, 180, 18, 192], [34, 34, 221, 1128, 299, 50, 173, 192, 931, 20, 1005, 413, 16, 290, 2, 192, 63, 10], [13, 118, 2664, 791, 2665, 2666, 527, 5, 811, 353, 2667, 4, 811, 3, 307, 153, 30, 352, 3, 10, 39], [2668, 1385, 8, 15, 1, 334, 2669, 1039, 2670, 767, 49, 2671, 370, 55, 122, 16, 46, 349, 19, 4, 2], [1, 62, 8, 2672, 194, 304, 194, 167, 2, 21, 38, 130, 194, 3, 613, 41, 509, 19, 4, 2], [20, 606, 26, 1511, 412, 388, 2673, 158, 71, 104, 2674, 2675, 433, 466, 132, 26, 370, 39, 10]]\n"
     ]
    }
   ],
   "source": [
    "print(X)"
   ]
  },
  {
   "cell_type": "code",
   "execution_count": null,
   "metadata": {
    "colab": {
     "base_uri": "https://localhost:8080/"
    },
    "id": "cctRxC_dyPW1",
    "outputId": "fcdb3d69-b22a-44f4-8350-0b6c8f758477"
   },
   "outputs": [
    {
     "data": {
      "text/plain": [
       "dict_items([('employee', 1), ('hand', 2), ('causing', 3), ('left', 4), ('right', 5), ('operator', 6), ('i', 7), ('activity', 8), ('time', 9), ('injury', 10), ('moment', 11), ('worker', 12), ('collaborator', 13), ('am', 14), ('area', 15), ('one', 16), ('work', 17), ('equipment', 18), ('finger', 19), ('assistant', 20), ('hit', 21), ('accident', 22), ('pipe', 23), ('level', 24), ('my', 25), ('floor', 26), ('support', 27), ('mesh', 28), ('rock', 29), ('fall', 30), ('safety', 31), ('glove', 32), ('meter', 33), ('approximately', 34), ('team', 35), ('height', 36), ('part', 37), ('side', 38), ('described', 39), ('circumstance', 40), ('cut', 41), ('pump', 42), ('keg', 43), ('truck', 44), ('injured', 45), ('face', 46), ('metal', 47), ('used', 48), ('place', 49), ('towards', 50), ('medical', 51), ('mechanic', 52), ('performing', 53), ('foot', 54), ('two', 55), ('using', 56), ('point', 57), ('platform', 58), ('made', 59), ('remove', 60), ('end', 61), ('performed', 62), ('generating', 63), ('access', 64), ('maintenance', 65), ('fragment', 66), ('inside', 67), ('plate', 68), ('drill', 69), ('cleaning', 70), ('back', 71), ('no', 72), ('front', 73), ('structure', 74), ('arm', 75), ('bolt', 76), ('company', 77), ('position', 78), ('hitting', 79), ('report', 80), ('water', 81), ('leg', 82), ('vehicle', 83), ('weight', 84), ('moving', 85), ('material', 86), ('car', 87), ('drilling', 88), ('use', 89), ('hose', 90), ('due', 91), ('carried', 92), ('hopper', 93), ('bar', 94), ('key', 95), ('belt', 96), ('center', 97), ('piece', 98), ('impacting', 99), ('released', 100), ('block', 101), ('bite', 102), ('slide', 103), ('immediately', 104), ('head', 105), ('ground', 106), ('first', 107), ('came', 108), ('wearing', 109), ('rod', 110), ('caused', 111), ('small', 112), ('technician', 113), ('event', 114), ('go', 115), ('tube', 116), ('upper', 117), ('moved', 118), ('gable', 119), ('edge', 120), ('trying', 121), ('sting', 122), ('eye', 123), ('ladder', 124), ('make', 125), ('contact', 126), ('helmet', 127), ('impact', 128), ('line', 129), ('another', 130), ('reaching', 131), ('falling', 132), ('projected', 133), ('loading', 134), ('approx', 135), ('move', 136), ('movement', 137), ('near', 138), ('base', 139), ('da', 140), ('silva', 141), ('neck', 142), ('diameter', 143), ('bee', 144), ('cutting', 145), ('pressure', 146), ('second', 147), ('slip', 148), ('loader', 149), ('grating', 150), ('boot', 151), ('it', 152), ('step', 153), ('glass', 154), ('lower', 155), ('person', 156), ('reaction', 157), ('slipped', 158), ('wound', 159), ('acid', 160), ('producing', 161), ('air', 162), ('region', 163), ('hammer', 164), ('top', 165), ('return', 166), ('sheet', 167), ('type', 168), ('field', 169), ('allergic', 170), ('removing', 171), ('personnel', 172), ('pulley', 173), ('without', 174), ('burn', 175), ('opening', 176), ('cable', 177), ('stop', 178), ('locomotive', 179), ('pressed', 180), ('driver', 181), ('chain', 182), ('workshop', 183), ('collection', 184), ('took', 185), ('removal', 186), ('located', 187), ('steel', 188), ('machine', 189), ('direction', 190), ('ore', 191), ('frame', 192), ('guard', 193), ('cathode', 194), ('open', 195), ('release', 196), ('control', 197), ('placed', 198), ('scissor', 199), ('pressing', 200), ('box', 201), ('inspection', 202), ('returned', 203), ('hydraulic', 204), ('tank', 205), ('hole', 206), ('partner', 207), ('last', 208), ('away', 209), ('fell', 210), ('slight', 211), ('hour', 212), ('feel', 213), ('pain', 214), ('come', 215), ('bag', 216), ('maneuver', 217), ('turn', 218), ('mining', 219), ('verify', 220), ('lifting', 221), ('making', 222), ('gate', 223), ('tower', 224), ('suddenly', 225), ('help', 226), ('chute', 227), ('unit', 228), ('knee', 229), ('basket', 230), ('soil', 231), ('behind', 232), ('carrying', 233), ('wall', 234), ('lip', 235), ('projection', 236), ('proceeds', 237), ('solution', 238), ('tool', 239), ('ex', 240), ('auxiliary', 241), ('holding', 242), ('plant', 243), ('instant', 244), ('door', 245), ('zinc', 246), ('order', 247), ('room', 248), ('ramp', 249), ('master', 250), ('roof', 251), ('drainage', 252), ('positioned', 253), ('held', 254), ('op', 255), ('change', 256), ('stopped', 257), ('forearm', 258), ('site', 259), ('test', 260), ('ring', 261), ('welder', 262), ('mine', 263), ('concrete', 264), ('load', 265), ('scoop', 266), ('referred', 267), ('attacked', 268), ('gas', 269), ('leaving', 270), ('suffered', 271), ('went', 272), ('section', 273), ('preparing', 274), ('set', 275), ('lift', 276), ('container', 277), ('lens', 278), ('removed', 279), ('cylinder', 280), ('blade', 281), ('balance', 282), ('flange', 283), ('crown', 284), ('wooden', 285), ('road', 286), ('lesion', 287), ('the', 288), ('surface', 289), ('struck', 290), ('around', 291), ('blow', 292), ('staff', 293), ('cox', 294), ('victim', 295), ('swelling', 296), ('supervisor', 297), ('hospital', 298), ('he', 299), ('detached', 300), ('split', 301), ('shoulder', 302), ('transferred', 303), ('pulling', 304), ('break', 305), ('presence', 306), ('take', 307), ('shotcrete', 308), ('de', 309), ('thumb', 310), ('system', 311), ('liquid', 312), ('valve', 313), ('cabin', 314), ('third', 315), ('stepped', 316), ('iron', 317), ('sleeve', 318), ('superficial', 319), ('service', 320), ('mantel', 321), ('strip', 322), ('mud', 323), ('jumbo', 324), ('pull', 325), ('beam', 326), ('tip', 327), ('coming', 328), ('lever', 329), ('operation', 330), ('positioning', 331), ('board', 332), ('well', 333), ('surprised', 334), ('rope', 335), ('body', 336), ('generates', 337), ('to', 338), ('force', 339), ('enter', 340), ('leather', 341), ('get', 342), ('be', 343), ('little', 344), ('notice', 345), ('evacuated', 346), ('start', 347), ('minor', 348), ('middle', 349), ('bolter', 350), ('close', 351), ('untimely', 352), ('hooked', 353), ('wire', 354), ('geological', 355), ('found', 356), ('tire', 357), ('forest', 358), ('continued', 359), ('project', 360), ('noise', 361), ('easel', 362), ('flow', 363), ('reach', 364), ('ob', 365), ('task', 366), ('length', 367), ('high', 368), ('verified', 369), ('suffering', 370), ('day', 371), ('hot', 372), ('post', 373), ('evaluation', 374), ('electric', 375), ('product', 376), ('bearing', 377), ('mechanical', 378), ('ventilation', 379), ('chimney', 380), ('probe', 381), ('minaret', 382), ('rim', 383), ('pit', 384), ('ear', 385), ('would', 386), ('onto', 387), ('central', 388), ('broken', 389), ('toward', 390), ('upon', 391), ('covered', 392), ('taken', 393), ('suction', 394), ('chin', 395), ('rubber', 396), ('inch', 397), ('fifth', 398), ('evaluate', 399), ('continue', 400), ('discomfort', 401), ('pulp', 402), ('sample', 403), ('normal', 404), ('normally', 405), ('completed', 406), ('give', 407), ('quickly', 408), ('following', 409), ('city', 410), ('epps', 411), ('e', 412), ('later', 413), ('climb', 414), ('three', 415), ('discharge', 416), ('projecting', 417), ('irritation', 418), ('placing', 419), ('proceeded', 420), ('manually', 421), ('electrician', 422), ('manual', 423), ('forehead', 424), ('installation', 425), ('conveyor', 426), ('pie', 427), ('passed', 428), ('scaffolding', 429), ('striking', 430), ('handle', 431), ('chamber', 432), ('table', 433), ('attention', 434), ('decides', 435), ('lid', 436), ('imprisoned', 437), ('check', 438), ('care', 439), ('press', 440), ('process', 441), ('next', 442), ('rotation', 443), ('index', 444), ('protection', 445), ('ankle', 446), ('cat', 447), ('cloth', 448), ('pass', 449), ('returning', 450), ('washing', 451), ('gutter', 452), ('incident', 453), ('decide', 454), ('ingot', 455), ('clean', 456), ('entrance', 457), ('inner', 458), ('clerk', 459), ('bucket', 460), ('suffers', 461), ('performs', 462), ('target', 463), ('accompanied', 464), ('south', 465), ('avoid', 466), ('geologist', 467), ('vegetation', 468), ('push', 469), ('filling', 470), ('entering', 471), ('evacuation', 472), ('local', 473), ('leave', 474), ('emergency', 475), ('wrist', 476), ('palm', 477), ('improve', 478), ('proceed', 479), ('unloading', 480), ('mouth', 481), ('displacement', 482), ('winch', 483), ('aid', 484), ('realized', 485), ('opened', 486), ('try', 487), ('lock', 488), ('filter', 489), ('passing', 490), ('thermal', 491), ('shock', 492), ('splash', 493), ('milton', 494), ('cell', 495), ('degree', 496), ('crane', 497), ('occurred', 498), ('stuck', 499), ('hold', 500), ('communicates', 501), ('mill', 502), ('entered', 503), ('ampoloader', 504), ('rear', 505), ('la', 506), ('holder', 507), ('withdrawal', 508), ('and', 509), ('turned', 510), ('find', 511), ('mineral', 512), ('noticing', 513), ('oil', 514), ('cover', 515), ('loses', 516), ('suspended', 517), ('boiler', 518), ('waste', 519), ('leaf', 520), ('rail', 521), ('ahead', 522), ('traveled', 523), ('bruise', 524), ('metallic', 525), ('fracture', 526), ('pin', 527), ('enters', 528), ('sound', 529), ('approximate', 530), ('stillson', 531), ('heading', 532), ('way', 533), ('zone', 534), ('deep', 535), ('rub', 536), ('together', 537), ('driller', 538), ('could', 539), ('stump', 540), ('wood', 541), ('loose', 542), ('tubing', 543), ('contusion', 544), ('strap', 545), ('internal', 546), ('traveling', 547), ('paralyzed', 548), ('engine', 549), ('electrical', 550), ('affected', 551), ('divine', 552), ('bank', 553), ('complete', 554), ('received', 555), ('parked', 556), ('tipper', 557), ('fourth', 558), ('execution', 559), ('bitten', 560), ('particle', 561), ('branch', 562), ('positive', 563), ('preparation', 564), ('light', 565), ('felt', 566), ('rafael', 567), ('vanilla', 568), ('uniform', 569), ('robson', 570), ('loosen', 571), ('maid', 572), ('doctor', 573), ('station', 574), ('pick', 575), ('begin', 576), ('unlocking', 577), ('distance', 578), ('transmission', 579), ('tension', 580), ('resting', 581), ('protective', 582), ('lunch', 583), ('working', 584), ('intersection', 585), ('phase', 586), ('perforation', 587), ('wheel', 588), ('heated', 589), ('chisel', 590), ('track', 591), ('clinic', 592), ('power', 593), ('cheekbone', 594), ('pushing', 595), ('still', 596), ('fire', 597), ('wrench', 598), ('hope', 599), ('blocked', 600), ('people', 601), ('impacted', 602), ('protruding', 603), ('oven', 604), ('lamp', 605), ('cleaned', 606), ('window', 607), ('pep', 608), ('alone', 609), ('sustained', 610), ('helper', 611), ('descending', 612), ('blunt', 613), ('nut', 614), ('clamp', 615), ('nose', 616), ('pic', 617), ('imprisons', 618), ('transfer', 619), ('general', 620), ('slope', 621), ('sole', 622), ('distal', 623), ('handling', 624), ('long', 625), ('tail', 626), ('main', 627), ('carry', 628), ('perform', 629), ('tell', 630), ('roll', 631), ('welding', 632), ('initial', 633), ('undulation', 634), ('mapping', 635), ('necessary', 636), ('house', 637), ('space', 638), ('put', 639), ('drop', 640), ('happened', 641), ('saw', 642), ('allergy', 643), ('needed', 644), ('attack', 645), ('previously', 646), ('convoy', 647), ('treated', 648), ('stage', 649), ('several', 650), ('see', 651), ('thorn', 652), ('rio', 653), ('decided', 654), ('union', 655), ('overflow', 656), ('walking', 657), ('attempt', 658), ('drawer', 659), ('chest', 660), ('assembly', 661), ('dust', 662), ('hat', 663), ('protector', 664), ('fence', 665), ('extension', 666), ('bumped', 667), ('full', 668), ('sampling', 669), ('loud', 670), ('old', 671), ('directed', 672), ('note', 673), ('identified', 674), ('proceeding', 675), ('motor', 676), ('raise', 677), ('forklift', 678), ('big', 679), ('installing', 680), ('channel', 681), ('housing', 682), ('pot', 683), ('backwards', 684), ('accumulation', 685), ('indicated', 686), ('jonathan', 687), ('standing', 688), ('bottom', 689), ('rest', 690), ('finished', 691), ('cicada', 692), ('limb', 693), ('asks', 694), ('started', 695), ('clearing', 696), ('tie', 697), ('coil', 698), ('warehouse', 699), ('seat', 700), ('apparently', 701), ('blowing', 702), ('official', 703), ('patrol', 704), ('remained', 705), ('furnace', 706), ('incimmet', 707), ('explosive', 708), ('anfoloader', 709), ('throwing', 710), ('jump', 711), ('cause', 712), ('cabinet', 713), ('activates', 714), ('arranged', 715), ('cart', 716), ('accessory', 717), ('vertical', 718), ('form', 719), ('adjustment', 720), ('william', 721), ('supported', 722), ('twist', 723), ('free', 724), ('bend', 725), ('radius', 726), ('approaching', 727), ('supervising', 728), ('previous', 729), ('hop', 730), ('four', 731), ('fine', 732), ('grid', 733), ('bomb', 734), ('across', 735), ('machete', 736), ('locking', 737), ('strike', 738), ('trip', 739), ('anchor', 740), ('lifted', 741), ('cap', 742), ('empty', 743), ('store', 744), ('gallery', 745), ('us', 746), ('verifying', 747), ('remaining', 748), ('wick', 749), ('pole', 750), ('chuck', 751), ('climbing', 752), ('sulfuric', 753), ('observes', 754), ('recovery', 755), ('electrolysis', 756), ('feeder', 757), ('occurs', 758), ('pilot', 759), ('co', 760), ('connection', 761), ('composed', 762), ('staircase', 763), ('forward', 764), ('member', 765), ('jehovah', 766), ('exit', 767), ('reduced', 768), ('got', 769), ('getting', 770), ('radio', 771), ('followed', 772), ('leak', 773), ('closing', 774), ('soon', 775), ('involved', 776), ('pad', 777), ('scooptram', 778), ('reducer', 779), ('paso', 780), ('lane', 781), ('cone', 782), ('ask', 783), ('shank', 784), ('corrugated', 785), ('twisting', 786), ('survey', 787), ('dining', 788), ('anode', 789), ('closed', 790), ('office', 791), ('advance', 792), ('rebound', 793), ('railing', 794), ('gun', 795), ('turning', 796), ('fan', 797), ('routine', 798), ('shape', 799), ('supporting', 800), ('license', 801), ('fabio', 802), ('screen', 803), ('wasp', 804), ('fenced', 805), ('heard', 806), ('intermediate', 807), ('sub', 808), ('excavation', 809), ('bounce', 810), ('shoe', 811), ('metatarsal', 812), ('prevent', 813), ('locked', 814), ('instep', 815), ('ustulado', 816), ('need', 817), ('unclog', 818), ('procedure', 819), ('unexpectedly', 820), ('grab', 821), ('exhortation', 822), ('weighing', 823), ('rice', 824), ('including', 825), ('residual', 826), ('tried', 827), ('panel', 828), ('flash', 829), ('jacket', 830), ('increase', 831), ('row', 832), ('thigh', 833), ('called', 834), ('warning', 835), ('concentrate', 836), ('assisted', 837), ('horizontally', 838), ('releasing', 839), ('effect', 840), ('exerted', 841), ('entry', 842), ('tilted', 843), ('aluminum', 844), ('short', 845), ('walk', 846), ('fact', 847), ('nascar', 848), ('secondary', 849), ('effort', 850), ('engineer', 851), ('amount', 852), ('wore', 853), ('embedded', 854), ('alpha', 855), ('finding', 856), ('noticed', 857), ('telescopic', 858), ('storm', 859), ('pumping', 860), ('low', 861), ('lose', 862), ('starting', 863), ('realizing', 864), ('stung', 865), ('leakage', 866), ('transporting', 867), ('unbalanced', 868), ('leaching', 869), ('cement', 870), ('slid', 871), ('action', 872), ('paper', 873), ('wagon', 874), ('radial', 875), ('negative', 876), ('bit', 877), ('coupling', 878), ('abruptly', 879), ('mobile', 880), ('hook', 881), ('hoist', 882), ('going', 883), ('ripper', 884), ('mooring', 885), ('blasting', 886), ('cutter', 887), ('worked', 888), ('cross', 889), ('sling', 890), ('reached', 891), ('electrowelded', 892), ('shear', 893), ('secured', 894), ('raised', 895), ('square', 896), ('fixing', 897), ('heavy', 898), ('supply', 899), ('sliding', 900), ('thickener', 901), ('manipulating', 902), ('parking', 903), ('brake', 904), ('safe', 905), ('conditioning', 906), ('shifted', 907), ('quirodactyl', 908), ('identify', 909), ('since', 910), ('able', 911), ('phalanx', 912), ('scaffold', 913), ('van', 914), ('nail', 915), ('stumble', 916), ('rob', 917), ('ton', 918), ('residue', 919), ('helical', 920), ('resulting', 921), ('slightly', 922), ('angle', 923), ('led', 924), ('stool', 925), ('sink', 926), ('pierced', 927), ('receiving', 928), ('additive', 929), ('thickness', 930), ('align', 931), ('originating', 932), ('operates', 933), ('polyethylene', 934), ('steam', 935), ('disk', 936), ('tunnel', 937), ('strut', 938), ('burning', 939), ('transport', 940), ('inspect', 941), ('along', 942), ('mask', 943), ('according', 944), ('interior', 945), ('assembling', 946), ('accommodate', 947), ('fuel', 948), ('stone', 949), ('maracatu', 950), ('orlando', 951), ('bolted', 952), ('plug', 953), ('correct', 954), ('arc', 955), ('cord', 956), ('coordinated', 957), ('prospector', 958), ('already', 959), ('reconnaissance', 960), ('zero', 961), ('felipe', 962), ('encountered', 963), ('leaning', 964), ('sediment', 965), ('current', 966), ('wa', 967), ('ran', 968), ('guide', 969), ('state', 970), ('highway', 971), ('arian', 972), ('distancing', 973), ('hurried', 974), ('girdle', 975), ('goggles', 976), ('paulo', 977), ('autoclave', 978), ('problem', 979), ('camera', 980), ('respective', 981), ('dropped', 982), ('external', 983), ('treatment', 984), ('rupture', 985), ('mean', 986), ('knife', 987), ('compressed', 988), ('fixed', 989), ('hoisting', 990), ('throw', 991), ('squat', 992), ('cervical', 993), ('attached', 994), ('red', 995), ('false', 996), ('contaminated', 997), ('shovel', 998), ('corresponding', 999), ('outside', 1000), ('horse', 1001), ('pound', 1002), ('canvas', 1003), ('industrial', 1004), ('marco', 1005), ('colleague', 1006), ('escape', 1007), ('attended', 1008), ('prevented', 1009), ('exchange', 1010), ('approach', 1011), ('brace', 1012), ('said', 1013), ('corner', 1014), ('park', 1015), ('fill', 1016), ('appears', 1017), ('trapping', 1018), ('calf', 1019), ('energized', 1020), ('engaged', 1021), ('friction', 1022), ('maribondos', 1023), ('rung', 1024), ('duty', 1025), ('litorina', 1026), ('barbed', 1027), ('guillotine', 1028), ('atlas', 1029), ('magnetometric', 1030), ('dry', 1031), ('prick', 1032), ('caught', 1033), ('provoking', 1034), ('sta', 1035), ('rushed', 1036), ('sketched', 1037), ('six', 1038), ('swarm', 1039), ('activated', 1040), ('grip', 1041), ('polymer', 1042), ('luis', 1043), ('evaluated', 1044), ('mild', 1045), ('localized', 1046), ('reported', 1047), ('disassembled', 1048), ('supervision', 1049), ('smaller', 1050), ('fit', 1051), ('albino', 1052), ('seeing', 1053), ('sodium', 1054), ('sulphide', 1055), ('shower', 1056), ('milo', 1057), ('bob', 1058), ('penultimate', 1059), ('worn', 1060), ('silo', 1061), ('powder', 1062), ('street', 1063), ('volumetric', 1064), ('balloon', 1065), ('breaking', 1066), ('jos', 1067), ('tecnomin', 1068), ('era', 1069), ('trap', 1070), ('sitting', 1071), ('bore', 1072), ('sudden', 1073), ('dioxide', 1074), ('spent', 1075), ('spilling', 1076), ('nearby', 1077), ('eyewash', 1078), ('loner', 1079), ('rubbing', 1080), ('content', 1081), ('cook', 1082), ('pouring', 1083), ('ustulaci', 1084), ('cyclone', 1085), ('obstructed', 1086), ('heel', 1087), ('shell', 1088), ('lance', 1089), ('collar', 1090), ('facial', 1091), ('diamond', 1092), ('lateral', 1093), ('spark', 1094), ('produced', 1095), ('corridor', 1096), ('detachment', 1097), ('tied', 1098), ('yield', 1099), ('samuel', 1100), ('jib', 1101), ('piston', 1102), ('bracket', 1103), ('frontal', 1104), ('loosening', 1105), ('steering', 1106), ('socket', 1107), ('retired', 1108), ('dollars', 1109), ('bending', 1110), ('sits', 1111), ('reason', 1112), ('identifies', 1113), ('unload', 1114), ('kneeling', 1115), ('distributor', 1116), ('spilled', 1117), ('gave', 1118), ('contractor', 1119), ('pen', 1120), ('lost', 1121), ('barretilla', 1122), ('launch', 1123), ('canon', 1124), ('trauma', 1125), ('joint', 1126), ('involuntarily', 1127), ('kelly', 1128), ('beehive', 1129), ('excited', 1130), ('pre', 1131), ('list', 1132), ('plastic', 1133), ('bottle', 1134), ('filled', 1135), ('expelling', 1136), ('wash', 1137), ('rotor', 1138), ('superficially', 1139), ('essa', 1140), ('usual', 1141), ('spear', 1142), ('operated', 1143), ('loaded', 1144), ('bin', 1145), ('advancing', 1146), ('motorist', 1147), ('simba', 1148), ('mounted', 1149), ('feeding', 1150), ('containing', 1151), ('in', 1152), ('abrupt', 1153), ('shotcreterepentinamente', 1154), ('superior', 1155), ('injures', 1156), ('cops', 1157), ('fop', 1158), ('polyontusions', 1159), ('storia', 1160), ('arriving', 1161), ('lowered', 1162), ('retiring', 1163), ('hears', 1164), ('rolling', 1165), ('sustaining', 1166), ('messes', 1167), ('culminated', 1168), ('stretcher', 1169), ('result', 1170), ('placement', 1171), ('checked', 1172), ('transiting', 1173), ('copper', 1174), ('inertia', 1175), ('dump', 1176), ('via', 1177), ('cristian', 1178), ('jose', 1179), ('mechanized', 1180), ('clamping', 1181), ('pom', 1182), ('fitting', 1183), ('resident', 1184), ('anchored', 1185), ('dumper', 1186), ('reverse', 1187), ('gear', 1188), ('cab', 1189), ('arktech', 1190), ('putty', 1191), ('tick', 1192), ('dragging', 1193), ('grate', 1194), ('diagonal', 1195), ('crouching', 1196), ('marked', 1197), ('tape', 1198), ('lookout', 1199), ('santa', 1200), ('magnetometer', 1201), ('pedro', 1202), ('prepared', 1203), ('stem', 1204), ('downward', 1205), ('possibly', 1206), ('grazed', 1207), ('manipulated', 1208), ('dismantling', 1209), ('chirodactilo', 1210), ('puddle', 1211), ('transversely', 1212), ('east', 1213), ('teacher', 1214), ('rise', 1215), ('tying', 1216), ('attempting', 1217), ('electro', 1218), ('welded', 1219), ('bring', 1220), ('imprisonment', 1221), ('impregnated', 1222), ('thinner', 1223), ('screwdriver', 1224), ('oxide', 1225), ('produce', 1226), ('cesar', 1227), ('picking', 1228), ('mix', 1229), ('debarking', 1230), ('prong', 1231), ('wilder', 1232), ('indicates', 1233), ('dropping', 1234), ('imprisoning', 1235), ('operating', 1236), ('analysis', 1237), ('thrown', 1238), ('conducting', 1239), ('spill', 1240), ('sanding', 1241), ('blanket', 1242), ('weld', 1243), ('losing', 1244), ('lying', 1245), ('ago', 1246), ('confined', 1247), ('skin', 1248), ('mesa', 1249), ('respond', 1250), ('completing', 1251), ('lima', 1252), ('cage', 1253), ('ceiling', 1254), ('filtration', 1255), ('visit', 1256), ('carbon', 1257), ('marking', 1258), ('tables', 1259), ('feeling', 1260), ('intention', 1261), ('link', 1262), ('starter', 1263), ('trench', 1264), ('partially', 1265), ('voltage', 1266), ('sure', 1267), ('collect', 1268), ('washed', 1269), ('farm', 1270), ('morals', 1271), ('biliary', 1272), ('outcrop', 1273), ('snake', 1274), ('tearing', 1275), ('bodeguero', 1276), ('required', 1277), ('bine', 1278), ('path', 1279), ('management', 1280), ('wanted', 1281), ('pas', 1282), ('sardines', 1283), ('pulled', 1284), ('iii', 1285), ('strong', 1286), ('vacant', 1287), ('mata', 1288), ('serra', 1289), ('garrote', 1290), ('leaner', 1291), ('shallow', 1292), ('carton', 1293), ('possible', 1294), ('looking', 1295), ('brent', 1296), ('consequently', 1297), ('belly', 1298), ('collided', 1299), ('detonating', 1300), ('construction', 1301), ('mason', 1302), ('geology', 1303), ('renato', 1304), ('admir', 1305), ('five', 1306), ('legging', 1307), ('mario', 1308), ('marcos', 1309), ('stooped', 1310), ('deviate', 1311), ('whistling', 1312), ('chicken', 1313), ('coordination', 1314), ('diesel', 1315), ('accidentally', 1316), ('observing', 1317), ('storage', 1318), ('sought', 1319), ('exploded', 1320), ('pneumatic', 1321), ('presented', 1322), ('energy', 1323), ('shift', 1324), ('hinge', 1325), ('sludge', 1326), ('handrail', 1327), ('geo', 1328), ('shaft', 1329), ('bridge', 1330), ('prepares', 1331), ('exposed', 1332), ('shot', 1333), ('crash', 1334), ('consultant', 1335), ('invaded', 1336), ('civilian', 1337), ('sharply', 1338), ('melt', 1339), ('inching', 1340), ('width', 1341), ('boom', 1342), ('large', 1343), ('informs', 1344), ('swing', 1345), ('railway', 1346), ('nitric', 1347), ('thread', 1348), ('percussion', 1349), ('generate', 1350), ('shaped', 1351), ('bio', 1352), ('torch', 1353), ('italic', 1354), ('present', 1355), ('directly', 1356), ('initiating', 1357), ('rec', 1358), ('medicated', 1359), ('production', 1360), ('wedge', 1361), ('stumbled', 1362), ('building', 1363), ('barely', 1364), ('occurring', 1365), ('coordinate', 1366), ('upwards', 1367), ('rap', 1368), ('excess', 1369), ('basin', 1370), ('nylon', 1371), ('seen', 1372), ('participating', 1373), ('do', 1374), ('eyelid', 1375), ('chemical', 1376), ('anterior', 1377), ('caustic', 1378), ('soda', 1379), ('twice', 1380), ('ruptured', 1381), ('september', 1382), ('final', 1383), ('splinter', 1384), ('monitoring', 1385), ('borehole', 1386), ('lubricant', 1387), ('skimmer', 1388), ('broke', 1389), ('reduction', 1390), ('spike', 1391), ('luciano', 1392), ('administrative', 1393), ('size', 1394), ('pushed', 1395), ('ee', 1396), ('lubricator', 1397), ('elise', 1398), ('crushing', 1399), ('respirator', 1400), ('rescued', 1401), ('loosened', 1402), ('its', 1403), ('rollover', 1404), ('derails', 1405), ('animal', 1406), ('perceives', 1407), ('inclined', 1408), ('stair', 1409), ('observe', 1410), ('finally', 1411), ('battery', 1412), ('manhole', 1413), ('immediate', 1414), ('vista', 1415), ('crossing', 1416), ('food', 1417), ('sledgehammer', 1418), ('screw', 1419), ('lifeline', 1420), ('repair', 1421), ('bap', 1422), ('emerson', 1423), ('even', 1424), ('soldering', 1425), ('wide', 1426), ('stretch', 1427), ('marcel', 1428), ('foam', 1429), ('ustulador', 1430), ('taco', 1431), ('designated', 1432), ('failure', 1433), ('install', 1434), ('sloping', 1435), ('interlaced', 1436), ('elbow', 1437), ('walrus', 1438), ('setting', 1439), ('anfo', 1440), ('reporting', 1441), ('polypropylene', 1442), ('averaging', 1443), ('motion', 1444), ('compressor', 1445), ('propeller', 1446), ('peristaltic', 1447), ('reserve', 1448), ('operate', 1449), ('designing', 1450), ('painting', 1451), ('paint', 1452), ('measuring', 1453), ('putting', 1454), ('cruise', 1455), ('gill', 1456), ('insect', 1457), ('antiallergic', 1458), ('responsible', 1459), ('casting', 1460), ('job', 1461), ('depth', 1462), ('cop', 1463), ('sampler', 1464), ('cro', 1465), ('visualizes', 1466), ('dismantled', 1467), ('aggregate', 1468), ('vos', 1469), ('stinging', 1470), ('play', 1471), ('visibility', 1472), ('hissing', 1473), ('ripped', 1474), ('tangled', 1475), ('automatic', 1476), ('solid', 1477), ('potion', 1478), ('ke', 1479), ('disabled', 1480), ('profile', 1481), ('offuel', 1482), ('proingcom', 1483), ('foreman', 1484), ('indicate', 1485), ('refuge', 1486), ('orange', 1487), ('alert', 1488), ('detector', 1489), ('correspond', 1490), ('hematoma', 1491), ('fastening', 1492), ('toe', 1493), ('chicoteo', 1494), ('secrete', 1495), ('ip', 1496), ('paralyze', 1497), ('observed', 1498), ('sanitation', 1499), ('underground', 1500), ('brigade', 1501), ('pocket', 1502), ('tether', 1503), ('fu', 1504), ('spool', 1505), ('pipette', 1506), ('clothes', 1507), ('maslucan', 1508), ('fragments', 1509), ('tray', 1510), ('module', 1511), ('empress', 1512), ('serf', 1513), ('ma', 1514), ('operational', 1515), ('excavated', 1516), ('occupant', 1517), ('magazine', 1518), ('centralized', 1519), ('facilitate', 1520), ('accelerate', 1521), ('tightens', 1522), ('activation', 1523), ('piping', 1524), ('uncoupled', 1525), ('sulfide', 1526), ('designed', 1527), ('ambulatory', 1528), ('gram', 1529), ('liter', 1530), ('flat', 1531), ('beak', 1532), ('soviet', 1533), ('hexagonal', 1534), ('bal', 1535), ('exert', 1536), ('dado', 1537), ('rotate', 1538), ('anti', 1539), ('clockwise', 1540), ('anthony', 1541), ('group', 1542), ('leader', 1543), ('eduardo', 1544), ('eric', 1545), ('fern', 1546), ('nder', 1547), ('zap', 1548), ('marcy', 1549), ('heating', 1550), ('unhooking', 1551), ('total', 1552), ('depressurisation', 1553), ('ended', 1554), ('miguel', 1555), ('illness', 1556), ('manipulate', 1557), ('lead', 1558), ('splashed', 1559), ('fissure', 1560), ('subsequently', 1561), ('segment', 1562), ('polyurethane', 1563), ('rotated', 1564), ('compress', 1565), ('hip', 1566), ('evacuate', 1567), ('cooking', 1568), ('jab', 1569), ('tilt', 1570), ('applies', 1571), ('cold', 1572), ('duct', 1573), ('thermomagnetic', 1574), ('trailer', 1575), ('fi', 1576), ('shutter', 1577), ('afraid', 1578), ('despite', 1579), ('spatter', 1580), ('hood', 1581), ('up', 1582), ('overheating', 1583), ('manages', 1584), ('chief', 1585), ('changed', 1586), ('ambulance', 1587), ('manuel', 1588), ('disconnection', 1589), ('mango', 1590), ('cajamarquilla', 1591), ('subsequent', 1592), ('silver', 1593), ('afterwards', 1594), ('latter', 1595), ('stroke', 1596), ('enforce', 1597), ('aligning', 1598), ('applied', 1599), ('milford', 1600), ('resistance', 1601), ('lineman', 1602), ('reshaping', 1603), ('beating', 1604), ('favor', 1605), ('deslaminadora', 1606), ('stacking', 1607), ('requires', 1608), ('brushed', 1609), ('willing', 1610), ('displace', 1611), ('adhered', 1612), ('grazing', 1613), ('knuckle', 1614), ('enabled', 1615), ('taking', 1616), ('importance', 1617), ('derived', 1618), ('remains', 1619), ('half', 1620), ('griff', 1621), ('unscrew', 1622), ('semi', 1623), ('debris', 1624), ('extra', 1625), ('muscle', 1626), ('trainee', 1627), ('planamieto', 1628), ('notebook', 1629), ('inspecting', 1630), ('stepping', 1631), ('difficult', 1632), ('sarang', 1633), ('juan', 1634), ('reacting', 1635), ('managing', 1636), ('launched', 1637), ('finishing', 1638), ('alberto', 1639), ('phony', 1640), ('cockpit', 1641), ('launcher', 1642), ('martial', 1643), ('labor', 1644), ('tapped', 1645), ('replacing', 1646), ('expansion', 1647), ('chemo', 1648), ('conductive', 1649), ('rig', 1650), ('label', 1651), ('labeling', 1652), ('sip', 1653), ('enough', 1654), ('esengrasante', 1655), ('machinery', 1656), ('toxicity', 1657), ('flight', 1658), ('lubrication', 1659), ('sulfur', 1660), ('seal', 1661), ('overpressure', 1662), ('cosa', 1663), ('portable', 1664), ('hanging', 1665), ('dead', 1666), ('iv', 1667), ('pillar', 1668), ('specified', 1669), ('figure', 1670), ('neutral', 1671), ('airlift', 1672), ('baton', 1673), ('spatula', 1674), ('ith', 1675), ('withdrawing', 1676), ('paid', 1677), ('gallon', 1678), ('derailed', 1679), ('trapped', 1680), ('bruised', 1681), ('scrap', 1682), ('explosion', 1683), ('fectuaban', 1684), ('stabilizer', 1685), ('hab', 1686), ('treading', 1687), ('disposal', 1688), ('rolled', 1689), ('contained', 1690), ('accommodated', 1691), ('tractor', 1692), ('purification', 1693), ('directs', 1694), ('sacrifice', 1695), ('tightening', 1696), ('neglected', 1697), ('cruz', 1698), ('shipment', 1699), ('rigger', 1700), ('shipping', 1701), ('herface', 1702), ('became', 1703), ('cadmium', 1704), ('factory', 1705), ('sulphate', 1706), ('refurbishment', 1707), ('laden', 1708), ('curve', 1709), ('overturning', 1710), ('alcohotest', 1711), ('anchorage', 1712), ('anchoring', 1713), ('diamantina', 1714), ('ord', 1715), ('simultaneously', 1716), ('lack', 1717), ('securing', 1718), ('drum', 1719), ('displaces', 1720), ('roy', 1721), ('scenario', 1722), ('bundle', 1723), ('blown', 1724), ('detaching', 1725), ('shipper', 1726), ('scheduled', 1727), ('almost', 1728), ('supervise', 1729), ('harness', 1730), ('tailing', 1731), ('fully', 1732), ('accessing', 1733), ('novo', 1734), ('chop', 1735), ('steep', 1736), ('gravel', 1737), ('certain', 1738), ('become', 1739), ('jack', 1740), ('entire', 1741), ('effective', 1742), ('efficacy', 1743), ('done', 1744), ('chestnut', 1745), ('monkey', 1746), ('faucet', 1747), ('firmly', 1748), ('composition', 1749), ('sutured', 1750), ('stitch', 1751), ('rainer', 1752), ('object', 1753), ('thus', 1754), ('pierce', 1755), ('pasture', 1756), ('recently', 1757), ('residence', 1758), ('scaler', 1759), ('restricts', 1760), ('bo', 1761), ('photo', 1762), ('disassembly', 1763), ('pulpomatic', 1764), ('sump', 1765), ('rivet', 1766), ('horizontal', 1767), ('cluster', 1768), ('sleeper', 1769), ('protruded', 1770), ('chair', 1771), ('grille', 1772), ('accidently', 1773), ('maximum', 1774), ('lay', 1775), ('pig', 1776), ('stope', 1777), ('obstruct', 1778), ('direct', 1779), ('sectioned', 1780), ('hydrogen', 1781), ('obstruction', 1782), ('pedal', 1783), ('bypass', 1784), ('raul', 1785), ('bolting', 1786), ('rolando', 1787), ('pink', 1788), ('overhanging', 1789), ('luna', 1790), ('cruiser', 1791), ('pentacord', 1792), ('recap', 1793), ('attendant', 1794), ('compartment', 1795), ('classification', 1796), ('litter', 1797), ('rotary', 1798), ('flammable', 1799), ('acl', 1800), ('raising', 1801), ('indexed', 1802), ('turntable', 1803), ('woman', 1804), ('discharging', 1805), ('hydroxide', 1806), ('disconnecting', 1807), ('demineralization', 1808), ('sensor', 1809), ('jesus', 1810), ('shooting', 1811), ('applying', 1812), ('realizes', 1813), ('directing', 1814), ('passage', 1815), ('presenting', 1816), ('poncho', 1817), ('curling', 1818), ('embed', 1819), ('dah', 1820), ('explain', 1821), ('tomorro', 1822), ('rotates', 1823), ('introduce', 1824), ('introduces', 1825), ('pointed', 1826), ('kevin', 1827), ('subjection', 1828), ('achieving', 1829), ('francisco', 1830), ('eyebrow', 1831), ('spun', 1832), ('die', 1833), ('geomembrane', 1834), ('seam', 1835), ('extruder', 1836), ('style', 1837), ('quinoa', 1838), ('tread', 1839), ('laterally', 1840), ('sunday', 1841), ('saying', 1842), ('heat', 1843), ('exchanger', 1844), ('defined', 1845), ('risk', 1846), ('sulfate', 1847), ('jag', 1848), ('missing', 1849), ('gearbox', 1850), ('backhoe', 1851), ('moon', 1852), ('visited', 1853), ('facility', 1854), ('waiting', 1855), ('el', 1856), ('souvenir', 1857), ('accretion', 1858), ('scalp', 1859), ('sheepskin', 1860), ('silicate', 1861), ('juvenile', 1862), ('dizziness', 1863), ('faintness', 1864), ('concussion', 1865), ('transit', 1866), ('tanker', 1867), ('north', 1868), ('skid', 1869), ('defensive', 1870), ('wellfield', 1871), ('balancing', 1872), ('tree', 1873), ('underwent', 1874), ('macedonia', 1875), ('shorten', 1876), ('injection', 1877), ('resin', 1878), ('affecting', 1879), ('soft', 1880), ('igor', 1881), ('discovered', 1882), ('checking', 1883), ('outlet', 1884), ('acted', 1885), ('will', 1886), ('divert', 1887), ('diversion', 1888), ('marimbondo', 1889), ('giving', 1890), ('thug', 1891), ('agitated', 1892), ('peeling', 1893), ('chirodactile', 1894), ('becker', 1895), ('ditch', 1896), ('estimated', 1897), ('drain', 1898), ('winery', 1899), ('chagga', 1900), ('grinder', 1901), ('adapted', 1902), ('crosscutter', 1903), ('traumatic', 1904), ('amputation', 1905), ('lakes', 1906), ('junior', 1907), ('costa', 1908), ('wounding', 1909), ('hauling', 1910), ('riding', 1911), ('saddle', 1912), ('weakly', 1913), ('pipeline', 1914), ('seatbelt', 1915), ('electrometallurgy', 1916), ('code', 1917), ('ele', 1918), ('abb', 1919), ('cia', 1920), ('stacker', 1921), ('laceration', 1922), ('concentrator', 1923), ('flotation', 1924), ('pub', 1925), ('lean', 1926), ('eustaquio', 1927), ('lux', 1928), ('toque', 1929), ('brushcutters', 1930), ('candles', 1931), ('slow', 1932), ('finish', 1933), ('disintegrates', 1934), ('stopper', 1935), ('mortar', 1936), ('bricklayer', 1937), ('per', 1938), ('sand', 1939), ('personal', 1940), ('elisa', 1941), ('seven', 1942), ('technical', 1943), ('paused', 1944), ('know', 1945), ('weed', 1946), ('communication', 1947), ('distanced', 1948), ('informed', 1949), ('scrubber', 1950), ('feed', 1951), ('georgi', 1952), ('initiated', 1953), ('tis', 1954), ('acc', 1955), ('arrives', 1956), ('verification', 1957), ('confirming', 1958), ('downwards', 1959), ('patrician', 1960), ('pivot', 1961), ('gauge', 1962), ('temporary', 1963), ('cue', 1964), ('burst', 1965), ('thunderous', 1966), ('psi', 1967), ('stacked', 1968), ('night', 1969), ('none', 1970), ('damage', 1971), ('sigma', 1972), ('piqued', 1973), ('civil', 1974), ('looked', 1975), ('concentration', 1976), ('consequence', 1977), ('pendulum', 1978), ('bouncing', 1979), ('sit', 1980), ('accompanying', 1981), ('mixed', 1982), ('attributing', 1983), ('reference', 1984), ('attrition', 1985), ('frank', 1986), ('sacrificial', 1987), ('strained', 1988), ('casino', 1989), ('dole', 1990), ('adjutant', 1991), ('fernando', 1992), ('hardened', 1993), ('stake', 1994), ('brjcldd', 1995), ('servitecforaco', 1996), ('july', 1997), ('josiah', 1998), ('fish', 1999), ('curl', 2000), ('suture', 2001), ('paste', 2002), ('vacuum', 2003), ('reduce', 2004), ('kept', 2005), ('void', 2006), ('of', 2007), ('charging', 2008), ('delivery', 2009), ('surrounding', 2010), ('funnel', 2011), ('man', 2012), ('stood', 2013), ('mona', 2014), ('rocker', 2015), ('laboratory', 2016), ('coat', 2017), ('success', 2018), ('like', 2019), ('cane', 2020), ('warring', 2021), ('cracking', 2022), ('inlet', 2023), ('laminator', 2024), ('draining', 2025), ('ammonia', 2026), ('refrigerant', 2027), ('drained', 2028), ('eu', 2029), ('braking', 2030), ('failed', 2031), ('new', 2032), ('evaporator', 2033), ('connecting', 2034), ('share', 2035), ('equally', 2036), ('weighs', 2037), ('spoiler', 2038), ('squatting', 2039), ('elevation', 2040), ('aerial', 2041), ('watermelon', 2042), ('mincing', 2043), ('ju', 2044), ('na', 2045), ('blackjack', 2046), ('manifestation', 2047), ('afternoon', 2048), ('clogging', 2049), ('ejecting', 2050), ('detritus', 2051), ('wear', 2052), ('barman', 2053), ('jaw', 2054), ('crusher', 2055), ('device', 2056), ('overhead', 2057), ('cinnamon', 2058), ('tenth', 2059), ('assemble', 2060), ('retracts', 2061), ('catheter', 2062), ('inclination', 2063), ('lit', 2064), ('maintaining', 2065), ('overlap', 2066), ('non', 2067), ('introduced', 2068), ('band', 2069), ('uneven', 2070), ('distribution', 2071), ('servant', 2072), ('dish', 2073), ('bowl', 2074), ('chiropactyl', 2075), ('inchancables', 2076), ('rake', 2077), ('topographic', 2078), ('west', 2079), ('expedition', 2080), ('overall', 2081), ('electrolyte', 2082), ('hoe', 2083), ('abdomen', 2084), ('repulsing', 2085), ('soiling', 2086), ('obstructing', 2087), ('vision', 2088), ('fiberglass', 2089), ('marble', 2090), ('shuttering', 2091), ('sedimentation', 2092), ('nailing', 2093), ('fix', 2094), ('vertically', 2095), ('rehabilitation', 2096), ('kitchen', 2097), ('specific', 2098), ('becomes', 2099), ('clogged', 2100), ('young', 2101), ('lady', 2102), ('teller', 2103), ('circuit', 2104), ('foliage', 2105), ('leucas', 2106), ('locker', 2107), ('mallet', 2108), ('conchucos', 2109), ('encash', 2110), ('national', 2111), ('feast', 2112), ('representing', 2113), ('ceremony', 2114), ('fruit', 2115), ('toy', 2116), ('attending', 2117), ('public', 2118), ('gift', 2119), ('frightened', 2120), ('kicked', 2121), ('sickle', 2122), ('vine', 2123), ('liana', 2124), ('roller', 2125), ('warp', 2126), ('proximal', 2127), ('review', 2128), ('existence', 2129), ('raped', 2130), ('swathed', 2131), ('blower', 2132), ('lubricating', 2133), ('alfredo', 2134), ('correcting', 2135), ('mini', 2136), ('adapter', 2137), ('utensil', 2138), ('stir', 2139), ('cooker', 2140), ('tranqued', 2141), ('slipping', 2142), ('rasp', 2143), ('thorax', 2144), ('confipetrol', 2145), ('progress', 2146), ('sido', 2147), ('torres', 2148), ('standardization', 2149), ('nipple', 2150), ('lime', 2151), ('reactive', 2152), ('flexing', 2153), ('upward', 2154), ('spume', 2155), ('location', 2156), ('excessive', 2157), ('sprain', 2158), ('freed', 2159), ('descended', 2160), ('bad', 2161), ('polling', 2162), ('suitably', 2163), ('resulted', 2164), ('environment', 2165), ('creating', 2166), ('continuing', 2167), ('ribbon', 2168), ('avenue', 2169), ('excavator', 2170), ('bump', 2171), ('snack', 2172), ('stretched', 2173), ('superciliary', 2174), ('inchancanbles', 2175), ('reciprocating', 2176), ('arranging', 2177), ('flexible', 2178), ('watered', 2179), ('fired', 2180), ('deteriorated', 2181), ('fisherman', 2182), ('developing', 2183), ('whiplash', 2184), ('tycoon', 2185), ('drawing', 2186), ('jet', 2187), ('blaster', 2188), ('spare', 2189), ('reposition', 2190), ('stability', 2191), ('headlight', 2192), ('defective', 2193), ('alimakero', 2194), ('untie', 2195), ('fragmented', 2196), ('rack', 2197), ('fabric', 2198), ('reception', 2199), ('keypad', 2200), ('manipulates', 2201), ('erik', 2202), ('john', 2203), ('inchancable', 2204), ('igniting', 2205), ('reflux', 2206), ('wilmer', 2207), ('drying', 2208), ('striping', 2209), ('tranfer', 2210), ('exerts', 2211), ('sar', 2212), ('receive', 2213), ('rom', 2214), ('pedestal', 2215), ('planning', 2216), ('povoado', 2217), ('martin', 2218), ('ce', 2219), ('vera', 2220), ('dialysis', 2221), ('nascimento', 2222), ('ganja', 2223), ('consultation', 2224), ('diagnose', 2225), ('prescribing', 2226), ('remedy', 2227), ('ice', 2228), ('pack', 2229), ('sailor', 2230), ('er', 2231), ('element', 2232), ('denis', 2233), ('imbalance', 2234), ('manipulation', 2235), ('tropics', 2236), ('emulsion', 2237), ('dimension', 2238), ('pinking', 2239), ('tabula', 2240), ('stepladder', 2241), ('reinforce', 2242), ('deepening', 2243), ('walked', 2244), ('distant', 2245), ('flex', 2246), ('terror', 2247), ('tightened', 2248), ('eyeball', 2249), ('click', 2250), ('mirror', 2251), ('timely', 2252), ('earth', 2253), ('combination', 2254), ('claudio', 2255), ('readjusted', 2256), ('greater', 2257), ('torque', 2258), ('containment', 2259), ('formation', 2260), ('ii', 2261), ('suspender', 2262), ('embedding', 2263), ('december', 2264), ('register', 2265), ('cooling', 2266), ('carpenter', 2267), ('diverting', 2268), ('bathroom', 2269), ('calibrated', 2270), ('chuquillanqui', 2271), ('insulation', 2272), ('unleashing', 2273), ('saturated', 2274), ('talus', 2275), ('crest', 2276), ('rugged', 2277), ('taut', 2278), ('crumbles', 2279), ('cheek', 2280), ('isolated', 2281), ('temporarily', 2282), ('bos', 2283), ('withdrew', 2284), ('ajax', 2285), ('spoon', 2286), ('slag', 2287), ('performer', 2288), ('hidalgo', 2289), ('wanting', 2290), ('stand', 2291), ('unstable', 2292), ('reel', 2293), ('driving', 2294), ('frontally', 2295), ('ronald', 2296), ('lighthouse', 2297), ('catching', 2298), ('erasing', 2299), ('alizado', 2300), ('ironing', 2301), ('tour', 2302), ('command', 2303), ('attraction', 2304), ('volvo', 2305), ('oxicorte', 2306), ('deluminator', 2307), ('detecting', 2308), ('manipulator', 2309), ('arrange', 2310), ('fuse', 2311), ('month', 2312), ('rapid', 2313), ('bothering', 2314), ('untied', 2315), ('settling', 2316), ('crew', 2317), ('melting', 2318), ('slimming', 2319), ('kiln', 2320), ('began', 2321), ('crucible', 2322), ('moins', 2323), ('vanishes', 2324), ('radiator', 2325), ('roger', 2326), ('detaches', 2327), ('collecting', 2328), ('symptom', 2329), ('carmen', 2330), ('slab', 2331), ('lodged', 2332), ('uncover', 2333), ('ethanol', 2334), ('perils', 2335), ('congestion', 2336), ('fender', 2337), ('stationed', 2338), ('abutment', 2339), ('stirrup', 2340), ('noted', 2341), ('watch', 2342), ('extraction', 2343), ('twisted', 2344), ('paralyzes', 2345), ('winemaker', 2346), ('alex', 2347), ('pickaxe', 2348), ('assist', 2349), ('ferrante', 2350), ('needle', 2351), ('retraction', 2352), ('santos', 2353), ('dame', 2354), ('known', 2355), ('goat', 2356), ('jumped', 2357), ('managed', 2358), ('sweep', 2359), ('misalignment', 2360), ('scraper', 2361), ('perceived', 2362), ('stomach', 2363), ('enmicadas', 2364), ('page', 2365), ('yolk', 2366), ('signaling', 2367), ('packaging', 2368), ('cylindrical', 2369), ('strength', 2370), ('threw', 2371), ('eyelash', 2372), ('daniel', 2373), ('spillway', 2374), ('absorbent', 2375), ('ax', 2376), ('bonnet', 2377), ('functioning', 2378), ('rag', 2379), ('carpentry', 2380), ('diagnosis', 2381), ('mount', 2382), ('pickup', 2383), ('disrupted', 2384), ('loosens', 2385), ('vardan', 2386), ('connector', 2387), ('ant', 2388), ('amani', 2389), ('lilian', 2390), ('folder', 2391), ('ilu', 2392), ('diagonally', 2393), ('inward', 2394), ('stabilizes', 2395), ('avoiding', 2396), ('extracting', 2397), ('vid', 2398), ('freddy', 2399), ('touch', 2400), ('period', 2401), ('continuously', 2402), ('conclusion', 2403), ('amp', 2404), ('hatch', 2405), ('surcharge', 2406), ('walter', 2407), ('arrived', 2408), ('driven', 2409), ('request', 2410), ('data', 2411), ('pinning', 2412), ('wheelbarrow', 2413), ('shaking', 2414), ('pant', 2415), ('scorpion', 2416), ('cycle', 2417), ('jackleg', 2418), ('transverse', 2419), ('assisting', 2420), ('moth', 2421), ('sunglass', 2422), ('marimbondos', 2423), ('drove', 2424), ('medicine', 2425), ('situation', 2426), ('also', 2427), ('good', 2428), ('lavrans', 2429), ('sul', 2430), ('consulted', 2431), ('pique', 2432), ('milling', 2433), ('is', 2434), ('decreasing', 2435), ('lloclla', 2436), ('hill', 2437), ('aforementioned', 2438), ('grinding', 2439), ('triangular', 2440), ('injuring', 2441), ('refractory', 2442), ('brick', 2443), ('chopping', 2444), ('bus', 2445), ('hitchhiking', 2446), ('crossed', 2447), ('catch', 2448), ('opposite', 2449), ('duval', 2450), ('courier', 2451), ('mag', 2452), ('acquisition', 2453), ('gap', 2454), ('traversed', 2455), ('rested', 2456), ('ravine', 2457), ('ray', 2458), ('examination', 2459), ('physician', 2460), ('serious', 2461), ('locate', 2462), ('answer', 2463), ('call', 2464), ('distracted', 2465), ('happens', 2466), ('copilot', 2467), ('unloaded', 2468), ('ignited', 2469), ('thrust', 2470), ('accumulating', 2471), ('dismount', 2472), ('look', 2473), ('shining', 2474), ('deceased', 2475), ('supervisory', 2476), ('burr', 2477), ('quirodactilo', 2478), ('cast', 2479), ('fogging', 2480), ('chooses', 2481), ('comfort', 2482), ('chapel', 2483), ('vial', 2484), ('loser', 2485), ('changing', 2486), ('primary', 2487), ('transformer', 2488), ('oscillation', 2489), ('quench', 2490), ('adjoining', 2491), ('assigned', 2492), ('mixer', 2493), ('retreat', 2494), ('antenna', 2495), ('span', 2496), ('ball', 2497), ('humped', 2498), ('contacting', 2499), ('attaching', 2500), ('barley', 2501), ('workplace', 2502), ('formed', 2503), ('formerly', 2504), ('yard', 2505), ('signal', 2506), ('retire', 2507), ('mixture', 2508), ('redness', 2509), ('epi', 2510), ('security', 2511), ('stoppage', 2512), ('fright', 2513), ('paralysis', 2514), ('scare', 2515), ('within', 2516), ('concerning', 2517), ('mandate', 2518), ('inferior', 2519), ('breeder', 2520), ('surveying', 2521), ('measurement', 2522), ('pricked', 2523), ('future', 2524), ('portion', 2525), ('beetle', 2526), ('manifested', 2527), ('developed', 2528), ('shirt', 2529), ('shield', 2530), ('shotcreteados', 2531), ('composing', 2532), ('consisted', 2533), ('tuum', 2534), ('piercing', 2535), ('teammate', 2536), ('spine', 2537), ('waxed', 2538), ('porangatu', 2539), ('health', 2540), ('victor', 2541), ('visual', 2542), ('pablo', 2543), ('slaughter', 2544), ('choco', 2545), ('aka', 2546), ('promptly', 2547), ('transported', 2548), ('outpatient', 2549), ('municipal', 2550), ('accumulates', 2551), ('shown', 2552), ('photograph', 2553), ('eyelets', 2554), ('accumulated', 2555), ('tesla', 2556), ('tele', 2557), ('lash', 2558), ('osario', 2559), ('felix', 2560), ('mina', 2561), ('installed', 2562), ('nozzle', 2563), ('lung', 2564), ('violent', 2565), ('stun', 2566), ('foundry', 2567), ('zajac', 2568), ('package', 2569), ('footwear', 2570), ('sealing', 2571), ('fulcrum', 2572), ('traumatism', 2573), ('adjusting', 2574), ('rhyming', 2575), ('caving', 2576), ('resale', 2577), ('cubic', 2578), ('minute', 2579), ('allow', 2580), ('adhesion', 2581), ('restarting', 2582), ('assume', 2583), ('fallen', 2584), ('response', 2585), ('death', 2586), ('investigation', 2587), ('pear', 2588), ('maestranza', 2589), ('bench', 2590), ('lining', 2591), ('skip', 2592), ('verifies', 2593), ('everything', 2594), ('apparent', 2595), ('video', 2596), ('breaker', 2597), ('instructed', 2598), ('carlos', 2599), ('antonio', 2600), ('straight', 2601), ('progressive', 2602), ('mat', 2603), ('wet', 2604), ('slippery', 2605), ('unlock', 2606), ('catholic', 2607), ('digger', 2608), ('realize', 2609), ('emptying', 2610), ('dosage', 2611), ('generated', 2612), ('former', 2613), ('ensuring', 2614), ('killer', 2615), ('manitou', 2616), ('adjusted', 2617), ('registered', 2618), ('grit', 2619), ('chichin', 2620), ('longer', 2621), ('drive', 2622), ('complaining', 2623), ('intense', 2624), ('citing', 2625), ('overexertion', 2626), ('insertion', 2627), ('blind', 2628), ('tito', 2629), ('anything', 2630), ('ordinary', 2631), ('initiate', 2632), ('addition', 2633), ('launching', 2634), ('boniface', 2635), ('robot', 2636), ('emptiness', 2637), ('enoch', 2638), ('sensation', 2639), ('correctly', 2640), ('yrs', 2641), ('shake', 2642), ('violently', 2643), ('communicate', 2644), ('concentrates', 2645), ('lick', 2646), ('cola', 2647), ('comefor', 2648), ('lemon', 2649), ('testimony', 2650), ('bonsucesso', 2651), ('research', 2652), ('yeosol', 2653), ('trestle', 2654), ('lucas', 2655), ('lda', 2656), ('unbalancing', 2657), ('luiz', 2658), ('boarding', 2659), ('believed', 2660), ('nailed', 2661), ('properly', 2662), ('carousel', 2663), ('infrastructure', 2664), ('julio', 2665), ('toilet', 2666), ('bra', 2667), ('environmental', 2668), ('swarming', 2669), ('weevil', 2670), ('endured', 2671), ('stripping', 2672), ('camp', 2673), ('grabbed', 2674), ('laundry', 2675)])"
      ]
     },
     "execution_count": 39,
     "metadata": {
      "tags": []
     },
     "output_type": "execute_result"
    }
   ],
   "source": [
    "tokenizer.word_index.items()"
   ]
  },
  {
   "cell_type": "markdown",
   "metadata": {
    "id": "lpAwZgmTyUM0"
   },
   "source": [
    "### **Sentence Padding**\n",
    "\n"
   ]
  },
  {
   "cell_type": "code",
   "execution_count": null,
   "metadata": {
    "colab": {
     "base_uri": "https://localhost:8080/"
    },
    "id": "qfNsY24ryT5T",
    "outputId": "d25fbfb3-16c8-44aa-feb2-1fa67b7d4c33"
   },
   "outputs": [
    {
     "name": "stdout",
     "output_type": "stream",
     "text": [
      "(425, 50)\n"
     ]
    }
   ],
   "source": [
    "#sentence Padding\n",
    "X = pad_sequences(X,maxlen=50,padding='post')\n",
    "print(X.shape)"
   ]
  },
  {
   "cell_type": "code",
   "execution_count": null,
   "metadata": {
    "colab": {
     "base_uri": "https://localhost:8080/"
    },
    "id": "glMB8ZgoyPTO",
    "outputId": "57e9e2ad-be29-4856-b02b-bca77054f4f0"
   },
   "outputs": [
    {
     "name": "stdout",
     "output_type": "stream",
     "text": [
      "[  34    7   52  113 1067 1068  369  579   96  299   42  160  243  420\n",
      "  218  173  421  820  244  422  297 1555 1069  219  821  579   96  220\n",
      "  580   57   19 1070    0    0    0    0    0    0    0    0    0    0\n",
      "    0    0    0    0    0    0    0    0]\n"
     ]
    }
   ],
   "source": [
    "print(X[7])"
   ]
  },
  {
   "cell_type": "code",
   "execution_count": null,
   "metadata": {
    "colab": {
     "base_uri": "https://localhost:8080/"
    },
    "id": "wQwt6MSzyPQY",
    "outputId": "9e789394-8827-42ee-8abb-aa85592b1f09"
   },
   "outputs": [
    {
     "name": "stdout",
     "output_type": "stream",
     "text": [
      "2676\n"
     ]
    }
   ],
   "source": [
    "num_words = len(tokenizer.word_index) + 1\n",
    "print(num_words)"
   ]
  },
  {
   "cell_type": "markdown",
   "metadata": {
    "id": "_awU_Tv4ybFH"
   },
   "source": [
    "##### **Glove Embedding**"
   ]
  },
  {
   "cell_type": "code",
   "execution_count": null,
   "metadata": {
    "id": "fAQY4pbAygCX"
   },
   "outputs": [],
   "source": [
    "embedding_matrix = np.zeros((num_words,200))\n",
    "\n",
    "embeddings = {}\n",
    "for s in open(EMBEDDING_FILE):\n",
    "  word = s.split(\" \")[0]\n",
    "  emd = s.split(\" \")[1:]\n",
    "  emd = np.asarray(emd,dtype='float32')\n",
    "  embeddings[word] = emd\n",
    "\n",
    "for word,i in tokenizer.word_index.items():\n",
    "  embedding_vector = embeddings.get(word)\n",
    "  if embedding_vector is not None:\n",
    "    embedding_matrix[i] = embedding_vector"
   ]
  },
  {
   "cell_type": "code",
   "execution_count": null,
   "metadata": {
    "colab": {
     "base_uri": "https://localhost:8080/"
    },
    "id": "jEzbc5VoygAR",
    "outputId": "d731891d-0688-4158-d973-bdfda2f77d75"
   },
   "outputs": [
    {
     "name": "stdout",
     "output_type": "stream",
     "text": [
      "[[ 0.          0.          0.         ...  0.          0.\n",
      "   0.        ]\n",
      " [ 0.43524    -0.75510001  0.26128    ...  0.11221     0.040631\n",
      "  -0.28641   ]\n",
      " [ 0.12782     0.28417    -0.045819   ...  0.12043    -0.57577002\n",
      "   0.28336999]\n",
      " ...\n",
      " [-0.009495   -0.35078999 -0.71389002 ... -0.30366999 -0.1532\n",
      "   0.66470999]\n",
      " [-0.30302     0.046487   -0.95086998 ...  0.55268002 -0.63020003\n",
      "   0.094958  ]\n",
      " [ 0.37518999 -0.053434    0.26330999 ...  0.06385     0.34154999\n",
      "   0.86989999]]\n"
     ]
    }
   ],
   "source": [
    "print(embedding_matrix)"
   ]
  },
  {
   "cell_type": "markdown",
   "metadata": {
    "id": "bwDzQpKfywIY"
   },
   "source": [
    "## **Model Building - AL**"
   ]
  },
  {
   "cell_type": "markdown",
   "metadata": {
    "id": "WBPXZMUfyj8K"
   },
   "source": [
    "### One hot encoding"
   ]
  },
  {
   "cell_type": "code",
   "execution_count": null,
   "metadata": {
    "colab": {
     "base_uri": "https://localhost:8080/"
    },
    "id": "DQ8ScuDUyf7A",
    "outputId": "ecca90c2-52e9-437c-91a2-0d1be5ff500a"
   },
   "outputs": [
    {
     "data": {
      "text/plain": [
       "array([[1, 0, 0, 0, 0],\n",
       "       [1, 0, 0, 0, 0],\n",
       "       [1, 0, 0, 0, 0],\n",
       "       ...,\n",
       "       [1, 0, 0, 0, 0],\n",
       "       [1, 0, 0, 0, 0],\n",
       "       [1, 0, 0, 0, 0]])"
      ]
     },
     "execution_count": 45,
     "metadata": {
      "tags": []
     },
     "output_type": "execute_result"
    }
   ],
   "source": [
    "#LabelBinarizer\n",
    "lb = LabelBinarizer()\n",
    "Y_AL = lb.fit_transform(data['Accident Level'].values)\n",
    "Y_AL"
   ]
  },
  {
   "cell_type": "markdown",
   "metadata": {
    "id": "ZITDYQOG0TvT"
   },
   "source": [
    "### Create train and test sets\n"
   ]
  },
  {
   "cell_type": "code",
   "execution_count": null,
   "metadata": {
    "colab": {
     "base_uri": "https://localhost:8080/"
    },
    "id": "TZyCnKDMyf3H",
    "outputId": "8a680136-aab1-4277-fc5e-10d80993c937"
   },
   "outputs": [
    {
     "name": "stdout",
     "output_type": "stream",
     "text": [
      "(340, 50) (340, 5)\n",
      "(85, 50) (85, 5)\n"
     ]
    }
   ],
   "source": [
    "#train-test split \n",
    "x_train,x_test,y_train,y_test = train_test_split(X,Y_AL,test_size=0.2,random_state=1)\n",
    "print(x_train.shape,y_train.shape)\n",
    "print(x_test.shape,y_test.shape)"
   ]
  },
  {
   "cell_type": "markdown",
   "metadata": {
    "id": "PBCASr_Oy1Do"
   },
   "source": [
    "### **Logistic Regression**"
   ]
  },
  {
   "cell_type": "code",
   "execution_count": null,
   "metadata": {
    "id": "h2khz-nyyfzj"
   },
   "outputs": [],
   "source": [
    "#Logistic Regression Model\n",
    "lmodel = LogisticRegression(solver='liblinear')\n",
    "lmodel = OneVsRestClassifier(lmodel)"
   ]
  },
  {
   "cell_type": "code",
   "execution_count": null,
   "metadata": {
    "colab": {
     "base_uri": "https://localhost:8080/"
    },
    "id": "4LbpUZuFyfw6",
    "outputId": "e7dbb82a-132b-48a0-e00c-d609d0f320ba"
   },
   "outputs": [
    {
     "data": {
      "text/plain": [
       "OneVsRestClassifier(estimator=LogisticRegression(C=1.0, class_weight=None,\n",
       "                                                 dual=False, fit_intercept=True,\n",
       "                                                 intercept_scaling=1,\n",
       "                                                 l1_ratio=None, max_iter=100,\n",
       "                                                 multi_class='auto',\n",
       "                                                 n_jobs=None, penalty='l2',\n",
       "                                                 random_state=None,\n",
       "                                                 solver='liblinear', tol=0.0001,\n",
       "                                                 verbose=0, warm_start=False),\n",
       "                    n_jobs=None)"
      ]
     },
     "execution_count": 48,
     "metadata": {
      "tags": []
     },
     "output_type": "execute_result"
    }
   ],
   "source": [
    "lmodel.fit(x_train,y_train)"
   ]
  },
  {
   "cell_type": "code",
   "execution_count": null,
   "metadata": {
    "id": "xE9fElewy-H0"
   },
   "outputs": [],
   "source": [
    "predicted_labels = lmodel.predict(x_test)\n",
    "predicted_scores = lmodel.decision_function(x_test)\n",
    "predicted_labels_train = lmodel.predict(x_train)"
   ]
  },
  {
   "cell_type": "code",
   "execution_count": null,
   "metadata": {
    "colab": {
     "base_uri": "https://localhost:8080/"
    },
    "id": "1W2Ujuhry-EV",
    "outputId": "42591b37-ec54-4dd2-a5c5-ca76a55c8720"
   },
   "outputs": [
    {
     "name": "stdout",
     "output_type": "stream",
     "text": [
      "Test data Accuracy score:  0.6470588235294118\n"
     ]
    }
   ],
   "source": [
    "print('Test data Accuracy score: ', accuracy_score(y_test, predicted_labels))"
   ]
  },
  {
   "cell_type": "code",
   "execution_count": null,
   "metadata": {
    "colab": {
     "base_uri": "https://localhost:8080/"
    },
    "id": "jEjguygSy-CN",
    "outputId": "ded55ab3-3cf1-46c3-cab7-a0b971d92965"
   },
   "outputs": [
    {
     "name": "stdout",
     "output_type": "stream",
     "text": [
      "Training data Accuracy score:  0.7823529411764706\n"
     ]
    }
   ],
   "source": [
    "print('Training data Accuracy score: ',accuracy_score(y_train,predicted_labels_train))"
   ]
  },
  {
   "cell_type": "code",
   "execution_count": null,
   "metadata": {
    "colab": {
     "base_uri": "https://localhost:8080/"
    },
    "id": "EM8cpvqoYXEA",
    "outputId": "5a236118-3470-4a4d-af39-0b135240b545"
   },
   "outputs": [
    {
     "name": "stdout",
     "output_type": "stream",
     "text": [
      "Training matrix score:\n",
      "\n",
      "Accuracy score:  0.7823529411764706\n",
      "F1 score:  0.8058823529411765\n",
      "Average precision score:  0.6882698961937717\n",
      "Average recall score:  0.8058823529411765\n",
      "Average roc_auc_score score:  0.8786764705882353\n"
     ]
    }
   ],
   "source": [
    "acc_scr_regr_train_AL = accuracy_score(y_train, predicted_labels_train)\n",
    "f1_scr_reg_train_AL = f1_score(y_train, predicted_labels_train, average='micro')\n",
    "avg_scr_reg_train_AL = average_precision_score(y_train, predicted_labels_train, average='micro')\n",
    "recall_scr_reg_train_AL = recall_score(y_train, predicted_labels_train, average='micro')\n",
    "roc_scr_reg_train_AL = roc_auc_score(y_train, predicted_labels_train,average='micro')\n",
    "\n",
    "print('Training matrix score:\\n')\n",
    "print('Accuracy score: ', acc_scr_regr_train_AL)\n",
    "print('F1 score: ', f1_scr_reg_train_AL)\n",
    "print('Average precision score: ',avg_scr_reg_train_AL )\n",
    "print('Average recall score: ', recall_scr_reg_train_AL)\n",
    "print('Average roc_auc_score score: ', roc_scr_reg_train_AL)"
   ]
  },
  {
   "cell_type": "code",
   "execution_count": null,
   "metadata": {
    "colab": {
     "base_uri": "https://localhost:8080/"
    },
    "id": "vkvDlQXikoeg",
    "outputId": "99b07f27-36c0-4340-de81-79080231b62b"
   },
   "outputs": [
    {
     "name": "stdout",
     "output_type": "stream",
     "text": [
      "Training matrix score:\n",
      "\n",
      "Accuracy score:  0.6470588235294118\n",
      "F1 score:  0.7045454545454546\n",
      "Average precision score:  0.5510795087265675\n",
      "Average recall score:  0.7294117647058823\n",
      "Average roc_auc_score score:  0.8220588235294117\n"
     ]
    }
   ],
   "source": [
    "acc_scr_regr_test_AL = accuracy_score(y_test, predicted_labels)\n",
    "f1_scr_reg_test_AL = f1_score(y_test, predicted_labels, average='micro')\n",
    "avg_scr_reg_test_AL = average_precision_score(y_test, predicted_labels, average='micro')\n",
    "recall_scr_reg_test_AL = recall_score(y_test, predicted_labels, average='micro')\n",
    "roc_scr_reg_test_AL = roc_auc_score(y_test, predicted_labels,average='micro')\n",
    "\n",
    "print('Training matrix score:\\n')\n",
    "print('Accuracy score: ', acc_scr_regr_test_AL )\n",
    "print('F1 score: ', f1_scr_reg_test_AL )\n",
    "print('Average precision score: ', avg_scr_reg_test_AL)\n",
    "print('Average recall score: ', recall_scr_reg_test_AL )\n",
    "print('Average roc_auc_score score: ', roc_scr_reg_test_AL )"
   ]
  },
  {
   "cell_type": "markdown",
   "metadata": {
    "id": "hXS1Xg-31YoJ"
   },
   "source": [
    "### Storing Logistic Regression Accuracy Scores (train and test)."
   ]
  },
  {
   "cell_type": "code",
   "execution_count": null,
   "metadata": {
    "id": "5ytgxbbv1WwD"
   },
   "outputs": [],
   "source": [
    "#Store the accuracy results for each model in a dataframe for final comparison\n",
    "results_train_LR = pd.DataFrame({'Model':['Logistic Regression'], 'accuracy': acc_scr_regr_train_AL, 'F1 score':f1_scr_reg_train_AL,\n",
    "                        'precision': avg_scr_reg_train_AL, 'recall':recall_scr_reg_train_AL , 'roc_auc':roc_scr_reg_train_AL},index={'1'})\n",
    "results_train_LR = results_train_LR[['Model', 'accuracy', 'F1 score', 'precision', 'recall', 'roc_auc']]\n"
   ]
  },
  {
   "cell_type": "code",
   "execution_count": null,
   "metadata": {
    "id": "FPr3wTE2Z436"
   },
   "outputs": [],
   "source": [
    "#Store the accuracy results for each model in a dataframe for final comparison\n",
    "results_test_LR = pd.DataFrame({'Model':['Logistic Regression'], 'accuracy': acc_scr_regr_test_AL, 'F1 score':f1_scr_reg_test_AL,\n",
    "                        'precision': avg_scr_reg_test_AL, 'recall':recall_scr_reg_test_AL , 'roc_auc':roc_scr_reg_test_AL},index={'1'})\n",
    "results_test_LR = results_test_LR[['Model', 'accuracy', 'F1 score', 'precision', 'recall', 'roc_auc']]\n"
   ]
  },
  {
   "cell_type": "markdown",
   "metadata": {
    "id": "wnu8ZYNCzGBM"
   },
   "source": [
    "### **Random Forest**"
   ]
  },
  {
   "cell_type": "code",
   "execution_count": null,
   "metadata": {
    "colab": {
     "base_uri": "https://localhost:8080/"
    },
    "id": "sHKSBNk3y9_3",
    "outputId": "89a978e9-9717-4e0a-aec0-47a2568166e1"
   },
   "outputs": [
    {
     "data": {
      "text/plain": [
       "RandomForestClassifier(bootstrap=True, ccp_alpha=0.0, class_weight=None,\n",
       "                       criterion='entropy', max_depth=None, max_features='auto',\n",
       "                       max_leaf_nodes=None, max_samples=None,\n",
       "                       min_impurity_decrease=0.0, min_impurity_split=None,\n",
       "                       min_samples_leaf=1, min_samples_split=2,\n",
       "                       min_weight_fraction_leaf=0.0, n_estimators=10,\n",
       "                       n_jobs=None, oob_score=False, random_state=42, verbose=0,\n",
       "                       warm_start=False)"
      ]
     },
     "execution_count": 56,
     "metadata": {
      "tags": []
     },
     "output_type": "execute_result"
    }
   ],
   "source": [
    "classifier = RandomForestClassifier(n_estimators = 10, criterion = 'entropy', random_state = 42)\n",
    "classifier.fit(x_train, y_train)"
   ]
  },
  {
   "cell_type": "code",
   "execution_count": null,
   "metadata": {
    "id": "IeekYX2Jy98h"
   },
   "outputs": [],
   "source": [
    "y_predr = classifier.predict(x_test)\n",
    "y_predr_train = classifier.predict(x_train)"
   ]
  },
  {
   "cell_type": "code",
   "execution_count": null,
   "metadata": {
    "colab": {
     "base_uri": "https://localhost:8080/"
    },
    "id": "s1xDv37VoELj",
    "outputId": "23acec3e-712c-441c-c9c1-7fc176c54f68"
   },
   "outputs": [
    {
     "name": "stdout",
     "output_type": "stream",
     "text": [
      "Training matrix score:\n",
      "\n",
      "Accuracy score:  0.9264705882352942\n",
      "F1 score:  0.9516616314199395\n",
      "Average precision score:  0.9210358056265985\n",
      "Average recall score:  0.9264705882352942\n",
      "Average roc_auc_score score:  0.9606617647058824\n"
     ]
    }
   ],
   "source": [
    "acc_scr_rfc_train_AL = accuracy_score(y_train, y_predr_train)\n",
    "f1_scr_rfc_train_AL = f1_score(y_train, y_predr_train, average='micro')\n",
    "avg_scr_rfc_train_AL = average_precision_score(y_train, y_predr_train, average='micro')\n",
    "recall_scr_rfc_train_AL = recall_score(y_train, y_predr_train, average='micro')\n",
    "roc_scr_rfc_train_AL = roc_auc_score(y_train, y_predr_train,average='micro')\n",
    "\n",
    "print('Training matrix score:\\n')\n",
    "print('Accuracy score: ', acc_scr_rfc_train_AL)\n",
    "print('F1 score: ', f1_scr_rfc_train_AL)\n",
    "print('Average precision score: ',avg_scr_rfc_train_AL )\n",
    "print('Average recall score: ', recall_scr_rfc_train_AL)\n",
    "print('Average roc_auc_score score: ', roc_scr_rfc_train_AL)"
   ]
  },
  {
   "cell_type": "code",
   "execution_count": null,
   "metadata": {
    "colab": {
     "base_uri": "https://localhost:8080/"
    },
    "id": "0trFxtQObcGC",
    "outputId": "d46d0c56-2395-4c52-e53f-b45ac0cdf5da"
   },
   "outputs": [
    {
     "name": "stdout",
     "output_type": "stream",
     "text": [
      "Test matrix score:\n",
      "\n",
      "Accuracy score:  0.6823529411764706\n",
      "F1 score:  0.7160493827160493\n",
      "Average precision score:  0.5775095492742551\n",
      "Average recall score:  0.6823529411764706\n",
      "Average roc_auc_score score:  0.8132352941176471\n"
     ]
    }
   ],
   "source": [
    "acc_scr_rfc_test_AL = accuracy_score(y_test, y_predr)\n",
    "f1_scr_rfc_test_AL = f1_score(y_test, y_predr, average='micro')\n",
    "avg_scr_rfc_test_AL = average_precision_score(y_test, y_predr, average='micro')\n",
    "recall_scr_rfc_test_AL = recall_score(y_test, y_predr, average='micro')\n",
    "roc_scr_rfc_test_AL = roc_auc_score(y_test, y_predr,average='micro')\n",
    "\n",
    "print('Test matrix score:\\n')\n",
    "print('Accuracy score: ', acc_scr_rfc_test_AL)\n",
    "print('F1 score: ', f1_scr_rfc_test_AL)\n",
    "print('Average precision score: ',avg_scr_rfc_test_AL )\n",
    "print('Average recall score: ', recall_scr_rfc_test_AL)\n",
    "print('Average roc_auc_score score: ', roc_scr_rfc_test_AL)\n",
    "\n"
   ]
  },
  {
   "cell_type": "markdown",
   "metadata": {
    "id": "YmhSpAD413qw"
   },
   "source": [
    "### Storing Random Forest Accuray Scores (test and train)."
   ]
  },
  {
   "cell_type": "code",
   "execution_count": null,
   "metadata": {
    "id": "1Lsiqtt412wf"
   },
   "outputs": [],
   "source": [
    "#Store the accuracy results for each model in a dataframe for final comparison\n",
    "results_train_RF = pd.DataFrame({'Model':['Random Forest'], 'accuracy': acc_scr_rfc_train_AL, 'F1 score': f1_scr_rfc_train_AL,\n",
    "                        'precision': avg_scr_rfc_train_AL, 'recall': recall_scr_rfc_train_AL , 'roc_auc': roc_scr_rfc_train_AL},index={'2'})\n",
    "results_train_RF = results_train_RF[['Model', 'accuracy', 'F1 score', 'precision', 'recall', 'roc_auc']]\n"
   ]
  },
  {
   "cell_type": "code",
   "execution_count": null,
   "metadata": {
    "id": "urIGbogx4urv"
   },
   "outputs": [],
   "source": [
    "#Store the accuracy results for each model in a dataframe for final comparison\n",
    "results_test_RF = pd.DataFrame({'Model':['Random Forest'], 'accuracy': acc_scr_rfc_test_AL, 'F1 score': f1_scr_rfc_test_AL,\n",
    "                        'precision': avg_scr_rfc_test_AL, 'recall': recall_scr_rfc_test_AL , 'roc_auc': roc_scr_rfc_test_AL},index={'2'})\n",
    "results_test_RF = results_test_RF[['Model', 'accuracy', 'F1 score', 'precision', 'recall', 'roc_auc']]\n"
   ]
  },
  {
   "cell_type": "markdown",
   "metadata": {
    "id": "Z7eSlpatzMkt"
   },
   "source": [
    "### **Support Vector Machine (SVM)**"
   ]
  },
  {
   "cell_type": "code",
   "execution_count": null,
   "metadata": {
    "id": "1JhJvXxay91a"
   },
   "outputs": [],
   "source": [
    "clf = svm.SVC(kernel='poly',degree=5, C=1)\n",
    "clf = OneVsRestClassifier(clf)"
   ]
  },
  {
   "cell_type": "code",
   "execution_count": null,
   "metadata": {
    "colab": {
     "base_uri": "https://localhost:8080/"
    },
    "id": "F-hgXdsczPYr",
    "outputId": "0f50e9c0-bb1d-444e-fba3-ca8176ab2d87"
   },
   "outputs": [
    {
     "data": {
      "text/plain": [
       "OneVsRestClassifier(estimator=SVC(C=1, break_ties=False, cache_size=200,\n",
       "                                  class_weight=None, coef0=0.0,\n",
       "                                  decision_function_shape='ovr', degree=5,\n",
       "                                  gamma='scale', kernel='poly', max_iter=-1,\n",
       "                                  probability=False, random_state=None,\n",
       "                                  shrinking=True, tol=0.001, verbose=False),\n",
       "                    n_jobs=None)"
      ]
     },
     "execution_count": 63,
     "metadata": {
      "tags": []
     },
     "output_type": "execute_result"
    }
   ],
   "source": [
    "clf.fit(x_train , y_train) # Fit the model"
   ]
  },
  {
   "cell_type": "code",
   "execution_count": null,
   "metadata": {
    "id": "dWZ8cY5hzPUr"
   },
   "outputs": [],
   "source": [
    "y_pred = clf.predict(x_test)\n",
    "y_pred_train = clf.predict(x_train)"
   ]
  },
  {
   "cell_type": "code",
   "execution_count": null,
   "metadata": {
    "colab": {
     "base_uri": "https://localhost:8080/"
    },
    "id": "NonDKJLGpUkv",
    "outputId": "e1554504-12a9-4a59-c8fd-7b9ee383a463"
   },
   "outputs": [
    {
     "name": "stdout",
     "output_type": "stream",
     "text": [
      "Training matrix score:\n",
      "\n",
      "Accuracy score:  0.9117647058823529\n",
      "F1 score:  0.9131075110456552\n",
      "Average precision score:  0.8514141939961826\n",
      "Average recall score:  0.9117647058823529\n",
      "Average roc_auc_score score:  0.9452205882352941\n"
     ]
    }
   ],
   "source": [
    "acc_scr_svm_train_AL = accuracy_score(y_train, y_pred_train)\n",
    "f1_scr_svm_train_AL = f1_score(y_train, y_pred_train, average='micro')\n",
    "avg_scr_svm_train_AL = average_precision_score(y_train, y_pred_train, average='micro')\n",
    "recall_scr_svm_train_AL = recall_score(y_train, y_pred_train, average='micro')\n",
    "roc_scr_svm_train_AL = roc_auc_score(y_train, y_pred_train,average='micro')\n",
    "\n",
    "print('Training matrix score:\\n')\n",
    "print('Accuracy score: ', acc_scr_svm_train_AL)\n",
    "print('F1 score: ', f1_scr_svm_train_AL)\n",
    "print('Average precision score: ', avg_scr_svm_train_AL )\n",
    "print('Average recall score: ', recall_scr_svm_train_AL)\n",
    "print('Average roc_auc_score score: ', roc_scr_svm_train_AL)"
   ]
  },
  {
   "cell_type": "code",
   "execution_count": null,
   "metadata": {
    "colab": {
     "base_uri": "https://localhost:8080/"
    },
    "id": "TuBW4xGFb9BW",
    "outputId": "3afef787-3ad4-46d3-fa6c-835cf0ce3b93"
   },
   "outputs": [
    {
     "name": "stdout",
     "output_type": "stream",
     "text": [
      "Test matrix score:\n",
      "\n",
      "Accuracy score:  0.6941176470588235\n",
      "F1 score:  0.710843373493976\n",
      "Average precision score:  0.5667683369644154\n",
      "Average recall score:  0.6941176470588235\n",
      "Average roc_auc_score score:  0.8147058823529412\n"
     ]
    }
   ],
   "source": [
    "#def print_evaluation_scores(y_val, predicted):\n",
    "acc_scr_svm_test_AL = accuracy_score(y_test, y_pred)\n",
    "f1_scr_svm_test_AL = f1_score(y_test, y_pred, average='micro')\n",
    "avg_scr_svm_test_AL = average_precision_score(y_test, y_pred, average='micro')\n",
    "recall_scr_svm_test_AL = recall_score(y_test, y_pred, average='micro')\n",
    "roc_scr_svm_test_AL = roc_auc_score(y_test, y_pred,average='micro')\n",
    "\n",
    "print('Test matrix score:\\n')\n",
    "print('Accuracy score: ', acc_scr_svm_test_AL)\n",
    "print('F1 score: ', f1_scr_svm_test_AL)\n",
    "print('Average precision score: ', avg_scr_svm_test_AL )\n",
    "print('Average recall score: ', recall_scr_svm_test_AL)\n",
    "print('Average roc_auc_score score: ', roc_scr_svm_test_AL)\n"
   ]
  },
  {
   "cell_type": "markdown",
   "metadata": {
    "id": "GsKKg_lI3BZk"
   },
   "source": [
    "### Storing SVM Accuracy Scores (train and test )."
   ]
  },
  {
   "cell_type": "code",
   "execution_count": null,
   "metadata": {
    "id": "axuXOwoY2_sM"
   },
   "outputs": [],
   "source": [
    "#Store the accuracy results for each model in a dataframe for final comparison\n",
    "results_train_SVM = pd.DataFrame({'Model':['SVM'], 'accuracy': acc_scr_svm_train_AL, 'F1 score': f1_scr_svm_train_AL,\n",
    "                        'precision': avg_scr_svm_train_AL, 'recall':recall_scr_svm_train_AL , 'roc_auc':roc_scr_svm_train_AL},index={'3'})\n",
    "results_train_SVM = results_train_SVM[['Model', 'accuracy', 'F1 score', 'precision', 'recall', 'roc_auc']]\n"
   ]
  },
  {
   "cell_type": "code",
   "execution_count": null,
   "metadata": {
    "id": "_aD5U7gF8ier"
   },
   "outputs": [],
   "source": [
    "#Store the accuracy results for each model in a dataframe for final comparison\n",
    "results_test_SVM = pd.DataFrame({'Model':['SVM'], 'accuracy': acc_scr_svm_test_AL, 'F1 score': f1_scr_svm_test_AL,\n",
    "                        'precision': avg_scr_svm_test_AL, 'recall':recall_scr_svm_test_AL , 'roc_auc':roc_scr_svm_test_AL},index={'3'})\n",
    "results_test_SVM = results_test_SVM[['Model', 'accuracy', 'F1 score', 'precision', 'recall', 'roc_auc']]\n"
   ]
  },
  {
   "cell_type": "markdown",
   "metadata": {
    "id": "TTF-N0WiD7BA"
   },
   "source": [
    "### **Boosting**"
   ]
  },
  {
   "cell_type": "code",
   "execution_count": null,
   "metadata": {
    "colab": {
     "base_uri": "https://localhost:8080/"
    },
    "id": "775n99I1dH1o",
    "outputId": "1d419dc4-78c0-4b40-c8ff-63c25a8a5345"
   },
   "outputs": [
    {
     "data": {
      "text/plain": [
       "OneVsRestClassifier(estimator=AdaBoostClassifier(algorithm='SAMME',\n",
       "                                                 base_estimator=None,\n",
       "                                                 learning_rate=1.0,\n",
       "                                                 n_estimators=50,\n",
       "                                                 random_state=1),\n",
       "                    n_jobs=None)"
      ]
     },
     "execution_count": 69,
     "metadata": {
      "tags": []
     },
     "output_type": "execute_result"
    }
   ],
   "source": [
    "ada = AdaBoostClassifier(n_estimators=50, learning_rate=1.0, random_state=1,algorithm='SAMME')\n",
    "ada = OneVsRestClassifier(ada)\n",
    "ada.fit(x_train, y_train)"
   ]
  },
  {
   "cell_type": "code",
   "execution_count": null,
   "metadata": {
    "id": "8NvSTddBgW0w"
   },
   "outputs": [],
   "source": [
    "y_preda = ada.predict(x_test)\n",
    "y_preda_train = ada.predict(x_train)"
   ]
  },
  {
   "cell_type": "code",
   "execution_count": null,
   "metadata": {
    "colab": {
     "base_uri": "https://localhost:8080/"
    },
    "id": "w4bCm5FVqePE",
    "outputId": "f5bb81b2-34e5-4f1f-d137-26fe3fcc235e"
   },
   "outputs": [
    {
     "name": "stdout",
     "output_type": "stream",
     "text": [
      "Training matrix score:\n",
      "\n",
      "Accuracy score:  0.7823529411764706\n",
      "F1 score:  0.8372093023255814\n",
      "Average precision score:  0.7316024340770791\n",
      "Average recall score:  0.8470588235294118\n",
      "Average roc_auc_score score:  0.9014705882352941\n"
     ]
    }
   ],
   "source": [
    "acc_scr_bst_train_AL = accuracy_score(y_train, y_preda_train)\n",
    "f1_scr_bst_train_AL = f1_score(y_train, y_preda_train, average='micro')\n",
    "avg_scr_bst_train_AL = average_precision_score(y_train, y_preda_train, average='micro')\n",
    "recall_scr_bst_train_AL = recall_score(y_train, y_preda_train, average='micro')\n",
    "roc_scr_bst_train_AL = roc_auc_score(y_train, y_preda_train,average='micro')\n",
    "\n",
    "print('Training matrix score:\\n')\n",
    "print('Accuracy score: ', acc_scr_bst_train_AL)\n",
    "print('F1 score: ', f1_scr_bst_train_AL)\n",
    "print('Average precision score: ', avg_scr_bst_train_AL )\n",
    "print('Average recall score: ', recall_scr_bst_train_AL)\n",
    "print('Average roc_auc_score score: ', roc_scr_bst_train_AL)"
   ]
  },
  {
   "cell_type": "code",
   "execution_count": null,
   "metadata": {
    "colab": {
     "base_uri": "https://localhost:8080/"
    },
    "id": "lXOeVeTdq7sl",
    "outputId": "29357444-6c93-41e0-d73c-f9c63dc83434"
   },
   "outputs": [
    {
     "name": "stdout",
     "output_type": "stream",
     "text": [
      "Test matrix score:\n",
      "\n",
      "Accuracy score:  0.6941176470588235\n",
      "F1 score:  0.7261904761904763\n",
      "Average precision score:  0.5838979447200567\n",
      "Average recall score:  0.7176470588235294\n",
      "Average roc_auc_score score:  0.8264705882352942\n"
     ]
    }
   ],
   "source": [
    "#def print_evaluation_scores(y_val, predicted):\n",
    "acc_scr_bst_test_AL = accuracy_score(y_test, y_preda)\n",
    "f1_scr_bst_test_AL = f1_score(y_test, y_preda, average='micro')\n",
    "avg_scr_bst_test_AL = average_precision_score(y_test, y_preda, average='micro')\n",
    "recall_scr_bst_test_AL = recall_score(y_test, y_preda, average='micro')\n",
    "roc_scr_bst_test_AL = roc_auc_score(y_test, y_preda,average='micro')\n",
    "\n",
    "print('Test matrix score:\\n')\n",
    "print('Accuracy score: ', acc_scr_bst_test_AL)\n",
    "print('F1 score: ', f1_scr_bst_test_AL)\n",
    "print('Average precision score: ', avg_scr_bst_test_AL )\n",
    "print('Average recall score: ', recall_scr_bst_test_AL)\n",
    "print('Average roc_auc_score score: ', roc_scr_bst_test_AL)\n"
   ]
  },
  {
   "cell_type": "markdown",
   "metadata": {
    "id": "1mfnrOmO3iVU"
   },
   "source": [
    "Storing Boosting Accuracy Scores (train and test)."
   ]
  },
  {
   "cell_type": "code",
   "execution_count": null,
   "metadata": {
    "id": "3r3JqQ0s3g8i"
   },
   "outputs": [],
   "source": [
    "#Store the accuracy results for each model in a dataframe for final comparison\n",
    "results_train_bst = pd.DataFrame({'Model':['Boosting'], 'accuracy': acc_scr_bst_train_AL, 'F1 score': f1_scr_bst_train_AL,\n",
    "                        'precision': avg_scr_bst_train_AL, 'recall':recall_scr_bst_train_AL , 'roc_auc':roc_scr_bst_train_AL},index={'4'})\n",
    "results_train_bst = results_train_bst[['Model', 'accuracy', 'F1 score', 'precision', 'recall', 'roc_auc']]"
   ]
  },
  {
   "cell_type": "code",
   "execution_count": null,
   "metadata": {
    "id": "sxiotnVO88x8"
   },
   "outputs": [],
   "source": [
    "#Store the accuracy results for each model in a dataframe for final comparison\n",
    "results_test_bst = pd.DataFrame({'Model':['Boosting'], 'accuracy': acc_scr_bst_test_AL, 'F1 score': f1_scr_bst_test_AL,\n",
    "                        'precision': avg_scr_bst_test_AL, 'recall':recall_scr_bst_test_AL , 'roc_auc':roc_scr_bst_test_AL},index={'4'})\n",
    "results_test_bst = results_test_bst[['Model', 'accuracy', 'F1 score', 'precision', 'recall', 'roc_auc']]\n"
   ]
  },
  {
   "cell_type": "markdown",
   "metadata": {
    "id": "YwPLs5vFk_9I"
   },
   "source": [
    "### **Bagging**"
   ]
  },
  {
   "cell_type": "code",
   "execution_count": null,
   "metadata": {
    "colab": {
     "base_uri": "https://localhost:8080/"
    },
    "id": "JEWK-bzRk-_I",
    "outputId": "99de2fbe-8be3-4714-ee48-0a7f98b123f0"
   },
   "outputs": [
    {
     "data": {
      "text/plain": [
       "OneVsRestClassifier(estimator=BaggingClassifier(base_estimator=None,\n",
       "                                                bootstrap=True,\n",
       "                                                bootstrap_features=False,\n",
       "                                                max_features=1.0,\n",
       "                                                max_samples=1.0,\n",
       "                                                n_estimators=50, n_jobs=None,\n",
       "                                                oob_score=False, random_state=1,\n",
       "                                                verbose=0, warm_start=False),\n",
       "                    n_jobs=None)"
      ]
     },
     "execution_count": 75,
     "metadata": {
      "tags": []
     },
     "output_type": "execute_result"
    }
   ],
   "source": [
    "bag = BaggingClassifier(n_estimators=50, random_state=1)\n",
    "bag = OneVsRestClassifier(bag)\n",
    "bag.fit(x_train, y_train)"
   ]
  },
  {
   "cell_type": "code",
   "execution_count": null,
   "metadata": {
    "id": "A5uegKt7lzdf"
   },
   "outputs": [],
   "source": [
    "y_predb = bag.predict(x_test)\n",
    "y_predb_train = bag.predict(x_train)"
   ]
  },
  {
   "cell_type": "code",
   "execution_count": null,
   "metadata": {
    "colab": {
     "base_uri": "https://localhost:8080/"
    },
    "id": "IlpQHwGWl8xV",
    "outputId": "4780106c-3bee-4c99-ae30-53e727216a2a"
   },
   "outputs": [
    {
     "name": "stdout",
     "output_type": "stream",
     "text": [
      "Training matrix score:\n",
      "\n",
      "Accuracy score:  0.9882352941176471\n",
      "F1 score:  0.9911504424778761\n",
      "Average precision score:  0.9847406891750783\n",
      "Average recall score:  0.9882352941176471\n",
      "Average roc_auc_score score:  0.9933823529411765\n"
     ]
    }
   ],
   "source": [
    "acc_scr_bgn_train_AL = accuracy_score(y_train, y_predb_train)\n",
    "f1_scr_bgn_train_AL = f1_score(y_train, y_predb_train, average='micro')\n",
    "avg_scr_bgn_train_AL = average_precision_score(y_train, y_predb_train, average='micro')\n",
    "recall_scr_bgn_train_AL = recall_score(y_train, y_predb_train, average='micro')\n",
    "roc_scr_bgn_train_AL = roc_auc_score(y_train, y_predb_train,average='micro')\n",
    "\n",
    "print('Training matrix score:\\n')\n",
    "print('Accuracy score: ', acc_scr_bgn_train_AL)\n",
    "print('F1 score: ', f1_scr_bgn_train_AL)\n",
    "print('Average precision score: ', avg_scr_bgn_train_AL )\n",
    "print('Average recall score: ', recall_scr_bgn_train_AL)\n",
    "print('Average roc_auc_score score: ', roc_scr_bgn_train_AL)\n",
    "\n"
   ]
  },
  {
   "cell_type": "code",
   "execution_count": null,
   "metadata": {
    "colab": {
     "base_uri": "https://localhost:8080/"
    },
    "id": "Cb0iZL8qsCVu",
    "outputId": "7447b2d0-7c6b-48da-92e9-b9fe0db580c7"
   },
   "outputs": [
    {
     "name": "stdout",
     "output_type": "stream",
     "text": [
      "Test matrix score:\n",
      "\n",
      "Accuracy score:  0.6941176470588235\n",
      "F1 score:  0.7349397590361447\n",
      "Average precision score:  0.5969208424110386\n",
      "Average recall score:  0.7176470588235294\n",
      "Average roc_auc_score score:  0.8294117647058824\n"
     ]
    }
   ],
   "source": [
    "#def print_evaluation_scores(y_val, predicted):\n",
    "acc_scr_bgn_test_AL = accuracy_score(y_test, y_predb)\n",
    "f1_scr_bgn_test_AL = f1_score(y_test, y_predb, average='micro')\n",
    "avg_scr_bgn_test_AL = average_precision_score(y_test, y_predb, average='micro')\n",
    "recall_scr_bgn_test_AL = recall_score(y_test, y_predb, average='micro')\n",
    "roc_scr_bgn_test_AL = roc_auc_score(y_test, y_predb,average='micro')\n",
    "\n",
    "print('Test matrix score:\\n')\n",
    "print('Accuracy score: ', acc_scr_bgn_test_AL)\n",
    "print('F1 score: ', f1_scr_bgn_test_AL)\n",
    "print('Average precision score: ', avg_scr_bgn_test_AL )\n",
    "print('Average recall score: ', recall_scr_bgn_test_AL)\n",
    "print('Average roc_auc_score score: ', roc_scr_bgn_test_AL)"
   ]
  },
  {
   "cell_type": "markdown",
   "metadata": {
    "id": "r2tAguWv4Cth"
   },
   "source": [
    "### Storing Bagging Accuracy Scores (train and test).\n"
   ]
  },
  {
   "cell_type": "code",
   "execution_count": null,
   "metadata": {
    "id": "hei4OhOx4Bu8"
   },
   "outputs": [],
   "source": [
    "#Store the accuracy results for each model in a dataframe for final comparison\n",
    "results_train_bgn = pd.DataFrame({'Model':['Bagging'], 'accuracy': acc_scr_bgn_train_AL, 'F1 score': f1_scr_bgn_train_AL,\n",
    "                        'precision': avg_scr_bgn_train_AL, 'recall':recall_scr_bgn_train_AL , 'roc_auc':roc_scr_bgn_train_AL},index={'5'})\n",
    "results_train_bgn = results_train_bgn[['Model', 'accuracy', 'F1 score', 'precision', 'recall', 'roc_auc']]"
   ]
  },
  {
   "cell_type": "code",
   "execution_count": null,
   "metadata": {
    "id": "3NafT3Fc9gnD"
   },
   "outputs": [],
   "source": [
    "#Store the accuracy results for each model in a dataframe for final comparison\n",
    "results_test_bgn = pd.DataFrame({'Model':['Bagging'], 'accuracy': acc_scr_bgn_train_AL, 'F1 score': f1_scr_bgn_train_AL,\n",
    "                        'precision': avg_scr_bgn_train_AL, 'recall':recall_scr_bgn_train_AL , 'roc_auc':roc_scr_bgn_train_AL},index={'5'})\n",
    "results_test_bgn = results_test_bgn[['Model', 'accuracy', 'F1 score', 'precision', 'recall', 'roc_auc']]\n"
   ]
  },
  {
   "cell_type": "markdown",
   "metadata": {
    "id": "J-rwd7yvzXMw"
   },
   "source": [
    "### **Neural Network**\n",
    "\n",
    "\n"
   ]
  },
  {
   "cell_type": "code",
   "execution_count": null,
   "metadata": {
    "id": "Wlh6Jv5DzPO2"
   },
   "outputs": [],
   "source": [
    "# Model architecture\n",
    "modelNN = Sequential()\n",
    "modelNN.add(Dense(512, input_dim=maxlen, kernel_initializer='normal', activation='relu'))\n",
    "modelNN.add(Dense(256, kernel_initializer='normal',activation='relu'))\n",
    "modelNN.add(Dropout(0.5))\n",
    "modelNN.add(Flatten())\n",
    "modelNN.add(Dense(128,activation='relu'))\n",
    "modelNN.add(Dense(64,activation='relu'))\n",
    "modelNN.add(Dropout(0.3))\n",
    "modelNN.add(Dense(5,activation='softmax'))\n",
    "\n",
    "# Compile the model\n",
    "modelNN.compile(loss='binary_crossentropy', optimizer='sgd', metrics=['accuracy'])"
   ]
  },
  {
   "cell_type": "code",
   "execution_count": null,
   "metadata": {
    "colab": {
     "base_uri": "https://localhost:8080/"
    },
    "id": "S8pC0iKGzPLs",
    "outputId": "65a43b7b-5ba4-427f-c612-fe3bfe8dd787"
   },
   "outputs": [
    {
     "name": "stdout",
     "output_type": "stream",
     "text": [
      "Epoch 1/50\n",
      "10/10 [==============================] - 4s 60ms/step - loss: 55.3436 - accuracy: 0.3905 - val_loss: 0.6006 - val_accuracy: 0.3235\n",
      "Epoch 2/50\n",
      "10/10 [==============================] - 0s 8ms/step - loss: 0.9978 - accuracy: 0.5249 - val_loss: 0.3744 - val_accuracy: 0.8529\n",
      "Epoch 3/50\n",
      "10/10 [==============================] - 0s 8ms/step - loss: 0.6702 - accuracy: 0.6260 - val_loss: 0.3453 - val_accuracy: 0.8824\n",
      "Epoch 4/50\n",
      "10/10 [==============================] - 0s 7ms/step - loss: 0.6525 - accuracy: 0.6953 - val_loss: 0.3347 - val_accuracy: 0.8824\n",
      "Epoch 5/50\n",
      "10/10 [==============================] - 0s 7ms/step - loss: 0.6214 - accuracy: 0.7029 - val_loss: 0.6865 - val_accuracy: 0.8529\n",
      "Epoch 6/50\n",
      "10/10 [==============================] - 0s 7ms/step - loss: 0.6509 - accuracy: 0.6775 - val_loss: 0.6269 - val_accuracy: 0.8824\n",
      "Epoch 7/50\n",
      "10/10 [==============================] - 0s 8ms/step - loss: 0.5934 - accuracy: 0.7137 - val_loss: 0.3032 - val_accuracy: 0.8824\n",
      "Epoch 8/50\n",
      "10/10 [==============================] - 0s 8ms/step - loss: 0.6120 - accuracy: 0.6873 - val_loss: 0.4258 - val_accuracy: 0.8824\n",
      "Epoch 9/50\n",
      "10/10 [==============================] - 0s 7ms/step - loss: 0.5256 - accuracy: 0.6956 - val_loss: 0.4233 - val_accuracy: 0.3824\n",
      "Epoch 10/50\n",
      "10/10 [==============================] - 0s 8ms/step - loss: 0.5964 - accuracy: 0.6946 - val_loss: 0.2744 - val_accuracy: 0.8824\n",
      "Epoch 11/50\n",
      "10/10 [==============================] - 0s 7ms/step - loss: 0.4562 - accuracy: 0.7065 - val_loss: 0.2882 - val_accuracy: 0.8824\n",
      "Epoch 12/50\n",
      "10/10 [==============================] - 0s 8ms/step - loss: 0.4735 - accuracy: 0.7011 - val_loss: 0.2718 - val_accuracy: 0.8824\n",
      "Epoch 13/50\n",
      "10/10 [==============================] - 0s 9ms/step - loss: 0.5051 - accuracy: 0.6967 - val_loss: 0.3853 - val_accuracy: 0.8824\n",
      "Epoch 14/50\n",
      "10/10 [==============================] - 0s 9ms/step - loss: 0.4784 - accuracy: 0.6874 - val_loss: 0.2619 - val_accuracy: 0.8824\n",
      "Epoch 15/50\n",
      "10/10 [==============================] - 0s 7ms/step - loss: 0.4196 - accuracy: 0.7155 - val_loss: 0.2694 - val_accuracy: 0.8824\n",
      "Epoch 16/50\n",
      "10/10 [==============================] - 0s 7ms/step - loss: 0.4071 - accuracy: 0.7178 - val_loss: 0.4516 - val_accuracy: 0.8824\n",
      "Epoch 17/50\n",
      "10/10 [==============================] - 0s 7ms/step - loss: 0.4505 - accuracy: 0.7526 - val_loss: 0.2672 - val_accuracy: 0.8824\n",
      "Epoch 18/50\n",
      "10/10 [==============================] - 0s 7ms/step - loss: 0.4309 - accuracy: 0.7075 - val_loss: 0.3405 - val_accuracy: 0.8824\n",
      "Epoch 19/50\n",
      "10/10 [==============================] - 0s 8ms/step - loss: 0.4590 - accuracy: 0.6855 - val_loss: 0.2377 - val_accuracy: 0.8824\n",
      "Epoch 20/50\n",
      "10/10 [==============================] - 0s 7ms/step - loss: 0.4352 - accuracy: 0.6898 - val_loss: 0.4934 - val_accuracy: 0.8824\n",
      "Epoch 21/50\n",
      "10/10 [==============================] - 0s 7ms/step - loss: 0.4920 - accuracy: 0.7444 - val_loss: 0.2893 - val_accuracy: 0.8824\n",
      "Epoch 22/50\n",
      "10/10 [==============================] - 0s 8ms/step - loss: 0.3862 - accuracy: 0.7470 - val_loss: 0.2847 - val_accuracy: 0.8824\n",
      "Epoch 23/50\n",
      "10/10 [==============================] - 0s 8ms/step - loss: 0.3565 - accuracy: 0.7458 - val_loss: 0.3231 - val_accuracy: 0.8824\n",
      "Epoch 24/50\n",
      "10/10 [==============================] - 0s 7ms/step - loss: 0.3625 - accuracy: 0.7317 - val_loss: 0.3123 - val_accuracy: 0.8824\n",
      "Epoch 25/50\n",
      "10/10 [==============================] - 0s 8ms/step - loss: 0.3780 - accuracy: 0.7247 - val_loss: 0.2266 - val_accuracy: 0.8824\n",
      "Epoch 26/50\n",
      "10/10 [==============================] - 0s 8ms/step - loss: 0.3620 - accuracy: 0.7229 - val_loss: 0.3213 - val_accuracy: 0.8824\n",
      "Epoch 27/50\n",
      "10/10 [==============================] - 0s 8ms/step - loss: 0.3598 - accuracy: 0.7325 - val_loss: 0.2994 - val_accuracy: 0.8824\n",
      "Epoch 28/50\n",
      "10/10 [==============================] - 0s 7ms/step - loss: 0.3649 - accuracy: 0.7078 - val_loss: 0.2825 - val_accuracy: 0.8824\n",
      "Epoch 29/50\n",
      "10/10 [==============================] - 0s 8ms/step - loss: 0.4072 - accuracy: 0.7167 - val_loss: 0.2475 - val_accuracy: 0.8824\n",
      "Epoch 30/50\n",
      "10/10 [==============================] - 0s 7ms/step - loss: 0.3440 - accuracy: 0.7156 - val_loss: 0.3242 - val_accuracy: 0.8824\n",
      "Epoch 31/50\n",
      "10/10 [==============================] - 0s 8ms/step - loss: 0.3336 - accuracy: 0.7244 - val_loss: 0.2995 - val_accuracy: 0.8824\n",
      "Epoch 32/50\n",
      "10/10 [==============================] - 0s 8ms/step - loss: 0.3194 - accuracy: 0.7325 - val_loss: 0.2962 - val_accuracy: 0.8824\n",
      "Epoch 33/50\n",
      "10/10 [==============================] - 0s 7ms/step - loss: 0.3759 - accuracy: 0.7361 - val_loss: 0.2760 - val_accuracy: 0.8824\n",
      "Epoch 34/50\n",
      "10/10 [==============================] - 0s 7ms/step - loss: 0.3815 - accuracy: 0.7298 - val_loss: 0.3520 - val_accuracy: 0.8824\n",
      "Epoch 35/50\n",
      "10/10 [==============================] - 0s 7ms/step - loss: 0.3395 - accuracy: 0.7174 - val_loss: 0.2617 - val_accuracy: 0.8824\n",
      "Epoch 36/50\n",
      "10/10 [==============================] - 0s 8ms/step - loss: 0.3286 - accuracy: 0.7735 - val_loss: 0.3481 - val_accuracy: 0.8824\n",
      "Epoch 37/50\n",
      "10/10 [==============================] - 0s 8ms/step - loss: 0.3859 - accuracy: 0.7164 - val_loss: 0.2532 - val_accuracy: 0.8824\n",
      "Epoch 38/50\n",
      "10/10 [==============================] - 0s 7ms/step - loss: 0.3126 - accuracy: 0.7239 - val_loss: 0.2568 - val_accuracy: 0.8824\n",
      "Epoch 39/50\n",
      "10/10 [==============================] - 0s 8ms/step - loss: 0.3548 - accuracy: 0.7509 - val_loss: 0.3027 - val_accuracy: 0.8824\n",
      "Epoch 40/50\n",
      "10/10 [==============================] - 0s 8ms/step - loss: 0.3709 - accuracy: 0.7244 - val_loss: 0.2525 - val_accuracy: 0.8824\n",
      "Epoch 41/50\n",
      "10/10 [==============================] - 0s 8ms/step - loss: 0.3138 - accuracy: 0.7129 - val_loss: 0.2525 - val_accuracy: 0.8824\n",
      "Epoch 42/50\n",
      "10/10 [==============================] - 0s 8ms/step - loss: 0.3444 - accuracy: 0.7039 - val_loss: 0.2462 - val_accuracy: 0.8824\n",
      "Epoch 43/50\n",
      "10/10 [==============================] - 0s 7ms/step - loss: 0.3390 - accuracy: 0.7195 - val_loss: 0.2842 - val_accuracy: 0.8824\n",
      "Epoch 44/50\n",
      "10/10 [==============================] - 0s 7ms/step - loss: 0.3060 - accuracy: 0.7328 - val_loss: 0.2513 - val_accuracy: 0.8824\n",
      "Epoch 45/50\n",
      "10/10 [==============================] - 0s 7ms/step - loss: 0.3478 - accuracy: 0.7377 - val_loss: 0.2911 - val_accuracy: 0.8824\n",
      "Epoch 46/50\n",
      "10/10 [==============================] - 0s 7ms/step - loss: 0.3039 - accuracy: 0.7158 - val_loss: 0.2625 - val_accuracy: 0.8824\n",
      "Epoch 47/50\n",
      "10/10 [==============================] - 0s 8ms/step - loss: 0.2998 - accuracy: 0.7341 - val_loss: 0.2777 - val_accuracy: 0.8824\n",
      "Epoch 48/50\n",
      "10/10 [==============================] - 0s 8ms/step - loss: 0.3094 - accuracy: 0.7337 - val_loss: 0.2848 - val_accuracy: 0.8824\n",
      "Epoch 49/50\n",
      "10/10 [==============================] - 0s 8ms/step - loss: 0.2901 - accuracy: 0.7331 - val_loss: 0.2718 - val_accuracy: 0.8824\n",
      "Epoch 50/50\n",
      "10/10 [==============================] - 0s 9ms/step - loss: 0.2966 - accuracy: 0.7450 - val_loss: 0.2539 - val_accuracy: 0.8824\n"
     ]
    },
    {
     "data": {
      "text/plain": [
       "<tensorflow.python.keras.callbacks.History at 0x7faf50563190>"
      ]
     },
     "execution_count": 82,
     "metadata": {
      "tags": []
     },
     "output_type": "execute_result"
    }
   ],
   "source": [
    "modelNN.fit(x_train, y_train, epochs=50, batch_size=32, verbose= 1,validation_split=0.1)"
   ]
  },
  {
   "cell_type": "code",
   "execution_count": null,
   "metadata": {
    "colab": {
     "base_uri": "https://localhost:8080/"
    },
    "id": "F5CAQe42ze3x",
    "outputId": "57ee0fd0-aaba-4d1c-fb73-9c14e699e970"
   },
   "outputs": [
    {
     "name": "stdout",
     "output_type": "stream",
     "text": [
      "11/11 [==============================] - 0s 3ms/step - loss: 0.2327 - accuracy: 0.7412\n",
      "Training data Accuracy score:  [0.23272328078746796, 0.7411764860153198]\n"
     ]
    }
   ],
   "source": [
    "print('Training data Accuracy score: ',modelNN.evaluate(x_train,y_train,verbose=1))"
   ]
  },
  {
   "cell_type": "code",
   "execution_count": null,
   "metadata": {
    "colab": {
     "base_uri": "https://localhost:8080/"
    },
    "id": "QB5Oi6h0ze0G",
    "outputId": "144c6756-b9db-4df7-822a-c49a01277d12"
   },
   "outputs": [
    {
     "name": "stdout",
     "output_type": "stream",
     "text": [
      "3/3 [==============================] - 0s 4ms/step - loss: 0.4456 - accuracy: 0.7529\n",
      "Testing data Accuracy score:  [0.44559478759765625, 0.7529411911964417]\n"
     ]
    }
   ],
   "source": [
    "print('Testing data Accuracy score: ',modelNN.evaluate(x_test,y_test,verbose=1))"
   ]
  },
  {
   "cell_type": "code",
   "execution_count": null,
   "metadata": {
    "id": "kZHWUtTXeMQi"
   },
   "outputs": [],
   "source": [
    "y_predn = modelNN.predict(x_test)\n",
    "y_predn_train = modelNN.predict(x_train)"
   ]
  },
  {
   "cell_type": "code",
   "execution_count": null,
   "metadata": {
    "id": "zyjJzkVtKr11"
   },
   "outputs": [],
   "source": [
    "y_predn_c = modelNN.predict_classes(x_test)\n",
    "y_predn_train_c = modelNN.predict_classes(x_train)"
   ]
  },
  {
   "cell_type": "code",
   "execution_count": null,
   "metadata": {
    "colab": {
     "base_uri": "https://localhost:8080/"
    },
    "id": "4WyKR8qVs_rP",
    "outputId": "3e6237c1-3ca8-47c2-d0c7-cd7d22077645"
   },
   "outputs": [
    {
     "name": "stdout",
     "output_type": "stream",
     "text": [
      "Train matrix score:\n",
      "\n",
      "Average accuracy score:  0.7264705882352941\n",
      "Average precision score:  0.6356617647058823\n",
      "Average recall score:  0.7264705882352941\n",
      "F1 score:  0.6780392156862745\n",
      "Average roc_auc_score score:  0.9021174213630379\n"
     ]
    }
   ],
   "source": [
    "acc_scr_NN_train_AL = accuracy_score(y_train, y_predn_train.round())\n",
    "avg_scr_NN_train_AL  = precision_score(y_train, y_predn_train.round(), average='weighted')\n",
    "recall_scr_NN_train_AL = recall_score(y_train, y_predn_train.round(),average=\"weighted\")\n",
    "f1_scr_NN_train_AL = f1_score(y_train, y_predn_train.round(), average=\"weighted\")\n",
    "roc_scr_NN_train_AL = roc_auc_score(y_train, y_predn_train,average='weighted',labels=Y_AL,multi_class='ovr')\n",
    "\n",
    "print('Train matrix score:\\n')\n",
    "\n",
    "print('Average accuracy score: ', acc_scr_NN_train_AL)\n",
    "print('Average precision score: ', avg_scr_NN_train_AL)\n",
    "print('Average recall score: ', recall_scr_NN_train_AL)\n",
    "print('F1 score: ', f1_scr_NN_train_AL)\n",
    "print('Average roc_auc_score score: ', roc_scr_NN_train_AL)"
   ]
  },
  {
   "cell_type": "code",
   "execution_count": null,
   "metadata": {
    "colab": {
     "base_uri": "https://localhost:8080/"
    },
    "id": "P9hiUuIhl5fZ",
    "outputId": "9f922250-45a5-4f41-a5b7-c1321178492f"
   },
   "outputs": [
    {
     "name": "stdout",
     "output_type": "stream",
     "text": [
      "Test matrix score:\n",
      "\n",
      "Accuracy score:  0.7411764705882353\n",
      "F1 score:  0.6453781512605041\n",
      "Average precision score:  0.5715095676824947\n",
      "Average recall score:  0.7411764705882353\n",
      "Average roc_auc_score score:  0.4415269677111114\n"
     ]
    }
   ],
   "source": [
    "acc_scr_NN_test_AL = accuracy_score(y_test, y_predn.round())\n",
    "f1_scr_NN_test_AL = f1_score(y_test, y_predn.round(), average=\"weighted\")\n",
    "avg_scr_NN_test_AL =  precision_score(y_test, y_predn.round(), average='weighted')\n",
    "recall_scr_NN_test_AL = recall_score(y_test, y_predn.round(),average=\"weighted\")\n",
    "roc_scr_bgn_NN_AL = roc_auc_score(y_test, y_predn,average='weighted',labels=Y_AL,multi_class='ovr')\n",
    "\n",
    "print('Test matrix score:\\n')\n",
    "print('Accuracy score: ', acc_scr_NN_test_AL)\n",
    "print('F1 score: ', f1_scr_NN_test_AL)\n",
    "print('Average precision score: ', avg_scr_NN_test_AL )\n",
    "print('Average recall score: ', recall_scr_NN_test_AL)\n",
    "print('Average roc_auc_score score: ', roc_scr_bgn_NN_AL)\n"
   ]
  },
  {
   "cell_type": "markdown",
   "metadata": {
    "id": "QLDRpo5l4VCn"
   },
   "source": [
    "### Storing Neural Network Accuracy Scores (train and test)."
   ]
  },
  {
   "cell_type": "code",
   "execution_count": null,
   "metadata": {
    "id": "uGs_HoRD4Ts7"
   },
   "outputs": [],
   "source": [
    "#Store the accuracy results for each model in a dataframe for final comparison\n",
    "results_train_NN = pd.DataFrame({'Model':['NN'], 'accuracy': acc_scr_NN_train_AL, 'F1 score': f1_scr_NN_train_AL,\n",
    "                        'precision': avg_scr_NN_train_AL, 'recall':recall_scr_NN_train_AL , 'roc_auc':roc_scr_NN_train_AL},index={'6'})\n",
    "results_train_NN = results_train_NN[['Model', 'accuracy', 'F1 score', 'precision', 'recall', 'roc_auc']]\n"
   ]
  },
  {
   "cell_type": "code",
   "execution_count": null,
   "metadata": {
    "id": "l7smmWTA95Br"
   },
   "outputs": [],
   "source": [
    "#Store the accuracy results for each model in a dataframe for final comparison\n",
    "results_test_NN = pd.DataFrame({'Model':['NN'], 'accuracy': acc_scr_NN_test_AL, 'F1 score': f1_scr_NN_test_AL,\n",
    "                        'precision': avg_scr_NN_test_AL, 'recall':recall_scr_NN_test_AL , 'roc_auc':roc_scr_bgn_NN_AL},index={'6'})\n",
    "results_test_NN = results_test_NN[['Model', 'accuracy', 'F1 score', 'precision', 'recall', 'roc_auc']]\n"
   ]
  },
  {
   "cell_type": "markdown",
   "metadata": {
    "id": "CGX_D9gJzq9D"
   },
   "source": [
    "### **LSTM**"
   ]
  },
  {
   "cell_type": "code",
   "execution_count": null,
   "metadata": {
    "colab": {
     "base_uri": "https://localhost:8080/"
    },
    "id": "16OlCIz6zetb",
    "outputId": "01bfb6e8-e897-4fbc-bed8-8dc5fc7ac36c"
   },
   "outputs": [
    {
     "name": "stdout",
     "output_type": "stream",
     "text": [
      "WARNING:tensorflow:Layer lstm will not use cuDNN kernel since it doesn't meet the cuDNN kernel criteria. It will use generic GPU kernel as fallback when running on GPU\n",
      "WARNING:tensorflow:Layer lstm will not use cuDNN kernel since it doesn't meet the cuDNN kernel criteria. It will use generic GPU kernel as fallback when running on GPU\n",
      "WARNING:tensorflow:Layer lstm will not use cuDNN kernel since it doesn't meet the cuDNN kernel criteria. It will use generic GPU kernel as fallback when running on GPU\n"
     ]
    }
   ],
   "source": [
    "model_lstm = Sequential()\n",
    "model_lstm.add(Embedding(num_words,embedding_size,weights=[embedding_matrix],input_length=maxlen))\n",
    "model_lstm.add(Dropout(0.3))\n",
    "model_lstm.add(Bidirectional(LSTM(452,dropout=0.2,recurrent_dropout=0.2)))\n",
    "model_lstm.add(Flatten())\n",
    "model_lstm.add(Dense(256,activation='relu'))\n",
    "model_lstm.add(Dense(128,activation='relu'))\n",
    "model_lstm.add(Dropout(0.5))\n",
    "model_lstm.add(Dense(labels_al,activation='softmax'))"
   ]
  },
  {
   "cell_type": "code",
   "execution_count": null,
   "metadata": {
    "id": "NMbx0v77zeq1"
   },
   "outputs": [],
   "source": [
    "model_lstm.compile(optimizer='adam',metrics=['accuracy'],loss='binary_crossentropy')"
   ]
  },
  {
   "cell_type": "code",
   "execution_count": null,
   "metadata": {
    "colab": {
     "base_uri": "https://localhost:8080/"
    },
    "id": "-DgFAjYCzelH",
    "outputId": "c7c88023-531b-4fa5-aa80-82ad30cd9808"
   },
   "outputs": [
    {
     "name": "stdout",
     "output_type": "stream",
     "text": [
      "Epoch 1/10\n",
      "10/10 [==============================] - 12s 621ms/step - loss: 0.5190 - accuracy: 0.5637 - val_loss: 0.2209 - val_accuracy: 0.8824\n",
      "Epoch 2/10\n",
      "10/10 [==============================] - 5s 542ms/step - loss: 0.3594 - accuracy: 0.7052 - val_loss: 0.1929 - val_accuracy: 0.8824\n",
      "Epoch 3/10\n",
      "10/10 [==============================] - 5s 549ms/step - loss: 0.3215 - accuracy: 0.7061 - val_loss: 0.1999 - val_accuracy: 0.8824\n",
      "Epoch 4/10\n",
      "10/10 [==============================] - 5s 546ms/step - loss: 0.3231 - accuracy: 0.6971 - val_loss: 0.1954 - val_accuracy: 0.8824\n",
      "Epoch 5/10\n",
      "10/10 [==============================] - 5s 547ms/step - loss: 0.3264 - accuracy: 0.7088 - val_loss: 0.2216 - val_accuracy: 0.8824\n",
      "Epoch 6/10\n",
      "10/10 [==============================] - 6s 570ms/step - loss: 0.3023 - accuracy: 0.7114 - val_loss: 0.2293 - val_accuracy: 0.8824\n",
      "Epoch 7/10\n",
      "10/10 [==============================] - 6s 570ms/step - loss: 0.2943 - accuracy: 0.7232 - val_loss: 0.2294 - val_accuracy: 0.8824\n",
      "Epoch 8/10\n",
      "10/10 [==============================] - 5s 542ms/step - loss: 0.2447 - accuracy: 0.7222 - val_loss: 0.2506 - val_accuracy: 0.8824\n",
      "Epoch 9/10\n",
      "10/10 [==============================] - 5s 543ms/step - loss: 0.2511 - accuracy: 0.7831 - val_loss: 0.2312 - val_accuracy: 0.8529\n",
      "Epoch 10/10\n",
      "10/10 [==============================] - 6s 559ms/step - loss: 0.2298 - accuracy: 0.7360 - val_loss: 0.2189 - val_accuracy: 0.8824\n"
     ]
    },
    {
     "data": {
      "text/plain": [
       "<tensorflow.python.keras.callbacks.History at 0x7faf0f8e1550>"
      ]
     },
     "execution_count": 94,
     "metadata": {
      "tags": []
     },
     "output_type": "execute_result"
    }
   ],
   "source": [
    "model_lstm.fit(x_train,y_train,batch_size=32,epochs=10,verbose=1,validation_split=0.1,shuffle=False)"
   ]
  },
  {
   "cell_type": "code",
   "execution_count": null,
   "metadata": {
    "colab": {
     "base_uri": "https://localhost:8080/"
    },
    "id": "yCmopD6Gzeg2",
    "outputId": "50c2b968-df2f-483b-f402-5c3008716b0d"
   },
   "outputs": [
    {
     "name": "stdout",
     "output_type": "stream",
     "text": [
      "11/11 [==============================] - 1s 80ms/step - loss: 0.1525 - accuracy: 0.8294\n",
      "Training data Accuracy score:  [0.15251752734184265, 0.8294117450714111]\n"
     ]
    }
   ],
   "source": [
    "print('Training data Accuracy score: ',model_lstm.evaluate(x_train,y_train,verbose=1))"
   ]
  },
  {
   "cell_type": "code",
   "execution_count": null,
   "metadata": {
    "colab": {
     "base_uri": "https://localhost:8080/"
    },
    "id": "grGO6R_0zeer",
    "outputId": "b878e89d-fec1-48d1-c858-cc1a96f373ce"
   },
   "outputs": [
    {
     "name": "stdout",
     "output_type": "stream",
     "text": [
      "3/3 [==============================] - 0s 69ms/step - loss: 0.2924 - accuracy: 0.7529\n",
      "Testing data Accuracy score:  [0.2923983335494995, 0.7529411911964417]\n"
     ]
    }
   ],
   "source": [
    "print('Testing data Accuracy score: ',model_lstm.evaluate(x_test,y_test,verbose=1))"
   ]
  },
  {
   "cell_type": "code",
   "execution_count": null,
   "metadata": {
    "id": "rCXS2mM_6-YM"
   },
   "outputs": [],
   "source": [
    "y_predls = model_lstm.predict(x_test)\n",
    "y_predls_train = model_lstm.predict(x_train)"
   ]
  },
  {
   "cell_type": "code",
   "execution_count": null,
   "metadata": {
    "colab": {
     "base_uri": "https://localhost:8080/"
    },
    "id": "H0GJj75fxL39",
    "outputId": "79b808a6-6a01-415f-a410-b8e8faf16cf4"
   },
   "outputs": [
    {
     "name": "stdout",
     "output_type": "stream",
     "text": [
      "Train matrix score:\n",
      "\n",
      "Average accuracy score:  0.7794117647058824\n",
      "Average precision score:  0.8529567657451674\n",
      "Average recall score:  0.7794117647058824\n",
      "F1 score:  0.7613321918784766\n",
      "Average roc_auc_score score:  0.9589461285702467\n"
     ]
    }
   ],
   "source": [
    "acc_scr_LSTM_train_AL = accuracy_score(y_train, y_predls_train.round())\n",
    "avg_scr_LSTM_train_AL  = precision_score(y_train, y_predls_train.round(), average='weighted')\n",
    "recall_scr_LSTM_train_AL = recall_score(y_train, y_predls_train.round(),average=\"weighted\")\n",
    "f1_scr_LSTM_train_AL = f1_score(y_train, y_predls_train.round(), average=\"weighted\")\n",
    "roc_scr_LSTM_train_AL = roc_auc_score(y_train, y_predls_train,average='weighted',labels=Y_AL,multi_class='ovr')\n",
    "\n",
    "print('Train matrix score:\\n')\n",
    "\n",
    "print('Average accuracy score: ', acc_scr_LSTM_train_AL)\n",
    "print('Average precision score: ', avg_scr_LSTM_train_AL)\n",
    "print('Average recall score: ', recall_scr_LSTM_train_AL)\n",
    "print('F1 score: ', f1_scr_LSTM_train_AL)\n",
    "print('Average roc_auc_score score: ', roc_scr_LSTM_train_AL)"
   ]
  },
  {
   "cell_type": "code",
   "execution_count": null,
   "metadata": {
    "colab": {
     "base_uri": "https://localhost:8080/"
    },
    "id": "LJxk2Avn632S",
    "outputId": "43aa6479-06bf-445e-c949-23754e0ee91a"
   },
   "outputs": [
    {
     "name": "stdout",
     "output_type": "stream",
     "text": [
      "Test matrix score:\n",
      "\n",
      "Accuracy score:  0.7529411764705882\n",
      "F1 score:  0.6556222488995599\n",
      "Average precision score:  0.5805811481218994\n",
      "Average recall score:  0.7529411764705882\n",
      "Average roc_auc_score score:  0.7759282259701327\n"
     ]
    }
   ],
   "source": [
    "acc_scr_LSTM_test_AL = accuracy_score(y_test, y_predls.round())\n",
    "f1_scr_LSTM_test_AL = f1_score(y_test, y_predls.round(), average=\"weighted\")\n",
    "avg_scr_LSTM_test_AL =  precision_score(y_test, y_predls.round(), average='weighted')\n",
    "recall_scr_LSTM_test_AL = recall_score(y_test, y_predls.round(),average=\"weighted\")\n",
    "roc_scr_LSTM_test_AL = roc_auc_score(y_test, y_predls,average='weighted',labels=Y_AL,multi_class='ovr')\n",
    "\n",
    "print('Test matrix score:\\n')\n",
    "print('Accuracy score: ', acc_scr_LSTM_test_AL)\n",
    "print('F1 score: ', f1_scr_LSTM_test_AL)\n",
    "print('Average precision score: ', avg_scr_LSTM_test_AL )\n",
    "print('Average recall score: ', recall_scr_LSTM_test_AL)\n",
    "print('Average roc_auc_score score: ', roc_scr_LSTM_test_AL)\n",
    "\n"
   ]
  },
  {
   "cell_type": "code",
   "execution_count": null,
   "metadata": {
    "colab": {
     "base_uri": "https://localhost:8080/"
    },
    "id": "4r3Vdks_Ys-D",
    "outputId": "554f869f-70e3-4dae-8b84-4c4460be8cc9"
   },
   "outputs": [
    {
     "name": "stdout",
     "output_type": "stream",
     "text": [
      "******************************************************Training Metrics Accuracy Of AL****************************************************:\n",
      "\n",
      "|    | Model               |   accuracy |   F1 score |   precision |   recall |   roc_auc |\n",
      "|---:|:--------------------|-----------:|-----------:|------------:|---------:|----------:|\n",
      "|  1 | Logistic Regression |   0.782353 |   0.805882 |    0.68827  | 0.805882 |  0.878676 |\n",
      "|  2 | Random Forest       |   0.926471 |   0.951662 |    0.921036 | 0.926471 |  0.960662 |\n",
      "|  3 | SVM                 |   0.911765 |   0.913108 |    0.851414 | 0.911765 |  0.945221 |\n",
      "|  5 | Bagging             |   0.988235 |   0.99115  |    0.984741 | 0.988235 |  0.993382 |\n",
      "|  4 | Boosting            |   0.782353 |   0.837209 |    0.731602 | 0.847059 |  0.901471 |\n",
      "|  6 | NN                  |   0.726471 |   0.678039 |    0.635662 | 0.726471 |  0.902117 |\n",
      "|  7 | LSTM                |   0.779412 |   0.761332 |    0.852957 | 0.779412 |  0.958946 |\n"
     ]
    }
   ],
   "source": [
    "#Store the accuracy results for each model in a dataframe for final comparison\n",
    "tempResultsDf = pd.DataFrame({'Model':['LSTM'], 'accuracy': acc_scr_LSTM_train_AL, 'F1 score': f1_scr_LSTM_train_AL,\n",
    "                        'precision': avg_scr_LSTM_train_AL, 'recall': recall_scr_LSTM_train_AL , 'roc_auc':roc_scr_LSTM_train_AL},index={'7'})\n",
    "results_train = pd.concat([results_train_LR,results_train_RF, results_train_SVM, results_train_bgn, results_train_bst, results_train_NN, tempResultsDf])\n",
    "results_train = results_train[['Model', 'accuracy', 'F1 score', 'precision', 'recall', 'roc_auc']]\n",
    "results_train\n",
    "print('******************************************************Training Metrics Accuracy Of AL****************************************************:\\n')\n",
    "print(results_train.to_markdown())\n",
    "\n"
   ]
  },
  {
   "cell_type": "code",
   "execution_count": null,
   "metadata": {
    "colab": {
     "base_uri": "https://localhost:8080/"
    },
    "id": "CtTekDgICGjr",
    "outputId": "06ac07b3-b337-446e-9588-7cbdc164bf9b"
   },
   "outputs": [
    {
     "name": "stdout",
     "output_type": "stream",
     "text": [
      "******************************************Test Metrics Accuracy Of AL********************************************************************:\n",
      "\n",
      "|    | Model               |   accuracy |   F1 score |   precision |   recall |   roc_auc |\n",
      "|---:|:--------------------|-----------:|-----------:|------------:|---------:|----------:|\n",
      "|  1 | Logistic Regression |   0.782353 |   0.805882 |    0.68827  | 0.805882 |  0.878676 |\n",
      "|  2 | Random Forest       |   0.926471 |   0.951662 |    0.921036 | 0.926471 |  0.960662 |\n",
      "|  3 | SVM                 |   0.911765 |   0.913108 |    0.851414 | 0.911765 |  0.945221 |\n",
      "|  5 | Bagging             |   0.988235 |   0.99115  |    0.984741 | 0.988235 |  0.993382 |\n",
      "|  4 | Boosting            |   0.782353 |   0.837209 |    0.731602 | 0.847059 |  0.901471 |\n",
      "|  6 | NN                  |   0.726471 |   0.678039 |    0.635662 | 0.726471 |  0.902117 |\n",
      "|  7 | LSTM                |   0.779412 |   0.761332 |    0.852957 | 0.779412 |  0.958946 |\n"
     ]
    }
   ],
   "source": [
    "#Store the accuracy results for each model in a dataframe for final comparison\n",
    "tempResultsDfs = pd.DataFrame({'Model':['LSTM'], 'accuracy': acc_scr_LSTM_test_AL, 'F1 score':f1_scr_LSTM_test_AL,\n",
    "                        'precision': avg_scr_LSTM_test_AL, 'recall':recall_scr_LSTM_test_AL , 'roc_auc':roc_scr_LSTM_test_AL},index={'7'})\n",
    "results_test = pd.concat([results_train_LR,results_train_RF, results_train_SVM, results_train_bgn, results_train_bst, results_train_NN, tempResultsDfs])\n",
    "results_test = results_test[['Model', 'accuracy', 'F1 score', 'precision', 'recall', 'roc_auc']]\n",
    "results_test\n",
    "print('******************************************Test Metrics Accuracy Of AL********************************************************************:\\n')\n",
    "print(results_train.to_markdown())\n"
   ]
  },
  {
   "cell_type": "markdown",
   "metadata": {
    "id": "Ue17QPzy8Qt9"
   },
   "source": [
    "### Cross Validation and ML models accuracy projection as box plot.\n",
    "\n"
   ]
  },
  {
   "cell_type": "code",
   "execution_count": null,
   "metadata": {
    "colab": {
     "base_uri": "https://localhost:8080/"
    },
    "id": "R8_ApEdOpCNP",
    "outputId": "f9121336-2eb6-4999-f883-04019f01cb7f"
   },
   "outputs": [
    {
     "name": "stdout",
     "output_type": "stream",
     "text": [
      "Name = Logistic Regression , Mean Accuracy = 0.723529, SD Accuracy = 0.100345\n",
      "Name = SVM , Mean Accuracy = 0.738235, SD Accuracy = 0.095260\n",
      "Name = Random Forest , Mean Accuracy = 0.691176, SD Accuracy = 0.109458\n",
      "Name = Adaptive Boosting , Mean Accuracy = 0.567647, SD Accuracy = 0.106086\n",
      "Name = Bagging , Mean Accuracy = 0.623529, SD Accuracy = 0.101715\n"
     ]
    }
   ],
   "source": [
    "from sklearn import model_selection\n",
    "#Using K fold to check how my algorighm varies throughout my data if we split it in 10 equal bins\n",
    "models = []\n",
    "models.append(('Logistic Regression', OneVsRestClassifier(RandomForestClassifier())))\n",
    "models.append(('SVM', OneVsRestClassifier(svm.SVC())))\n",
    "models.append(('Random Forest', RandomForestClassifier()))\n",
    "models.append(('Adaptive Boosting', OneVsRestClassifier(AdaBoostClassifier())))\n",
    "models.append(('Bagging', OneVsRestClassifier(BaggingClassifier())))\n",
    "# evaluate each model\n",
    "results = []\n",
    "names = []\n",
    "scoring = 'accuracy'\n",
    "for name, model in models:\n",
    "\tkfold = model_selection.KFold(n_splits=10, random_state=101)\n",
    "\tcv_results = model_selection.cross_val_score(model, x_train, y_train, cv=kfold, scoring=scoring)\n",
    "\tresults.append(cv_results)\n",
    "\tnames.append(name)\n",
    "\tprint(\"Name = %s , Mean Accuracy = %f, SD Accuracy = %f\" % (name, cv_results.mean(), cv_results.std()))"
   ]
  },
  {
   "cell_type": "code",
   "execution_count": null,
   "metadata": {
    "colab": {
     "base_uri": "https://localhost:8080/",
     "height": 381
    },
    "id": "UB3WvYFX7UL0",
    "outputId": "fcd12a5a-cc79-44bb-8b38-468507067f36"
   },
   "outputs": [
    {
     "data": {
      "text/plain": [
       "[Text(0, 0, 'Logistic Regression'),\n",
       " Text(0, 0, 'SVM'),\n",
       " Text(0, 0, 'Random Forest'),\n",
       " Text(0, 0, 'Adaptive Boosting'),\n",
       " Text(0, 0, 'Bagging')]"
      ]
     },
     "execution_count": 103,
     "metadata": {
      "tags": []
     },
     "output_type": "execute_result"
    },
    {
     "data": {
      "image/png": "[encoded data removed]",
      "text/plain": [
       "<Figure size 864x288 with 1 Axes>"
      ]
     },
     "metadata": {
      "needs_background": "light",
      "tags": []
     },
     "output_type": "display_data"
    }
   ],
   "source": [
    "# boxplot algorithm comparison\n",
    "fig = plt.figure(figsize=(12,4))\n",
    "fig.suptitle('Algorithm Comparison')\n",
    "ax = fig.add_subplot()\n",
    "plt.boxplot(results)\n",
    "ax.set_xticklabels(names)"
   ]
  },
  {
   "cell_type": "markdown",
   "metadata": {
    "id": "SKBKaF0t4Ona"
   },
   "source": [
    "#### Pickling and Saving to drive\n"
   ]
  },
  {
   "cell_type": "code",
   "execution_count": null,
   "metadata": {
    "id": "Aqolv6VRzea_"
   },
   "outputs": [],
   "source": [
    "import types\n",
    "import tempfile\n",
    "import keras.models\n",
    "\n",
    "def make_keras_picklable():\n",
    "    def __getstate__(self):\n",
    "        model_str = \"\"\n",
    "        with tempfile.NamedTemporaryFile(suffix='.hdf5', delete=True) as fd:\n",
    "            keras.models.save_model(self, fd.name, overwrite=True)\n",
    "            model_str = fd.read()\n",
    "        d = { 'model_str': model_str }\n",
    "        return d\n",
    "\n",
    "    def __setstate__(self, state):\n",
    "        with tempfile.NamedTemporaryFile(suffix='.hdf5', delete=True) as fd:\n",
    "            fd.write(state['model_str'])\n",
    "            fd.flush()\n",
    "            model = keras.models.load_model(fd.name)\n",
    "        self.__dict__ = model.__dict__\n",
    "\n",
    "\n",
    "    cls = keras.models.Model\n",
    "    cls.__getstate__ = __getstate__\n",
    "    cls.__setstate__ = __setstate__"
   ]
  },
  {
   "cell_type": "code",
   "execution_count": null,
   "metadata": {
    "id": "34Ui6Qdq4wFQ"
   },
   "outputs": [],
   "source": [
    "import pickle"
   ]
  },
  {
   "cell_type": "code",
   "execution_count": null,
   "metadata": {
    "id": "GkLWtfKMzeY7"
   },
   "outputs": [],
   "source": [
    "\n",
    "make_keras_picklable()\n",
    "\n",
    "output = open('Cap1_Chatbot_AL_LSTM.pkl', 'wb')\n",
    "pickle.dump(model_lstm,output)"
   ]
  },
  {
   "cell_type": "code",
   "execution_count": null,
   "metadata": {
    "id": "pxrNQx_hzeVn"
   },
   "outputs": [],
   "source": [
    "from pydrive.auth import GoogleAuth\n",
    "from pydrive.drive import GoogleDrive\n",
    "from google.colab import auth\n",
    "from oauth2client.client import GoogleCredentials\n",
    "\n",
    "# 1. Authenticate and create the PyDrive client.\n",
    "auth.authenticate_user()\n",
    "gauth = GoogleAuth()\n",
    "gauth.credentials = GoogleCredentials.get_application_default()\n",
    "drive = GoogleDrive(gauth)  \n",
    "\n",
    "# get the folder id where you want to save your file\n",
    "file = drive.CreateFile()\n",
    "file.SetContentFile('Cap1_Chatbot_AL_LSTM.pkl')\n",
    "file.Upload() "
   ]
  },
  {
   "cell_type": "markdown",
   "metadata": {
    "id": "_NRpwHmT5JRo"
   },
   "source": [
    "## Model Building - PAL"
   ]
  },
  {
   "cell_type": "markdown",
   "metadata": {
    "id": "4av5gXb35WHu"
   },
   "source": [
    "#### One Hot Encoding"
   ]
  },
  {
   "cell_type": "markdown",
   "metadata": {
    "id": "3orHl_hTdtJc"
   },
   "source": [
    "Data Clubbing : Potential Accident Level : 'V' & 'VI , II & I"
   ]
  },
  {
   "cell_type": "code",
   "execution_count": null,
   "metadata": {
    "id": "yUh--hRcdsJ9"
   },
   "outputs": [],
   "source": [
    "Data = data"
   ]
  },
  {
   "cell_type": "code",
   "execution_count": null,
   "metadata": {
    "id": "UkNSCbVNd2Ca"
   },
   "outputs": [],
   "source": [
    "Data['Potential Accident Level'] = data['Potential Accident Level'].str.replace('III','A')\n",
    "Data['Potential Accident Level'] = data['Potential Accident Level'].str.replace('VI','V')\n",
    "Data['Potential Accident Level'] = data['Potential Accident Level'].str.replace('II','I')\n",
    "Data['Potential Accident Level'] = data['Potential Accident Level'].str.replace('A','III')"
   ]
  },
  {
   "cell_type": "code",
   "execution_count": null,
   "metadata": {
    "colab": {
     "base_uri": "https://localhost:8080/"
    },
    "id": "aIX-FDugd6NJ",
    "outputId": "ec4ef60c-0b84-4cd3-d632-a055a131d23a"
   },
   "outputs": [
    {
     "data": {
      "text/plain": [
       "I      144\n",
       "IV     143\n",
       "III    106\n",
       "V       32\n",
       "Name: Potential Accident Level, dtype: int64"
      ]
     },
     "execution_count": 106,
     "metadata": {
      "tags": []
     },
     "output_type": "execute_result"
    }
   ],
   "source": [
    "Data['Potential Accident Level'].value_counts()"
   ]
  },
  {
   "cell_type": "code",
   "execution_count": null,
   "metadata": {
    "colab": {
     "base_uri": "https://localhost:8080/"
    },
    "id": "3zPsu0qkzeSF",
    "outputId": "478b673d-7d4a-4c5d-9522-6e4dce6ab5cc"
   },
   "outputs": [
    {
     "data": {
      "text/plain": [
       "array([[0, 0, 1, 0],\n",
       "       [0, 0, 1, 0],\n",
       "       [0, 1, 0, 0],\n",
       "       ...,\n",
       "       [1, 0, 0, 0],\n",
       "       [1, 0, 0, 0],\n",
       "       [1, 0, 0, 0]])"
      ]
     },
     "execution_count": 107,
     "metadata": {
      "tags": []
     },
     "output_type": "execute_result"
    }
   ],
   "source": [
    "lb = LabelBinarizer()\n",
    "Y_PAL = lb.fit_transform(Data['Potential Accident Level'].values)\n",
    "Y_PAL"
   ]
  },
  {
   "cell_type": "markdown",
   "metadata": {
    "id": "P-jVgKU-8f04"
   },
   "source": [
    "Create test and train sets"
   ]
  },
  {
   "cell_type": "code",
   "execution_count": null,
   "metadata": {
    "colab": {
     "base_uri": "https://localhost:8080/"
    },
    "id": "Dx_-kX0RzeOs",
    "outputId": "149a82e5-8b95-4334-a88f-7ad9ec1d131c"
   },
   "outputs": [
    {
     "name": "stdout",
     "output_type": "stream",
     "text": [
      "(340, 50) (340, 4)\n",
      "(85, 50) (85, 4)\n"
     ]
    }
   ],
   "source": [
    "x_train_p,x_test_p,y_train_p,y_test_p = train_test_split(X,Y_PAL,test_size=0.2,random_state=1)\n",
    "print(x_train_p.shape,y_train_p.shape)\n",
    "print(x_test_p.shape,y_test_p.shape)"
   ]
  },
  {
   "cell_type": "markdown",
   "metadata": {
    "id": "K-CjicGq6DZk"
   },
   "source": [
    "### **Logistic Regression**\n",
    "\n"
   ]
  },
  {
   "cell_type": "code",
   "execution_count": null,
   "metadata": {
    "id": "NPVMUtGhzeLf"
   },
   "outputs": [],
   "source": [
    "lmodel_p = LogisticRegression(solver='liblinear')\n",
    "lmodel_p = OneVsRestClassifier(lmodel_p)"
   ]
  },
  {
   "cell_type": "code",
   "execution_count": null,
   "metadata": {
    "colab": {
     "base_uri": "https://localhost:8080/"
    },
    "id": "HPQHgKugzeHd",
    "outputId": "eb0d7bc9-a75a-4974-ecfe-8074bb11f5df"
   },
   "outputs": [
    {
     "data": {
      "text/plain": [
       "OneVsRestClassifier(estimator=LogisticRegression(C=1.0, class_weight=None,\n",
       "                                                 dual=False, fit_intercept=True,\n",
       "                                                 intercept_scaling=1,\n",
       "                                                 l1_ratio=None, max_iter=100,\n",
       "                                                 multi_class='auto',\n",
       "                                                 n_jobs=None, penalty='l2',\n",
       "                                                 random_state=None,\n",
       "                                                 solver='liblinear', tol=0.0001,\n",
       "                                                 verbose=0, warm_start=False),\n",
       "                    n_jobs=None)"
      ]
     },
     "execution_count": 110,
     "metadata": {
      "tags": []
     },
     "output_type": "execute_result"
    }
   ],
   "source": [
    "lmodel_p.fit(x_train_p,y_train_p)"
   ]
  },
  {
   "cell_type": "code",
   "execution_count": null,
   "metadata": {
    "id": "lnfobkrf6Xvv"
   },
   "outputs": [],
   "source": [
    "predicted_labels_p = lmodel_p.predict(x_test_p)\n",
    "predicted_labels_p_train = lmodel_p.predict(x_train_p)\n",
    "predicted_scores_p = lmodel_p.decision_function(x_test_p)"
   ]
  },
  {
   "cell_type": "code",
   "execution_count": null,
   "metadata": {
    "colab": {
     "base_uri": "https://localhost:8080/"
    },
    "id": "Vmoozsf8gpfe",
    "outputId": "d22dd585-e82c-4056-e234-ecee7a5afd21"
   },
   "outputs": [
    {
     "name": "stdout",
     "output_type": "stream",
     "text": [
      "Test data Accuracy score:  0.1411764705882353\n"
     ]
    }
   ],
   "source": [
    "print('Test data Accuracy score: ', accuracy_score(y_test_p, predicted_labels_p))"
   ]
  },
  {
   "cell_type": "code",
   "execution_count": null,
   "metadata": {
    "colab": {
     "base_uri": "https://localhost:8080/"
    },
    "id": "_TvPY_K5gtT9",
    "outputId": "bac55609-7c76-4bd8-c218-f7b405e32d06"
   },
   "outputs": [
    {
     "name": "stdout",
     "output_type": "stream",
     "text": [
      "Training data Accuracy score:  0.36470588235294116\n"
     ]
    }
   ],
   "source": [
    "print('Training data Accuracy score: ',accuracy_score(y_train_p,predicted_labels_p_train))"
   ]
  },
  {
   "cell_type": "code",
   "execution_count": null,
   "metadata": {
    "colab": {
     "base_uri": "https://localhost:8080/"
    },
    "id": "EW5dysklPmB5",
    "outputId": "6697c819-00ab-4d08-ccbb-267e9eee45b5"
   },
   "outputs": [
    {
     "name": "stdout",
     "output_type": "stream",
     "text": [
      "Training matrix score:\n",
      "\n",
      "Accuracy score:  0.36470588235294116\n",
      "F1 score:  0.5009345794392523\n",
      "Average precision score:  0.4223001508295626\n",
      "Average recall score:  0.3941176470588235\n",
      "Average roc_auc_score score:  0.667156862745098\n"
     ]
    }
   ],
   "source": [
    "acc_scr_regr_train_PAL = accuracy_score(y_train_p, predicted_labels_p_train)\n",
    "f1_scr_reg_train_PAL = f1_score(y_train_p, predicted_labels_p_train, average='micro')\n",
    "avg_scr_reg_train_PAL = average_precision_score(y_train_p, predicted_labels_p_train, average='micro')\n",
    "recall_scr_reg_train_PAL = recall_score(y_train_p, predicted_labels_p_train, average='micro')\n",
    "roc_scr_reg_train_PAL = roc_auc_score(y_train_p, predicted_labels_p_train,average='micro')\n",
    "\n",
    "print('Training matrix score:\\n')\n",
    "print('Accuracy score: ', acc_scr_regr_train_PAL)\n",
    "print('F1 score: ', f1_scr_reg_train_PAL)\n",
    "print('Average precision score: ',avg_scr_reg_train_PAL )\n",
    "print('Average recall score: ', recall_scr_reg_train_PAL)\n",
    "print('Average roc_auc_score score: ', roc_scr_reg_train_PAL)"
   ]
  },
  {
   "cell_type": "code",
   "execution_count": null,
   "metadata": {
    "colab": {
     "base_uri": "https://localhost:8080/"
    },
    "id": "xCE6rJNr6YiH",
    "outputId": "68a5050d-9178-4632-8c7f-5f8bdb5f47cd"
   },
   "outputs": [
    {
     "name": "stdout",
     "output_type": "stream",
     "text": [
      "Training matrix score:\n",
      "\n",
      "Accuracy score:  0.1411764705882353\n",
      "F1 score:  0.2\n",
      "Average precision score:  0.25594771241830067\n",
      "Average recall score:  0.15294117647058825\n",
      "Average roc_auc_score score:  0.5137254901960784\n"
     ]
    }
   ],
   "source": [
    "acc_scr_regr_test_PAL = accuracy_score(y_test_p, predicted_labels_p)\n",
    "f1_scr_reg_test_PAL = f1_score(y_test_p, predicted_labels_p, average='micro')\n",
    "avg_scr_reg_test_PAL = average_precision_score(y_test_p, predicted_labels_p, average='micro')\n",
    "recall_scr_reg_test_PAL = recall_score(y_test_p, predicted_labels_p, average='micro')\n",
    "roc_scr_reg_test_PAL = roc_auc_score(y_test_p, predicted_labels_p,average='micro')\n",
    "\n",
    "print('Training matrix score:\\n')\n",
    "print('Accuracy score: ', acc_scr_regr_test_PAL )\n",
    "print('F1 score: ', f1_scr_reg_test_PAL )\n",
    "print('Average precision score: ', avg_scr_reg_test_PAL)\n",
    "print('Average recall score: ', recall_scr_reg_test_PAL )\n",
    "print('Average roc_auc_score score: ', roc_scr_reg_test_PAL )\n"
   ]
  },
  {
   "cell_type": "markdown",
   "metadata": {
    "id": "alu8pwTe9blt"
   },
   "source": [
    "### Storing Logistic Regression Accuracy Scores (train and test) ."
   ]
  },
  {
   "cell_type": "code",
   "execution_count": null,
   "metadata": {
    "id": "NU3TFbHu9aXY"
   },
   "outputs": [],
   "source": [
    "#Store the accuracy results for each model in a dataframe for final comparison\n",
    "results_train_LR_PAL = pd.DataFrame({'Model':['Logistic Regression'], 'accuracy': acc_scr_regr_train_PAL, 'F1 score':f1_scr_reg_train_PAL,\n",
    "                        'precision': avg_scr_reg_train_PAL, 'recall':recall_scr_reg_train_PAL , 'roc_auc':roc_scr_reg_train_PAL},index={'1'})\n",
    "results_train_LR_PAL = results_train_LR_PAL[['Model', 'accuracy', 'F1 score', 'precision', 'recall', 'roc_auc']]"
   ]
  },
  {
   "cell_type": "code",
   "execution_count": null,
   "metadata": {
    "id": "kHQ5sLi87cb1"
   },
   "outputs": [],
   "source": [
    "#Store the accuracy results for each model in a dataframe for final comparison\n",
    "results_test_LR_PAL = pd.DataFrame({'Model':['Logistic Regression'], 'accuracy': acc_scr_regr_test_PAL, 'F1 score':f1_scr_reg_test_PAL,\n",
    "                        'precision': avg_scr_reg_test_PAL, 'recall':recall_scr_reg_test_PAL , 'roc_auc':roc_scr_reg_test_PAL},index={'1'})\n",
    "results_test_LR_PAL = results_test_LR_PAL[['Model', 'accuracy', 'F1 score', 'precision', 'recall', 'roc_auc']]\n"
   ]
  },
  {
   "cell_type": "markdown",
   "metadata": {
    "id": "GuvhCtse6c8V"
   },
   "source": [
    "### **Random Forest**"
   ]
  },
  {
   "cell_type": "code",
   "execution_count": null,
   "metadata": {
    "colab": {
     "base_uri": "https://localhost:8080/"
    },
    "id": "8Q08B7Py6Xl_",
    "outputId": "62f1202a-1dbd-4116-e826-c45757495897"
   },
   "outputs": [
    {
     "data": {
      "text/plain": [
       "RandomForestClassifier(bootstrap=True, ccp_alpha=0.0, class_weight=None,\n",
       "                       criterion='entropy', max_depth=None, max_features='auto',\n",
       "                       max_leaf_nodes=None, max_samples=None,\n",
       "                       min_impurity_decrease=0.0, min_impurity_split=None,\n",
       "                       min_samples_leaf=1, min_samples_split=2,\n",
       "                       min_weight_fraction_leaf=0.0, n_estimators=10,\n",
       "                       n_jobs=None, oob_score=False, random_state=42, verbose=0,\n",
       "                       warm_start=False)"
      ]
     },
     "execution_count": 118,
     "metadata": {
      "tags": []
     },
     "output_type": "execute_result"
    }
   ],
   "source": [
    "classifier = RandomForestClassifier(n_estimators = 10, criterion = 'entropy', random_state = 42)\n",
    "classifier.fit(x_train_p, y_train_p)"
   ]
  },
  {
   "cell_type": "code",
   "execution_count": null,
   "metadata": {
    "id": "-VAcz2a36idl"
   },
   "outputs": [],
   "source": [
    "y_predr_p = classifier.predict(x_test_p)\n",
    "y_predr_p_train = classifier.predict(x_train_p)"
   ]
  },
  {
   "cell_type": "code",
   "execution_count": null,
   "metadata": {
    "colab": {
     "base_uri": "https://localhost:8080/"
    },
    "id": "AIPYAQ_M7nNo",
    "outputId": "637da0ff-60b6-4304-92bb-ffb83bc3015b"
   },
   "outputs": [
    {
     "name": "stdout",
     "output_type": "stream",
     "text": [
      "Training matrix score:\n",
      "\n",
      "Accuracy score:  0.9058823529411765\n",
      "F1 score:  0.9491525423728814\n",
      "Average precision score:  0.9264801066057492\n",
      "Average recall score:  0.9058823529411765\n",
      "Average roc_auc_score score:  0.9524509803921568\n"
     ]
    }
   ],
   "source": [
    "acc_scr_rfc_train_PAL = accuracy_score(y_train_p, y_predr_p_train)\n",
    "f1_scr_rfc_train_PAL = f1_score(y_train_p, y_predr_p_train, average='micro')\n",
    "avg_scr_rfc_train_PAL = average_precision_score(y_train_p, y_predr_p_train, average='micro')\n",
    "recall_scr_rfc_train_PAL = recall_score(y_train_p, y_predr_p_train, average='micro')\n",
    "roc_scr_rfc_train_PAL = roc_auc_score(y_train_p, y_predr_p_train,average='micro')\n",
    "\n",
    "print('Training matrix score:\\n')\n",
    "print('Accuracy score: ', acc_scr_rfc_train_PAL)\n",
    "print('F1 score: ', f1_scr_rfc_train_PAL)\n",
    "print('Average precision score: ',avg_scr_rfc_train_PAL )\n",
    "print('Average recall score: ', recall_scr_rfc_train_PAL)\n",
    "print('Average roc_auc_score score: ', roc_scr_rfc_train_PAL)"
   ]
  },
  {
   "cell_type": "code",
   "execution_count": null,
   "metadata": {
    "colab": {
     "base_uri": "https://localhost:8080/"
    },
    "id": "MnLElSAcGOlz",
    "outputId": "69fcb441-2ece-4001-e1a1-666badd6e030"
   },
   "outputs": [
    {
     "name": "stdout",
     "output_type": "stream",
     "text": [
      "Test matrix score:\n",
      "\n",
      "Accuracy score:  0.21176470588235294\n",
      "F1 score:  0.3185840707964602\n",
      "Average precision score:  0.3331932773109244\n",
      "Average recall score:  0.21176470588235294\n",
      "Average roc_auc_score score:  0.5862745098039215\n"
     ]
    }
   ],
   "source": [
    "acc_scr_rfc_test_PAL = accuracy_score(y_test_p, y_predr_p)\n",
    "f1_scr_rfc_test_PAL = f1_score(y_test_p, y_predr_p, average='micro')\n",
    "avg_scr_rfc_test_PAL = average_precision_score(y_test_p, y_predr_p, average='micro')\n",
    "recall_scr_rfc_test_PAL = recall_score(y_test_p, y_predr_p, average='micro')\n",
    "roc_scr_rfc_test_PAL = roc_auc_score(y_test_p, y_predr_p,average='micro')\n",
    "\n",
    "print('Test matrix score:\\n')\n",
    "print('Accuracy score: ', acc_scr_rfc_test_PAL)\n",
    "print('F1 score: ', f1_scr_rfc_test_PAL)\n",
    "print('Average precision score: ',avg_scr_rfc_test_PAL )\n",
    "print('Average recall score: ', recall_scr_rfc_test_PAL)\n",
    "print('Average roc_auc_score score: ', roc_scr_rfc_test_PAL)\n"
   ]
  },
  {
   "cell_type": "markdown",
   "metadata": {
    "id": "mhZ0Lguj-Pqb"
   },
   "source": [
    "### Storing Random Forest Accuracy Scores (train and test)."
   ]
  },
  {
   "cell_type": "code",
   "execution_count": null,
   "metadata": {
    "id": "hDe0avdo-NNY"
   },
   "outputs": [],
   "source": [
    "#Store the accuracy results for each model in a dataframe for final comparison\n",
    "results_train_RF_PAL = pd.DataFrame({'Model':['Random Forest'], 'accuracy': acc_scr_rfc_train_PAL, 'F1 score': f1_scr_rfc_train_PAL,\n",
    "                        'precision': avg_scr_rfc_train_PAL, 'recall': recall_scr_rfc_train_PAL , 'roc_auc': roc_scr_rfc_train_PAL},index={'2'})\n",
    "results_train_RF_PAL = results_train_RF_PAL[['Model', 'accuracy', 'F1 score', 'precision', 'recall', 'roc_auc']]"
   ]
  },
  {
   "cell_type": "code",
   "execution_count": null,
   "metadata": {
    "id": "UJoyYqUZG0tz"
   },
   "outputs": [],
   "source": [
    "#Store the accuracy results for each model in a dataframe for final comparison\n",
    "results_test_RF_PAL = pd.DataFrame({'Model':['Random Forest'], 'accuracy': acc_scr_rfc_test_PAL, 'F1 score': f1_scr_rfc_test_PAL,\n",
    "                        'precision': avg_scr_rfc_test_PAL, 'recall': recall_scr_rfc_test_PAL , 'roc_auc': roc_scr_rfc_test_PAL},index={'2'})\n",
    "results_test_RF_PAL = results_test_RF_PAL[['Model', 'accuracy', 'F1 score', 'precision', 'recall', 'roc_auc']]\n"
   ]
  },
  {
   "cell_type": "markdown",
   "metadata": {
    "id": "y6kfdZ3O6kvJ"
   },
   "source": [
    "### **Support Vector Machine (SVM)**"
   ]
  },
  {
   "cell_type": "code",
   "execution_count": null,
   "metadata": {
    "colab": {
     "base_uri": "https://localhost:8080/"
    },
    "id": "w2OT3Z-N6iTJ",
    "outputId": "c3f5c827-3852-4002-dd68-92da9e6c18f8"
   },
   "outputs": [
    {
     "data": {
      "text/plain": [
       "OneVsRestClassifier(estimator=SVC(C=1, break_ties=False, cache_size=200,\n",
       "                                  class_weight=None, coef0=0.0,\n",
       "                                  decision_function_shape='ovr', degree=5,\n",
       "                                  gamma='scale', kernel='poly', max_iter=-1,\n",
       "                                  probability=False, random_state=None,\n",
       "                                  shrinking=True, tol=0.001, verbose=False),\n",
       "                    n_jobs=None)"
      ]
     },
     "execution_count": 124,
     "metadata": {
      "tags": []
     },
     "output_type": "execute_result"
    }
   ],
   "source": [
    "clf.fit(x_train_p , y_train_p) # Fit the model"
   ]
  },
  {
   "cell_type": "code",
   "execution_count": null,
   "metadata": {
    "id": "JjBJe7466iQQ"
   },
   "outputs": [],
   "source": [
    "y_pred_p = clf.predict(x_test_p)\n",
    "y_pred_p_train = clf.predict(x_train_p)"
   ]
  },
  {
   "cell_type": "code",
   "execution_count": null,
   "metadata": {
    "colab": {
     "base_uri": "https://localhost:8080/"
    },
    "id": "Fex6A1HzHUTp",
    "outputId": "817daabd-7b05-4159-9997-2e96481fdcac"
   },
   "outputs": [
    {
     "name": "stdout",
     "output_type": "stream",
     "text": [
      "Training matrix score:\n",
      "\n",
      "Accuracy score:  0.5911764705882353\n",
      "F1 score:  0.7430683918669131\n",
      "Average precision score:  0.6933823529411764\n",
      "Average recall score:  0.5911764705882353\n",
      "Average roc_auc_score score:  0.7955882352941177\n"
     ]
    }
   ],
   "source": [
    "#def print_evaluation_scores(y_val, predicted):\n",
    "acc_scr_svm_train_PAL = accuracy_score(y_train_p, y_pred_p_train)\n",
    "f1_scr_svm_train_PAL = f1_score(y_train_p, y_pred_p_train, average='micro')\n",
    "avg_scr_svm_train_PAL = average_precision_score(y_train_p, y_pred_p_train, average='micro')\n",
    "recall_scr_svm_train_PAL = recall_score(y_train_p, y_pred_p_train, average='micro')\n",
    "roc_scr_svm_train_PAL = roc_auc_score(y_train_p, y_pred_p_train,average='micro')\n",
    "\n",
    "print('Training matrix score:\\n')\n",
    "print('Accuracy score: ', acc_scr_svm_train_PAL)\n",
    "print('F1 score: ', f1_scr_svm_train_PAL)\n",
    "print('Average precision score: ', avg_scr_svm_train_PAL )\n",
    "print('Average recall score: ', recall_scr_svm_train_PAL)\n",
    "print('Average roc_auc_score score: ', roc_scr_svm_train_PAL)"
   ]
  },
  {
   "cell_type": "code",
   "execution_count": null,
   "metadata": {
    "colab": {
     "base_uri": "https://localhost:8080/"
    },
    "id": "Ejkjo6iQHwC-",
    "outputId": "1a4f9ee7-efb9-4d7f-9ed0-f4c4d30e8881"
   },
   "outputs": [
    {
     "name": "stdout",
     "output_type": "stream",
     "text": [
      "Test matrix score:\n",
      "\n",
      "Accuracy score:  0.08235294117647059\n",
      "F1 score:  0.22580645161290322\n",
      "Average precision score:  0.26794871794871794\n",
      "Average recall score:  0.16470588235294117\n",
      "Average roc_auc_score score:  0.5333333333333334\n"
     ]
    }
   ],
   "source": [
    "#def print_evaluation_scores(y_val, predicted):\n",
    "acc_scr_svm_test_PAL = accuracy_score(y_test_p, y_pred_p)\n",
    "f1_scr_svm_test_PAL = f1_score(y_test_p, y_pred_p, average='micro')\n",
    "avg_scr_svm_test_PAL = average_precision_score(y_test_p, y_pred_p, average='micro')\n",
    "recall_scr_svm_test_PAL = recall_score(y_test_p, y_pred_p, average='micro')\n",
    "roc_scr_svm_test_PAL = roc_auc_score(y_test_p, y_pred_p,average='micro')\n",
    "\n",
    "print('Test matrix score:\\n')\n",
    "print('Accuracy score: ', acc_scr_svm_test_PAL)\n",
    "print('F1 score: ', f1_scr_svm_test_PAL)\n",
    "print('Average precision score: ', avg_scr_svm_test_PAL )\n",
    "print('Average recall score: ', recall_scr_svm_test_PAL)\n",
    "print('Average roc_auc_score score: ', roc_scr_svm_test_PAL)"
   ]
  },
  {
   "cell_type": "markdown",
   "metadata": {
    "id": "mMwrjUtn-zq2"
   },
   "source": [
    "### Storing SVM Accuracy Scores(train and test).\n",
    "\n",
    "\n"
   ]
  },
  {
   "cell_type": "code",
   "execution_count": null,
   "metadata": {
    "id": "2Tquzcb7-yRH"
   },
   "outputs": [],
   "source": [
    "#Store the accuracy results for each model in a dataframe for final comparison\n",
    "results_train_SVM_PAL = pd.DataFrame({'Model':['SVM'], 'accuracy': acc_scr_svm_train_PAL, 'F1 score': f1_scr_svm_train_PAL,\n",
    "                        'precision': avg_scr_svm_train_PAL, 'recall':recall_scr_svm_train_PAL , 'roc_auc':roc_scr_svm_train_PAL},index={'3'})\n",
    "results_train_SVM_PAL = results_train_SVM_PAL[['Model', 'accuracy', 'F1 score', 'precision', 'recall', 'roc_auc']]"
   ]
  },
  {
   "cell_type": "code",
   "execution_count": null,
   "metadata": {
    "id": "69O1IekvIGBT"
   },
   "outputs": [],
   "source": [
    "#Store the accuracy results for each model in a dataframe for final comparison\n",
    "results_test_SVM_PAL = pd.DataFrame({'Model':['SVM'], 'accuracy': acc_scr_svm_test_PAL, 'F1 score': f1_scr_svm_test_PAL,\n",
    "                        'precision': avg_scr_svm_test_PAL, 'recall':recall_scr_svm_test_PAL , 'roc_auc':roc_scr_svm_test_PAL},index={'3'})\n",
    "results_test_SVM_PAL = results_test_SVM_PAL[['Model', 'accuracy', 'F1 score', 'precision', 'recall', 'roc_auc']]\n"
   ]
  },
  {
   "cell_type": "markdown",
   "metadata": {
    "id": "pglErZ8oyJXt"
   },
   "source": [
    "### **Boosting**"
   ]
  },
  {
   "cell_type": "code",
   "execution_count": null,
   "metadata": {
    "colab": {
     "base_uri": "https://localhost:8080/"
    },
    "id": "MfgUCGplyFcN",
    "outputId": "17ef73a6-ada3-40cc-8baf-37576e6f6b5a"
   },
   "outputs": [
    {
     "data": {
      "text/plain": [
       "OneVsRestClassifier(estimator=AdaBoostClassifier(algorithm='SAMME',\n",
       "                                                 base_estimator=None,\n",
       "                                                 learning_rate=1.0,\n",
       "                                                 n_estimators=50,\n",
       "                                                 random_state=1),\n",
       "                    n_jobs=None)"
      ]
     },
     "execution_count": 130,
     "metadata": {
      "tags": []
     },
     "output_type": "execute_result"
    }
   ],
   "source": [
    "ada_p = AdaBoostClassifier(n_estimators=50, learning_rate=1.0, random_state=1,algorithm='SAMME')\n",
    "ada_p = OneVsRestClassifier(ada_p)\n",
    "ada_p.fit(x_train_p, y_train_p)"
   ]
  },
  {
   "cell_type": "code",
   "execution_count": null,
   "metadata": {
    "id": "Ba7bVOne0gBR"
   },
   "outputs": [],
   "source": [
    "y_preda_p = ada_p.predict(x_test_p)\n",
    "y_preda_train_p = ada_p.predict(x_train_p)"
   ]
  },
  {
   "cell_type": "code",
   "execution_count": null,
   "metadata": {
    "colab": {
     "base_uri": "https://localhost:8080/"
    },
    "id": "bDYtVkRMISgz",
    "outputId": "bb37f5c3-f81b-4e54-b0f9-0c55d94a0305"
   },
   "outputs": [
    {
     "name": "stdout",
     "output_type": "stream",
     "text": [
      "Training matrix score:\n",
      "\n",
      "Accuracy score:  0.7823529411764706\n",
      "F1 score:  0.8372093023255814\n",
      "Average precision score:  0.7316024340770791\n",
      "Average recall score:  0.8470588235294118\n",
      "Average roc_auc_score score:  0.9014705882352941\n"
     ]
    }
   ],
   "source": [
    "acc_scr_bst_train_PAL = accuracy_score(y_train_p, y_preda_train_p)\n",
    "f1_scr_bst_train_PAL = f1_score(y_train_p, y_preda_train_p, average='micro')\n",
    "avg_scr_bst_train_PAL = average_precision_score(y_train_p, y_preda_train_p, average='micro')\n",
    "recall_scr_bst_train_PAL = recall_score(y_train_p, y_preda_train_p, average='micro')\n",
    "roc_scr_bst_train_PAL = roc_auc_score(y_train_p, y_preda_train_p,average='micro')\n",
    "\n",
    "print('Training matrix score:\\n')\n",
    "print('Accuracy score: ', acc_scr_bst_train_AL)\n",
    "print('F1 score: ', f1_scr_bst_train_AL)\n",
    "print('Average precision score: ', avg_scr_bst_train_AL )\n",
    "print('Average recall score: ', recall_scr_bst_train_AL)\n",
    "print('Average roc_auc_score score: ', roc_scr_bst_train_AL)"
   ]
  },
  {
   "cell_type": "code",
   "execution_count": null,
   "metadata": {
    "colab": {
     "base_uri": "https://localhost:8080/"
    },
    "id": "iOJBWX-ZIqWp",
    "outputId": "9bf2fbca-8bd6-4e7b-8aff-ea265be37bf4"
   },
   "outputs": [
    {
     "name": "stdout",
     "output_type": "stream",
     "text": [
      "Test matrix score:\n",
      "\n",
      "Accuracy score:  0.6941176470588235\n",
      "F1 score:  0.7261904761904763\n",
      "Average precision score:  0.5838979447200567\n",
      "Average recall score:  0.7176470588235294\n",
      "Average roc_auc_score score:  0.8264705882352942\n"
     ]
    }
   ],
   "source": [
    "#def print_evaluation_scores(y_val, predicted):\n",
    "acc_scr_bst_test_PAL = accuracy_score(y_test_p, y_preda_p)\n",
    "f1_scr_bst_test_PAL = f1_score(y_test_p, y_preda_p, average='micro')\n",
    "avg_scr_bst_test_PAL = average_precision_score(y_test_p, y_preda_p, average='micro')\n",
    "recall_scr_bst_test_PAL = recall_score(y_test_p, y_preda_p, average='micro')\n",
    "roc_scr_bst_test_PAL = roc_auc_score(y_test_p, y_preda_p,average='micro')\n",
    "\n",
    "print('Test matrix score:\\n')\n",
    "print('Accuracy score: ', acc_scr_bst_test_AL)\n",
    "print('F1 score: ', f1_scr_bst_test_AL)\n",
    "print('Average precision score: ', avg_scr_bst_test_AL )\n",
    "print('Average recall score: ', recall_scr_bst_test_AL)\n",
    "print('Average roc_auc_score score: ', roc_scr_bst_test_AL)\n"
   ]
  },
  {
   "cell_type": "markdown",
   "metadata": {
    "id": "VNxkTWSd_EkI"
   },
   "source": [
    "### Storing Boosting Accuracy Scores (train and test)."
   ]
  },
  {
   "cell_type": "code",
   "execution_count": null,
   "metadata": {
    "id": "8Oua9yQM_DhT"
   },
   "outputs": [],
   "source": [
    "#Store the accuracy results for each model in a dataframe for final comparison\n",
    "results_train_bst_PAL = pd.DataFrame({'Model':['Boosting'], 'accuracy': acc_scr_bst_train_PAL, 'F1 score': f1_scr_bst_train_PAL,\n",
    "                        'precision': avg_scr_bst_train_PAL, 'recall':recall_scr_bst_train_PAL , 'roc_auc':roc_scr_bst_train_PAL},index={'4'})\n",
    "results_train_bst_PAL = results_train_bst_PAL[['Model', 'accuracy', 'F1 score', 'precision', 'recall', 'roc_auc']]"
   ]
  },
  {
   "cell_type": "code",
   "execution_count": null,
   "metadata": {
    "id": "MIss9wfDI3pg"
   },
   "outputs": [],
   "source": [
    "#Store the accuracy results for each model in a dataframe for final comparison\n",
    "results_test_bst_PAL = pd.DataFrame({'Model':['Boosting'], 'accuracy': acc_scr_bst_test_PAL, 'F1 score': f1_scr_bst_test_PAL,\n",
    "                        'precision': avg_scr_bst_test_PAL, 'recall':recall_scr_bst_test_PAL , 'roc_auc':roc_scr_bst_test_PAL},index={'4'})\n",
    "results_test_bst_PAL = results_test_bst_PAL[['Model', 'accuracy', 'F1 score', 'precision', 'recall', 'roc_auc']]\n"
   ]
  },
  {
   "cell_type": "markdown",
   "metadata": {
    "id": "cBIkPpcyzksy"
   },
   "source": [
    "### **Bagging**"
   ]
  },
  {
   "cell_type": "code",
   "execution_count": null,
   "metadata": {
    "colab": {
     "base_uri": "https://localhost:8080/"
    },
    "id": "dOyzJhb3zah8",
    "outputId": "723c20a2-990d-4c54-8c82-a4bcc1cd640b"
   },
   "outputs": [
    {
     "data": {
      "text/plain": [
       "OneVsRestClassifier(estimator=BaggingClassifier(base_estimator=None,\n",
       "                                                bootstrap=True,\n",
       "                                                bootstrap_features=False,\n",
       "                                                max_features=1.0,\n",
       "                                                max_samples=1.0,\n",
       "                                                n_estimators=50, n_jobs=None,\n",
       "                                                oob_score=False, random_state=1,\n",
       "                                                verbose=0, warm_start=False),\n",
       "                    n_jobs=None)"
      ]
     },
     "execution_count": 136,
     "metadata": {
      "tags": []
     },
     "output_type": "execute_result"
    }
   ],
   "source": [
    "from sklearn.ensemble import BaggingClassifier\n",
    "bag_p = BaggingClassifier(n_estimators=50, random_state=1)\n",
    "bag_p = OneVsRestClassifier(bag_p)\n",
    "bag_p.fit(x_train_p, y_train_p)\n"
   ]
  },
  {
   "cell_type": "code",
   "execution_count": null,
   "metadata": {
    "id": "qn8Aa7S00anO"
   },
   "outputs": [],
   "source": [
    "y_predb_p = bag_p.predict(x_test_p)\n",
    "y_predb_train_p = bag_p.predict(x_train_p)"
   ]
  },
  {
   "cell_type": "code",
   "execution_count": null,
   "metadata": {
    "colab": {
     "base_uri": "https://localhost:8080/"
    },
    "id": "bZ6Ji5XZJASh",
    "outputId": "e26b356b-bc45-4d38-8b09-1e7935e604d6"
   },
   "outputs": [
    {
     "name": "stdout",
     "output_type": "stream",
     "text": [
      "Training matrix score:\n",
      "\n",
      "Accuracy score:  0.9941176470588236\n",
      "F1 score:  0.9970501474926253\n",
      "Average precision score:  0.9955882352941177\n",
      "Average recall score:  0.9941176470588236\n",
      "Average roc_auc_score score:  0.9970588235294118\n"
     ]
    }
   ],
   "source": [
    "#def print_evaluation_scores(y_val, predicted):\n",
    "acc_scr_bgn_train_PAL = accuracy_score(y_train_p, y_predb_train_p)\n",
    "f1_scr_bgn_train_PAL = f1_score(y_train_p, y_predb_train_p, average='micro')\n",
    "avg_scr_bgn_train_PAL = average_precision_score(y_train_p, y_predb_train_p, average='micro')\n",
    "recall_scr_bgn_train_PAL = recall_score(y_train_p, y_predb_train_p, average='micro')\n",
    "roc_scr_bgn_train_PAL = roc_auc_score(y_train_p, y_predb_train_p,average='micro')\n",
    "\n",
    "print('Training matrix score:\\n')\n",
    "print('Accuracy score: ', acc_scr_bgn_train_PAL)\n",
    "print('F1 score: ', f1_scr_bgn_train_PAL)\n",
    "print('Average precision score: ', avg_scr_bgn_train_PAL )\n",
    "print('Average recall score: ', recall_scr_bgn_train_PAL)\n",
    "print('Average roc_auc_score score: ', roc_scr_bgn_train_PAL)\n",
    "\n"
   ]
  },
  {
   "cell_type": "code",
   "execution_count": null,
   "metadata": {
    "colab": {
     "base_uri": "https://localhost:8080/"
    },
    "id": "y0VC5ccNJkxs",
    "outputId": "e0131f78-c00d-4cd3-e746-81cf39aa9b7d"
   },
   "outputs": [
    {
     "name": "stdout",
     "output_type": "stream",
     "text": [
      "Test matrix score:\n",
      "\n",
      "Accuracy score:  0.6941176470588235\n",
      "F1 score:  0.7349397590361447\n",
      "Average precision score:  0.5969208424110386\n",
      "Average recall score:  0.7176470588235294\n",
      "Average roc_auc_score score:  0.8294117647058824\n"
     ]
    }
   ],
   "source": [
    "#def print_evaluation_scores(y_val, predicted):\n",
    "acc_scr_bgn_test_PAL = accuracy_score(y_test, y_predb)\n",
    "f1_scr_bgn_test_PAL = f1_score(y_test, y_predb, average='micro')\n",
    "avg_scr_bgn_test_PAL = average_precision_score(y_test, y_predb, average='micro')\n",
    "recall_scr_bgn_test_PAL = recall_score(y_test, y_predb, average='micro')\n",
    "roc_scr_bgn_test_PAL = roc_auc_score(y_test, y_predb,average='micro')\n",
    "\n",
    "print('Test matrix score:\\n')\n",
    "print('Accuracy score: ', acc_scr_bgn_test_PAL)\n",
    "print('F1 score: ', f1_scr_bgn_test_PAL)\n",
    "print('Average precision score: ', avg_scr_bgn_test_PAL )\n",
    "print('Average recall score: ', recall_scr_bgn_test_PAL)\n",
    "print('Average roc_auc_score score: ', roc_scr_bgn_test_PAL)"
   ]
  },
  {
   "cell_type": "markdown",
   "metadata": {
    "id": "QQMWOh20Hmdb"
   },
   "source": [
    "Storing Bagging Accuracy Scores (train and test)."
   ]
  },
  {
   "cell_type": "code",
   "execution_count": null,
   "metadata": {
    "id": "62YRWn-5Hlgb"
   },
   "outputs": [],
   "source": [
    "#Store the accuracy results for each model in a dataframe for final comparison\n",
    "results_train_bgn_PAL = pd.DataFrame({'Model':['Bagging'], 'accuracy': acc_scr_bgn_train_PAL, 'F1 score': f1_scr_bgn_train_PAL,\n",
    "                        'precision': avg_scr_bgn_train_PAL, 'recall':recall_scr_bgn_train_PAL , 'roc_auc':roc_scr_bgn_train_PAL},index={'5'})\n",
    "results_train_bgn_PAL = results_train_bgn_PAL[['Model', 'accuracy', 'F1 score', 'precision', 'recall', 'roc_auc']]\n"
   ]
  },
  {
   "cell_type": "code",
   "execution_count": null,
   "metadata": {
    "id": "W35Fb_lnLbgX"
   },
   "outputs": [],
   "source": [
    "#Store the accuracy results for each model in a dataframe for final comparison\n",
    "results_test_bgn_PAL = pd.DataFrame({'Model':['Bagging'], 'accuracy': acc_scr_bgn_train_PAL, 'F1 score': f1_scr_bgn_train_PAL,\n",
    "                        'precision': avg_scr_bgn_train_PAL, 'recall':recall_scr_bgn_train_PAL , 'roc_auc':roc_scr_bgn_train_PAL},index={'5'})\n",
    "results_test_bgn_PAL = results_test_bgn_PAL[['Model', 'accuracy', 'F1 score', 'precision', 'recall', 'roc_auc']]\n"
   ]
  },
  {
   "cell_type": "markdown",
   "metadata": {
    "id": "-boo6Fwe8P59"
   },
   "source": [
    "### **Neural Network**"
   ]
  },
  {
   "cell_type": "code",
   "execution_count": null,
   "metadata": {
    "id": "iGbe1pmP8Sy8"
   },
   "outputs": [],
   "source": [
    "# Model architecture\n",
    "modelNN_p = Sequential()\n",
    "modelNN_p.add(Dense(512, input_dim=maxlen, kernel_initializer='normal', activation='relu'))\n",
    "modelNN_p.add(Dense(256, kernel_initializer='normal',activation='relu'))\n",
    "modelNN_p.add(Dropout(0.5))\n",
    "modelNN_p.add(Flatten())\n",
    "modelNN_p.add(Dense(128,activation='relu'))\n",
    "modelNN_p.add(Dense(64,activation='relu'))\n",
    "modelNN_p.add(Dropout(0.3))\n",
    "modelNN_p.add(Dense(4,activation='softmax'))\n",
    "\n",
    "# Compile the model\n",
    "modelNN_p.compile(loss='binary_crossentropy', optimizer='sgd', metrics=['accuracy'])"
   ]
  },
  {
   "cell_type": "code",
   "execution_count": null,
   "metadata": {
    "colab": {
     "base_uri": "https://localhost:8080/"
    },
    "id": "k3G8lFg88Su0",
    "outputId": "8f25a3e1-8863-4f46-e28e-b2f8e28cca24"
   },
   "outputs": [
    {
     "name": "stdout",
     "output_type": "stream",
     "text": [
      "Epoch 1/50\n",
      "10/10 [==============================] - 1s 24ms/step - loss: 159.8205 - accuracy: 0.2469 - val_loss: 0.6761 - val_accuracy: 0.3235\n",
      "Epoch 2/50\n",
      "10/10 [==============================] - 0s 7ms/step - loss: 0.8382 - accuracy: 0.2736 - val_loss: 0.6909 - val_accuracy: 0.2353\n",
      "Epoch 3/50\n",
      "10/10 [==============================] - 0s 7ms/step - loss: 0.7163 - accuracy: 0.3166 - val_loss: 0.6893 - val_accuracy: 0.2353\n",
      "Epoch 4/50\n",
      "10/10 [==============================] - 0s 7ms/step - loss: 0.6954 - accuracy: 0.3549 - val_loss: 0.6877 - val_accuracy: 0.2353\n",
      "Epoch 5/50\n",
      "10/10 [==============================] - 0s 7ms/step - loss: 0.7057 - accuracy: 0.2902 - val_loss: 0.6860 - val_accuracy: 0.2353\n",
      "Epoch 6/50\n",
      "10/10 [==============================] - 0s 8ms/step - loss: 0.6964 - accuracy: 0.3402 - val_loss: 0.6844 - val_accuracy: 0.2353\n",
      "Epoch 7/50\n",
      "10/10 [==============================] - 0s 8ms/step - loss: 0.6900 - accuracy: 0.3284 - val_loss: 0.6828 - val_accuracy: 0.2353\n",
      "Epoch 8/50\n",
      "10/10 [==============================] - 0s 7ms/step - loss: 0.6898 - accuracy: 0.3656 - val_loss: 0.6812 - val_accuracy: 0.2353\n",
      "Epoch 9/50\n",
      "10/10 [==============================] - 0s 7ms/step - loss: 0.6962 - accuracy: 0.2899 - val_loss: 0.6796 - val_accuracy: 0.2353\n",
      "Epoch 10/50\n",
      "10/10 [==============================] - 0s 7ms/step - loss: 0.6819 - accuracy: 0.3355 - val_loss: 0.6781 - val_accuracy: 0.2353\n",
      "Epoch 11/50\n",
      "10/10 [==============================] - 0s 7ms/step - loss: 0.6763 - accuracy: 0.3638 - val_loss: 0.6765 - val_accuracy: 0.2353\n",
      "Epoch 12/50\n",
      "10/10 [==============================] - 0s 7ms/step - loss: 0.6810 - accuracy: 0.3108 - val_loss: 0.6750 - val_accuracy: 0.2353\n",
      "Epoch 13/50\n",
      "10/10 [==============================] - 0s 7ms/step - loss: 0.6808 - accuracy: 0.3339 - val_loss: 0.6735 - val_accuracy: 0.2353\n",
      "Epoch 14/50\n",
      "10/10 [==============================] - 0s 9ms/step - loss: 0.6684 - accuracy: 0.3444 - val_loss: 0.6720 - val_accuracy: 0.2353\n",
      "Epoch 15/50\n",
      "10/10 [==============================] - 0s 7ms/step - loss: 0.6688 - accuracy: 0.3423 - val_loss: 0.6705 - val_accuracy: 0.2353\n",
      "Epoch 16/50\n",
      "10/10 [==============================] - 0s 7ms/step - loss: 0.6703 - accuracy: 0.3349 - val_loss: 0.6691 - val_accuracy: 0.2353\n",
      "Epoch 17/50\n",
      "10/10 [==============================] - 0s 7ms/step - loss: 0.6735 - accuracy: 0.3401 - val_loss: 0.6677 - val_accuracy: 0.2353\n",
      "Epoch 18/50\n",
      "10/10 [==============================] - 0s 7ms/step - loss: 0.6672 - accuracy: 0.3330 - val_loss: 0.6663 - val_accuracy: 0.2353\n",
      "Epoch 19/50\n",
      "10/10 [==============================] - 0s 7ms/step - loss: 0.6632 - accuracy: 0.3797 - val_loss: 0.6646 - val_accuracy: 0.2353\n",
      "Epoch 20/50\n",
      "10/10 [==============================] - 0s 7ms/step - loss: 0.6757 - accuracy: 0.3102 - val_loss: 0.6622 - val_accuracy: 0.2353\n",
      "Epoch 21/50\n",
      "10/10 [==============================] - 0s 7ms/step - loss: 0.6549 - accuracy: 0.3681 - val_loss: 0.6611 - val_accuracy: 0.2353\n",
      "Epoch 22/50\n",
      "10/10 [==============================] - 0s 7ms/step - loss: 0.6585 - accuracy: 0.3470 - val_loss: 0.6611 - val_accuracy: 0.2353\n",
      "Epoch 23/50\n",
      "10/10 [==============================] - 0s 7ms/step - loss: 0.6503 - accuracy: 0.3851 - val_loss: 0.6598 - val_accuracy: 0.2353\n",
      "Epoch 24/50\n",
      "10/10 [==============================] - 0s 8ms/step - loss: 0.6574 - accuracy: 0.3663 - val_loss: 0.6554 - val_accuracy: 0.2353\n",
      "Epoch 25/50\n",
      "10/10 [==============================] - 0s 7ms/step - loss: 0.6509 - accuracy: 0.4006 - val_loss: 0.6552 - val_accuracy: 0.2353\n",
      "Epoch 26/50\n",
      "10/10 [==============================] - 0s 7ms/step - loss: 0.6563 - accuracy: 0.3174 - val_loss: 0.6518 - val_accuracy: 0.2353\n",
      "Epoch 27/50\n",
      "10/10 [==============================] - 0s 7ms/step - loss: 0.6495 - accuracy: 0.3461 - val_loss: 0.6521 - val_accuracy: 0.2353\n",
      "Epoch 28/50\n",
      "10/10 [==============================] - 0s 8ms/step - loss: 0.6508 - accuracy: 0.3842 - val_loss: 0.6507 - val_accuracy: 0.2353\n",
      "Epoch 29/50\n",
      "10/10 [==============================] - 0s 7ms/step - loss: 0.6438 - accuracy: 0.3520 - val_loss: 0.6516 - val_accuracy: 0.2353\n",
      "Epoch 30/50\n",
      "10/10 [==============================] - 0s 7ms/step - loss: 0.6428 - accuracy: 0.3531 - val_loss: 0.6429 - val_accuracy: 0.1471\n",
      "Epoch 31/50\n",
      "10/10 [==============================] - 0s 7ms/step - loss: 0.6158 - accuracy: 0.3486 - val_loss: 0.6275 - val_accuracy: 0.2647\n",
      "Epoch 32/50\n",
      "10/10 [==============================] - 0s 8ms/step - loss: 0.6306 - accuracy: 0.3517 - val_loss: 0.6141 - val_accuracy: 0.2353\n",
      "Epoch 33/50\n",
      "10/10 [==============================] - 0s 8ms/step - loss: 0.6258 - accuracy: 0.3727 - val_loss: 0.5825 - val_accuracy: 0.2353\n",
      "Epoch 34/50\n",
      "10/10 [==============================] - 0s 7ms/step - loss: 0.5817 - accuracy: 0.3716 - val_loss: 0.5537 - val_accuracy: 0.3824\n",
      "Epoch 35/50\n",
      "10/10 [==============================] - 0s 7ms/step - loss: 0.6155 - accuracy: 0.3225 - val_loss: 0.6045 - val_accuracy: 0.2353\n",
      "Epoch 36/50\n",
      "10/10 [==============================] - 0s 7ms/step - loss: 0.6063 - accuracy: 0.3703 - val_loss: 0.6091 - val_accuracy: 0.2353\n",
      "Epoch 37/50\n",
      "10/10 [==============================] - 0s 8ms/step - loss: 0.6133 - accuracy: 0.3434 - val_loss: 0.5920 - val_accuracy: 0.2353\n",
      "Epoch 38/50\n",
      "10/10 [==============================] - 0s 8ms/step - loss: 0.5821 - accuracy: 0.3506 - val_loss: 0.5558 - val_accuracy: 0.3235\n",
      "Epoch 39/50\n",
      "10/10 [==============================] - 0s 7ms/step - loss: 0.6056 - accuracy: 0.3561 - val_loss: 0.5843 - val_accuracy: 0.3529\n",
      "Epoch 40/50\n",
      "10/10 [==============================] - 0s 7ms/step - loss: 0.5950 - accuracy: 0.3296 - val_loss: 0.5865 - val_accuracy: 0.2353\n",
      "Epoch 41/50\n",
      "10/10 [==============================] - 0s 7ms/step - loss: 0.5949 - accuracy: 0.3544 - val_loss: 0.5739 - val_accuracy: 0.2941\n",
      "Epoch 42/50\n",
      "10/10 [==============================] - 0s 7ms/step - loss: 0.5907 - accuracy: 0.3055 - val_loss: 0.5536 - val_accuracy: 0.3824\n",
      "Epoch 43/50\n",
      "10/10 [==============================] - 0s 7ms/step - loss: 0.5947 - accuracy: 0.2999 - val_loss: 0.5604 - val_accuracy: 0.2353\n",
      "Epoch 44/50\n",
      "10/10 [==============================] - 0s 7ms/step - loss: 0.6079 - accuracy: 0.3231 - val_loss: 0.5840 - val_accuracy: 0.2059\n",
      "Epoch 45/50\n",
      "10/10 [==============================] - 0s 8ms/step - loss: 0.5941 - accuracy: 0.3640 - val_loss: 0.5690 - val_accuracy: 0.2059\n",
      "Epoch 46/50\n",
      "10/10 [==============================] - 0s 8ms/step - loss: 0.5716 - accuracy: 0.4034 - val_loss: 0.5687 - val_accuracy: 0.3235\n",
      "Epoch 47/50\n",
      "10/10 [==============================] - 0s 7ms/step - loss: 0.5823 - accuracy: 0.3102 - val_loss: 0.5550 - val_accuracy: 0.3235\n",
      "Epoch 48/50\n",
      "10/10 [==============================] - 0s 7ms/step - loss: 0.5998 - accuracy: 0.3118 - val_loss: 0.5877 - val_accuracy: 0.2353\n",
      "Epoch 49/50\n",
      "10/10 [==============================] - 0s 7ms/step - loss: 0.5973 - accuracy: 0.3358 - val_loss: 0.5508 - val_accuracy: 0.3235\n",
      "Epoch 50/50\n",
      "10/10 [==============================] - 0s 9ms/step - loss: 0.5882 - accuracy: 0.3246 - val_loss: 0.5810 - val_accuracy: 0.3235\n"
     ]
    },
    {
     "data": {
      "text/plain": [
       "<tensorflow.python.keras.callbacks.History at 0x7faf0cf1ac90>"
      ]
     },
     "execution_count": 143,
     "metadata": {
      "tags": []
     },
     "output_type": "execute_result"
    }
   ],
   "source": [
    "modelNN_p.fit(x_train_p, y_train_p, epochs=50, batch_size=32, verbose= 1,validation_split=0.1)"
   ]
  },
  {
   "cell_type": "code",
   "execution_count": null,
   "metadata": {
    "id": "7SL8O2eEQzS-"
   },
   "outputs": [],
   "source": [
    "y_predn_p = modelNN_p.predict(x_test_p)\n",
    "y_predn_train_p = modelNN_p.predict(x_train_p)"
   ]
  },
  {
   "cell_type": "code",
   "execution_count": null,
   "metadata": {
    "colab": {
     "base_uri": "https://localhost:8080/"
    },
    "id": "zUHz9OrXllnA",
    "outputId": "9366f39a-6f32-4f5e-f1db-250c06bd4d8a"
   },
   "outputs": [
    {
     "name": "stdout",
     "output_type": "stream",
     "text": [
      "Training matrix score of PAL:\n",
      "\n",
      "Accuracy score:  0.2411764705882353\n",
      "F1 score:  0.16851432880844647\n",
      "Average precision score:  0.1294986960301362\n",
      "Average recall score:  0.2411764705882353\n",
      "Average roc_auc_score score:  0.6007019631786482\n"
     ]
    }
   ],
   "source": [
    "acc_scr_NN_train_PAL = accuracy_score(y_train_p, y_predn_train_p.round())\n",
    "f1_scr_NN_train_PAL = f1_score(y_train_p, y_predn_train_p.round(), average=\"weighted\")\n",
    "avg_scr_NN_train_PAL =  precision_score(y_train_p, y_predn_train_p.round(), average='weighted')\n",
    "recall_scr_NN_train_PAL = recall_score(y_train_p, y_predn_train_p.round(),average=\"weighted\")\n",
    "roc_scr_bgn_NN_train_PAL = roc_auc_score(y_train_p, y_predn_train_p,average='weighted',labels=Y_AL,multi_class='ovr')\n",
    "\n",
    "print('Training matrix score of PAL:\\n')\n",
    "print('Accuracy score: ', acc_scr_NN_train_PAL)\n",
    "print('F1 score: ', f1_scr_NN_train_PAL)\n",
    "print('Average precision score: ', avg_scr_NN_train_PAL )\n",
    "print('Average recall score: ', recall_scr_NN_train_PAL)\n",
    "print('Average roc_auc_score score: ', roc_scr_bgn_NN_train_PAL)"
   ]
  },
  {
   "cell_type": "code",
   "execution_count": null,
   "metadata": {
    "colab": {
     "base_uri": "https://localhost:8080/"
    },
    "id": "59XRLYK9R9h0",
    "outputId": "7c381839-24f8-4ab9-9de2-eaeabc448b86"
   },
   "outputs": [
    {
     "name": "stdout",
     "output_type": "stream",
     "text": [
      "Test matrix score of PAL:\n",
      "\n",
      "Accuracy score:  0.16470588235294117\n",
      "F1 score:  0.2613391510450334\n",
      "Average precision score:  0.5295625942684766\n",
      "Average recall score:  0.17647058823529413\n",
      "Average roc_auc_score score:  0.5395714103626283\n"
     ]
    }
   ],
   "source": [
    "#def print_evaluation_scores(y_val, predicted):\n",
    "acc_scr_NN_test_PAL = accuracy_score(y_test_p, y_predb_p.round())\n",
    "f1_scr_NN_test_PAL = f1_score(y_test_p, y_predb_p.round(), average=\"weighted\")\n",
    "avg_scr_NN_test_PAL =  precision_score(y_test_p, y_predb_p.round(), average='weighted')\n",
    "recall_scr_NN_test_PAL = recall_score(y_test_p, y_predb_p.round(),average=\"weighted\")\n",
    "roc_scr_bgn_NN_PAL = roc_auc_score(y_test_p, y_predb_p,average='weighted',labels=Y_AL,multi_class='ovr')\n",
    "\n",
    "print('Test matrix score of PAL:\\n')\n",
    "print('Accuracy score: ', acc_scr_NN_test_PAL)\n",
    "print('F1 score: ', f1_scr_NN_test_PAL)\n",
    "print('Average precision score: ', avg_scr_NN_test_PAL )\n",
    "print('Average recall score: ', recall_scr_NN_test_PAL)\n",
    "print('Average roc_auc_score score: ', roc_scr_bgn_NN_PAL)\n"
   ]
  },
  {
   "cell_type": "markdown",
   "metadata": {
    "id": "-mCIZC90_aFh"
   },
   "source": [
    "### Storing NN Accuracy Scores (train and test)."
   ]
  },
  {
   "cell_type": "code",
   "execution_count": null,
   "metadata": {
    "id": "E3g53tw5_YyA"
   },
   "outputs": [],
   "source": [
    "#Store the accuracy results for each model in a dataframe for final comparison\n",
    "results_train_NN_PAL = pd.DataFrame({'Model':['NN'], 'accuracy': acc_scr_NN_train_PAL, 'F1 score': f1_scr_NN_train_PAL,\n",
    "                        'precision': avg_scr_NN_train_PAL, 'recall':recall_scr_NN_train_PAL , 'roc_auc':roc_scr_bgn_NN_train_PAL},index={'6'})\n",
    "results_train_NN_PAL = results_train_NN_PAL[['Model', 'accuracy', 'F1 score', 'precision', 'recall', 'roc_auc']]"
   ]
  },
  {
   "cell_type": "code",
   "execution_count": null,
   "metadata": {
    "id": "w3Idjcp-VFg6"
   },
   "outputs": [],
   "source": [
    "#Store the accuracy results for each model in a dataframe for final comparison\n",
    "results_test_NN_PAL = pd.DataFrame({'Model':['NN'], 'accuracy': acc_scr_NN_test_PAL, 'F1 score': f1_scr_NN_test_PAL,\n",
    "                        'precision': avg_scr_NN_test_PAL, 'recall':recall_scr_NN_test_PAL , 'roc_auc':roc_scr_bgn_NN_PAL},index={'6'})\n",
    "results_test_NN_PAL = results_test_NN_PAL[['Model', 'accuracy', 'F1 score', 'precision', 'recall', 'roc_auc']]\n"
   ]
  },
  {
   "cell_type": "markdown",
   "metadata": {
    "id": "S_vAAg5k8Zo0"
   },
   "source": [
    "### **LSTM**"
   ]
  },
  {
   "cell_type": "code",
   "execution_count": null,
   "metadata": {
    "colab": {
     "base_uri": "https://localhost:8080/"
    },
    "id": "vH8vc9VH8ZLQ",
    "outputId": "9e503188-d276-435a-a760-b0e86a1bb568"
   },
   "outputs": [
    {
     "name": "stdout",
     "output_type": "stream",
     "text": [
      "WARNING:tensorflow:Layer lstm_1 will not use cuDNN kernel since it doesn't meet the cuDNN kernel criteria. It will use generic GPU kernel as fallback when running on GPU\n",
      "WARNING:tensorflow:Layer lstm_1 will not use cuDNN kernel since it doesn't meet the cuDNN kernel criteria. It will use generic GPU kernel as fallback when running on GPU\n",
      "WARNING:tensorflow:Layer lstm_1 will not use cuDNN kernel since it doesn't meet the cuDNN kernel criteria. It will use generic GPU kernel as fallback when running on GPU\n"
     ]
    }
   ],
   "source": [
    "model_lstm_p = Sequential()\n",
    "model_lstm_p.add(Embedding(num_words,embedding_size,weights=[embedding_matrix],input_length=maxlen))\n",
    "model_lstm_p.add(Dropout(0.3))\n",
    "model_lstm_p.add(Bidirectional(LSTM(452,dropout=0.2,recurrent_dropout=0.2)))\n",
    "model_lstm_p.add(Flatten())\n",
    "model_lstm_p.add(Dense(256,activation='relu'))\n",
    "model_lstm_p.add(Dense(128,activation='relu'))\n",
    "model_lstm_p.add(Dropout(0.5))\n",
    "model_lstm_p.add(Dense(4,activation='softmax'))"
   ]
  },
  {
   "cell_type": "code",
   "execution_count": null,
   "metadata": {
    "id": "MUwEZIrU8Sjj"
   },
   "outputs": [],
   "source": [
    "model_lstm_p.compile(optimizer='adam',metrics=['accuracy'],loss='binary_crossentropy')"
   ]
  },
  {
   "cell_type": "code",
   "execution_count": null,
   "metadata": {
    "colab": {
     "base_uri": "https://localhost:8080/"
    },
    "id": "LUoGZbJ98Sfy",
    "outputId": "35e0a067-0eea-42ad-c245-dd6efb4613df"
   },
   "outputs": [
    {
     "name": "stdout",
     "output_type": "stream",
     "text": [
      "Epoch 1/10\n",
      "5/5 [==============================] - 9s 742ms/step - loss: 0.6524 - accuracy: 0.2523 - val_loss: 0.5344 - val_accuracy: 0.3235\n",
      "Epoch 2/10\n",
      "5/5 [==============================] - 3s 558ms/step - loss: 0.5339 - accuracy: 0.3340 - val_loss: 0.5211 - val_accuracy: 0.4118\n",
      "Epoch 3/10\n",
      "5/5 [==============================] - 3s 581ms/step - loss: 0.5132 - accuracy: 0.4348 - val_loss: 0.5141 - val_accuracy: 0.3824\n",
      "Epoch 4/10\n",
      "5/5 [==============================] - 3s 553ms/step - loss: 0.4995 - accuracy: 0.4618 - val_loss: 0.5085 - val_accuracy: 0.3824\n",
      "Epoch 5/10\n",
      "5/5 [==============================] - 3s 543ms/step - loss: 0.4858 - accuracy: 0.4933 - val_loss: 0.5117 - val_accuracy: 0.4118\n",
      "Epoch 6/10\n",
      "5/5 [==============================] - 3s 549ms/step - loss: 0.4564 - accuracy: 0.5170 - val_loss: 0.5046 - val_accuracy: 0.3824\n",
      "Epoch 7/10\n",
      "5/5 [==============================] - 3s 556ms/step - loss: 0.4302 - accuracy: 0.5859 - val_loss: 0.5005 - val_accuracy: 0.4412\n",
      "Epoch 8/10\n",
      "5/5 [==============================] - 3s 560ms/step - loss: 0.3630 - accuracy: 0.6686 - val_loss: 0.5513 - val_accuracy: 0.4412\n",
      "Epoch 9/10\n",
      "5/5 [==============================] - 3s 561ms/step - loss: 0.3410 - accuracy: 0.7008 - val_loss: 0.5366 - val_accuracy: 0.4412\n",
      "Epoch 10/10\n",
      "5/5 [==============================] - 3s 563ms/step - loss: 0.2784 - accuracy: 0.8047 - val_loss: 0.5704 - val_accuracy: 0.4706\n"
     ]
    },
    {
     "data": {
      "text/plain": [
       "<tensorflow.python.keras.callbacks.History at 0x7faf0b5122d0>"
      ]
     },
     "execution_count": 151,
     "metadata": {
      "tags": []
     },
     "output_type": "execute_result"
    }
   ],
   "source": [
    "model_lstm_p.fit(x_train_p,y_train_p,batch_size=64,epochs=10,verbose=1,validation_split=0.1,shuffle=False)"
   ]
  },
  {
   "cell_type": "code",
   "execution_count": null,
   "metadata": {
    "id": "J1shRQBF8ScL"
   },
   "outputs": [],
   "source": [
    "y_predls_p = model_lstm_p.predict(x_test_p)\n",
    "y_predls_train_p = model_lstm_p.predict(x_train_p)"
   ]
  },
  {
   "cell_type": "code",
   "execution_count": null,
   "metadata": {
    "colab": {
     "base_uri": "https://localhost:8080/"
    },
    "id": "IxgbAQP48R7S",
    "outputId": "e37217e2-6402-4d2d-94f4-b9c03aee1474"
   },
   "outputs": [
    {
     "name": "stdout",
     "output_type": "stream",
     "text": [
      "Train matrix score:\n",
      "\n",
      "Average accuracy score:  0.8264705882352941\n",
      "Average precision score:  0.85688819572619\n",
      "Average recall score:  0.8264705882352941\n",
      "F1 score:  0.8371082736429986\n",
      "Average roc_auc_score score:  0.9616718070572091\n"
     ]
    }
   ],
   "source": [
    "acc_scr_LSTM_train_PAL = accuracy_score(y_train_p, y_predls_train_p.round())\n",
    "avg_scr_LSTM_train_PAL  = precision_score(y_train_p, y_predls_train_p.round(), average='weighted')\n",
    "recall_scr_LSTM_train_PAL = recall_score(y_train_p, y_predls_train_p.round(),average=\"weighted\")\n",
    "f1_scr_LSTM_train_PAL = f1_score(y_train_p, y_predls_train_p.round(), average=\"weighted\")\n",
    "roc_scr_LSTM_train_PAL = roc_auc_score(y_train_p, y_predls_train_p,average='weighted',labels=Y_AL,multi_class='ovr')\n",
    "\n",
    "print('Train matrix score:\\n')\n",
    "\n",
    "print('Average accuracy score: ', acc_scr_LSTM_train_PAL)\n",
    "print('Average precision score: ', avg_scr_LSTM_train_PAL)\n",
    "print('Average recall score: ', recall_scr_LSTM_train_PAL)\n",
    "print('F1 score: ', f1_scr_LSTM_train_PAL)\n",
    "print('Average roc_auc_score score: ', roc_scr_LSTM_train_PAL)\n"
   ]
  },
  {
   "cell_type": "code",
   "execution_count": null,
   "metadata": {
    "colab": {
     "base_uri": "https://localhost:8080/"
    },
    "id": "Ucf-aSIGSyhO",
    "outputId": "47667454-d550-497f-fd23-7ccbffd96031"
   },
   "outputs": [
    {
     "name": "stdout",
     "output_type": "stream",
     "text": [
      "Test matrix score:\n",
      "\n",
      "Accuracy score:  0.5647058823529412\n",
      "F1 score:  0.6104569860398521\n",
      "Average precision score:  0.6869565217391305\n",
      "Average recall score:  0.5647058823529412\n",
      "Average roc_auc_score score:  0.7764575933695096\n"
     ]
    }
   ],
   "source": [
    "acc_scr_LSTM_test_PAL = accuracy_score(y_test_p, y_predls_p.round())\n",
    "f1_scr_LSTM_test_PAL = f1_score(y_test_p, y_predls_p.round(), average=\"weighted\")\n",
    "avg_scr_LSTM_test_PAL =  precision_score(y_test_p, y_predls_p.round(), average='weighted')\n",
    "recall_scr_LSTM_test_PAL = recall_score(y_test_p, y_predls_p.round(),average=\"weighted\")\n",
    "roc_scr_LSTM_PAL = roc_auc_score(y_test_p, y_predls_p,average='weighted',labels=Y_AL,multi_class='ovr')\n",
    "\n",
    "print('Test matrix score:\\n')\n",
    "print('Accuracy score: ', acc_scr_LSTM_test_PAL)\n",
    "print('F1 score: ', f1_scr_LSTM_test_PAL)\n",
    "print('Average precision score: ', avg_scr_LSTM_test_PAL )\n",
    "print('Average recall score: ', recall_scr_LSTM_test_PAL)\n",
    "print('Average roc_auc_score score: ', roc_scr_LSTM_PAL)\n",
    "\n"
   ]
  },
  {
   "cell_type": "code",
   "execution_count": null,
   "metadata": {
    "colab": {
     "base_uri": "https://localhost:8080/"
    },
    "id": "g0EhCgTFVbyr",
    "outputId": "66429863-6d65-444a-f2ff-59e7f5989aef"
   },
   "outputs": [
    {
     "name": "stdout",
     "output_type": "stream",
     "text": [
      "*********************************************Training Metrics Accuracy Of PAL*****************************************************************:\n",
      "\n",
      "|    | Model               |   accuracy |   F1 score |   precision |   recall |   roc_auc |\n",
      "|---:|:--------------------|-----------:|-----------:|------------:|---------:|----------:|\n",
      "|  1 | Logistic Regression |   0.364706 |   0.500935 |    0.4223   | 0.394118 |  0.667157 |\n",
      "|  2 | Random Forest       |   0.905882 |   0.949153 |    0.92648  | 0.905882 |  0.952451 |\n",
      "|  3 | SVM                 |   0.591176 |   0.743068 |    0.693382 | 0.591176 |  0.795588 |\n",
      "|  5 | Bagging             |   0.994118 |   0.99705  |    0.995588 | 0.994118 |  0.997059 |\n",
      "|  4 | Boosting            |   0.441176 |   0.594697 |    0.520181 | 0.461765 |  0.715686 |\n",
      "|  6 | NN                  |   0.241176 |   0.168514 |    0.129499 | 0.241176 |  0.600702 |\n",
      "|  7 | LSTM                |   0.826471 |   0.837108 |    0.856888 | 0.826471 |  0.961672 |\n"
     ]
    }
   ],
   "source": [
    "#Accuracy results of training set for each model in a dataframe for final comparison\n",
    "tempResultsDf_PAL = pd.DataFrame({'Model':['LSTM'], 'accuracy': acc_scr_LSTM_train_PAL, 'F1 score': f1_scr_LSTM_train_PAL,\n",
    "                        'precision': avg_scr_LSTM_train_PAL, 'recall': recall_scr_LSTM_train_PAL , 'roc_auc':roc_scr_LSTM_train_PAL},index={'7'})\n",
    "results_train_PAL = pd.concat([results_train_LR_PAL,results_train_RF_PAL, results_train_SVM_PAL, results_train_bgn_PAL, results_train_bst_PAL,results_train_NN_PAL,tempResultsDf_PAL])\n",
    "results_train_PAL = results_train_PAL[['Model', 'accuracy', 'F1 score', 'precision', 'recall', 'roc_auc']]\n",
    "results_train_PAL\n",
    "print('*********************************************Training Metrics Accuracy Of PAL*****************************************************************:\\n')\n",
    "print(results_train_PAL.to_markdown())"
   ]
  },
  {
   "cell_type": "code",
   "execution_count": null,
   "metadata": {
    "colab": {
     "base_uri": "https://localhost:8080/"
    },
    "id": "U-32mLCbV4Z0",
    "outputId": "338225fe-c8ff-40c3-bd33-ee00709baa7b"
   },
   "outputs": [
    {
     "name": "stdout",
     "output_type": "stream",
     "text": [
      "***********************************************Test Metrics Accuracy Of PAL****************************************************************:\n",
      "\n",
      "|    | Model               |   accuracy |   F1 score |   precision |   recall |   roc_auc |\n",
      "|---:|:--------------------|-----------:|-----------:|------------:|---------:|----------:|\n",
      "|  1 | Logistic Regression |  0.141176  |   0.2      |    0.255948 | 0.152941 |  0.513725 |\n",
      "|  2 | Random Forest       |  0.211765  |   0.318584 |    0.333193 | 0.211765 |  0.586275 |\n",
      "|  3 | SVM                 |  0.0823529 |   0.225806 |    0.267949 | 0.164706 |  0.533333 |\n",
      "|  5 | Bagging             |  0.994118  |   0.99705  |    0.995588 | 0.994118 |  0.997059 |\n",
      "|  4 | Boosting            |  0.235294  |   0.353846 |    0.320654 | 0.270588 |  0.592157 |\n",
      "|  6 | NN                  |  0.164706  |   0.261339 |    0.529563 | 0.176471 |  0.539571 |\n",
      "|  7 | LSTM                |  0.564706  |   0.610457 |    0.686957 | 0.564706 |  0.776458 |\n"
     ]
    }
   ],
   "source": [
    "#Accuracy results of test set for each model in a dataframe for final comparison\n",
    "tempResultsDfs_PAL = pd.DataFrame({'Model':['LSTM'], 'accuracy': acc_scr_LSTM_test_PAL, 'F1 score':f1_scr_LSTM_test_PAL,\n",
    "                        'precision': avg_scr_LSTM_test_PAL, 'recall':recall_scr_LSTM_test_PAL , 'roc_auc':roc_scr_LSTM_PAL},index={'7'})\n",
    "results_test_PAL = pd.concat([results_test_LR_PAL,results_test_RF_PAL, results_test_SVM_PAL, results_test_bgn_PAL, results_test_bst_PAL, results_test_NN_PAL, tempResultsDfs_PAL])\n",
    "results_test_PAL = results_test_PAL[['Model', 'accuracy', 'F1 score', 'precision', 'recall', 'roc_auc']]\n",
    "results_test_PAL\n",
    "print('***********************************************Test Metrics Accuracy Of PAL****************************************************************:\\n')\n",
    "print(results_test_PAL.to_markdown())"
   ]
  },
  {
   "cell_type": "markdown",
   "metadata": {
    "id": "xG7-sEcV_7_J"
   },
   "source": [
    "### Cross Validation and ML models accuracy projection as box plot.\n",
    "\n",
    "\n"
   ]
  },
  {
   "cell_type": "code",
   "execution_count": null,
   "metadata": {
    "colab": {
     "base_uri": "https://localhost:8080/"
    },
    "id": "Qg6cT_FgFz1y",
    "outputId": "fac06f2d-358c-4c9d-fbb3-22410bbff645"
   },
   "outputs": [
    {
     "name": "stdout",
     "output_type": "stream",
     "text": [
      "Name = Logistic Regression , Mean Accuracy = 0.161765, SD Accuracy = 0.080278\n",
      "Name = SVM , Mean Accuracy = 0.014706, SD Accuracy = 0.019730\n",
      "Name = Random Forest , Mean Accuracy = 0.123529, SD Accuracy = 0.065503\n",
      "Name = Adaptive Boosting , Mean Accuracy = 0.235294, SD Accuracy = 0.095758\n",
      "Name = Adaptive Boosting , Mean Accuracy = 0.176471, SD Accuracy = 0.093008\n"
     ]
    }
   ],
   "source": [
    "#Using K fold to check how my algorighm varies throughout my data if we split it in 10 equal bins\n",
    "models = []\n",
    "models.append(('Logistic Regression', OneVsRestClassifier(RandomForestClassifier())))\n",
    "models.append(('SVM', OneVsRestClassifier(svm.SVC())))\n",
    "models.append(('Random Forest', RandomForestClassifier()))\n",
    "models.append(('Adaptive Boosting', OneVsRestClassifier(AdaBoostClassifier())))\n",
    "models.append(('Adaptive Boosting', OneVsRestClassifier(BaggingClassifier())))\n",
    "\n",
    "\n",
    "\n",
    "\n",
    "\n",
    "# evaluate each model\n",
    "results = []\n",
    "names = []\n",
    "scoring = 'accuracy'\n",
    "for name, model in models:\n",
    "\tkfold = model_selection.KFold(n_splits=10, random_state=101)\n",
    "\tcv_results = model_selection.cross_val_score(model, x_train_p, y_train_p, cv=kfold, scoring=scoring)\n",
    "\tresults.append(cv_results)\n",
    "\tnames.append(name)\n",
    "\tprint(\"Name = %s , Mean Accuracy = %f, SD Accuracy = %f\" % (name, cv_results.mean(), cv_results.std()))"
   ]
  },
  {
   "cell_type": "code",
   "execution_count": null,
   "metadata": {
    "colab": {
     "base_uri": "https://localhost:8080/",
     "height": 381
    },
    "id": "Ny0ImsQtF9QO",
    "outputId": "cf14933a-e03c-4fe4-c169-6d6359d7ffff"
   },
   "outputs": [
    {
     "data": {
      "text/plain": [
       "[Text(0, 0, 'Logistic Regression'),\n",
       " Text(0, 0, 'SVM'),\n",
       " Text(0, 0, 'Random Forest'),\n",
       " Text(0, 0, 'Adaptive Boosting'),\n",
       " Text(0, 0, 'Adaptive Boosting')]"
      ]
     },
     "execution_count": 144,
     "metadata": {
      "tags": []
     },
     "output_type": "execute_result"
    },
    {
     "data": {
      "image/png": "[encoded data removed]",
      "text/plain": [
       "<Figure size 864x288 with 1 Axes>"
      ]
     },
     "metadata": {
      "needs_background": "light",
      "tags": []
     },
     "output_type": "display_data"
    }
   ],
   "source": [
    "# boxplot algorithm comparison\n",
    "fig = plt.figure(figsize=(12,4))\n",
    "fig.suptitle('Algorithm Comparison')\n",
    "ax = fig.add_subplot()\n",
    "plt.boxplot(results)\n",
    "ax.set_xticklabels(names)"
   ]
  },
  {
   "cell_type": "markdown",
   "metadata": {
    "id": "7NHJRvsf8i09"
   },
   "source": [
    "### Pickle PAL model"
   ]
  },
  {
   "cell_type": "code",
   "execution_count": null,
   "metadata": {
    "id": "RSFiPk-W8uji"
   },
   "outputs": [],
   "source": [
    "make_keras_picklable()\n",
    "\n",
    "output = open('Cap1_Chatbot_PAL_LSTM.pkl', 'wb')\n",
    "pickle.dump(model_lstm,output)"
   ]
  },
  {
   "cell_type": "code",
   "execution_count": null,
   "metadata": {
    "id": "RjfD9Z4B8zNV"
   },
   "outputs": [],
   "source": [
    "# get the folder id where you want to save your file\n",
    "file = drive.CreateFile()\n",
    "file.SetContentFile('Cap1_Chatbot_PAL_LSTM.pkl')\n",
    "file.Upload() "
   ]
  },
  {
   "cell_type": "code",
   "execution_count": null,
   "metadata": {
    "id": "SZA-oFjT_Ssh"
   },
   "outputs": [],
   "source": []
  }
 ],
 "metadata": {
  "accelerator": "GPU",
  "colab": {
   "collapsed_sections": [],
   "name": "Capstone_Chatbot_IndustryAccidents.ipynb",
   "provenance": []
  },
  "kernelspec": {
   "display_name": "Python 3",
   "language": "python",
   "name": "python3"
  },
  "language_info": {
   "codemirror_mode": {
    "name": "ipython",
    "version": 3
   },
   "file_extension": ".py",
   "mimetype": "text/x-python",
   "name": "python",
   "nbconvert_exporter": "python",
   "pygments_lexer": "ipython3",
   "version": "3.7.9"
  }
 },
 "nbformat": 4,
 "nbformat_minor": 1
}
