{
 "cells": [
  {
   "cell_type": "code",
   "execution_count": 1,
   "metadata": {},
   "outputs": [],
   "source": [
    "import tkinter\n",
    "from tkinter import ttk\n",
    "from tkinter import *\n",
    "from tkinter import filedialog\n",
    "import pandas as pd"
   ]
  },
  {
   "cell_type": "code",
   "execution_count": 2,
   "metadata": {},
   "outputs": [],
   "source": [
    "homeScreen = Tk()\n",
    "homeScreen.title(\"Great Learning - Capstone 1\")\n",
    "homeScreen.geometry(\"400x500\")\n",
    "homeScreen.resizable(width=TRUE, height=TRUE)\n",
    "\n",
    "tabControl = ttk.Notebook(homeScreen) "
   ]
  },
  {
   "cell_type": "code",
   "execution_count": 4,
   "metadata": {},
   "outputs": [],
   "source": [
    "def browseFiles():\n",
    "    File_Entry.delete('0', END)\n",
    "    filename = filedialog.askopenfilename(initialdir = \"/\",\n",
    "                                          title = \"Select a File\",\n",
    "                                          filetypes = ((\"CSV files\",\n",
    "                                                        \"*.csv*\"),\n",
    "                                                       (\"all files\",\n",
    "                                                        \"*.*\")))\n",
    "    File_Entry.insert(END,filename)"
   ]
  },
  {
   "cell_type": "code",
   "execution_count": 5,
   "metadata": {},
   "outputs": [],
   "source": [
    "def preprocessDataset():\n",
    "    filename = File_Entry.get()\n",
    "    data = pd.read_csv(filename)\n",
    "    writeToConsole(\"CSV File Read\")\n",
    "    data = preprocessFile.preprocess_dataset(data)\n",
    "    writeToConsole(\"Basic Data Processing Done\")\n",
    "    data = preprocessFile.stopwords_removal(data)\n",
    "    writeToConsole(\"Stop Words Removed\")\n",
    "    data = preprocessFile.data_lemmatization(data)\n",
    "    writeToConsole(\"Lemmatization Completed\")\n",
    "    data = preprocessFile.spell_checking(data)\n",
    "    writeToConsole(\"Spelling Check Done\")\n",
    "    data = preprocessFile.frequent_words(data)\n",
    "    writeToConsole(\"Frequent Words Extracted\")\n",
    "    ## Output Dataset\n",
    "    fileNameModified = filename.split('/')[-1]\n",
    "    fileNameModified = fileNameModified.split('.')[0]\n",
    "    writeToConsole(\"Writing Processed Data to CSV File\")\n",
    "    data.to_csv(f'Output_{fileNameModified}.csv')\n",
    "    writeToConsole(\"CSV file downloaded\")"
   ]
  },
  {
   "cell_type": "code",
   "execution_count": 6,
   "metadata": {},
   "outputs": [],
   "source": [
    "def writeToConsole(logmsg):\n",
    "    Console.config(state=NORMAL)\n",
    "    Console.insert(END, logmsg + '\\n')\n",
    "    Console.config(foreground=\"black\", font=(\"Cambria\", 12 ))  \n",
    "    Console.config(state=DISABLED)\n",
    "    Console.yview(END)"
   ]
  },
  {
   "cell_type": "code",
   "execution_count": null,
   "metadata": {},
   "outputs": [],
   "source": [
    "#function called is present in another module which has same source code as used in the main ipynb filed shared\n",
    "def preprocess():\n",
    "    txt = EntryBox_Preprocess.get(\"1.0\",'end-1c').strip()\n",
    "    if txt != '':\n",
    "        preprocessedSentence = pre.pre_processing_text(txt)\n",
    "        Box_Processed.config(state=NORMAL)\n",
    "        Box_Processed.delete(\"0.0\",END)\n",
    "        Box_Processed.insert(END,preprocessedSentence )\n",
    "        Box_Processed.config(foreground=\"red\", font=(\"Cambria\", 12,'bold' ))"
   ]
  },
  {
   "cell_type": "code",
   "execution_count": null,
   "metadata": {},
   "outputs": [],
   "source": [
    "def browseOutputFiles():\n",
    "    File_Entry_1.delete('0', END)\n",
    "    filename_1 = filedialog.askopenfilename(initialdir = \"/\",\n",
    "                                          title = \"Select a File\",\n",
    "                                          filetypes = ((\"CSV files\",\n",
    "                                                        \"*.csv*\"),\n",
    "                                                       (\"all files\",\n",
    "                                                        \"*.*\")))\n",
    "    File_Entry_1.insert(END,filename_1)"
   ]
  },
  {
   "cell_type": "code",
   "execution_count": null,
   "metadata": {},
   "outputs": [],
   "source": [
    "#function called is present in another module which has same source code as used in the main ipynb filed shared\n",
    "\n",
    "def train_model_al():\n",
    "    filename_1 = File_Entry_1.get()\n",
    "    data = pd.read_csv(filename_1)\n",
    "    x_train,x_test,y_train,y_test,labels_al, num_words,embedding_size, embedding_matrix, maxlen, Y_AL = al_train.prepare_X_Y(data)\n",
    "    writeToConsole2(\"AL Test Train Split Done\")\n",
    "    model = al_train.build_model(x_train,x_test,y_train,y_test,labels_al, num_words,embedding_size, embedding_matrix, maxlen, Y_AL)\n",
    "    writeToConsole2(\"AL Model Build\")\n",
    "    al_train.model_save(model)\n",
    "    writeToConsole2(\"AL Model Stored to Disk\")\n",
    "\n",
    "def train_model_pal():\n",
    "    writeToConsole2(\"Training PAL Model\")\n",
    "    filename_1 = File_Entry_1.get()\n",
    "    data = pd.read_csv(filename_1)\n",
    "    x_train_p,x_test_p,y_train_p,y_test_p,labels_pal, num_words,embedding_size, embedding_matrix, maxlen, Y_PAL = pal_train.prepare_X_Y(data)\n",
    "    writeToConsole2(\"PAL Test Train Split Done\")\n",
    "    model = pal_train.build_model(x_train_p,x_test_p,y_train_p,y_test_p,labels_pal, num_words,embedding_size, embedding_matrix, maxlen, Y_PAL)\n",
    "    print(\"PAL Model Build\")\n",
    "    pal_train.model_save(model)\n",
    "    writeToConsole2(\"PAL Model Stored to Disk\")"
   ]
  },
  {
   "cell_type": "code",
   "execution_count": null,
   "metadata": {},
   "outputs": [],
   "source": [
    "#function called is present in another module which has same source code as used in the main ipynb filed shared\n",
    "\n",
    "def predict_al(textString, dataset):\n",
    "    preprocessedtextString = pre.pre_processing_text(textString)\n",
    "    print(preprocessedtextString)\n",
    "    X_input = pmodel.tokenize(preprocessedtextString)\n",
    "    print(\"Tokenized\")\n",
    "    X_padded = pmodel.sequence_padding(X_input)\n",
    "    print(\"Sequence Padded\")\n",
    "    #Y = pmodel.label_binarize(data)\n",
    "    acc_level  = pred.predict_al(X_padded, dataset)\n",
    "    print(acc_level)\n",
    "    return acc_level\n",
    "\n",
    "def predict_pal(textString, dataset):\n",
    "    preprocessedtextString = pre.pre_processing_text(textString)\n",
    "    print(preprocessedtextString)\n",
    "    X_input = pmodel.tokenize(preprocessedtextString)\n",
    "    print(\"Tokenized\")\n",
    "    X_padded = pmodel.sequence_padding(X_input)\n",
    "    print(\"Sequence Padded\")\n",
    "    #Y = pmodel.label_binarize(data)\n",
    "    potential_acc_level  = pred.predict_pal(X_padded, dataset)\n",
    "    print(potential_acc_level)\n",
    "    return potential_acc_level"
   ]
  },
  {
   "cell_type": "code",
   "execution_count": null,
   "metadata": {},
   "outputs": [],
   "source": [
    "def get_output_file():\n",
    "    dataset = pd.read_csv(filename_1)\n",
    "    return dataset\n",
    "\n",
    "#function called is present in another module which has same source code as used in the main ipynb filed shared\n",
    "def prediction(textString):\n",
    "    print(textString)\n",
    "    dataset = get_output_file()\n",
    "    al_prediction = predict_al(textString, dataset)\n",
    "    pal_prediction = predict_pal(textString, dataset)\n",
    "    response = \"AL: \" + al_prediction + '\\n' + \"PAL: \" + pal_prediction + '\\n\\n'\n",
    "    return response"
   ]
  },
  {
   "cell_type": "code",
   "execution_count": null,
   "metadata": {},
   "outputs": [],
   "source": [
    "#function called is present in another module which has same source code as used in the main ipynb filed shared\n",
    "def send():\n",
    "    msg = EntryBox.get(\"1.0\",'end-1c').strip()\n",
    "    EntryBox.delete(\"0.0\",END)\n",
    "\n",
    "    if msg != '':\n",
    "        ChatBox.config(state=NORMAL)\n",
    "        ChatBox.insert(END, \"Me: \" + msg + '\\n\\n')\n",
    "        ChatBox.config(foreground=\"red\", font=(\"Cambria\", 12,'bold' ))       \n",
    "\n",
    "        response = prediction(msg)\n",
    "        ChatBox.insert(END,response)\n",
    "        ChatBox.config(foreground=\"red\", font=(\"Cambria\", 12,'bold' ))\n",
    "            \n",
    "        ChatBox.config(state=DISABLED)\n",
    "        ChatBox.yview(END)"
   ]
  },
  {
   "cell_type": "code",
   "execution_count": 3,
   "metadata": {},
   "outputs": [],
   "source": [
    "# First Tab\n",
    "tab_preprocess = ttk.Frame(tabControl) \n",
    "tabControl.add(tab_preprocess, text ='Pre-Processing') \n",
    "tabControl.pack(expand = 1, fill =\"both\")\n",
    "\n",
    "EntryBox_Preprocess = Text(tab_preprocess, bd=4, bg=\"#E1F6F9\",width=\"33\", height=\"5\", font=\"Cambria\")\n",
    "\n",
    "SendButton_Preprocess = Button(tab_preprocess, font=(\"Arial Black\",10,'bold'), text=\"Test Data Preprocessing\", width=\"12\", height=5,\n",
    "bd=0, bg=\"#9F0404\", activebackground=\"#FF5733\",fg='#F2EBEB',command=preprocess)\n",
    "\n",
    "Box_Processed = Text(tab_preprocess, bd=4, bg=\"#E1F6F9\",width=\"33\", height=\"5\", font=\"Cambria\")\n",
    "\n",
    "Console = Text(tab_preprocess, bd=4, bg=\"#FFFAFA\",width=\"33\", height=\"5\", font=(\"Cambria\",8))\n",
    "Console.config(state=DISABLED)\n",
    "\n",
    "SendButton_DatasetPreprocess = Button(tab_preprocess, font=(\"Arial Black\",10,'bold'), text=\"Pre - process Dataset\", width=\"12\", height=5,\n",
    "bd=0, bg=\"#9F0404\", activebackground=\"#FF5733\",fg='#F2EBEB',command= preprocessDataset)\n",
    "x = StringVar()\n",
    "\n",
    "File_Entry = Entry(tab_preprocess,textvariable=x,justify='center',bd=2)\n",
    "\n",
    "Browse_button = Button(tab_preprocess,text = \"Browse File\", fg=\"red\",command=browseFiles)"
   ]
  },
  {
   "cell_type": "code",
   "execution_count": null,
   "metadata": {},
   "outputs": [],
   "source": [
    "# Second Tab\n",
    "tab_model = ttk.Frame(tabControl) \n",
    "tabControl.add(tab_model, text ='Model Training') \n",
    "tabControl.pack(expand = 1, fill =\"both\")\n",
    "tab_chat = ttk.Frame(tabControl) \n",
    "\n",
    "File_Entry_1 = Entry(tab_model,textvariable=x,justify='center',bd=2)\n",
    "Browse_output_button = Button(tab_model,text = \"Browse Output File\", fg=\"red\",command=browseOutputFiles)\n",
    "\n",
    "Button_ALModel = Button(tab_model, font=(\"Arial Black\",10,'bold'), text=\"Model Training For AL\", width=\"12\", height=5,\n",
    "bd=0, bg=\"#9F0404\", activebackground=\"#FF5733\",fg='#F2EBEB',command=train_model_al )\n",
    "\n",
    "Button_PALModel = Button(tab_model, font=(\"Arial Black\",10,'bold'), text=\"Model Training For PAL\", width=\"12\", height=5,\n",
    "bd=0, bg=\"#9F0404\", activebackground=\"#FF5733\",fg='#F2EBEB',command=train_model_pal )\n",
    "\n",
    "Console2 = Text(tab_model, bd=4, bg=\"#FFFAFA\",width=\"33\", height=\"5\", font=(\"Cambria\",8))\n",
    "Console2.config(state=DISABLED)"
   ]
  },
  {
   "cell_type": "code",
   "execution_count": null,
   "metadata": {},
   "outputs": [],
   "source": [
    "# Third Tab \n",
    "tabControl.add(tab_chat, text ='Chatbot') \n",
    "\n",
    "#Create Chat window\n",
    "ChatBox = Text(tab_chat, bd=0, bg=\"white\", height=\"8\", width=\"50\")\n",
    "\n",
    "ChatBox.config(state=DISABLED)\n",
    "\n",
    "#Bind scrollbar to Chat window\n",
    "scrollbar = Scrollbar(tab_chat, command=ChatBox.yview, cursor=\"heart\")\n",
    "ChatBox['yscrollcommand'] = scrollbar.set\n",
    "\n",
    "#Create Button to send message\n",
    "SendButton = Button(tab_chat, font=(\"Arial Black\",10,'bold'), text=\"Send\", width=\"12\", height=5,\n",
    "bd=0, bg=\"#9F0404\", activebackground=\"#FF5733\",fg='#F2EBEB',command= send \n",
    ")\n",
    "\n",
    "#Create the box to enter message\n",
    "EntryBox = Text(tab_chat, bd=4, bg=\"#E1F6F9\",width=\"33\", height=\"5\", font=\"Cambria\")\n",
    "#EntryBox.bind(\"<Return>\", send)"
   ]
  },
  {
   "cell_type": "code",
   "execution_count": null,
   "metadata": {},
   "outputs": [],
   "source": [
    "# First tab placements\n",
    "Console.place(x=6,y=100, height=100, width=384)\n",
    "EntryBox_Preprocess.place(x=6,y=220, height=100, width=384)\n",
    "Box_Processed.place(x=6, y=370, height=100, width=384)\n",
    "File_Entry.place(x=6,y=6,height=30,width=300)\n",
    "Browse_button.place(x=310,y=6,height=30,width=80)\n",
    "SendButton_Preprocess.place(x=110, y=330, height=30, width = 200)\n",
    "SendButton_DatasetPreprocess.place(x=110, y=50, height=30, width=200)"
   ]
  },
  {
   "cell_type": "code",
   "execution_count": null,
   "metadata": {},
   "outputs": [],
   "source": [
    "# Second tab placements\n",
    "File_Entry_1.place(x=6,y=6,height=30,width=370)\n",
    "Browse_output_button.place(x=110,y=50,height=30,width=200)\n",
    "Button_ALModel.place(x=6, y=140, height=60, width=180)\n",
    "Button_PALModel.place(x=200, y=140, height=60, width=180)\n",
    "Console2.place(x=6,y=250, height=250, width=384)"
   ]
  },
  {
   "cell_type": "code",
   "execution_count": null,
   "metadata": {},
   "outputs": [],
   "source": [
    "#Third Tab Placements\n",
    "scrollbar.place(x=376,y=6, height=386)\n",
    "ChatBox.place(x=6,y=6, height=386, width=370)\n",
    "EntryBox.place(x=6, y=401, height=80, width=269)\n",
    "SendButton.place(x=276, y=401, height=84)\n",
    "\n",
    "homeScreen.mainloop()"
   ]
  }
 ],
 "metadata": {
  "kernelspec": {
   "display_name": "Python 3",
   "language": "python",
   "name": "python3"
  },
  "language_info": {
   "codemirror_mode": {
    "name": "ipython",
    "version": 3
   },
   "file_extension": ".py",
   "mimetype": "text/x-python",
   "name": "python",
   "nbconvert_exporter": "python",
   "pygments_lexer": "ipython3",
   "version": "3.8.3"
  }
 },
 "nbformat": 4,
 "nbformat_minor": 4
}
