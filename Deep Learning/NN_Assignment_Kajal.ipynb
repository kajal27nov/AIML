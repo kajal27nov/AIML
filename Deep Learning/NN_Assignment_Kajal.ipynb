{
 "cells": [
  {
   "cell_type": "code",
   "execution_count": 41,
   "metadata": {},
   "outputs": [
    {
     "name": "stderr",
     "output_type": "stream",
     "text": [
      "UsageError: Line magic function `%tensorflow_version` not found.\n"
     ]
    }
   ],
   "source": [
    "%tensorflow_version 2.x\n",
    "import tensorflow\n",
    "tensorflow.__version__"
   ]
  },
  {
   "cell_type": "code",
   "execution_count": 42,
   "metadata": {},
   "outputs": [],
   "source": [
    "# Initialize the random number generator\n",
    "import random\n",
    "random.seed(0)\n",
    "\n",
    "# Ignore the warnings\n",
    "import warnings\n",
    "warnings.filterwarnings(\"ignore\")"
   ]
  },
  {
   "cell_type": "code",
   "execution_count": 80,
   "metadata": {},
   "outputs": [],
   "source": [
    "from tensorflow.keras.models import Sequential\n",
    "from tensorflow.keras.layers import Dense\n",
    "from sklearn import model_selection\n",
    "from sklearn.metrics import confusion_matrix"
   ]
  },
  {
   "cell_type": "markdown",
   "metadata": {},
   "source": [
    "### Reading the data from h5py file"
   ]
  },
  {
   "cell_type": "code",
   "execution_count": 44,
   "metadata": {},
   "outputs": [],
   "source": [
    "import h5py"
   ]
  },
  {
   "cell_type": "code",
   "execution_count": 45,
   "metadata": {},
   "outputs": [],
   "source": [
    "file = h5py.File('SVHN_single_grey1.h5','r')"
   ]
  },
  {
   "cell_type": "code",
   "execution_count": 46,
   "metadata": {},
   "outputs": [
    {
     "data": {
      "text/plain": [
       "<KeysViewHDF5 ['X_test', 'X_train', 'X_val', 'y_test', 'y_train', 'y_val']>"
      ]
     },
     "execution_count": 46,
     "metadata": {},
     "output_type": "execute_result"
    }
   ],
   "source": [
    "file.keys()"
   ]
  },
  {
   "cell_type": "code",
   "execution_count": 47,
   "metadata": {},
   "outputs": [],
   "source": [
    "x_train = file['X_train'][:]\n",
    "y_train = file['y_train'][:]\n",
    "x_test  = file['X_test'][:]\n",
    "y_test  = file['y_test'][:]"
   ]
  },
  {
   "cell_type": "markdown",
   "metadata": {},
   "source": [
    "### Printing shape and some values of label"
   ]
  },
  {
   "cell_type": "code",
   "execution_count": 48,
   "metadata": {},
   "outputs": [
    {
     "name": "stdout",
     "output_type": "stream",
     "text": [
      "(42000, 32, 32)\n",
      "(42000,)\n",
      "(18000, 32, 32)\n",
      "(18000,)\n"
     ]
    }
   ],
   "source": [
    "print(x_train.shape)\n",
    "print(y_train.shape)\n",
    "print(x_test.shape)\n",
    "print(y_test.shape)"
   ]
  },
  {
   "cell_type": "markdown",
   "metadata": {},
   "source": [
    "### x_train, x_test: uint8 array of grayscale image data with shape (num_samples, 32,32)\n",
    "### y_train, y_test: uint8 array of digit labels (integers in range 0-9) with shape (num_samples,).\n",
    "### There are 42000 samples in training data each sample with dimension 32*32\n",
    "### There are 18000 samples in testing data each sample with dimension 32*32"
   ]
  },
  {
   "cell_type": "code",
   "execution_count": 49,
   "metadata": {},
   "outputs": [
    {
     "name": "stdout",
     "output_type": "stream",
     "text": [
      "254.9745\n",
      "0.0\n"
     ]
    }
   ],
   "source": [
    "print(x_train.max())\n",
    "print(x_train.min())"
   ]
  },
  {
   "cell_type": "markdown",
   "metadata": {},
   "source": [
    "x_train and x_test contain greyscale RGB codes (from 0 to 255) while y_train and y_test contains labels from 0 to 9 which represents which number they actually are."
   ]
  },
  {
   "cell_type": "code",
   "execution_count": 50,
   "metadata": {},
   "outputs": [
    {
     "name": "stdout",
     "output_type": "stream",
     "text": [
      "First 5 examples are:  [2 6 7 4 4]\n"
     ]
    }
   ],
   "source": [
    "print('First 5 examples are: ', y_train[0:5])"
   ]
  },
  {
   "cell_type": "code",
   "execution_count": 51,
   "metadata": {},
   "outputs": [
    {
     "name": "stdout",
     "output_type": "stream",
     "text": [
      "The label is 7\n"
     ]
    },
    {
     "data": {
      "text/plain": [
       "<matplotlib.image.AxesImage at 0x1b8acc330c8>"
      ]
     },
     "execution_count": 51,
     "metadata": {},
     "output_type": "execute_result"
    },
    {
     "data": {
      "image/png": "[encoded data removed]",
      "text/plain": [
       "<Figure size 432x288 with 1 Axes>"
      ]
     },
     "metadata": {
      "needs_background": "light"
     },
     "output_type": "display_data"
    }
   ],
   "source": [
    "import matplotlib.pyplot as plt\n",
    "%matplotlib inline\n",
    "print('The label is {}'.format(y_train[8000]))\n",
    "plt.imshow(x_train[8000],cmap = 'gray')"
   ]
  },
  {
   "cell_type": "code",
   "execution_count": 54,
   "metadata": {},
   "outputs": [
    {
     "name": "stdout",
     "output_type": "stream",
     "text": [
      "The label is 6\n"
     ]
    },
    {
     "data": {
      "text/plain": [
       "<matplotlib.image.AxesImage at 0x1b8a11b3908>"
      ]
     },
     "execution_count": 54,
     "metadata": {},
     "output_type": "execute_result"
    },
    {
     "data": {
      "image/png": "[encoded data removed]",
      "text/plain": [
       "<Figure size 432x288 with 1 Axes>"
      ]
     },
     "metadata": {
      "needs_background": "light"
     },
     "output_type": "display_data"
    }
   ],
   "source": [
    "import matplotlib.pyplot as plt\n",
    "%matplotlib inline\n",
    "print('The label is {}'.format(y_train[1000]))\n",
    "plt.imshow(x_train[1000],cmap = 'gray')"
   ]
  },
  {
   "cell_type": "markdown",
   "metadata": {},
   "source": [
    "### There are some distractors in the image samples."
   ]
  },
  {
   "cell_type": "markdown",
   "metadata": {},
   "source": [
    "### Reshape features\n",
    "- reshape() method gives a new shape to an array without changing its data"
   ]
  },
  {
   "cell_type": "code",
   "execution_count": 55,
   "metadata": {},
   "outputs": [
    {
     "name": "stdout",
     "output_type": "stream",
     "text": [
      "(42000, 1024)\n",
      "(18000, 1024)\n"
     ]
    }
   ],
   "source": [
    "x_train = x_train.reshape(42000, 1024)\n",
    "print(x_train.shape)\n",
    "x_test = x_test.reshape(18000, 1024)\n",
    "print(x_test.shape)"
   ]
  },
  {
   "cell_type": "markdown",
   "metadata": {},
   "source": [
    "### Normalize features\n",
    "- Normalize features from 0-255 to 0-1"
   ]
  },
  {
   "cell_type": "code",
   "execution_count": 56,
   "metadata": {},
   "outputs": [
    {
     "name": "stdout",
     "output_type": "stream",
     "text": [
      "254.9745\n",
      "0.0\n",
      "0.9999\n",
      "0.0\n"
     ]
    }
   ],
   "source": [
    "print(x_train.max())\n",
    "print(x_train.min())\n",
    "x_train = x_train / 255.0\n",
    "x_test = x_test / 255.0\n",
    "print(x_train.max())\n",
    "print(x_train.min())"
   ]
  },
  {
   "cell_type": "markdown",
   "metadata": {},
   "source": [
    "\n",
    "### One-hot encoding for the class vector\n",
    "- convert class vectors (integers) to binary class matrix\n",
    "- convert x_train and x_test\n",
    "- number of classes: 10"
   ]
  },
  {
   "cell_type": "code",
   "execution_count": 57,
   "metadata": {},
   "outputs": [],
   "source": [
    "from tensorflow.keras.utils import to_categorical"
   ]
  },
  {
   "cell_type": "code",
   "execution_count": 58,
   "metadata": {},
   "outputs": [
    {
     "name": "stdout",
     "output_type": "stream",
     "text": [
      "1\n",
      "[0. 1. 0. 0. 0. 0. 0. 0. 0. 0.]\n"
     ]
    }
   ],
   "source": [
    "print(y_train[10])\n",
    "y_train = to_categorical(y_train,num_classes=10)\n",
    "y_test = to_categorical(y_test,num_classes=10)\n",
    "print(y_train[10])"
   ]
  },
  {
   "cell_type": "markdown",
   "metadata": {},
   "source": [
    "### Initialize & building  the model"
   ]
  },
  {
   "cell_type": "markdown",
   "metadata": {},
   "source": [
    "### Define the model\n",
    "- The Sequential model is a linear stack of layers.\n",
    "- The model needs to know what input shape it should expect. For this reason, the first layer in a Sequential model (and only the first, because following layers can do automatic shape inference) needs to receive information about its input shape."
   ]
  },
  {
   "cell_type": "code",
   "execution_count": 59,
   "metadata": {},
   "outputs": [],
   "source": [
    "# Initializing the sequential model\n",
    "classifier = Sequential()"
   ]
  },
  {
   "cell_type": "code",
   "execution_count": 60,
   "metadata": {},
   "outputs": [],
   "source": [
    "from tensorflow.keras.layers import Reshape\n",
    "from tensorflow.keras.layers import Dropout"
   ]
  },
  {
   "cell_type": "code",
   "execution_count": 61,
   "metadata": {},
   "outputs": [],
   "source": [
    "# Flattening layer\n",
    "classifier.add(Dense(400, input_shape=(1024,), activation='relu'))"
   ]
  },
  {
   "cell_type": "code",
   "execution_count": 62,
   "metadata": {},
   "outputs": [],
   "source": [
    "# Hidden layers\n",
    "classifier.add(Dense(activation = 'relu', units = 400, kernel_initializer='uniform',name='Layer_1'))\n",
    "classifier.add(Dense(activation = 'relu', units = 200, kernel_initializer='uniform',name='Layer_2'))\n",
    "\n",
    "# Dropout layer\n",
    "classifier.add(Dropout(0.5))\n",
    "\n",
    "# Hidden layers\n",
    "classifier.add(Dense(activation = 'relu', units = 100, kernel_initializer='uniform',name='Layer_3'))\n",
    "classifier.add(Dense(activation = 'relu', units = 50, kernel_initializer='uniform',name='Layer_4'))\n",
    "\n",
    "# Dropout layer\n",
    "classifier.add(Dropout(0.5))"
   ]
  },
  {
   "cell_type": "code",
   "execution_count": 63,
   "metadata": {},
   "outputs": [],
   "source": [
    "#Output layer\n",
    "classifier.add(Dense(10, activation='softmax', name='Output'))"
   ]
  },
  {
   "cell_type": "markdown",
   "metadata": {},
   "source": [
    "### Compile the model"
   ]
  },
  {
   "cell_type": "code",
   "execution_count": 64,
   "metadata": {},
   "outputs": [],
   "source": [
    "classifier.compile(optimizer='adam', loss='categorical_crossentropy', metrics=['accuracy'])"
   ]
  },
  {
   "cell_type": "markdown",
   "metadata": {},
   "source": [
    "### Summarize the model\n",
    "- model.summary() prints a summary representation of the model. For layers with multiple outputs, multiple is displayed instead of each individual output shape due to size limitations."
   ]
  },
  {
   "cell_type": "code",
   "execution_count": 65,
   "metadata": {},
   "outputs": [
    {
     "name": "stdout",
     "output_type": "stream",
     "text": [
      "Model: \"sequential_8\"\n",
      "_________________________________________________________________\n",
      "Layer (type)                 Output Shape              Param #   \n",
      "=================================================================\n",
      "dense_21 (Dense)             (None, 400)               410000    \n",
      "_________________________________________________________________\n",
      "Layer_1 (Dense)              (None, 400)               160400    \n",
      "_________________________________________________________________\n",
      "Layer_2 (Dense)              (None, 200)               80200     \n",
      "_________________________________________________________________\n",
      "dropout_2 (Dropout)          (None, 200)               0         \n",
      "_________________________________________________________________\n",
      "Layer_3 (Dense)              (None, 100)               20100     \n",
      "_________________________________________________________________\n",
      "Layer_4 (Dense)              (None, 50)                5050      \n",
      "_________________________________________________________________\n",
      "dropout_3 (Dropout)          (None, 50)                0         \n",
      "_________________________________________________________________\n",
      "Output (Dense)               (None, 10)                510       \n",
      "=================================================================\n",
      "Total params: 676,260\n",
      "Trainable params: 676,260\n",
      "Non-trainable params: 0\n",
      "_________________________________________________________________\n"
     ]
    }
   ],
   "source": [
    "classifier.summary()"
   ]
  },
  {
   "cell_type": "markdown",
   "metadata": {},
   "source": [
    "### Fitting the model\n",
    "- .fit() trains the model for a fixed number of epochs (iterations on a dataset)\n",
    "- batch_size is the number of samples per gradient update\n",
    "- validation_data is the data on which to evaluate the loss and any model metrics at the end of each epoch"
   ]
  },
  {
   "cell_type": "code",
   "execution_count": 66,
   "metadata": {},
   "outputs": [
    {
     "name": "stdout",
     "output_type": "stream",
     "text": [
      "Train on 42000 samples, validate on 18000 samples\n",
      "Epoch 1/30\n",
      "42000/42000 [==============================] - 8s 179us/sample - loss: 2.3031 - accuracy: 0.0977 - val_loss: 2.3026 - val_accuracy: 0.0955\n",
      "Epoch 2/30\n",
      "42000/42000 [==============================] - 7s 171us/sample - loss: 2.3027 - accuracy: 0.1001 - val_loss: 2.3029 - val_accuracy: 0.0955\n",
      "Epoch 3/30\n",
      "42000/42000 [==============================] - 7s 169us/sample - loss: 2.3027 - accuracy: 0.1006 - val_loss: 2.3029 - val_accuracy: 0.0982\n",
      "Epoch 4/30\n",
      "42000/42000 [==============================] - 7s 176us/sample - loss: 2.3027 - accuracy: 0.1000 - val_loss: 2.3027 - val_accuracy: 0.1002\n",
      "Epoch 5/30\n",
      "42000/42000 [==============================] - 7s 175us/sample - loss: 2.3028 - accuracy: 0.0987 - val_loss: 2.3027 - val_accuracy: 0.0955\n",
      "Epoch 6/30\n",
      "42000/42000 [==============================] - 8s 179us/sample - loss: 2.3027 - accuracy: 0.1009 - val_loss: 2.3027 - val_accuracy: 0.0955\n",
      "Epoch 7/30\n",
      "42000/42000 [==============================] - 7s 173us/sample - loss: 2.3027 - accuracy: 0.1004 - val_loss: 2.3028 - val_accuracy: 0.0955\n",
      "Epoch 8/30\n",
      "42000/42000 [==============================] - 7s 175us/sample - loss: 2.3028 - accuracy: 0.1008 - val_loss: 2.3027 - val_accuracy: 0.0982\n",
      "Epoch 9/30\n",
      "42000/42000 [==============================] - 8s 180us/sample - loss: 2.3028 - accuracy: 0.0995 - val_loss: 2.3028 - val_accuracy: 0.0955\n",
      "Epoch 10/30\n",
      "42000/42000 [==============================] - 8s 193us/sample - loss: 2.3028 - accuracy: 0.1008 - val_loss: 2.3028 - val_accuracy: 0.0955\n",
      "Epoch 11/30\n",
      "42000/42000 [==============================] - 8s 188us/sample - loss: 2.3027 - accuracy: 0.1005 - val_loss: 2.3028 - val_accuracy: 0.0955\n",
      "Epoch 12/30\n",
      "42000/42000 [==============================] - 8s 191us/sample - loss: 2.3028 - accuracy: 0.1015 - val_loss: 2.3027 - val_accuracy: 0.0982\n",
      "Epoch 13/30\n",
      "42000/42000 [==============================] - 8s 187us/sample - loss: 2.3028 - accuracy: 0.0999 - val_loss: 2.3027 - val_accuracy: 0.1002\n",
      "Epoch 14/30\n",
      "42000/42000 [==============================] - 8s 192us/sample - loss: 2.3028 - accuracy: 0.0998 - val_loss: 2.3027 - val_accuracy: 0.1002\n",
      "Epoch 15/30\n",
      "42000/42000 [==============================] - 8s 186us/sample - loss: 2.3028 - accuracy: 0.1002 - val_loss: 2.3026 - val_accuracy: 0.1008\n",
      "Epoch 16/30\n",
      "42000/42000 [==============================] - 8s 186us/sample - loss: 2.3027 - accuracy: 0.1002 - val_loss: 2.3029 - val_accuracy: 0.0955\n",
      "Epoch 17/30\n",
      "42000/42000 [==============================] - 8s 189us/sample - loss: 2.3028 - accuracy: 0.1004 - val_loss: 2.3028 - val_accuracy: 0.0955\n",
      "Epoch 18/30\n",
      "42000/42000 [==============================] - 8s 190us/sample - loss: 2.3028 - accuracy: 0.0999 - val_loss: 2.3028 - val_accuracy: 0.0955\n",
      "Epoch 19/30\n",
      "42000/42000 [==============================] - 8s 193us/sample - loss: 2.3028 - accuracy: 0.0995 - val_loss: 2.3029 - val_accuracy: 0.0955\n",
      "Epoch 20/30\n",
      "42000/42000 [==============================] - 8s 182us/sample - loss: 2.3028 - accuracy: 0.0989 - val_loss: 2.3027 - val_accuracy: 0.0955\n",
      "Epoch 21/30\n",
      "42000/42000 [==============================] - 8s 181us/sample - loss: 2.3027 - accuracy: 0.1010 - val_loss: 2.3028 - val_accuracy: 0.0982\n",
      "Epoch 22/30\n",
      "42000/42000 [==============================] - 8s 187us/sample - loss: 2.3027 - accuracy: 0.1010 - val_loss: 2.3030 - val_accuracy: 0.0955\n",
      "Epoch 23/30\n",
      "42000/42000 [==============================] - 8s 188us/sample - loss: 2.3028 - accuracy: 0.0999 - val_loss: 2.3028 - val_accuracy: 0.0955\n",
      "Epoch 24/30\n",
      "42000/42000 [==============================] - 8s 200us/sample - loss: 2.3028 - accuracy: 0.1003 - val_loss: 2.3027 - val_accuracy: 0.0955\n",
      "Epoch 25/30\n",
      "42000/42000 [==============================] - 7s 176us/sample - loss: 2.3028 - accuracy: 0.1012 - val_loss: 2.3028 - val_accuracy: 0.0955\n",
      "Epoch 26/30\n",
      "42000/42000 [==============================] - 8s 181us/sample - loss: 2.3028 - accuracy: 0.1005 - val_loss: 2.3028 - val_accuracy: 0.0955\n",
      "Epoch 27/30\n",
      "42000/42000 [==============================] - 8s 184us/sample - loss: 2.3028 - accuracy: 0.1009 - val_loss: 2.3027 - val_accuracy: 0.1002\n",
      "Epoch 28/30\n",
      "42000/42000 [==============================] - 8s 189us/sample - loss: 2.3028 - accuracy: 0.0982 - val_loss: 2.3028 - val_accuracy: 0.0955\n",
      "Epoch 29/30\n",
      "42000/42000 [==============================] - 8s 183us/sample - loss: 2.3028 - accuracy: 0.0994 - val_loss: 2.3029 - val_accuracy: 0.0955\n",
      "Epoch 30/30\n",
      "42000/42000 [==============================] - 8s 192us/sample - loss: 2.3028 - accuracy: 0.1016 - val_loss: 2.3029 - val_accuracy: 0.0955\n"
     ]
    },
    {
     "data": {
      "text/plain": [
       "<tensorflow.python.keras.callbacks.History at 0x1b8a1508288>"
      ]
     },
     "execution_count": 66,
     "metadata": {},
     "output_type": "execute_result"
    }
   ],
   "source": [
    "classifier.fit(x_train, y_train, validation_data=(x_test, y_test), epochs=30, batch_size = 32)"
   ]
  },
  {
   "cell_type": "markdown",
   "metadata": {},
   "source": [
    "# Model Evaluation"
   ]
  },
  {
   "cell_type": "code",
   "execution_count": 67,
   "metadata": {},
   "outputs": [
    {
     "name": "stdout",
     "output_type": "stream",
     "text": [
      "18000/18000 [==============================] - 1s 42us/sample - loss: 2.3029 - accuracy: 0.0955\n"
     ]
    },
    {
     "data": {
      "text/plain": [
       "[2.302928009668986, 0.0955]"
      ]
     },
     "execution_count": 67,
     "metadata": {},
     "output_type": "execute_result"
    }
   ],
   "source": [
    "classifier.evaluate(x_test, y_test)"
   ]
  },
  {
   "cell_type": "markdown",
   "metadata": {},
   "source": [
    "### Since the loss is high and accuracy is very low, we will go with some regularization techniques."
   ]
  },
  {
   "cell_type": "code",
   "execution_count": 68,
   "metadata": {},
   "outputs": [],
   "source": [
    "from tensorflow.keras import regularizers"
   ]
  },
  {
   "cell_type": "code",
   "execution_count": 82,
   "metadata": {},
   "outputs": [],
   "source": [
    "def fully_connected_model(iterations, lr, Lambda, verb=True):\n",
    "\n",
    "    ## hyperparameters\n",
    "    iterations = iterations\n",
    "    learning_rate = lr\n",
    "    hidden_nodes = 256\n",
    "    output_nodes = 10\n",
    "\n",
    "    model = Sequential()\n",
    "    model.add(Dense(hidden_nodes, input_shape=(1024,), activation='relu'))\n",
    "    model.add(Dense(hidden_nodes, activation='relu'))\n",
    "    model.add(Dense(output_nodes, activation='softmax', kernel_regularizer=regularizers.l2(Lambda)))\n",
    "    \n",
    "\n",
    "    # Compile model\n",
    "    model.compile(loss='categorical_crossentropy', optimizer='adam', metrics=['accuracy'])\n",
    "    \n",
    "    # Fit the model\n",
    "    model.fit(x_train, y_train, epochs=iterations, batch_size=1000, verbose= 1)\n",
    "    score = model.evaluate(x_train, y_train, verbose=0)\n",
    "    \n",
    "    return score"
   ]
  },
  {
   "cell_type": "markdown",
   "metadata": {},
   "source": [
    "### Hyperparameter Tuning"
   ]
  },
  {
   "cell_type": "code",
   "execution_count": 83,
   "metadata": {},
   "outputs": [
    {
     "name": "stdout",
     "output_type": "stream",
     "text": [
      "Train on 42000 samples\n",
      "42000/42000 [==============================] - 1s 17us/sample - loss: 2.2981 - accuracy: 0.1265\n"
     ]
    }
   ],
   "source": [
    "lr = 0.00001\n",
    "Lambda = 0\n",
    "score,cm = fully_connected_model(1, lr, Lambda)"
   ]
  },
  {
   "cell_type": "markdown",
   "metadata": {},
   "source": [
    "### still there is no improvement, Loss barely changing. Learning rate is probably too low."
   ]
  },
  {
   "cell_type": "markdown",
   "metadata": {},
   "source": [
    "### Running with lr=0.02 and Lambda=1e-4"
   ]
  },
  {
   "cell_type": "code",
   "execution_count": 74,
   "metadata": {},
   "outputs": [
    {
     "name": "stdout",
     "output_type": "stream",
     "text": [
      "Train on 42000 samples\n",
      "Epoch 1/100\n",
      "42000/42000 [==============================] - 1s 22us/sample - loss: 2.3024 - accuracy: 0.1212\n",
      "Epoch 2/100\n",
      "42000/42000 [==============================] - 0s 11us/sample - loss: 2.1290 - accuracy: 0.2894\n",
      "Epoch 3/100\n",
      "42000/42000 [==============================] - 0s 11us/sample - loss: 1.7593 - accuracy: 0.4275\n",
      "Epoch 4/100\n",
      "42000/42000 [==============================] - 0s 11us/sample - loss: 1.5133 - accuracy: 0.5302\n",
      "Epoch 5/100\n",
      "42000/42000 [==============================] - 0s 11us/sample - loss: 1.3652 - accuracy: 0.5818\n",
      "Epoch 6/100\n",
      "42000/42000 [==============================] - 0s 12us/sample - loss: 1.2646 - accuracy: 0.6162\n",
      "Epoch 7/100\n",
      "42000/42000 [==============================] - 0s 12us/sample - loss: 1.2001 - accuracy: 0.6355\n",
      "Epoch 8/100\n",
      "42000/42000 [==============================] - 0s 11us/sample - loss: 1.1275 - accuracy: 0.6622\n",
      "Epoch 9/100\n",
      "42000/42000 [==============================] - 1s 12us/sample - loss: 1.0851 - accuracy: 0.6726\n",
      "Epoch 10/100\n",
      "42000/42000 [==============================] - 0s 11us/sample - loss: 1.0480 - accuracy: 0.6847\n",
      "Epoch 11/100\n",
      "42000/42000 [==============================] - 0s 12us/sample - loss: 1.0199 - accuracy: 0.6918\n",
      "Epoch 12/100\n",
      "42000/42000 [==============================] - 0s 11us/sample - loss: 0.9880 - accuracy: 0.7015\n",
      "Epoch 13/100\n",
      "42000/42000 [==============================] - 1s 12us/sample - loss: 0.9525 - accuracy: 0.7139\n",
      "Epoch 14/100\n",
      "42000/42000 [==============================] - 1s 12us/sample - loss: 0.9320 - accuracy: 0.7190\n",
      "Epoch 15/100\n",
      "42000/42000 [==============================] - 1s 13us/sample - loss: 0.9134 - accuracy: 0.7253\n",
      "Epoch 16/100\n",
      "42000/42000 [==============================] - 1s 12us/sample - loss: 0.8918 - accuracy: 0.7310\n",
      "Epoch 17/100\n",
      "42000/42000 [==============================] - 1s 16us/sample - loss: 0.8651 - accuracy: 0.7385\n",
      "Epoch 18/100\n",
      "42000/42000 [==============================] - 1s 18us/sample - loss: 0.8523 - accuracy: 0.7448\n",
      "Epoch 19/100\n",
      "42000/42000 [==============================] - 1s 15us/sample - loss: 0.8386 - accuracy: 0.7472\n",
      "Epoch 20/100\n",
      "42000/42000 [==============================] - 1s 13us/sample - loss: 0.8262 - accuracy: 0.7506\n",
      "Epoch 21/100\n",
      "42000/42000 [==============================] - 1s 13us/sample - loss: 0.8076 - accuracy: 0.7572\n",
      "Epoch 22/100\n",
      "42000/42000 [==============================] - 1s 12us/sample - loss: 0.8005 - accuracy: 0.7589\n",
      "Epoch 23/100\n",
      "42000/42000 [==============================] - 1s 12us/sample - loss: 0.7772 - accuracy: 0.7656\n",
      "Epoch 24/100\n",
      "42000/42000 [==============================] - 1s 12us/sample - loss: 0.7625 - accuracy: 0.7717\n",
      "Epoch 25/100\n",
      "42000/42000 [==============================] - 1s 13us/sample - loss: 0.7576 - accuracy: 0.7739\n",
      "Epoch 26/100\n",
      "42000/42000 [==============================] - 1s 13us/sample - loss: 0.7370 - accuracy: 0.7812\n",
      "Epoch 27/100\n",
      "42000/42000 [==============================] - 1s 12us/sample - loss: 0.7245 - accuracy: 0.7848\n",
      "Epoch 28/100\n",
      "42000/42000 [==============================] - 1s 12us/sample - loss: 0.7223 - accuracy: 0.7850\n",
      "Epoch 29/100\n",
      "42000/42000 [==============================] - 0s 12us/sample - loss: 0.7114 - accuracy: 0.7865\n",
      "Epoch 30/100\n",
      "42000/42000 [==============================] - 1s 12us/sample - loss: 0.7152 - accuracy: 0.7860\n",
      "Epoch 31/100\n",
      "42000/42000 [==============================] - 1s 12us/sample - loss: 0.7054 - accuracy: 0.7881\n",
      "Epoch 32/100\n",
      "42000/42000 [==============================] - 1s 12us/sample - loss: 0.6863 - accuracy: 0.7950\n",
      "Epoch 33/100\n",
      "42000/42000 [==============================] - 1s 12us/sample - loss: 0.6901 - accuracy: 0.7940\n",
      "Epoch 34/100\n",
      "42000/42000 [==============================] - 1s 12us/sample - loss: 0.6655 - accuracy: 0.8030\n",
      "Epoch 35/100\n",
      "42000/42000 [==============================] - 1s 16us/sample - loss: 0.6660 - accuracy: 0.8020\n",
      "Epoch 36/100\n",
      "42000/42000 [==============================] - 1s 15us/sample - loss: 0.6553 - accuracy: 0.8048\n",
      "Epoch 37/100\n",
      "42000/42000 [==============================] - 1s 14us/sample - loss: 0.6480 - accuracy: 0.8095\n",
      "Epoch 38/100\n",
      "42000/42000 [==============================] - 1s 13us/sample - loss: 0.6424 - accuracy: 0.8097s - loss: 0.6513 - accura\n",
      "Epoch 39/100\n",
      "42000/42000 [==============================] - 1s 13us/sample - loss: 0.6435 - accuracy: 0.8105\n",
      "Epoch 40/100\n",
      "42000/42000 [==============================] - 1s 15us/sample - loss: 0.6319 - accuracy: 0.8131\n",
      "Epoch 41/100\n",
      "42000/42000 [==============================] - 1s 14us/sample - loss: 0.6311 - accuracy: 0.8125\n",
      "Epoch 42/100\n",
      "42000/42000 [==============================] - 1s 14us/sample - loss: 0.6195 - accuracy: 0.8177\n",
      "Epoch 43/100\n",
      "42000/42000 [==============================] - 1s 13us/sample - loss: 0.6278 - accuracy: 0.8144\n",
      "Epoch 44/100\n",
      "42000/42000 [==============================] - 1s 14us/sample - loss: 0.6050 - accuracy: 0.8227\n",
      "Epoch 45/100\n",
      "42000/42000 [==============================] - 1s 13us/sample - loss: 0.6012 - accuracy: 0.8225\n",
      "Epoch 46/100\n",
      "42000/42000 [==============================] - 1s 15us/sample - loss: 0.6057 - accuracy: 0.8211\n",
      "Epoch 47/100\n",
      "42000/42000 [==============================] - 1s 13us/sample - loss: 0.5839 - accuracy: 0.8281\n",
      "Epoch 48/100\n",
      "42000/42000 [==============================] - 1s 13us/sample - loss: 0.5899 - accuracy: 0.8270\n",
      "Epoch 49/100\n",
      "42000/42000 [==============================] - 1s 13us/sample - loss: 0.5909 - accuracy: 0.8268\n",
      "Epoch 50/100\n",
      "42000/42000 [==============================] - 1s 14us/sample - loss: 0.5828 - accuracy: 0.8284\n",
      "Epoch 51/100\n",
      "42000/42000 [==============================] - 1s 13us/sample - loss: 0.5715 - accuracy: 0.8328\n",
      "Epoch 52/100\n",
      "42000/42000 [==============================] - 1s 14us/sample - loss: 0.5748 - accuracy: 0.8325\n",
      "Epoch 53/100\n",
      "42000/42000 [==============================] - 1s 13us/sample - loss: 0.5658 - accuracy: 0.8358\n",
      "Epoch 54/100\n",
      "42000/42000 [==============================] - 1s 14us/sample - loss: 0.5607 - accuracy: 0.8343\n",
      "Epoch 55/100\n",
      "42000/42000 [==============================] - 1s 14us/sample - loss: 0.5605 - accuracy: 0.8359\n",
      "Epoch 56/100\n",
      "42000/42000 [==============================] - 1s 14us/sample - loss: 0.5561 - accuracy: 0.8374\n",
      "Epoch 57/100\n",
      "42000/42000 [==============================] - 1s 14us/sample - loss: 0.5410 - accuracy: 0.8423\n",
      "Epoch 58/100\n",
      "42000/42000 [==============================] - 1s 14us/sample - loss: 0.5395 - accuracy: 0.8426\n",
      "Epoch 59/100\n",
      "42000/42000 [==============================] - 1s 14us/sample - loss: 0.5379 - accuracy: 0.8431\n",
      "Epoch 60/100\n",
      "42000/42000 [==============================] - 1s 15us/sample - loss: 0.5341 - accuracy: 0.8440\n",
      "Epoch 61/100\n",
      "42000/42000 [==============================] - 1s 14us/sample - loss: 0.5396 - accuracy: 0.8405\n",
      "Epoch 62/100\n",
      "42000/42000 [==============================] - 1s 13us/sample - loss: 0.5388 - accuracy: 0.8430\n",
      "Epoch 63/100\n",
      "42000/42000 [==============================] - 1s 14us/sample - loss: 0.5331 - accuracy: 0.8456\n",
      "Epoch 64/100\n",
      "42000/42000 [==============================] - 1s 14us/sample - loss: 0.5225 - accuracy: 0.8473\n",
      "Epoch 65/100\n",
      "42000/42000 [==============================] - 1s 14us/sample - loss: 0.5174 - accuracy: 0.8495\n",
      "Epoch 66/100\n",
      "42000/42000 [==============================] - 1s 15us/sample - loss: 0.5134 - accuracy: 0.8513\n",
      "Epoch 67/100\n",
      "42000/42000 [==============================] - 1s 14us/sample - loss: 0.5160 - accuracy: 0.8492\n",
      "Epoch 68/100\n",
      "42000/42000 [==============================] - 1s 15us/sample - loss: 0.5040 - accuracy: 0.8528\n",
      "Epoch 69/100\n",
      "42000/42000 [==============================] - 1s 15us/sample - loss: 0.5091 - accuracy: 0.8500\n",
      "Epoch 70/100\n",
      "42000/42000 [==============================] - 1s 16us/sample - loss: 0.5043 - accuracy: 0.8535\n",
      "Epoch 71/100\n",
      "42000/42000 [==============================] - 1s 14us/sample - loss: 0.5012 - accuracy: 0.8535\n",
      "Epoch 72/100\n",
      "42000/42000 [==============================] - 1s 14us/sample - loss: 0.4886 - accuracy: 0.8579\n",
      "Epoch 73/100\n",
      "42000/42000 [==============================] - 1s 14us/sample - loss: 0.4866 - accuracy: 0.8585\n",
      "Epoch 74/100\n",
      "42000/42000 [==============================] - 1s 14us/sample - loss: 0.4885 - accuracy: 0.8579\n",
      "Epoch 75/100\n"
     ]
    },
    {
     "name": "stdout",
     "output_type": "stream",
     "text": [
      "42000/42000 [==============================] - 1s 14us/sample - loss: 0.4857 - accuracy: 0.8590\n",
      "Epoch 76/100\n",
      "42000/42000 [==============================] - 1s 14us/sample - loss: 0.4828 - accuracy: 0.8585\n",
      "Epoch 77/100\n",
      "42000/42000 [==============================] - 1s 15us/sample - loss: 0.4823 - accuracy: 0.8601\n",
      "Epoch 78/100\n",
      "42000/42000 [==============================] - 1s 14us/sample - loss: 0.4812 - accuracy: 0.8596\n",
      "Epoch 79/100\n",
      "42000/42000 [==============================] - 1s 14us/sample - loss: 0.4755 - accuracy: 0.8613\n",
      "Epoch 80/100\n",
      "42000/42000 [==============================] - 1s 14us/sample - loss: 0.4702 - accuracy: 0.8634\n",
      "Epoch 81/100\n",
      "42000/42000 [==============================] - 1s 14us/sample - loss: 0.4717 - accuracy: 0.8628\n",
      "Epoch 82/100\n",
      "42000/42000 [==============================] - 1s 14us/sample - loss: 0.4670 - accuracy: 0.8640\n",
      "Epoch 83/100\n",
      "42000/42000 [==============================] - 1s 14us/sample - loss: 0.4582 - accuracy: 0.8667\n",
      "Epoch 84/100\n",
      "42000/42000 [==============================] - 1s 14us/sample - loss: 0.4605 - accuracy: 0.8671\n",
      "Epoch 85/100\n",
      "42000/42000 [==============================] - 1s 14us/sample - loss: 0.4606 - accuracy: 0.8655\n",
      "Epoch 86/100\n",
      "42000/42000 [==============================] - 1s 13us/sample - loss: 0.4599 - accuracy: 0.8665\n",
      "Epoch 87/100\n",
      "42000/42000 [==============================] - 1s 15us/sample - loss: 0.4590 - accuracy: 0.8686s - loss: 0.4523 - \n",
      "Epoch 88/100\n",
      "42000/42000 [==============================] - 1s 15us/sample - loss: 0.4536 - accuracy: 0.8690\n",
      "Epoch 89/100\n",
      "42000/42000 [==============================] - 1s 14us/sample - loss: 0.4461 - accuracy: 0.8720\n",
      "Epoch 90/100\n",
      "42000/42000 [==============================] - 1s 14us/sample - loss: 0.4450 - accuracy: 0.8717\n",
      "Epoch 91/100\n",
      "42000/42000 [==============================] - 1s 14us/sample - loss: 0.4437 - accuracy: 0.8718\n",
      "Epoch 92/100\n",
      "42000/42000 [==============================] - 1s 16us/sample - loss: 0.4439 - accuracy: 0.8703\n",
      "Epoch 93/100\n",
      "42000/42000 [==============================] - 1s 14us/sample - loss: 0.4369 - accuracy: 0.8729\n",
      "Epoch 94/100\n",
      "42000/42000 [==============================] - 1s 14us/sample - loss: 0.4441 - accuracy: 0.8714\n",
      "Epoch 95/100\n",
      "42000/42000 [==============================] - 1s 15us/sample - loss: 0.4305 - accuracy: 0.8773\n",
      "Epoch 96/100\n",
      "42000/42000 [==============================] - 1s 14us/sample - loss: 0.4255 - accuracy: 0.8770\n",
      "Epoch 97/100\n",
      "42000/42000 [==============================] - 1s 14us/sample - loss: 0.4308 - accuracy: 0.8745\n",
      "Epoch 98/100\n",
      "42000/42000 [==============================] - 1s 14us/sample - loss: 0.4246 - accuracy: 0.8768\n",
      "Epoch 99/100\n",
      "42000/42000 [==============================] - 1s 14us/sample - loss: 0.4234 - accuracy: 0.8770\n",
      "Epoch 100/100\n",
      "42000/42000 [==============================] - 1s 14us/sample - loss: 0.4211 - accuracy: 0.8777\n"
     ]
    },
    {
     "data": {
      "text/plain": [
       "[0.42467472266299383, 0.8761905]"
      ]
     },
     "execution_count": 74,
     "metadata": {},
     "output_type": "execute_result"
    }
   ],
   "source": [
    "lr = 2e-2\n",
    "Lambda = 1e-4\n",
    "fully_connected_model(100, lr, Lambda)"
   ]
  },
  {
   "cell_type": "markdown",
   "metadata": {},
   "source": [
    "### As we can see from above iterations loss is 40% and accuracy is 88%"
   ]
  },
  {
   "cell_type": "markdown",
   "metadata": {},
   "source": [
    "### 88.34 % of testing data was classified correctly"
   ]
  },
  {
   "cell_type": "code",
   "execution_count": null,
   "metadata": {},
   "outputs": [],
   "source": []
  }
 ],
 "metadata": {
  "kernelspec": {
   "display_name": "Python 3",
   "language": "python",
   "name": "python3"
  },
  "language_info": {
   "codemirror_mode": {
    "name": "ipython",
    "version": 3
   },
   "file_extension": ".py",
   "mimetype": "text/x-python",
   "name": "python",
   "nbconvert_exporter": "python",
   "pygments_lexer": "ipython3",
   "version": "3.7.9"
  }
 },
 "nbformat": 4,
 "nbformat_minor": 4
}
